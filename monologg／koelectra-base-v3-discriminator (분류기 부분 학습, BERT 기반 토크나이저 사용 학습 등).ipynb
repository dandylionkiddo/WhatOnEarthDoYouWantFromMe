{
 "cells": [
  {
   "cell_type": "code",
   "execution_count": null,
   "metadata": {
    "colab": {
     "base_uri": "https://localhost:8080/"
    },
    "executionInfo": {
     "elapsed": 21850,
     "status": "ok",
     "timestamp": 1746750181652,
     "user": {
      "displayName": "김지환",
      "userId": "17439535786603393953"
     },
     "user_tz": -540
    },
    "id": "4d-qFWi9y6p2",
    "outputId": "184b26d6-175a-4ebe-aa08-0fb1aaf29581"
   },
   "outputs": [
    {
     "name": "stdout",
     "output_type": "stream",
     "text": [
      "Mounted at /content/drive\n"
     ]
    }
   ],
   "source": [
    "from google.colab import drive\n",
    "drive.mount('/content/drive')"
   ]
  },
  {
   "cell_type": "markdown",
   "metadata": {
    "id": "qj0mQgvhzH-g"
   },
   "source": [
    "1. 나눔 폰트 설치"
   ]
  },
  {
   "cell_type": "code",
   "execution_count": null,
   "metadata": {
    "colab": {
     "base_uri": "https://localhost:8080/"
    },
    "executionInfo": {
     "elapsed": 8698,
     "status": "ok",
     "timestamp": 1746750192444,
     "user": {
      "displayName": "김지환",
      "userId": "17439535786603393953"
     },
     "user_tz": -540
    },
    "id": "MpWT7IdJzNgC",
    "outputId": "cd7862d2-11de-44bc-a322-29fd72252814"
   },
   "outputs": [
    {
     "name": "stdout",
     "output_type": "stream",
     "text": [
      "Reading package lists... Done\n",
      "Building dependency tree... Done\n",
      "Reading state information... Done\n",
      "The following NEW packages will be installed:\n",
      "  fonts-nanum\n",
      "0 upgraded, 1 newly installed, 0 to remove and 34 not upgraded.\n",
      "Need to get 10.3 MB of archives.\n",
      "After this operation, 34.1 MB of additional disk space will be used.\n",
      "Get:1 http://archive.ubuntu.com/ubuntu jammy/universe amd64 fonts-nanum all 20200506-1 [10.3 MB]\n",
      "Fetched 10.3 MB in 1s (7,435 kB/s)\n",
      "debconf: unable to initialize frontend: Dialog\n",
      "debconf: (No usable dialog-like program is installed, so the dialog based frontend cannot be used. at /usr/share/perl5/Debconf/FrontEnd/Dialog.pm line 78, <> line 1.)\n",
      "debconf: falling back to frontend: Readline\n",
      "debconf: unable to initialize frontend: Readline\n",
      "debconf: (This frontend requires a controlling tty.)\n",
      "debconf: falling back to frontend: Teletype\n",
      "dpkg-preconfigure: unable to re-open stdin: \n",
      "Selecting previously unselected package fonts-nanum.\n",
      "(Reading database ... 126102 files and directories currently installed.)\n",
      "Preparing to unpack .../fonts-nanum_20200506-1_all.deb ...\n",
      "Unpacking fonts-nanum (20200506-1) ...\n",
      "Setting up fonts-nanum (20200506-1) ...\n",
      "Processing triggers for fontconfig (2.13.1-4.2ubuntu5) ...\n",
      "/usr/share/fonts: caching, new cache contents: 0 fonts, 1 dirs\n",
      "/usr/share/fonts/truetype: caching, new cache contents: 0 fonts, 3 dirs\n",
      "/usr/share/fonts/truetype/humor-sans: caching, new cache contents: 1 fonts, 0 dirs\n",
      "/usr/share/fonts/truetype/liberation: caching, new cache contents: 16 fonts, 0 dirs\n",
      "/usr/share/fonts/truetype/nanum: caching, new cache contents: 12 fonts, 0 dirs\n",
      "/usr/local/share/fonts: caching, new cache contents: 0 fonts, 0 dirs\n",
      "/root/.local/share/fonts: skipping, no such directory\n",
      "/root/.fonts: skipping, no such directory\n",
      "/usr/share/fonts/truetype: skipping, looped directory detected\n",
      "/usr/share/fonts/truetype/humor-sans: skipping, looped directory detected\n",
      "/usr/share/fonts/truetype/liberation: skipping, looped directory detected\n",
      "/usr/share/fonts/truetype/nanum: skipping, looped directory detected\n",
      "/var/cache/fontconfig: cleaning cache directory\n",
      "/root/.cache/fontconfig: not cleaning non-existent cache directory\n",
      "/root/.fontconfig: not cleaning non-existent cache directory\n",
      "fc-cache: succeeded\n"
     ]
    }
   ],
   "source": [
    "!sudo apt-get install -y fonts-nanum\n",
    "!sudo fc-cache -fv\n",
    "!rm ~/.cache/matplotlib -rf"
   ]
  },
  {
   "cell_type": "markdown",
   "metadata": {
    "id": "QqDV3jvEzR94"
   },
   "source": [
    "2. Colab 런타임 다시 시작\n",
    "상단탭에서 [런타임] > [런타임 다시 시작] 클릭\n",
    "3. matplotlib 폰트 변경\n",
    "```\n",
    "import matplotlib.pyplot as plt\n",
    "\n",
    "plt.rcParams['font.family'] = 'NanumGothic'\n",
    "```\n",
    "출처: https://developnote.tistory.com/165 [범범범즈의 개발 노트:티스토리]"
   ]
  },
  {
   "cell_type": "markdown",
   "metadata": {
    "id": "DhgfHYcIzC5D"
   },
   "source": [
    "코랩에서 상대 경로를 사용하여 파일을 불러오는 방법"
   ]
  },
  {
   "cell_type": "code",
   "execution_count": null,
   "metadata": {
    "colab": {
     "base_uri": "https://localhost:8080/"
    },
    "executionInfo": {
     "elapsed": 1234,
     "status": "ok",
     "timestamp": 1746750211857,
     "user": {
      "displayName": "김지환",
      "userId": "17439535786603393953"
     },
     "user_tz": -540
    },
    "id": "StioiKLwzEmy",
    "outputId": "d930321b-abaa-4780-a40a-d1d931fe87e3"
   },
   "outputs": [
    {
     "name": "stdout",
     "output_type": "stream",
     "text": [
      "/content\n"
     ]
    }
   ],
   "source": [
    "# 1. 먼저 현재 작업 디렉토리를 확인합니다:\n",
    "import os\n",
    "print(os.getcwd())\n",
    "# 2. 필요한 경우 작업 디렉토리를 변경합니다:\n",
    "os.chdir('/content/drive/MyDrive/Colab Notebooks/아이펠/DLThon/')#←('/content')  # 코랩의 기본 디렉토리로 변경\n",
    "# 3. 그 다음 상대 경로를 사용하여 파일을 불러올 수 있습니다:"
   ]
  },
  {
   "cell_type": "markdown",
   "metadata": {
    "id": "Cv4TkP0yzLDf"
   },
   "source": [
    "여기까지 하고 시작\n",
    "\n",
    "---"
   ]
  },
  {
   "cell_type": "markdown",
   "metadata": {
    "id": "F5Bayi0UYr-X"
   },
   "source": [
    "# preprocessing.py 의 기존 코드입니다."
   ]
  },
  {
   "cell_type": "code",
   "execution_count": null,
   "metadata": {
    "id": "rt5DZxULYebk"
   },
   "outputs": [],
   "source": [
    "import re\n",
    "\n",
    "# 1. 텍스트 정제 함수들\n",
    "\n",
    "def remove_stopwords(tokens, stopword_list):\n",
    "    stopword_set = stopword_list if isinstance(stopword_list, set) else set(stopword_list)\n",
    "    return [token for token in tokens if token not in stopword_set]\n",
    "\n",
    "def clean_text(text):\n",
    "    text = re.sub(r\"[^\\w\\s가-힣]\", \" \", text)\n",
    "    text = re.sub(r\"\\s+\", \" \", text)\n",
    "    return text.strip()\n",
    "\n",
    "def normalize_repetitions(text, repeat_limit=2):\n",
    "    # 문자 반복 (예: ㅋㅋㅋㅋ → ㅋㅋ)\n",
    "    text = re.sub(r'(.)\\1{2,}', lambda m: m.group(1) * repeat_limit, text)\n",
    "\n",
    "    # 음절 반복 (예: 하하하하 → 하하)\n",
    "    text = re.sub(r'((..))\\1{1,}', lambda m: m.group(1) * repeat_limit, text)\n",
    "\n",
    "    return text\n",
    "\n",
    "\n",
    "# 2. 텍스트 정제\n",
    "\n",
    "def tokenize_and_clean_text(text, stopword_list=None, repeat_limit=2):\n",
    "    text = normalize_repetitions(text, repeat_limit=repeat_limit)\n",
    "    text = clean_text(text)\n",
    "    tokens = text.split()\n",
    "    if stopword_list:\n",
    "        tokens = remove_stopwords(tokens, stopword_list)\n",
    "    return tokens\n",
    "\n",
    "\n",
    "# 3. 한줄 단위 전처리\n",
    "def preprocess_conversation_lines(\n",
    "    text,\n",
    "    stopwords=None,\n",
    "    use_silence=False,\n",
    "    speaker_token=\"[UTTER]\",\n",
    "    repeat_limit=2\n",
    "):\n",
    "    lines = text.strip().split('\\n')\n",
    "    results = []\n",
    "\n",
    "    for line in lines:\n",
    "        if not line.strip():\n",
    "            processed = [\"[SILENCE]\"] if use_silence else []\n",
    "        else:\n",
    "            processed = tokenize_and_clean_text(line, stopword_list=stopwords, repeat_limit=repeat_limit)\n",
    "            if not processed:\n",
    "                processed = [\"[SILENCE]\"] if use_silence else []\n",
    "            else:\n",
    "                processed = [speaker_token] + processed\n",
    "\n",
    "        if processed:\n",
    "            results.append(\" \".join(processed).strip())\n",
    "\n",
    "    return results\n",
    "\n",
    "\n",
    "# 4. 여러줄을 한 줄로 flatten 함수\n",
    "def flatten_utterances(utterance_tokens_list, sep_token=\" \"):\n",
    "    return sep_token.join(utterance_tokens_list).strip()\n",
    "\n",
    "\n",
    "# 5.  전체 전처리 파이프라인\n",
    "def preprocess(\n",
    "    text,\n",
    "    stopwords=None,\n",
    "    speaker_token=\"[UTTER]\",\n",
    "    use_silence=True,\n",
    "    sep_token=\" \",\n",
    "    repeat_limit=2\n",
    "):\n",
    "    \"\"\"\n",
    "    전체 전처리 통합 함수\n",
    "    \"\"\"\n",
    "    utterance_tokens = preprocess_conversation_lines(\n",
    "        text,\n",
    "        stopwords=stopwords,\n",
    "        use_silence=use_silence,\n",
    "        speaker_token=speaker_token,\n",
    "        repeat_limit=repeat_limit\n",
    "    )\n",
    "    return flatten_utterances(utterance_tokens, sep_token=sep_token)\n"
   ]
  },
  {
   "cell_type": "markdown",
   "metadata": {
    "id": "xBqA3SOSDaiT"
   },
   "source": [
    "---\n",
    "#### KoELECTRA 모델 구조와 파라미터를 확인"
   ]
  },
  {
   "cell_type": "code",
   "execution_count": null,
   "metadata": {
    "colab": {
     "base_uri": "https://localhost:8080/",
     "height": 1000,
     "referenced_widgets": [
      "1380776c7ae8471c8a269399f6dd7cec",
      "cbb2a6c6f1b24da79fe4edc620525f4e",
      "e6cb833c8f1543caad7659debdecc65d",
      "c4d535bfa1c34741ac0e71fd47c2ecba",
      "aecc4d392f7e4aa4b78a6db468fcb3c2",
      "fdffedfb52b947c8b3a27491505f2698",
      "859b580d06fd4295ab12898bea0a8a05",
      "a7e1fd1fd39340f2a78288170a9655e4",
      "ee72e8d437c64e2998eb8d6e8c0a1fe2",
      "95c76b2083e14497857a66e80aa89273",
      "d466cddaa9f34d938708cd8bbcc345fd",
      "57b4a58db4d9480a89b0a3fc0e3827c9",
      "44aa9d96de5f48ce99a6c23b53e1b655",
      "5a2f8d0d5f244230862bae5a9182934d",
      "13d7129d758d44b99bbf66e6f054af29",
      "81280d61b219441aab764f7ed1ee0c39",
      "47537abd2b6b447ba7cc17e441d61771",
      "8b0b294d76d74025aee951a91297e25a",
      "b91cab37b1124e8592f8fcd7cf0443ae",
      "1cec708eaecd4157a9f00a7e97ab196d",
      "425b05a91a75467e97f0cfb4f42ccff3",
      "f591e76dd0e24a61a24217ccc8e39c31",
      "8ffd989eed6b45ac8e42919c73dce08e",
      "d7694c66ce4e4b168aaf379ee273520d",
      "a5a76dd7d25a46c3bf22bdc8749b079e",
      "8ac87f7f4fd24ef09ade2de3cbfcc2aa",
      "d6969e52b69043da90946e632cc42269",
      "93e7b91170e2437d96268996dcc3ca3f",
      "d52c8a310b224c1d866f4e4301c55370",
      "2405a5cb670e4feab454815354ab369c",
      "cce4ec65d08a4f989d6115bf1704d5a0",
      "6a293f1569cc440c8bc6546d064cdc3d",
      "4ae86c5f8f954a93a6e7110139fd5e8a",
      "35bc5c667d11408983fe81a190910430",
      "d7214bc4658342519cc862e5c2d46f68",
      "1177ed7de0eb457691bc2417c2e0f3f2",
      "6b01826ef27241008aaf5b9330e8fcf2",
      "8ed93ffb3d6b429d99e0027da88a5324",
      "942d72a5bdb547be949d23318a0b9082",
      "b71454466e9e48e7858ce0ffbffd1c6e",
      "ccd03b479a01481bb4e169596711e2c8",
      "7d29c021b8054839962c9f72ddd68ca3",
      "4dad43adb54b4895bd1f98b069fc6976",
      "90aae99267c94d11ac3c20f739b7602e"
     ]
    },
    "executionInfo": {
     "elapsed": 8373,
     "status": "ok",
     "timestamp": 1746552340548,
     "user": {
      "displayName": "김지환",
      "userId": "17439535786603393953"
     },
     "user_tz": -540
    },
    "id": "ITBKvmgzysQ5",
    "outputId": "94e3e12b-cbfb-4932-93bb-2e15b62bff81",
    "scrolled": false
   },
   "outputs": [
    {
     "name": "stderr",
     "output_type": "stream",
     "text": [
      "/usr/local/lib/python3.11/dist-packages/huggingface_hub/utils/_auth.py:94: UserWarning: \n",
      "The secret `HF_TOKEN` does not exist in your Colab secrets.\n",
      "To authenticate with the Hugging Face Hub, create a token in your settings tab (https://huggingface.co/settings/tokens), set it as secret in your Google Colab and restart your session.\n",
      "You will be able to reuse this secret in all of your notebooks.\n",
      "Please note that authentication is recommended but still optional to access public models or datasets.\n",
      "  warnings.warn(\n"
     ]
    },
    {
     "data": {
      "application/vnd.jupyter.widget-view+json": {
       "model_id": "1380776c7ae8471c8a269399f6dd7cec",
       "version_major": 2,
       "version_minor": 0
      },
      "text/plain": [
       "tokenizer_config.json:   0%|          | 0.00/61.0 [00:00<?, ?B/s]"
      ]
     },
     "metadata": {},
     "output_type": "display_data"
    },
    {
     "data": {
      "application/vnd.jupyter.widget-view+json": {
       "model_id": "57b4a58db4d9480a89b0a3fc0e3827c9",
       "version_major": 2,
       "version_minor": 0
      },
      "text/plain": [
       "vocab.txt:   0%|          | 0.00/263k [00:00<?, ?B/s]"
      ]
     },
     "metadata": {},
     "output_type": "display_data"
    },
    {
     "data": {
      "application/vnd.jupyter.widget-view+json": {
       "model_id": "8ffd989eed6b45ac8e42919c73dce08e",
       "version_major": 2,
       "version_minor": 0
      },
      "text/plain": [
       "config.json:   0%|          | 0.00/467 [00:00<?, ?B/s]"
      ]
     },
     "metadata": {},
     "output_type": "display_data"
    },
    {
     "data": {
      "application/vnd.jupyter.widget-view+json": {
       "model_id": "35bc5c667d11408983fe81a190910430",
       "version_major": 2,
       "version_minor": 0
      },
      "text/plain": [
       "pytorch_model.bin:   0%|          | 0.00/452M [00:00<?, ?B/s]"
      ]
     },
     "metadata": {},
     "output_type": "display_data"
    },
    {
     "name": "stderr",
     "output_type": "stream",
     "text": [
      "Some weights of ElectraForSequenceClassification were not initialized from the model checkpoint at monologg/koelectra-base-v3-discriminator and are newly initialized: ['classifier.dense.bias', 'classifier.dense.weight', 'classifier.out_proj.bias', 'classifier.out_proj.weight']\n",
      "You should probably TRAIN this model on a down-stream task to be able to use it for predictions and inference.\n"
     ]
    },
    {
     "name": "stdout",
     "output_type": "stream",
     "text": [
      "=== Model Architecture ===\n",
      "ElectraForSequenceClassification(\n",
      "  (electra): ElectraModel(\n",
      "    (embeddings): ElectraEmbeddings(\n",
      "      (word_embeddings): Embedding(35000, 768, padding_idx=0)\n",
      "      (position_embeddings): Embedding(512, 768)\n",
      "      (token_type_embeddings): Embedding(2, 768)\n",
      "      (LayerNorm): LayerNorm((768,), eps=1e-12, elementwise_affine=True)\n",
      "      (dropout): Dropout(p=0.1, inplace=False)\n",
      "    )\n",
      "    (encoder): ElectraEncoder(\n",
      "      (layer): ModuleList(\n",
      "        (0-11): 12 x ElectraLayer(\n",
      "          (attention): ElectraAttention(\n",
      "            (self): ElectraSelfAttention(\n",
      "              (query): Linear(in_features=768, out_features=768, bias=True)\n",
      "              (key): Linear(in_features=768, out_features=768, bias=True)\n",
      "              (value): Linear(in_features=768, out_features=768, bias=True)\n",
      "              (dropout): Dropout(p=0.1, inplace=False)\n",
      "            )\n",
      "            (output): ElectraSelfOutput(\n",
      "              (dense): Linear(in_features=768, out_features=768, bias=True)\n",
      "              (LayerNorm): LayerNorm((768,), eps=1e-12, elementwise_affine=True)\n",
      "              (dropout): Dropout(p=0.1, inplace=False)\n",
      "            )\n",
      "          )\n",
      "          (intermediate): ElectraIntermediate(\n",
      "            (dense): Linear(in_features=768, out_features=3072, bias=True)\n",
      "            (intermediate_act_fn): GELUActivation()\n",
      "          )\n",
      "          (output): ElectraOutput(\n",
      "            (dense): Linear(in_features=3072, out_features=768, bias=True)\n",
      "            (LayerNorm): LayerNorm((768,), eps=1e-12, elementwise_affine=True)\n",
      "            (dropout): Dropout(p=0.1, inplace=False)\n",
      "          )\n",
      "        )\n",
      "      )\n",
      "    )\n",
      "  )\n",
      "  (classifier): ElectraClassificationHead(\n",
      "    (dense): Linear(in_features=768, out_features=768, bias=True)\n",
      "    (activation): GELUActivation()\n",
      "    (dropout): Dropout(p=0.1, inplace=False)\n",
      "    (out_proj): Linear(in_features=768, out_features=5, bias=True)\n",
      "  )\n",
      ")\n",
      "\n",
      "=== Parameter Names ===\n",
      "electra.embeddings.word_embeddings.weight: torch.Size([35000, 768])\n",
      "electra.embeddings.position_embeddings.weight: torch.Size([512, 768])\n",
      "electra.embeddings.token_type_embeddings.weight: torch.Size([2, 768])\n",
      "electra.embeddings.LayerNorm.weight: torch.Size([768])\n",
      "electra.embeddings.LayerNorm.bias: torch.Size([768])\n",
      "electra.encoder.layer.0.attention.self.query.weight: torch.Size([768, 768])\n",
      "electra.encoder.layer.0.attention.self.query.bias: torch.Size([768])\n",
      "electra.encoder.layer.0.attention.self.key.weight: torch.Size([768, 768])\n",
      "electra.encoder.layer.0.attention.self.key.bias: torch.Size([768])\n",
      "electra.encoder.layer.0.attention.self.value.weight: torch.Size([768, 768])\n",
      "electra.encoder.layer.0.attention.self.value.bias: torch.Size([768])\n",
      "electra.encoder.layer.0.attention.output.dense.weight: torch.Size([768, 768])\n",
      "electra.encoder.layer.0.attention.output.dense.bias: torch.Size([768])\n",
      "electra.encoder.layer.0.attention.output.LayerNorm.weight: torch.Size([768])\n",
      "electra.encoder.layer.0.attention.output.LayerNorm.bias: torch.Size([768])\n",
      "electra.encoder.layer.0.intermediate.dense.weight: torch.Size([3072, 768])\n",
      "electra.encoder.layer.0.intermediate.dense.bias: torch.Size([3072])\n",
      "electra.encoder.layer.0.output.dense.weight: torch.Size([768, 3072])\n",
      "electra.encoder.layer.0.output.dense.bias: torch.Size([768])\n",
      "electra.encoder.layer.0.output.LayerNorm.weight: torch.Size([768])\n",
      "electra.encoder.layer.0.output.LayerNorm.bias: torch.Size([768])\n",
      "electra.encoder.layer.1.attention.self.query.weight: torch.Size([768, 768])\n",
      "electra.encoder.layer.1.attention.self.query.bias: torch.Size([768])\n",
      "electra.encoder.layer.1.attention.self.key.weight: torch.Size([768, 768])\n",
      "electra.encoder.layer.1.attention.self.key.bias: torch.Size([768])\n",
      "electra.encoder.layer.1.attention.self.value.weight: torch.Size([768, 768])\n",
      "electra.encoder.layer.1.attention.self.value.bias: torch.Size([768])\n",
      "electra.encoder.layer.1.attention.output.dense.weight: torch.Size([768, 768])\n",
      "electra.encoder.layer.1.attention.output.dense.bias: torch.Size([768])\n",
      "electra.encoder.layer.1.attention.output.LayerNorm.weight: torch.Size([768])\n",
      "electra.encoder.layer.1.attention.output.LayerNorm.bias: torch.Size([768])\n",
      "electra.encoder.layer.1.intermediate.dense.weight: torch.Size([3072, 768])\n",
      "electra.encoder.layer.1.intermediate.dense.bias: torch.Size([3072])\n",
      "electra.encoder.layer.1.output.dense.weight: torch.Size([768, 3072])\n",
      "electra.encoder.layer.1.output.dense.bias: torch.Size([768])\n",
      "electra.encoder.layer.1.output.LayerNorm.weight: torch.Size([768])\n",
      "electra.encoder.layer.1.output.LayerNorm.bias: torch.Size([768])\n",
      "electra.encoder.layer.2.attention.self.query.weight: torch.Size([768, 768])\n",
      "electra.encoder.layer.2.attention.self.query.bias: torch.Size([768])\n",
      "electra.encoder.layer.2.attention.self.key.weight: torch.Size([768, 768])\n",
      "electra.encoder.layer.2.attention.self.key.bias: torch.Size([768])\n",
      "electra.encoder.layer.2.attention.self.value.weight: torch.Size([768, 768])\n",
      "electra.encoder.layer.2.attention.self.value.bias: torch.Size([768])\n",
      "electra.encoder.layer.2.attention.output.dense.weight: torch.Size([768, 768])\n",
      "electra.encoder.layer.2.attention.output.dense.bias: torch.Size([768])\n",
      "electra.encoder.layer.2.attention.output.LayerNorm.weight: torch.Size([768])\n",
      "electra.encoder.layer.2.attention.output.LayerNorm.bias: torch.Size([768])\n",
      "electra.encoder.layer.2.intermediate.dense.weight: torch.Size([3072, 768])\n",
      "electra.encoder.layer.2.intermediate.dense.bias: torch.Size([3072])\n",
      "electra.encoder.layer.2.output.dense.weight: torch.Size([768, 3072])\n",
      "electra.encoder.layer.2.output.dense.bias: torch.Size([768])\n",
      "electra.encoder.layer.2.output.LayerNorm.weight: torch.Size([768])\n",
      "electra.encoder.layer.2.output.LayerNorm.bias: torch.Size([768])\n",
      "electra.encoder.layer.3.attention.self.query.weight: torch.Size([768, 768])\n",
      "electra.encoder.layer.3.attention.self.query.bias: torch.Size([768])\n",
      "electra.encoder.layer.3.attention.self.key.weight: torch.Size([768, 768])\n",
      "electra.encoder.layer.3.attention.self.key.bias: torch.Size([768])\n",
      "electra.encoder.layer.3.attention.self.value.weight: torch.Size([768, 768])\n",
      "electra.encoder.layer.3.attention.self.value.bias: torch.Size([768])\n",
      "electra.encoder.layer.3.attention.output.dense.weight: torch.Size([768, 768])\n",
      "electra.encoder.layer.3.attention.output.dense.bias: torch.Size([768])\n",
      "electra.encoder.layer.3.attention.output.LayerNorm.weight: torch.Size([768])\n",
      "electra.encoder.layer.3.attention.output.LayerNorm.bias: torch.Size([768])\n",
      "electra.encoder.layer.3.intermediate.dense.weight: torch.Size([3072, 768])\n",
      "electra.encoder.layer.3.intermediate.dense.bias: torch.Size([3072])\n",
      "electra.encoder.layer.3.output.dense.weight: torch.Size([768, 3072])\n",
      "electra.encoder.layer.3.output.dense.bias: torch.Size([768])\n",
      "electra.encoder.layer.3.output.LayerNorm.weight: torch.Size([768])\n",
      "electra.encoder.layer.3.output.LayerNorm.bias: torch.Size([768])\n",
      "electra.encoder.layer.4.attention.self.query.weight: torch.Size([768, 768])\n",
      "electra.encoder.layer.4.attention.self.query.bias: torch.Size([768])\n",
      "electra.encoder.layer.4.attention.self.key.weight: torch.Size([768, 768])\n",
      "electra.encoder.layer.4.attention.self.key.bias: torch.Size([768])\n",
      "electra.encoder.layer.4.attention.self.value.weight: torch.Size([768, 768])\n",
      "electra.encoder.layer.4.attention.self.value.bias: torch.Size([768])\n",
      "electra.encoder.layer.4.attention.output.dense.weight: torch.Size([768, 768])\n",
      "electra.encoder.layer.4.attention.output.dense.bias: torch.Size([768])\n",
      "electra.encoder.layer.4.attention.output.LayerNorm.weight: torch.Size([768])\n",
      "electra.encoder.layer.4.attention.output.LayerNorm.bias: torch.Size([768])\n",
      "electra.encoder.layer.4.intermediate.dense.weight: torch.Size([3072, 768])\n",
      "electra.encoder.layer.4.intermediate.dense.bias: torch.Size([3072])\n",
      "electra.encoder.layer.4.output.dense.weight: torch.Size([768, 3072])\n",
      "electra.encoder.layer.4.output.dense.bias: torch.Size([768])\n",
      "electra.encoder.layer.4.output.LayerNorm.weight: torch.Size([768])\n",
      "electra.encoder.layer.4.output.LayerNorm.bias: torch.Size([768])\n",
      "electra.encoder.layer.5.attention.self.query.weight: torch.Size([768, 768])\n",
      "electra.encoder.layer.5.attention.self.query.bias: torch.Size([768])\n",
      "electra.encoder.layer.5.attention.self.key.weight: torch.Size([768, 768])\n",
      "electra.encoder.layer.5.attention.self.key.bias: torch.Size([768])\n",
      "electra.encoder.layer.5.attention.self.value.weight: torch.Size([768, 768])\n",
      "electra.encoder.layer.5.attention.self.value.bias: torch.Size([768])\n",
      "electra.encoder.layer.5.attention.output.dense.weight: torch.Size([768, 768])\n",
      "electra.encoder.layer.5.attention.output.dense.bias: torch.Size([768])\n",
      "electra.encoder.layer.5.attention.output.LayerNorm.weight: torch.Size([768])\n",
      "electra.encoder.layer.5.attention.output.LayerNorm.bias: torch.Size([768])\n",
      "electra.encoder.layer.5.intermediate.dense.weight: torch.Size([3072, 768])\n",
      "electra.encoder.layer.5.intermediate.dense.bias: torch.Size([3072])\n",
      "electra.encoder.layer.5.output.dense.weight: torch.Size([768, 3072])\n",
      "electra.encoder.layer.5.output.dense.bias: torch.Size([768])\n",
      "electra.encoder.layer.5.output.LayerNorm.weight: torch.Size([768])\n",
      "electra.encoder.layer.5.output.LayerNorm.bias: torch.Size([768])\n",
      "electra.encoder.layer.6.attention.self.query.weight: torch.Size([768, 768])\n",
      "electra.encoder.layer.6.attention.self.query.bias: torch.Size([768])\n",
      "electra.encoder.layer.6.attention.self.key.weight: torch.Size([768, 768])\n",
      "electra.encoder.layer.6.attention.self.key.bias: torch.Size([768])\n",
      "electra.encoder.layer.6.attention.self.value.weight: torch.Size([768, 768])\n",
      "electra.encoder.layer.6.attention.self.value.bias: torch.Size([768])\n",
      "electra.encoder.layer.6.attention.output.dense.weight: torch.Size([768, 768])\n",
      "electra.encoder.layer.6.attention.output.dense.bias: torch.Size([768])\n",
      "electra.encoder.layer.6.attention.output.LayerNorm.weight: torch.Size([768])\n",
      "electra.encoder.layer.6.attention.output.LayerNorm.bias: torch.Size([768])\n",
      "electra.encoder.layer.6.intermediate.dense.weight: torch.Size([3072, 768])\n",
      "electra.encoder.layer.6.intermediate.dense.bias: torch.Size([3072])\n",
      "electra.encoder.layer.6.output.dense.weight: torch.Size([768, 3072])\n",
      "electra.encoder.layer.6.output.dense.bias: torch.Size([768])\n",
      "electra.encoder.layer.6.output.LayerNorm.weight: torch.Size([768])\n",
      "electra.encoder.layer.6.output.LayerNorm.bias: torch.Size([768])\n",
      "electra.encoder.layer.7.attention.self.query.weight: torch.Size([768, 768])\n",
      "electra.encoder.layer.7.attention.self.query.bias: torch.Size([768])\n",
      "electra.encoder.layer.7.attention.self.key.weight: torch.Size([768, 768])\n",
      "electra.encoder.layer.7.attention.self.key.bias: torch.Size([768])\n",
      "electra.encoder.layer.7.attention.self.value.weight: torch.Size([768, 768])\n",
      "electra.encoder.layer.7.attention.self.value.bias: torch.Size([768])\n",
      "electra.encoder.layer.7.attention.output.dense.weight: torch.Size([768, 768])\n",
      "electra.encoder.layer.7.attention.output.dense.bias: torch.Size([768])\n",
      "electra.encoder.layer.7.attention.output.LayerNorm.weight: torch.Size([768])\n",
      "electra.encoder.layer.7.attention.output.LayerNorm.bias: torch.Size([768])\n",
      "electra.encoder.layer.7.intermediate.dense.weight: torch.Size([3072, 768])\n",
      "electra.encoder.layer.7.intermediate.dense.bias: torch.Size([3072])\n",
      "electra.encoder.layer.7.output.dense.weight: torch.Size([768, 3072])\n",
      "electra.encoder.layer.7.output.dense.bias: torch.Size([768])\n",
      "electra.encoder.layer.7.output.LayerNorm.weight: torch.Size([768])\n",
      "electra.encoder.layer.7.output.LayerNorm.bias: torch.Size([768])\n",
      "electra.encoder.layer.8.attention.self.query.weight: torch.Size([768, 768])\n",
      "electra.encoder.layer.8.attention.self.query.bias: torch.Size([768])\n",
      "electra.encoder.layer.8.attention.self.key.weight: torch.Size([768, 768])\n",
      "electra.encoder.layer.8.attention.self.key.bias: torch.Size([768])\n",
      "electra.encoder.layer.8.attention.self.value.weight: torch.Size([768, 768])\n",
      "electra.encoder.layer.8.attention.self.value.bias: torch.Size([768])\n",
      "electra.encoder.layer.8.attention.output.dense.weight: torch.Size([768, 768])\n",
      "electra.encoder.layer.8.attention.output.dense.bias: torch.Size([768])\n",
      "electra.encoder.layer.8.attention.output.LayerNorm.weight: torch.Size([768])\n",
      "electra.encoder.layer.8.attention.output.LayerNorm.bias: torch.Size([768])\n",
      "electra.encoder.layer.8.intermediate.dense.weight: torch.Size([3072, 768])\n",
      "electra.encoder.layer.8.intermediate.dense.bias: torch.Size([3072])\n",
      "electra.encoder.layer.8.output.dense.weight: torch.Size([768, 3072])\n",
      "electra.encoder.layer.8.output.dense.bias: torch.Size([768])\n",
      "electra.encoder.layer.8.output.LayerNorm.weight: torch.Size([768])\n",
      "electra.encoder.layer.8.output.LayerNorm.bias: torch.Size([768])\n",
      "electra.encoder.layer.9.attention.self.query.weight: torch.Size([768, 768])\n",
      "electra.encoder.layer.9.attention.self.query.bias: torch.Size([768])\n",
      "electra.encoder.layer.9.attention.self.key.weight: torch.Size([768, 768])\n",
      "electra.encoder.layer.9.attention.self.key.bias: torch.Size([768])\n",
      "electra.encoder.layer.9.attention.self.value.weight: torch.Size([768, 768])\n",
      "electra.encoder.layer.9.attention.self.value.bias: torch.Size([768])\n",
      "electra.encoder.layer.9.attention.output.dense.weight: torch.Size([768, 768])\n",
      "electra.encoder.layer.9.attention.output.dense.bias: torch.Size([768])\n",
      "electra.encoder.layer.9.attention.output.LayerNorm.weight: torch.Size([768])\n",
      "electra.encoder.layer.9.attention.output.LayerNorm.bias: torch.Size([768])\n",
      "electra.encoder.layer.9.intermediate.dense.weight: torch.Size([3072, 768])\n",
      "electra.encoder.layer.9.intermediate.dense.bias: torch.Size([3072])\n",
      "electra.encoder.layer.9.output.dense.weight: torch.Size([768, 3072])\n",
      "electra.encoder.layer.9.output.dense.bias: torch.Size([768])\n",
      "electra.encoder.layer.9.output.LayerNorm.weight: torch.Size([768])\n",
      "electra.encoder.layer.9.output.LayerNorm.bias: torch.Size([768])\n",
      "electra.encoder.layer.10.attention.self.query.weight: torch.Size([768, 768])\n",
      "electra.encoder.layer.10.attention.self.query.bias: torch.Size([768])\n",
      "electra.encoder.layer.10.attention.self.key.weight: torch.Size([768, 768])\n",
      "electra.encoder.layer.10.attention.self.key.bias: torch.Size([768])\n",
      "electra.encoder.layer.10.attention.self.value.weight: torch.Size([768, 768])\n",
      "electra.encoder.layer.10.attention.self.value.bias: torch.Size([768])\n",
      "electra.encoder.layer.10.attention.output.dense.weight: torch.Size([768, 768])\n",
      "electra.encoder.layer.10.attention.output.dense.bias: torch.Size([768])\n",
      "electra.encoder.layer.10.attention.output.LayerNorm.weight: torch.Size([768])\n",
      "electra.encoder.layer.10.attention.output.LayerNorm.bias: torch.Size([768])\n",
      "electra.encoder.layer.10.intermediate.dense.weight: torch.Size([3072, 768])\n",
      "electra.encoder.layer.10.intermediate.dense.bias: torch.Size([3072])\n",
      "electra.encoder.layer.10.output.dense.weight: torch.Size([768, 3072])\n",
      "electra.encoder.layer.10.output.dense.bias: torch.Size([768])\n",
      "electra.encoder.layer.10.output.LayerNorm.weight: torch.Size([768])\n",
      "electra.encoder.layer.10.output.LayerNorm.bias: torch.Size([768])\n",
      "electra.encoder.layer.11.attention.self.query.weight: torch.Size([768, 768])\n",
      "electra.encoder.layer.11.attention.self.query.bias: torch.Size([768])\n",
      "electra.encoder.layer.11.attention.self.key.weight: torch.Size([768, 768])\n",
      "electra.encoder.layer.11.attention.self.key.bias: torch.Size([768])\n",
      "electra.encoder.layer.11.attention.self.value.weight: torch.Size([768, 768])\n",
      "electra.encoder.layer.11.attention.self.value.bias: torch.Size([768])\n",
      "electra.encoder.layer.11.attention.output.dense.weight: torch.Size([768, 768])\n",
      "electra.encoder.layer.11.attention.output.dense.bias: torch.Size([768])\n",
      "electra.encoder.layer.11.attention.output.LayerNorm.weight: torch.Size([768])\n",
      "electra.encoder.layer.11.attention.output.LayerNorm.bias: torch.Size([768])\n",
      "electra.encoder.layer.11.intermediate.dense.weight: torch.Size([3072, 768])\n",
      "electra.encoder.layer.11.intermediate.dense.bias: torch.Size([3072])\n",
      "electra.encoder.layer.11.output.dense.weight: torch.Size([768, 3072])\n",
      "electra.encoder.layer.11.output.dense.bias: torch.Size([768])\n",
      "electra.encoder.layer.11.output.LayerNorm.weight: torch.Size([768])\n",
      "electra.encoder.layer.11.output.LayerNorm.bias: torch.Size([768])\n",
      "classifier.dense.weight: torch.Size([768, 768])\n",
      "classifier.dense.bias: torch.Size([768])\n",
      "classifier.out_proj.weight: torch.Size([5, 768])\n",
      "classifier.out_proj.bias: torch.Size([5])\n"
     ]
    }
   ],
   "source": [
    "# # 필요한 라이브러리 설치\n",
    "# !pip install transformers pandas scikit-learn\n",
    "# !pip install torch\n",
    "\n",
    "# 필요한 라이브러리 임포트\n",
    "import torch\n",
    "import pandas as pd\n",
    "from transformers import ElectraModel, ElectraTokenizer, ElectraForSequenceClassification\n",
    "# AdamW는 이제 torch.optim에서 가져와야 합니다\n",
    "from torch.optim import AdamW\n",
    "# get_linear_schedule_with_warmup은 여전히 transformers에 있습니다\n",
    "from transformers import get_linear_schedule_with_warmup\n",
    "from sklearn.model_selection import train_test_split\n",
    "from sklearn.metrics import classification_report, f1_score\n",
    "import numpy as np\n",
    "import random\n",
    "import os\n",
    "from tqdm import tqdm\n",
    "\n",
    "# 재현성을 위한 시드 설정\n",
    "def set_seed(seed):\n",
    "    random.seed(seed)\n",
    "    np.random.seed(seed)\n",
    "    torch.manual_seed(seed)\n",
    "    if torch.cuda.is_available():\n",
    "        torch.cuda.manual_seed_all(seed)\n",
    "\n",
    "set_seed(42)\n",
    "\n",
    "# KoELECTRA 모델 및 토크나이저 로드\n",
    "model_name = \"monologg/koelectra-base-v3-discriminator\"\n",
    "tokenizer = ElectraTokenizer.from_pretrained(model_name)\n",
    "\n",
    "# 분류를 위한 모델 로드 (클래스 개수를 5로 설정)\n",
    "model = ElectraForSequenceClassification.from_pretrained(model_name, num_labels=5)\n",
    "\n",
    "# GPU 사용 가능 여부 확인\n",
    "device = torch.device(\"cuda\" if torch.cuda.is_available() else \"cpu\")\n",
    "model.to(device)\n",
    "\n",
    "# 모델 구조 확인\n",
    "print(\"=== Model Architecture ===\")\n",
    "print(model)\n",
    "\n",
    "# 모델 파라미터 이름 확인\n",
    "print(\"\\n=== Parameter Names ===\")\n",
    "for name, param in model.named_parameters():\n",
    "    print(f\"{name}: {param.shape}\")"
   ]
  },
  {
   "cell_type": "markdown",
   "metadata": {
    "id": "FhGgdZrIysQ7"
   },
   "source": [
    "---"
   ]
  },
  {
   "cell_type": "markdown",
   "metadata": {
    "id": "QWLU5iVPysQ7"
   },
   "source": [
    "#### 1. 줄 바꿈 표시 X, 불용어 X\n",
    "- KoELECTRA 모델의 인코더 부분을 고정(freeze)하고 분류기 부분만 학습\n",
    "  - 전이 학습(transfer learning)의 한 종류, 사전 훈련된 언어 모델의 표현력을 유지하면서 특정 태스크에 적응시키는 효율적인 방법\n",
    "- 클래스 불균형 문제\n",
    "  - 분류 보고서에서 볼 수 있듯이, 모델이 대부분 '일반 대화'로 예측하고 있습니다(recall 0.99).\n",
    "  - 클래스 가중치 적용: 클래스별 샘플 수에 반비례하는 가중치를 계산하여 적용\n",
    "    - **성능 향상 있었음**"
   ]
  },
  {
   "cell_type": "markdown",
   "metadata": {
    "id": "XdxsmqHgU8kT"
   },
   "source": [
    "- 비교군으로 성능 향상으로 위해 학습률을 낮추고, Warmup 비율 설정"
   ]
  },
  {
   "cell_type": "code",
   "execution_count": null,
   "metadata": {
    "colab": {
     "base_uri": "https://localhost:8080/",
     "height": 1000,
     "referenced_widgets": [
      "b3edbbfa4f4445b3b62c30f8c37fa39b",
      "3875e77d00d64f80aba5b3174cb7cf2b",
      "e7e30b44c79c42bfa0c2744119a34ac5",
      "8907adc22d374a5db064c1d58c4f0809",
      "1eaeb6c10ea54bc98903e6bfe4587c0b",
      "a6eaad568b4d42ea85c42ebc3dff8332",
      "c0b06c5f0150442f937c9dffebe35029",
      "1b9068cc7e0e469ba8225f05a45997cb",
      "ef90dc7cb1944a4b8570ce6282d2eefd",
      "60d1034e49a747c7b50048d0c6acc34e",
      "e3212bcb5d2049ffa8a7208f88139bf5",
      "264355d8373f42c498af79912db03597",
      "da57079b6e7d4b3a86091058831fa56b",
      "40e470a22ad64cc39e3307c606571852",
      "06e4dcac919b448ea7c0d0e54f2866c5",
      "57f1b9df02064054828fd3ff7fe5b372",
      "a5f19c93bf244a73be2f80f263ba2df8",
      "b1abcccf93a04979870eae3638088b36",
      "95e78ca6173a44999342ed7ab2bbb2ad",
      "693940ec7e7944448981fe5bcab35aa2",
      "fd726c29eb4a448887901a99a9a8ed20",
      "ef1b79ceb2754828b145c73bc9066e75",
      "0736ba50086b4534991e9ec6aee99ac6",
      "80dd79cc969a42cfa15ca2db88f7f448",
      "58535b6924114757aa1cd0443de28dfe",
      "916004b1d94a4f16ba712fd03aee36f1",
      "c46d0823f55747489c62671e46c38ec0",
      "281808ab490042b0a55a45cbc4f4486c",
      "29802d6603b84d339d8c7f660428c0a5",
      "73a3ebfd04d74678a25fbe17b4d7553b",
      "6d0c7e20e98b4d0db779b7d8e141ee4a",
      "2717f29b4f2946f0b0264ad51d7aba8d",
      "34ec97c4a2a1483cb802987e2064f68e",
      "c823c0850ce449059ff61a418e8b33c7",
      "b876c83395f6408792a1bf8b1da04a12",
      "c54e7a7856a4471994f208d8b220e9e0",
      "c5a21207523a40d88254629ff4480231",
      "ce161e1e296c489e8cce931588755212",
      "30b5fe751ea5441384ebbb7678affd51",
      "a4a6ce05f2454b59bd6f2d306ec38d90",
      "772b5ea3c3e1440db02411fc8135258a",
      "5cb640e1ae234112990b396d9af7c60d",
      "e15323949f8747128938f30c0eeb7020",
      "af1e4b6bf6334a5c98655ff48862991a",
      "797583e4102c4d03968e3dd017498e14",
      "0355693c56044972b561ac9b20874419",
      "9d077863ae584addaeac3199a744ef80",
      "2ed1edf5ffae407a89f74b0581954c8d",
      "d104a09aa2b54f7ba5396cc4eaae554c",
      "022b597c96f644a89d3e2ee74a9d6e4c",
      "36ff30ba05eb40aeb9588105c7855c4c",
      "581d9cb8ba674909959ee444f77b29f8",
      "81eb8e6f92a345ef9293bf4da5a025a2",
      "e76459797e834613a38ad6094b881663",
      "cbbc9fd9bcee46638a4260a5a0b7982f"
     ]
    },
    "executionInfo": {
     "elapsed": 937232,
     "status": "ok",
     "timestamp": 1746570653098,
     "user": {
      "displayName": "김지환",
      "userId": "17439535786603393953"
     },
     "user_tz": -540
    },
    "id": "WpbtewEyysQ8",
    "outputId": "fcba9e80-1847-4526-f966-2883014a3cdc",
    "scrolled": false
   },
   "outputs": [
    {
     "name": "stdout",
     "output_type": "stream",
     "text": [
      "Requirement already satisfied: transformers in /usr/local/lib/python3.11/dist-packages (4.51.3)\n",
      "Requirement already satisfied: pandas in /usr/local/lib/python3.11/dist-packages (2.2.2)\n",
      "Requirement already satisfied: scikit-learn in /usr/local/lib/python3.11/dist-packages (1.6.1)\n",
      "Requirement already satisfied: filelock in /usr/local/lib/python3.11/dist-packages (from transformers) (3.18.0)\n",
      "Requirement already satisfied: huggingface-hub<1.0,>=0.30.0 in /usr/local/lib/python3.11/dist-packages (from transformers) (0.30.2)\n",
      "Requirement already satisfied: numpy>=1.17 in /usr/local/lib/python3.11/dist-packages (from transformers) (2.0.2)\n",
      "Requirement already satisfied: packaging>=20.0 in /usr/local/lib/python3.11/dist-packages (from transformers) (24.2)\n",
      "Requirement already satisfied: pyyaml>=5.1 in /usr/local/lib/python3.11/dist-packages (from transformers) (6.0.2)\n",
      "Requirement already satisfied: regex!=2019.12.17 in /usr/local/lib/python3.11/dist-packages (from transformers) (2024.11.6)\n",
      "Requirement already satisfied: requests in /usr/local/lib/python3.11/dist-packages (from transformers) (2.32.3)\n",
      "Requirement already satisfied: tokenizers<0.22,>=0.21 in /usr/local/lib/python3.11/dist-packages (from transformers) (0.21.1)\n",
      "Requirement already satisfied: safetensors>=0.4.3 in /usr/local/lib/python3.11/dist-packages (from transformers) (0.5.3)\n",
      "Requirement already satisfied: tqdm>=4.27 in /usr/local/lib/python3.11/dist-packages (from transformers) (4.67.1)\n",
      "Requirement already satisfied: python-dateutil>=2.8.2 in /usr/local/lib/python3.11/dist-packages (from pandas) (2.9.0.post0)\n",
      "Requirement already satisfied: pytz>=2020.1 in /usr/local/lib/python3.11/dist-packages (from pandas) (2025.2)\n",
      "Requirement already satisfied: tzdata>=2022.7 in /usr/local/lib/python3.11/dist-packages (from pandas) (2025.2)\n",
      "Requirement already satisfied: scipy>=1.6.0 in /usr/local/lib/python3.11/dist-packages (from scikit-learn) (1.15.2)\n",
      "Requirement already satisfied: joblib>=1.2.0 in /usr/local/lib/python3.11/dist-packages (from scikit-learn) (1.4.2)\n",
      "Requirement already satisfied: threadpoolctl>=3.1.0 in /usr/local/lib/python3.11/dist-packages (from scikit-learn) (3.6.0)\n",
      "Requirement already satisfied: fsspec>=2023.5.0 in /usr/local/lib/python3.11/dist-packages (from huggingface-hub<1.0,>=0.30.0->transformers) (2025.3.2)\n",
      "Requirement already satisfied: typing-extensions>=3.7.4.3 in /usr/local/lib/python3.11/dist-packages (from huggingface-hub<1.0,>=0.30.0->transformers) (4.13.2)\n",
      "Requirement already satisfied: six>=1.5 in /usr/local/lib/python3.11/dist-packages (from python-dateutil>=2.8.2->pandas) (1.17.0)\n",
      "Requirement already satisfied: charset-normalizer<4,>=2 in /usr/local/lib/python3.11/dist-packages (from requests->transformers) (3.4.1)\n",
      "Requirement already satisfied: idna<4,>=2.5 in /usr/local/lib/python3.11/dist-packages (from requests->transformers) (3.10)\n",
      "Requirement already satisfied: urllib3<3,>=1.21.1 in /usr/local/lib/python3.11/dist-packages (from requests->transformers) (2.4.0)\n",
      "Requirement already satisfied: certifi>=2017.4.17 in /usr/local/lib/python3.11/dist-packages (from requests->transformers) (2025.4.26)\n",
      "Requirement already satisfied: torch in /usr/local/lib/python3.11/dist-packages (2.6.0+cu124)\n",
      "Requirement already satisfied: filelock in /usr/local/lib/python3.11/dist-packages (from torch) (3.18.0)\n",
      "Requirement already satisfied: typing-extensions>=4.10.0 in /usr/local/lib/python3.11/dist-packages (from torch) (4.13.2)\n",
      "Requirement already satisfied: networkx in /usr/local/lib/python3.11/dist-packages (from torch) (3.4.2)\n",
      "Requirement already satisfied: jinja2 in /usr/local/lib/python3.11/dist-packages (from torch) (3.1.6)\n",
      "Requirement already satisfied: fsspec in /usr/local/lib/python3.11/dist-packages (from torch) (2025.3.2)\n",
      "Collecting nvidia-cuda-nvrtc-cu12==12.4.127 (from torch)\n",
      "  Downloading nvidia_cuda_nvrtc_cu12-12.4.127-py3-none-manylinux2014_x86_64.whl.metadata (1.5 kB)\n",
      "Collecting nvidia-cuda-runtime-cu12==12.4.127 (from torch)\n",
      "  Downloading nvidia_cuda_runtime_cu12-12.4.127-py3-none-manylinux2014_x86_64.whl.metadata (1.5 kB)\n",
      "Collecting nvidia-cuda-cupti-cu12==12.4.127 (from torch)\n",
      "  Downloading nvidia_cuda_cupti_cu12-12.4.127-py3-none-manylinux2014_x86_64.whl.metadata (1.6 kB)\n",
      "Collecting nvidia-cudnn-cu12==9.1.0.70 (from torch)\n",
      "  Downloading nvidia_cudnn_cu12-9.1.0.70-py3-none-manylinux2014_x86_64.whl.metadata (1.6 kB)\n",
      "Collecting nvidia-cublas-cu12==12.4.5.8 (from torch)\n",
      "  Downloading nvidia_cublas_cu12-12.4.5.8-py3-none-manylinux2014_x86_64.whl.metadata (1.5 kB)\n",
      "Collecting nvidia-cufft-cu12==11.2.1.3 (from torch)\n",
      "  Downloading nvidia_cufft_cu12-11.2.1.3-py3-none-manylinux2014_x86_64.whl.metadata (1.5 kB)\n",
      "Collecting nvidia-curand-cu12==10.3.5.147 (from torch)\n",
      "  Downloading nvidia_curand_cu12-10.3.5.147-py3-none-manylinux2014_x86_64.whl.metadata (1.5 kB)\n",
      "Collecting nvidia-cusolver-cu12==11.6.1.9 (from torch)\n",
      "  Downloading nvidia_cusolver_cu12-11.6.1.9-py3-none-manylinux2014_x86_64.whl.metadata (1.6 kB)\n",
      "Collecting nvidia-cusparse-cu12==12.3.1.170 (from torch)\n",
      "  Downloading nvidia_cusparse_cu12-12.3.1.170-py3-none-manylinux2014_x86_64.whl.metadata (1.6 kB)\n",
      "Requirement already satisfied: nvidia-cusparselt-cu12==0.6.2 in /usr/local/lib/python3.11/dist-packages (from torch) (0.6.2)\n",
      "Requirement already satisfied: nvidia-nccl-cu12==2.21.5 in /usr/local/lib/python3.11/dist-packages (from torch) (2.21.5)\n",
      "Requirement already satisfied: nvidia-nvtx-cu12==12.4.127 in /usr/local/lib/python3.11/dist-packages (from torch) (12.4.127)\n",
      "Collecting nvidia-nvjitlink-cu12==12.4.127 (from torch)\n",
      "  Downloading nvidia_nvjitlink_cu12-12.4.127-py3-none-manylinux2014_x86_64.whl.metadata (1.5 kB)\n",
      "Requirement already satisfied: triton==3.2.0 in /usr/local/lib/python3.11/dist-packages (from torch) (3.2.0)\n",
      "Requirement already satisfied: sympy==1.13.1 in /usr/local/lib/python3.11/dist-packages (from torch) (1.13.1)\n",
      "Requirement already satisfied: mpmath<1.4,>=1.1.0 in /usr/local/lib/python3.11/dist-packages (from sympy==1.13.1->torch) (1.3.0)\n",
      "Requirement already satisfied: MarkupSafe>=2.0 in /usr/local/lib/python3.11/dist-packages (from jinja2->torch) (3.0.2)\n",
      "Downloading nvidia_cublas_cu12-12.4.5.8-py3-none-manylinux2014_x86_64.whl (363.4 MB)\n",
      "\u001b[2K   \u001b[90m━━━━━━━━━━━━━━━━━━━━━━━━━━━━━━━━━━━━━━━━\u001b[0m \u001b[32m363.4/363.4 MB\u001b[0m \u001b[31m2.6 MB/s\u001b[0m eta \u001b[36m0:00:00\u001b[0m\n",
      "\u001b[?25hDownloading nvidia_cuda_cupti_cu12-12.4.127-py3-none-manylinux2014_x86_64.whl (13.8 MB)\n",
      "\u001b[2K   \u001b[90m━━━━━━━━━━━━━━━━━━━━━━━━━━━━━━━━━━━━━━━━\u001b[0m \u001b[32m13.8/13.8 MB\u001b[0m \u001b[31m129.3 MB/s\u001b[0m eta \u001b[36m0:00:00\u001b[0m\n",
      "\u001b[?25hDownloading nvidia_cuda_nvrtc_cu12-12.4.127-py3-none-manylinux2014_x86_64.whl (24.6 MB)\n",
      "\u001b[2K   \u001b[90m━━━━━━━━━━━━━━━━━━━━━━━━━━━━━━━━━━━━━━━━\u001b[0m \u001b[32m24.6/24.6 MB\u001b[0m \u001b[31m104.0 MB/s\u001b[0m eta \u001b[36m0:00:00\u001b[0m\n",
      "\u001b[?25hDownloading nvidia_cuda_runtime_cu12-12.4.127-py3-none-manylinux2014_x86_64.whl (883 kB)\n",
      "\u001b[2K   \u001b[90m━━━━━━━━━━━━━━━━━━━━━━━━━━━━━━━━━━━━━━━━\u001b[0m \u001b[32m883.7/883.7 kB\u001b[0m \u001b[31m63.2 MB/s\u001b[0m eta \u001b[36m0:00:00\u001b[0m\n",
      "\u001b[?25hDownloading nvidia_cudnn_cu12-9.1.0.70-py3-none-manylinux2014_x86_64.whl (664.8 MB)\n",
      "\u001b[2K   \u001b[90m━━━━━━━━━━━━━━━━━━━━━━━━━━━━━━━━━━━━━━━━\u001b[0m \u001b[32m664.8/664.8 MB\u001b[0m \u001b[31m1.5 MB/s\u001b[0m eta \u001b[36m0:00:00\u001b[0m\n",
      "\u001b[?25hDownloading nvidia_cufft_cu12-11.2.1.3-py3-none-manylinux2014_x86_64.whl (211.5 MB)\n",
      "\u001b[2K   \u001b[90m━━━━━━━━━━━━━━━━━━━━━━━━━━━━━━━━━━━━━━━━\u001b[0m \u001b[32m211.5/211.5 MB\u001b[0m \u001b[31m10.1 MB/s\u001b[0m eta \u001b[36m0:00:00\u001b[0m\n",
      "\u001b[?25hDownloading nvidia_curand_cu12-10.3.5.147-py3-none-manylinux2014_x86_64.whl (56.3 MB)\n",
      "\u001b[2K   \u001b[90m━━━━━━━━━━━━━━━━━━━━━━━━━━━━━━━━━━━━━━━━\u001b[0m \u001b[32m56.3/56.3 MB\u001b[0m \u001b[31m39.3 MB/s\u001b[0m eta \u001b[36m0:00:00\u001b[0m\n",
      "\u001b[?25hDownloading nvidia_cusolver_cu12-11.6.1.9-py3-none-manylinux2014_x86_64.whl (127.9 MB)\n",
      "\u001b[2K   \u001b[90m━━━━━━━━━━━━━━━━━━━━━━━━━━━━━━━━━━━━━━━━\u001b[0m \u001b[32m127.9/127.9 MB\u001b[0m \u001b[31m17.6 MB/s\u001b[0m eta \u001b[36m0:00:00\u001b[0m\n",
      "\u001b[?25hDownloading nvidia_cusparse_cu12-12.3.1.170-py3-none-manylinux2014_x86_64.whl (207.5 MB)\n",
      "\u001b[2K   \u001b[90m━━━━━━━━━━━━━━━━━━━━━━━━━━━━━━━━━━━━━━━━\u001b[0m \u001b[32m207.5/207.5 MB\u001b[0m \u001b[31m3.4 MB/s\u001b[0m eta \u001b[36m0:00:00\u001b[0m\n",
      "\u001b[?25hDownloading nvidia_nvjitlink_cu12-12.4.127-py3-none-manylinux2014_x86_64.whl (21.1 MB)\n",
      "\u001b[2K   \u001b[90m━━━━━━━━━━━━━━━━━━━━━━━━━━━━━━━━━━━━━━━━\u001b[0m \u001b[32m21.1/21.1 MB\u001b[0m \u001b[31m77.2 MB/s\u001b[0m eta \u001b[36m0:00:00\u001b[0m\n",
      "\u001b[?25hInstalling collected packages: nvidia-nvjitlink-cu12, nvidia-curand-cu12, nvidia-cufft-cu12, nvidia-cuda-runtime-cu12, nvidia-cuda-nvrtc-cu12, nvidia-cuda-cupti-cu12, nvidia-cublas-cu12, nvidia-cusparse-cu12, nvidia-cudnn-cu12, nvidia-cusolver-cu12\n",
      "  Attempting uninstall: nvidia-nvjitlink-cu12\n",
      "    Found existing installation: nvidia-nvjitlink-cu12 12.5.82\n",
      "    Uninstalling nvidia-nvjitlink-cu12-12.5.82:\n",
      "      Successfully uninstalled nvidia-nvjitlink-cu12-12.5.82\n",
      "  Attempting uninstall: nvidia-curand-cu12\n",
      "    Found existing installation: nvidia-curand-cu12 10.3.6.82\n",
      "    Uninstalling nvidia-curand-cu12-10.3.6.82:\n",
      "      Successfully uninstalled nvidia-curand-cu12-10.3.6.82\n",
      "  Attempting uninstall: nvidia-cufft-cu12\n",
      "    Found existing installation: nvidia-cufft-cu12 11.2.3.61\n",
      "    Uninstalling nvidia-cufft-cu12-11.2.3.61:\n",
      "      Successfully uninstalled nvidia-cufft-cu12-11.2.3.61\n",
      "  Attempting uninstall: nvidia-cuda-runtime-cu12\n",
      "    Found existing installation: nvidia-cuda-runtime-cu12 12.5.82\n",
      "    Uninstalling nvidia-cuda-runtime-cu12-12.5.82:\n",
      "      Successfully uninstalled nvidia-cuda-runtime-cu12-12.5.82\n",
      "  Attempting uninstall: nvidia-cuda-nvrtc-cu12\n",
      "    Found existing installation: nvidia-cuda-nvrtc-cu12 12.5.82\n",
      "    Uninstalling nvidia-cuda-nvrtc-cu12-12.5.82:\n",
      "      Successfully uninstalled nvidia-cuda-nvrtc-cu12-12.5.82\n",
      "  Attempting uninstall: nvidia-cuda-cupti-cu12\n",
      "    Found existing installation: nvidia-cuda-cupti-cu12 12.5.82\n",
      "    Uninstalling nvidia-cuda-cupti-cu12-12.5.82:\n",
      "      Successfully uninstalled nvidia-cuda-cupti-cu12-12.5.82\n",
      "  Attempting uninstall: nvidia-cublas-cu12\n",
      "    Found existing installation: nvidia-cublas-cu12 12.5.3.2\n",
      "    Uninstalling nvidia-cublas-cu12-12.5.3.2:\n",
      "      Successfully uninstalled nvidia-cublas-cu12-12.5.3.2\n",
      "  Attempting uninstall: nvidia-cusparse-cu12\n",
      "    Found existing installation: nvidia-cusparse-cu12 12.5.1.3\n",
      "    Uninstalling nvidia-cusparse-cu12-12.5.1.3:\n",
      "      Successfully uninstalled nvidia-cusparse-cu12-12.5.1.3\n",
      "  Attempting uninstall: nvidia-cudnn-cu12\n",
      "    Found existing installation: nvidia-cudnn-cu12 9.3.0.75\n",
      "    Uninstalling nvidia-cudnn-cu12-9.3.0.75:\n",
      "      Successfully uninstalled nvidia-cudnn-cu12-9.3.0.75\n",
      "  Attempting uninstall: nvidia-cusolver-cu12\n",
      "    Found existing installation: nvidia-cusolver-cu12 11.6.3.83\n",
      "    Uninstalling nvidia-cusolver-cu12-11.6.3.83:\n",
      "      Successfully uninstalled nvidia-cusolver-cu12-11.6.3.83\n",
      "Successfully installed nvidia-cublas-cu12-12.4.5.8 nvidia-cuda-cupti-cu12-12.4.127 nvidia-cuda-nvrtc-cu12-12.4.127 nvidia-cuda-runtime-cu12-12.4.127 nvidia-cudnn-cu12-9.1.0.70 nvidia-cufft-cu12-11.2.1.3 nvidia-curand-cu12-10.3.5.147 nvidia-cusolver-cu12-11.6.1.9 nvidia-cusparse-cu12-12.3.1.170 nvidia-nvjitlink-cu12-12.4.127\n",
      "데이터 로드 중...\n",
      "학습 데이터 크기: 3477\n",
      "검증 데이터 크기: 745\n",
      "테스트 데이터 크기: 746\n",
      "학습 데이터의 클래스 분포:\n",
      "class\n",
      "4    786\n",
      "3    707\n",
      "1    681\n",
      "2    679\n",
      "0    624\n",
      "Name: count, dtype: int64\n",
      "모델 'monologg/koelectra-base-v3-discriminator' 로드 중...\n"
     ]
    },
    {
     "name": "stderr",
     "output_type": "stream",
     "text": [
      "/usr/local/lib/python3.11/dist-packages/huggingface_hub/utils/_auth.py:94: UserWarning: \n",
      "The secret `HF_TOKEN` does not exist in your Colab secrets.\n",
      "To authenticate with the Hugging Face Hub, create a token in your settings tab (https://huggingface.co/settings/tokens), set it as secret in your Google Colab and restart your session.\n",
      "You will be able to reuse this secret in all of your notebooks.\n",
      "Please note that authentication is recommended but still optional to access public models or datasets.\n",
      "  warnings.warn(\n"
     ]
    },
    {
     "data": {
      "application/vnd.jupyter.widget-view+json": {
       "model_id": "b3edbbfa4f4445b3b62c30f8c37fa39b",
       "version_major": 2,
       "version_minor": 0
      },
      "text/plain": [
       "tokenizer_config.json:   0%|          | 0.00/61.0 [00:00<?, ?B/s]"
      ]
     },
     "metadata": {},
     "output_type": "display_data"
    },
    {
     "data": {
      "application/vnd.jupyter.widget-view+json": {
       "model_id": "264355d8373f42c498af79912db03597",
       "version_major": 2,
       "version_minor": 0
      },
      "text/plain": [
       "vocab.txt:   0%|          | 0.00/263k [00:00<?, ?B/s]"
      ]
     },
     "metadata": {},
     "output_type": "display_data"
    },
    {
     "data": {
      "application/vnd.jupyter.widget-view+json": {
       "model_id": "0736ba50086b4534991e9ec6aee99ac6",
       "version_major": 2,
       "version_minor": 0
      },
      "text/plain": [
       "config.json:   0%|          | 0.00/467 [00:00<?, ?B/s]"
      ]
     },
     "metadata": {},
     "output_type": "display_data"
    },
    {
     "data": {
      "application/vnd.jupyter.widget-view+json": {
       "model_id": "c823c0850ce449059ff61a418e8b33c7",
       "version_major": 2,
       "version_minor": 0
      },
      "text/plain": [
       "pytorch_model.bin:   0%|          | 0.00/452M [00:00<?, ?B/s]"
      ]
     },
     "metadata": {},
     "output_type": "display_data"
    },
    {
     "name": "stderr",
     "output_type": "stream",
     "text": [
      "Some weights of ElectraForSequenceClassification were not initialized from the model checkpoint at monologg/koelectra-base-v3-discriminator and are newly initialized: ['classifier.dense.bias', 'classifier.dense.weight', 'classifier.out_proj.bias', 'classifier.out_proj.weight']\n",
      "You should probably TRAIN this model on a down-stream task to be able to use it for predictions and inference.\n"
     ]
    },
    {
     "name": "stdout",
     "output_type": "stream",
     "text": [
      "✅ 학습 대상: classifier.dense.weight\n",
      "✅ 학습 대상: classifier.dense.bias\n",
      "✅ 학습 대상: classifier.out_proj.weight\n",
      "✅ 학습 대상: classifier.out_proj.bias\n",
      "🔢 학습 대상 파라미터 수: 594,437 / 전체 파라미터 수: 112,925,189 (0.53%)\n",
      "사용 중인 디바이스: cuda:0\n",
      "\n",
      "Epoch 1/100\n"
     ]
    },
    {
     "name": "stderr",
     "output_type": "stream",
     "text": [
      "학습 중 (학습률: 0.00000000):   3%|▎         | 3/109 [00:01<00:34,  3.06it/s, loss=1.6128]"
     ]
    },
    {
     "data": {
      "application/vnd.jupyter.widget-view+json": {
       "model_id": "797583e4102c4d03968e3dd017498e14",
       "version_major": 2,
       "version_minor": 0
      },
      "text/plain": [
       "model.safetensors:   0%|          | 0.00/452M [00:00<?, ?B/s]"
      ]
     },
     "metadata": {},
     "output_type": "display_data"
    },
    {
     "name": "stderr",
     "output_type": "stream",
     "text": [
      "학습 중 (학습률: 0.00000000): 100%|██████████| 109/109 [00:07<00:00, 15.55it/s, loss=1.6125]\n"
     ]
    },
    {
     "name": "stdout",
     "output_type": "stream",
     "text": [
      "Train Loss: 1.6125, 현재 학습률: 0.00000000\n"
     ]
    },
    {
     "name": "stderr",
     "output_type": "stream",
     "text": [
      "평가 중: 100%|██████████| 24/24 [00:01<00:00, 17.29it/s]\n"
     ]
    },
    {
     "name": "stdout",
     "output_type": "stream",
     "text": [
      "Validation Loss: 1.6132\n",
      "Validation Macro F1: 0.1219\n",
      "모델 저장됨: best_model.pth (F1: 0.1219)\n",
      "\n",
      "Epoch 2/100\n"
     ]
    },
    {
     "name": "stderr",
     "output_type": "stream",
     "text": [
      "학습 중 (학습률: 0.00000050): 100%|██████████| 109/109 [00:06<00:00, 17.89it/s, loss=1.6117]\n"
     ]
    },
    {
     "name": "stdout",
     "output_type": "stream",
     "text": [
      "Train Loss: 1.6117, 현재 학습률: 0.00000050\n"
     ]
    },
    {
     "name": "stderr",
     "output_type": "stream",
     "text": [
      "평가 중: 100%|██████████| 24/24 [00:01<00:00, 17.40it/s]\n"
     ]
    },
    {
     "name": "stdout",
     "output_type": "stream",
     "text": [
      "Validation Loss: 1.6115\n",
      "Validation Macro F1: 0.1172\n",
      "성능 향상 없음: 1/10\n",
      "\n",
      "Epoch 3/100\n"
     ]
    },
    {
     "name": "stderr",
     "output_type": "stream",
     "text": [
      "학습 중 (학습률: 0.00000100): 100%|██████████| 109/109 [00:06<00:00, 17.98it/s, loss=1.6092]\n"
     ]
    },
    {
     "name": "stdout",
     "output_type": "stream",
     "text": [
      "Train Loss: 1.6092, 현재 학습률: 0.00000100\n"
     ]
    },
    {
     "name": "stderr",
     "output_type": "stream",
     "text": [
      "평가 중: 100%|██████████| 24/24 [00:01<00:00, 17.37it/s]\n"
     ]
    },
    {
     "name": "stdout",
     "output_type": "stream",
     "text": [
      "Validation Loss: 1.6087\n",
      "Validation Macro F1: 0.1096\n",
      "성능 향상 없음: 2/10\n",
      "\n",
      "Epoch 4/100\n"
     ]
    },
    {
     "name": "stderr",
     "output_type": "stream",
     "text": [
      "학습 중 (학습률: 0.00000150): 100%|██████████| 109/109 [00:06<00:00, 18.01it/s, loss=1.6067]\n"
     ]
    },
    {
     "name": "stdout",
     "output_type": "stream",
     "text": [
      "Train Loss: 1.6067, 현재 학습률: 0.00000150\n"
     ]
    },
    {
     "name": "stderr",
     "output_type": "stream",
     "text": [
      "평가 중: 100%|██████████| 24/24 [00:01<00:00, 17.37it/s]\n"
     ]
    },
    {
     "name": "stdout",
     "output_type": "stream",
     "text": [
      "Validation Loss: 1.6051\n",
      "Validation Macro F1: 0.0960\n",
      "성능 향상 없음: 3/10\n",
      "\n",
      "Epoch 5/100\n"
     ]
    },
    {
     "name": "stderr",
     "output_type": "stream",
     "text": [
      "학습 중 (학습률: 0.00000200): 100%|██████████| 109/109 [00:06<00:00, 18.02it/s, loss=1.6031]\n"
     ]
    },
    {
     "name": "stdout",
     "output_type": "stream",
     "text": [
      "Train Loss: 1.6031, 현재 학습률: 0.00000200\n"
     ]
    },
    {
     "name": "stderr",
     "output_type": "stream",
     "text": [
      "평가 중: 100%|██████████| 24/24 [00:01<00:00, 17.46it/s]\n"
     ]
    },
    {
     "name": "stdout",
     "output_type": "stream",
     "text": [
      "Validation Loss: 1.6007\n",
      "Validation Macro F1: 0.1015\n",
      "성능 향상 없음: 4/10\n",
      "\n",
      "Epoch 6/100\n"
     ]
    },
    {
     "name": "stderr",
     "output_type": "stream",
     "text": [
      "학습 중 (학습률: 0.00000250): 100%|██████████| 109/109 [00:06<00:00, 18.01it/s, loss=1.6000]\n"
     ]
    },
    {
     "name": "stdout",
     "output_type": "stream",
     "text": [
      "Train Loss: 1.6000, 현재 학습률: 0.00000250\n"
     ]
    },
    {
     "name": "stderr",
     "output_type": "stream",
     "text": [
      "평가 중: 100%|██████████| 24/24 [00:01<00:00, 17.48it/s]\n"
     ]
    },
    {
     "name": "stdout",
     "output_type": "stream",
     "text": [
      "Validation Loss: 1.5959\n",
      "Validation Macro F1: 0.0865\n",
      "성능 향상 없음: 5/10\n",
      "\n",
      "Epoch 7/100\n"
     ]
    },
    {
     "name": "stderr",
     "output_type": "stream",
     "text": [
      "학습 중 (학습률: 0.00000300): 100%|██████████| 109/109 [00:06<00:00, 18.07it/s, loss=1.5950]\n"
     ]
    },
    {
     "name": "stdout",
     "output_type": "stream",
     "text": [
      "Train Loss: 1.5950, 현재 학습률: 0.00000300\n"
     ]
    },
    {
     "name": "stderr",
     "output_type": "stream",
     "text": [
      "평가 중: 100%|██████████| 24/24 [00:01<00:00, 17.34it/s]\n"
     ]
    },
    {
     "name": "stdout",
     "output_type": "stream",
     "text": [
      "Validation Loss: 1.5903\n",
      "Validation Macro F1: 0.0768\n",
      "성능 향상 없음: 6/10\n",
      "\n",
      "Epoch 8/100\n"
     ]
    },
    {
     "name": "stderr",
     "output_type": "stream",
     "text": [
      "학습 중 (학습률: 0.00000350): 100%|██████████| 109/109 [00:06<00:00, 18.03it/s, loss=1.5900]\n"
     ]
    },
    {
     "name": "stdout",
     "output_type": "stream",
     "text": [
      "Train Loss: 1.5900, 현재 학습률: 0.00000350\n"
     ]
    },
    {
     "name": "stderr",
     "output_type": "stream",
     "text": [
      "평가 중: 100%|██████████| 24/24 [00:01<00:00, 17.51it/s]\n"
     ]
    },
    {
     "name": "stdout",
     "output_type": "stream",
     "text": [
      "Validation Loss: 1.5842\n",
      "Validation Macro F1: 0.0956\n",
      "성능 향상 없음: 7/10\n",
      "\n",
      "Epoch 9/100\n"
     ]
    },
    {
     "name": "stderr",
     "output_type": "stream",
     "text": [
      "학습 중 (학습률: 0.00000400): 100%|██████████| 109/109 [00:06<00:00, 17.99it/s, loss=1.5838]\n"
     ]
    },
    {
     "name": "stdout",
     "output_type": "stream",
     "text": [
      "Train Loss: 1.5838, 현재 학습률: 0.00000400\n"
     ]
    },
    {
     "name": "stderr",
     "output_type": "stream",
     "text": [
      "평가 중: 100%|██████████| 24/24 [00:01<00:00, 17.39it/s]\n"
     ]
    },
    {
     "name": "stdout",
     "output_type": "stream",
     "text": [
      "Validation Loss: 1.5773\n",
      "Validation Macro F1: 0.1291\n",
      "모델 저장됨: best_model.pth (F1: 0.1291)\n",
      "\n",
      "Epoch 10/100\n"
     ]
    },
    {
     "name": "stderr",
     "output_type": "stream",
     "text": [
      "학습 중 (학습률: 0.00000450): 100%|██████████| 109/109 [00:06<00:00, 18.08it/s, loss=1.5794]\n"
     ]
    },
    {
     "name": "stdout",
     "output_type": "stream",
     "text": [
      "Train Loss: 1.5794, 현재 학습률: 0.00000450\n"
     ]
    },
    {
     "name": "stderr",
     "output_type": "stream",
     "text": [
      "평가 중: 100%|██████████| 24/24 [00:01<00:00, 17.42it/s]\n"
     ]
    },
    {
     "name": "stdout",
     "output_type": "stream",
     "text": [
      "Validation Loss: 1.5697\n",
      "Validation Macro F1: 0.1611\n",
      "모델 저장됨: best_model.pth (F1: 0.1611)\n",
      "\n",
      "Epoch 11/100\n"
     ]
    },
    {
     "name": "stderr",
     "output_type": "stream",
     "text": [
      "학습 중 (학습률: 0.00000500): 100%|██████████| 109/109 [00:06<00:00, 17.96it/s, loss=1.5735]\n"
     ]
    },
    {
     "name": "stdout",
     "output_type": "stream",
     "text": [
      "Train Loss: 1.5735, 현재 학습률: 0.00000500\n"
     ]
    },
    {
     "name": "stderr",
     "output_type": "stream",
     "text": [
      "평가 중: 100%|██████████| 24/24 [00:01<00:00, 17.48it/s]\n"
     ]
    },
    {
     "name": "stdout",
     "output_type": "stream",
     "text": [
      "Validation Loss: 1.5621\n",
      "Validation Macro F1: 0.1939\n",
      "모델 저장됨: best_model.pth (F1: 0.1939)\n",
      "\n",
      "Epoch 12/100\n"
     ]
    },
    {
     "name": "stderr",
     "output_type": "stream",
     "text": [
      "학습 중 (학습률: 0.00000494): 100%|██████████| 109/109 [00:06<00:00, 17.90it/s, loss=1.5640]\n"
     ]
    },
    {
     "name": "stdout",
     "output_type": "stream",
     "text": [
      "Train Loss: 1.5640, 현재 학습률: 0.00000494\n"
     ]
    },
    {
     "name": "stderr",
     "output_type": "stream",
     "text": [
      "평가 중: 100%|██████████| 24/24 [00:01<00:00, 17.38it/s]\n"
     ]
    },
    {
     "name": "stdout",
     "output_type": "stream",
     "text": [
      "Validation Loss: 1.5542\n",
      "Validation Macro F1: 0.2231\n",
      "모델 저장됨: best_model.pth (F1: 0.2231)\n",
      "\n",
      "Epoch 13/100\n"
     ]
    },
    {
     "name": "stderr",
     "output_type": "stream",
     "text": [
      "학습 중 (학습률: 0.00000489): 100%|██████████| 109/109 [00:06<00:00, 18.02it/s, loss=1.5576]\n"
     ]
    },
    {
     "name": "stdout",
     "output_type": "stream",
     "text": [
      "Train Loss: 1.5576, 현재 학습률: 0.00000489\n"
     ]
    },
    {
     "name": "stderr",
     "output_type": "stream",
     "text": [
      "평가 중: 100%|██████████| 24/24 [00:01<00:00, 17.22it/s]\n"
     ]
    },
    {
     "name": "stdout",
     "output_type": "stream",
     "text": [
      "Validation Loss: 1.5460\n",
      "Validation Macro F1: 0.2413\n",
      "모델 저장됨: best_model.pth (F1: 0.2413)\n",
      "\n",
      "Epoch 14/100\n"
     ]
    },
    {
     "name": "stderr",
     "output_type": "stream",
     "text": [
      "학습 중 (학습률: 0.00000483): 100%|██████████| 109/109 [00:06<00:00, 17.86it/s, loss=1.5492]\n"
     ]
    },
    {
     "name": "stdout",
     "output_type": "stream",
     "text": [
      "Train Loss: 1.5492, 현재 학습률: 0.00000483\n"
     ]
    },
    {
     "name": "stderr",
     "output_type": "stream",
     "text": [
      "평가 중: 100%|██████████| 24/24 [00:01<00:00, 17.51it/s]\n"
     ]
    },
    {
     "name": "stdout",
     "output_type": "stream",
     "text": [
      "Validation Loss: 1.5379\n",
      "Validation Macro F1: 0.2601\n",
      "모델 저장됨: best_model.pth (F1: 0.2601)\n",
      "\n",
      "Epoch 15/100\n"
     ]
    },
    {
     "name": "stderr",
     "output_type": "stream",
     "text": [
      "학습 중 (학습률: 0.00000478): 100%|██████████| 109/109 [00:06<00:00, 17.97it/s, loss=1.5425]\n"
     ]
    },
    {
     "name": "stdout",
     "output_type": "stream",
     "text": [
      "Train Loss: 1.5425, 현재 학습률: 0.00000478\n"
     ]
    },
    {
     "name": "stderr",
     "output_type": "stream",
     "text": [
      "평가 중: 100%|██████████| 24/24 [00:01<00:00, 17.30it/s]\n"
     ]
    },
    {
     "name": "stdout",
     "output_type": "stream",
     "text": [
      "Validation Loss: 1.5297\n",
      "Validation Macro F1: 0.2618\n",
      "모델 저장됨: best_model.pth (F1: 0.2618)\n",
      "\n",
      "Epoch 16/100\n"
     ]
    },
    {
     "name": "stderr",
     "output_type": "stream",
     "text": [
      "학습 중 (학습률: 0.00000472): 100%|██████████| 109/109 [00:06<00:00, 17.96it/s, loss=1.5350]\n"
     ]
    },
    {
     "name": "stdout",
     "output_type": "stream",
     "text": [
      "Train Loss: 1.5350, 현재 학습률: 0.00000472\n"
     ]
    },
    {
     "name": "stderr",
     "output_type": "stream",
     "text": [
      "평가 중: 100%|██████████| 24/24 [00:01<00:00, 17.32it/s]\n"
     ]
    },
    {
     "name": "stdout",
     "output_type": "stream",
     "text": [
      "Validation Loss: 1.5214\n",
      "Validation Macro F1: 0.2773\n",
      "모델 저장됨: best_model.pth (F1: 0.2773)\n",
      "\n",
      "Epoch 17/100\n"
     ]
    },
    {
     "name": "stderr",
     "output_type": "stream",
     "text": [
      "학습 중 (학습률: 0.00000467): 100%|██████████| 109/109 [00:06<00:00, 17.91it/s, loss=1.5284]\n"
     ]
    },
    {
     "name": "stdout",
     "output_type": "stream",
     "text": [
      "Train Loss: 1.5284, 현재 학습률: 0.00000467\n"
     ]
    },
    {
     "name": "stderr",
     "output_type": "stream",
     "text": [
      "평가 중: 100%|██████████| 24/24 [00:01<00:00, 17.33it/s]\n"
     ]
    },
    {
     "name": "stdout",
     "output_type": "stream",
     "text": [
      "Validation Loss: 1.5130\n",
      "Validation Macro F1: 0.2929\n",
      "모델 저장됨: best_model.pth (F1: 0.2929)\n",
      "\n",
      "Epoch 18/100\n"
     ]
    },
    {
     "name": "stderr",
     "output_type": "stream",
     "text": [
      "학습 중 (학습률: 0.00000461): 100%|██████████| 109/109 [00:06<00:00, 18.02it/s, loss=1.5196]\n"
     ]
    },
    {
     "name": "stdout",
     "output_type": "stream",
     "text": [
      "Train Loss: 1.5196, 현재 학습률: 0.00000461\n"
     ]
    },
    {
     "name": "stderr",
     "output_type": "stream",
     "text": [
      "평가 중: 100%|██████████| 24/24 [00:01<00:00, 17.45it/s]\n"
     ]
    },
    {
     "name": "stdout",
     "output_type": "stream",
     "text": [
      "Validation Loss: 1.5044\n",
      "Validation Macro F1: 0.3082\n",
      "모델 저장됨: best_model.pth (F1: 0.3082)\n",
      "\n",
      "Epoch 19/100\n"
     ]
    },
    {
     "name": "stderr",
     "output_type": "stream",
     "text": [
      "학습 중 (학습률: 0.00000456): 100%|██████████| 109/109 [00:06<00:00, 18.01it/s, loss=1.5120]\n"
     ]
    },
    {
     "name": "stdout",
     "output_type": "stream",
     "text": [
      "Train Loss: 1.5120, 현재 학습률: 0.00000456\n"
     ]
    },
    {
     "name": "stderr",
     "output_type": "stream",
     "text": [
      "평가 중: 100%|██████████| 24/24 [00:01<00:00, 17.55it/s]\n"
     ]
    },
    {
     "name": "stdout",
     "output_type": "stream",
     "text": [
      "Validation Loss: 1.4958\n",
      "Validation Macro F1: 0.3255\n",
      "모델 저장됨: best_model.pth (F1: 0.3255)\n",
      "\n",
      "Epoch 20/100\n"
     ]
    },
    {
     "name": "stderr",
     "output_type": "stream",
     "text": [
      "학습 중 (학습률: 0.00000450): 100%|██████████| 109/109 [00:06<00:00, 17.96it/s, loss=1.5062]\n"
     ]
    },
    {
     "name": "stdout",
     "output_type": "stream",
     "text": [
      "Train Loss: 1.5062, 현재 학습률: 0.00000450\n"
     ]
    },
    {
     "name": "stderr",
     "output_type": "stream",
     "text": [
      "평가 중: 100%|██████████| 24/24 [00:01<00:00, 17.18it/s]\n"
     ]
    },
    {
     "name": "stdout",
     "output_type": "stream",
     "text": [
      "Validation Loss: 1.4874\n",
      "Validation Macro F1: 0.3373\n",
      "모델 저장됨: best_model.pth (F1: 0.3373)\n",
      "\n",
      "Epoch 21/100\n"
     ]
    },
    {
     "name": "stderr",
     "output_type": "stream",
     "text": [
      "학습 중 (학습률: 0.00000444): 100%|██████████| 109/109 [00:06<00:00, 18.00it/s, loss=1.4966]\n"
     ]
    },
    {
     "name": "stdout",
     "output_type": "stream",
     "text": [
      "Train Loss: 1.4966, 현재 학습률: 0.00000444\n"
     ]
    },
    {
     "name": "stderr",
     "output_type": "stream",
     "text": [
      "평가 중: 100%|██████████| 24/24 [00:01<00:00, 17.56it/s]\n"
     ]
    },
    {
     "name": "stdout",
     "output_type": "stream",
     "text": [
      "Validation Loss: 1.4788\n",
      "Validation Macro F1: 0.3419\n",
      "모델 저장됨: best_model.pth (F1: 0.3419)\n",
      "\n",
      "Epoch 22/100\n"
     ]
    },
    {
     "name": "stderr",
     "output_type": "stream",
     "text": [
      "학습 중 (학습률: 0.00000439): 100%|██████████| 109/109 [00:06<00:00, 17.98it/s, loss=1.4886]\n"
     ]
    },
    {
     "name": "stdout",
     "output_type": "stream",
     "text": [
      "Train Loss: 1.4886, 현재 학습률: 0.00000439\n"
     ]
    },
    {
     "name": "stderr",
     "output_type": "stream",
     "text": [
      "평가 중: 100%|██████████| 24/24 [00:01<00:00, 17.52it/s]\n"
     ]
    },
    {
     "name": "stdout",
     "output_type": "stream",
     "text": [
      "Validation Loss: 1.4703\n",
      "Validation Macro F1: 0.3507\n",
      "모델 저장됨: best_model.pth (F1: 0.3507)\n",
      "\n",
      "Epoch 23/100\n"
     ]
    },
    {
     "name": "stderr",
     "output_type": "stream",
     "text": [
      "학습 중 (학습률: 0.00000433): 100%|██████████| 109/109 [00:06<00:00, 17.97it/s, loss=1.4821]\n"
     ]
    },
    {
     "name": "stdout",
     "output_type": "stream",
     "text": [
      "Train Loss: 1.4821, 현재 학습률: 0.00000433\n"
     ]
    },
    {
     "name": "stderr",
     "output_type": "stream",
     "text": [
      "평가 중: 100%|██████████| 24/24 [00:01<00:00, 17.57it/s]\n"
     ]
    },
    {
     "name": "stdout",
     "output_type": "stream",
     "text": [
      "Validation Loss: 1.4615\n",
      "Validation Macro F1: 0.3630\n",
      "모델 저장됨: best_model.pth (F1: 0.3630)\n",
      "\n",
      "Epoch 24/100\n"
     ]
    },
    {
     "name": "stderr",
     "output_type": "stream",
     "text": [
      "학습 중 (학습률: 0.00000428): 100%|██████████| 109/109 [00:06<00:00, 18.04it/s, loss=1.4761]\n"
     ]
    },
    {
     "name": "stdout",
     "output_type": "stream",
     "text": [
      "Train Loss: 1.4761, 현재 학습률: 0.00000428\n"
     ]
    },
    {
     "name": "stderr",
     "output_type": "stream",
     "text": [
      "평가 중: 100%|██████████| 24/24 [00:01<00:00, 17.33it/s]\n"
     ]
    },
    {
     "name": "stdout",
     "output_type": "stream",
     "text": [
      "Validation Loss: 1.4532\n",
      "Validation Macro F1: 0.3605\n",
      "성능 향상 없음: 1/10\n",
      "\n",
      "Epoch 25/100\n"
     ]
    },
    {
     "name": "stderr",
     "output_type": "stream",
     "text": [
      "학습 중 (학습률: 0.00000422): 100%|██████████| 109/109 [00:06<00:00, 17.93it/s, loss=1.4665]\n"
     ]
    },
    {
     "name": "stdout",
     "output_type": "stream",
     "text": [
      "Train Loss: 1.4665, 현재 학습률: 0.00000422\n"
     ]
    },
    {
     "name": "stderr",
     "output_type": "stream",
     "text": [
      "평가 중: 100%|██████████| 24/24 [00:01<00:00, 17.54it/s]\n"
     ]
    },
    {
     "name": "stdout",
     "output_type": "stream",
     "text": [
      "Validation Loss: 1.4448\n",
      "Validation Macro F1: 0.3696\n",
      "모델 저장됨: best_model.pth (F1: 0.3696)\n",
      "\n",
      "Epoch 26/100\n"
     ]
    },
    {
     "name": "stderr",
     "output_type": "stream",
     "text": [
      "학습 중 (학습률: 0.00000417): 100%|██████████| 109/109 [00:06<00:00, 17.95it/s, loss=1.4570]\n"
     ]
    },
    {
     "name": "stdout",
     "output_type": "stream",
     "text": [
      "Train Loss: 1.4570, 현재 학습률: 0.00000417\n"
     ]
    },
    {
     "name": "stderr",
     "output_type": "stream",
     "text": [
      "평가 중: 100%|██████████| 24/24 [00:01<00:00, 17.45it/s]\n"
     ]
    },
    {
     "name": "stdout",
     "output_type": "stream",
     "text": [
      "Validation Loss: 1.4366\n",
      "Validation Macro F1: 0.3737\n",
      "모델 저장됨: best_model.pth (F1: 0.3737)\n",
      "\n",
      "Epoch 27/100\n"
     ]
    },
    {
     "name": "stderr",
     "output_type": "stream",
     "text": [
      "학습 중 (학습률: 0.00000411): 100%|██████████| 109/109 [00:06<00:00, 18.02it/s, loss=1.4510]\n"
     ]
    },
    {
     "name": "stdout",
     "output_type": "stream",
     "text": [
      "Train Loss: 1.4510, 현재 학습률: 0.00000411\n"
     ]
    },
    {
     "name": "stderr",
     "output_type": "stream",
     "text": [
      "평가 중: 100%|██████████| 24/24 [00:01<00:00, 17.34it/s]\n"
     ]
    },
    {
     "name": "stdout",
     "output_type": "stream",
     "text": [
      "Validation Loss: 1.4285\n",
      "Validation Macro F1: 0.3817\n",
      "모델 저장됨: best_model.pth (F1: 0.3817)\n",
      "\n",
      "Epoch 28/100\n"
     ]
    },
    {
     "name": "stderr",
     "output_type": "stream",
     "text": [
      "학습 중 (학습률: 0.00000406): 100%|██████████| 109/109 [00:06<00:00, 17.96it/s, loss=1.4424]\n"
     ]
    },
    {
     "name": "stdout",
     "output_type": "stream",
     "text": [
      "Train Loss: 1.4424, 현재 학습률: 0.00000406\n"
     ]
    },
    {
     "name": "stderr",
     "output_type": "stream",
     "text": [
      "평가 중: 100%|██████████| 24/24 [00:01<00:00, 17.48it/s]\n"
     ]
    },
    {
     "name": "stdout",
     "output_type": "stream",
     "text": [
      "Validation Loss: 1.4207\n",
      "Validation Macro F1: 0.3831\n",
      "모델 저장됨: best_model.pth (F1: 0.3831)\n",
      "\n",
      "Epoch 29/100\n"
     ]
    },
    {
     "name": "stderr",
     "output_type": "stream",
     "text": [
      "학습 중 (학습률: 0.00000400): 100%|██████████| 109/109 [00:06<00:00, 17.96it/s, loss=1.4359]\n"
     ]
    },
    {
     "name": "stdout",
     "output_type": "stream",
     "text": [
      "Train Loss: 1.4359, 현재 학습률: 0.00000400\n"
     ]
    },
    {
     "name": "stderr",
     "output_type": "stream",
     "text": [
      "평가 중: 100%|██████████| 24/24 [00:01<00:00, 17.34it/s]\n"
     ]
    },
    {
     "name": "stdout",
     "output_type": "stream",
     "text": [
      "Validation Loss: 1.4131\n",
      "Validation Macro F1: 0.3875\n",
      "모델 저장됨: best_model.pth (F1: 0.3875)\n",
      "\n",
      "Epoch 30/100\n"
     ]
    },
    {
     "name": "stderr",
     "output_type": "stream",
     "text": [
      "학습 중 (학습률: 0.00000394): 100%|██████████| 109/109 [00:06<00:00, 17.96it/s, loss=1.4249]\n"
     ]
    },
    {
     "name": "stdout",
     "output_type": "stream",
     "text": [
      "Train Loss: 1.4249, 현재 학습률: 0.00000394\n"
     ]
    },
    {
     "name": "stderr",
     "output_type": "stream",
     "text": [
      "평가 중: 100%|██████████| 24/24 [00:01<00:00, 17.38it/s]\n"
     ]
    },
    {
     "name": "stdout",
     "output_type": "stream",
     "text": [
      "Validation Loss: 1.4058\n",
      "Validation Macro F1: 0.3902\n",
      "모델 저장됨: best_model.pth (F1: 0.3902)\n",
      "\n",
      "Epoch 31/100\n"
     ]
    },
    {
     "name": "stderr",
     "output_type": "stream",
     "text": [
      "학습 중 (학습률: 0.00000389): 100%|██████████| 109/109 [00:06<00:00, 17.92it/s, loss=1.4212]\n"
     ]
    },
    {
     "name": "stdout",
     "output_type": "stream",
     "text": [
      "Train Loss: 1.4212, 현재 학습률: 0.00000389\n"
     ]
    },
    {
     "name": "stderr",
     "output_type": "stream",
     "text": [
      "평가 중: 100%|██████████| 24/24 [00:01<00:00, 17.38it/s]\n"
     ]
    },
    {
     "name": "stdout",
     "output_type": "stream",
     "text": [
      "Validation Loss: 1.3990\n",
      "Validation Macro F1: 0.3929\n",
      "모델 저장됨: best_model.pth (F1: 0.3929)\n",
      "\n",
      "Epoch 32/100\n"
     ]
    },
    {
     "name": "stderr",
     "output_type": "stream",
     "text": [
      "학습 중 (학습률: 0.00000383): 100%|██████████| 109/109 [00:06<00:00, 17.90it/s, loss=1.4184]\n"
     ]
    },
    {
     "name": "stdout",
     "output_type": "stream",
     "text": [
      "Train Loss: 1.4184, 현재 학습률: 0.00000383\n"
     ]
    },
    {
     "name": "stderr",
     "output_type": "stream",
     "text": [
      "평가 중: 100%|██████████| 24/24 [00:01<00:00, 17.54it/s]\n"
     ]
    },
    {
     "name": "stdout",
     "output_type": "stream",
     "text": [
      "Validation Loss: 1.3921\n",
      "Validation Macro F1: 0.3945\n",
      "모델 저장됨: best_model.pth (F1: 0.3945)\n",
      "\n",
      "Epoch 33/100\n"
     ]
    },
    {
     "name": "stderr",
     "output_type": "stream",
     "text": [
      "학습 중 (학습률: 0.00000378): 100%|██████████| 109/109 [00:06<00:00, 17.97it/s, loss=1.4087]\n"
     ]
    },
    {
     "name": "stdout",
     "output_type": "stream",
     "text": [
      "Train Loss: 1.4087, 현재 학습률: 0.00000378\n"
     ]
    },
    {
     "name": "stderr",
     "output_type": "stream",
     "text": [
      "평가 중: 100%|██████████| 24/24 [00:01<00:00, 17.39it/s]\n"
     ]
    },
    {
     "name": "stdout",
     "output_type": "stream",
     "text": [
      "Validation Loss: 1.3855\n",
      "Validation Macro F1: 0.4111\n",
      "모델 저장됨: best_model.pth (F1: 0.4111)\n",
      "\n",
      "Epoch 34/100\n"
     ]
    },
    {
     "name": "stderr",
     "output_type": "stream",
     "text": [
      "학습 중 (학습률: 0.00000372): 100%|██████████| 109/109 [00:06<00:00, 17.91it/s, loss=1.4036]\n"
     ]
    },
    {
     "name": "stdout",
     "output_type": "stream",
     "text": [
      "Train Loss: 1.4036, 현재 학습률: 0.00000372\n"
     ]
    },
    {
     "name": "stderr",
     "output_type": "stream",
     "text": [
      "평가 중: 100%|██████████| 24/24 [00:01<00:00, 17.44it/s]\n"
     ]
    },
    {
     "name": "stdout",
     "output_type": "stream",
     "text": [
      "Validation Loss: 1.3793\n",
      "Validation Macro F1: 0.4103\n",
      "성능 향상 없음: 1/10\n",
      "\n",
      "Epoch 35/100\n"
     ]
    },
    {
     "name": "stderr",
     "output_type": "stream",
     "text": [
      "학습 중 (학습률: 0.00000367): 100%|██████████| 109/109 [00:06<00:00, 17.96it/s, loss=1.3981]\n"
     ]
    },
    {
     "name": "stdout",
     "output_type": "stream",
     "text": [
      "Train Loss: 1.3981, 현재 학습률: 0.00000367\n"
     ]
    },
    {
     "name": "stderr",
     "output_type": "stream",
     "text": [
      "평가 중: 100%|██████████| 24/24 [00:01<00:00, 17.40it/s]\n"
     ]
    },
    {
     "name": "stdout",
     "output_type": "stream",
     "text": [
      "Validation Loss: 1.3730\n",
      "Validation Macro F1: 0.4107\n",
      "성능 향상 없음: 2/10\n",
      "\n",
      "Epoch 36/100\n"
     ]
    },
    {
     "name": "stderr",
     "output_type": "stream",
     "text": [
      "학습 중 (학습률: 0.00000361): 100%|██████████| 109/109 [00:06<00:00, 18.01it/s, loss=1.3936]\n"
     ]
    },
    {
     "name": "stdout",
     "output_type": "stream",
     "text": [
      "Train Loss: 1.3936, 현재 학습률: 0.00000361\n"
     ]
    },
    {
     "name": "stderr",
     "output_type": "stream",
     "text": [
      "평가 중: 100%|██████████| 24/24 [00:01<00:00, 17.41it/s]\n"
     ]
    },
    {
     "name": "stdout",
     "output_type": "stream",
     "text": [
      "Validation Loss: 1.3673\n",
      "Validation Macro F1: 0.4157\n",
      "모델 저장됨: best_model.pth (F1: 0.4157)\n",
      "\n",
      "Epoch 37/100\n"
     ]
    },
    {
     "name": "stderr",
     "output_type": "stream",
     "text": [
      "학습 중 (학습률: 0.00000356): 100%|██████████| 109/109 [00:06<00:00, 18.00it/s, loss=1.3849]\n"
     ]
    },
    {
     "name": "stdout",
     "output_type": "stream",
     "text": [
      "Train Loss: 1.3849, 현재 학습률: 0.00000356\n"
     ]
    },
    {
     "name": "stderr",
     "output_type": "stream",
     "text": [
      "평가 중: 100%|██████████| 24/24 [00:01<00:00, 17.48it/s]\n"
     ]
    },
    {
     "name": "stdout",
     "output_type": "stream",
     "text": [
      "Validation Loss: 1.3619\n",
      "Validation Macro F1: 0.4206\n",
      "모델 저장됨: best_model.pth (F1: 0.4206)\n",
      "\n",
      "Epoch 38/100\n"
     ]
    },
    {
     "name": "stderr",
     "output_type": "stream",
     "text": [
      "학습 중 (학습률: 0.00000350): 100%|██████████| 109/109 [00:06<00:00, 17.96it/s, loss=1.3821]\n"
     ]
    },
    {
     "name": "stdout",
     "output_type": "stream",
     "text": [
      "Train Loss: 1.3821, 현재 학습률: 0.00000350\n"
     ]
    },
    {
     "name": "stderr",
     "output_type": "stream",
     "text": [
      "평가 중: 100%|██████████| 24/24 [00:01<00:00, 17.30it/s]\n"
     ]
    },
    {
     "name": "stdout",
     "output_type": "stream",
     "text": [
      "Validation Loss: 1.3568\n",
      "Validation Macro F1: 0.4288\n",
      "모델 저장됨: best_model.pth (F1: 0.4288)\n",
      "\n",
      "Epoch 39/100\n"
     ]
    },
    {
     "name": "stderr",
     "output_type": "stream",
     "text": [
      "학습 중 (학습률: 0.00000344): 100%|██████████| 109/109 [00:06<00:00, 17.89it/s, loss=1.3778]\n"
     ]
    },
    {
     "name": "stdout",
     "output_type": "stream",
     "text": [
      "Train Loss: 1.3778, 현재 학습률: 0.00000344\n"
     ]
    },
    {
     "name": "stderr",
     "output_type": "stream",
     "text": [
      "평가 중: 100%|██████████| 24/24 [00:01<00:00, 17.44it/s]\n"
     ]
    },
    {
     "name": "stdout",
     "output_type": "stream",
     "text": [
      "Validation Loss: 1.3517\n",
      "Validation Macro F1: 0.4323\n",
      "모델 저장됨: best_model.pth (F1: 0.4323)\n",
      "\n",
      "Epoch 40/100\n"
     ]
    },
    {
     "name": "stderr",
     "output_type": "stream",
     "text": [
      "학습 중 (학습률: 0.00000339): 100%|██████████| 109/109 [00:06<00:00, 17.87it/s, loss=1.3744]\n"
     ]
    },
    {
     "name": "stdout",
     "output_type": "stream",
     "text": [
      "Train Loss: 1.3744, 현재 학습률: 0.00000339\n"
     ]
    },
    {
     "name": "stderr",
     "output_type": "stream",
     "text": [
      "평가 중: 100%|██████████| 24/24 [00:01<00:00, 17.33it/s]\n"
     ]
    },
    {
     "name": "stdout",
     "output_type": "stream",
     "text": [
      "Validation Loss: 1.3470\n",
      "Validation Macro F1: 0.4415\n",
      "모델 저장됨: best_model.pth (F1: 0.4415)\n",
      "\n",
      "Epoch 41/100\n"
     ]
    },
    {
     "name": "stderr",
     "output_type": "stream",
     "text": [
      "학습 중 (학습률: 0.00000333): 100%|██████████| 109/109 [00:06<00:00, 18.00it/s, loss=1.3672]\n"
     ]
    },
    {
     "name": "stdout",
     "output_type": "stream",
     "text": [
      "Train Loss: 1.3672, 현재 학습률: 0.00000333\n"
     ]
    },
    {
     "name": "stderr",
     "output_type": "stream",
     "text": [
      "평가 중: 100%|██████████| 24/24 [00:01<00:00, 17.43it/s]\n"
     ]
    },
    {
     "name": "stdout",
     "output_type": "stream",
     "text": [
      "Validation Loss: 1.3425\n",
      "Validation Macro F1: 0.4500\n",
      "모델 저장됨: best_model.pth (F1: 0.4500)\n",
      "\n",
      "Epoch 42/100\n"
     ]
    },
    {
     "name": "stderr",
     "output_type": "stream",
     "text": [
      "학습 중 (학습률: 0.00000328): 100%|██████████| 109/109 [00:06<00:00, 17.90it/s, loss=1.3608]\n"
     ]
    },
    {
     "name": "stdout",
     "output_type": "stream",
     "text": [
      "Train Loss: 1.3608, 현재 학습률: 0.00000328\n"
     ]
    },
    {
     "name": "stderr",
     "output_type": "stream",
     "text": [
      "평가 중: 100%|██████████| 24/24 [00:01<00:00, 17.46it/s]\n"
     ]
    },
    {
     "name": "stdout",
     "output_type": "stream",
     "text": [
      "Validation Loss: 1.3380\n",
      "Validation Macro F1: 0.4492\n",
      "성능 향상 없음: 1/10\n",
      "\n",
      "Epoch 43/100\n"
     ]
    },
    {
     "name": "stderr",
     "output_type": "stream",
     "text": [
      "학습 중 (학습률: 0.00000322): 100%|██████████| 109/109 [00:06<00:00, 17.95it/s, loss=1.3639]\n"
     ]
    },
    {
     "name": "stdout",
     "output_type": "stream",
     "text": [
      "Train Loss: 1.3639, 현재 학습률: 0.00000322\n"
     ]
    },
    {
     "name": "stderr",
     "output_type": "stream",
     "text": [
      "평가 중: 100%|██████████| 24/24 [00:01<00:00, 17.22it/s]\n"
     ]
    },
    {
     "name": "stdout",
     "output_type": "stream",
     "text": [
      "Validation Loss: 1.3337\n",
      "Validation Macro F1: 0.4603\n",
      "모델 저장됨: best_model.pth (F1: 0.4603)\n",
      "\n",
      "Epoch 44/100\n"
     ]
    },
    {
     "name": "stderr",
     "output_type": "stream",
     "text": [
      "학습 중 (학습률: 0.00000317): 100%|██████████| 109/109 [00:06<00:00, 17.97it/s, loss=1.3537]\n"
     ]
    },
    {
     "name": "stdout",
     "output_type": "stream",
     "text": [
      "Train Loss: 1.3537, 현재 학습률: 0.00000317\n"
     ]
    },
    {
     "name": "stderr",
     "output_type": "stream",
     "text": [
      "평가 중: 100%|██████████| 24/24 [00:01<00:00, 17.50it/s]\n"
     ]
    },
    {
     "name": "stdout",
     "output_type": "stream",
     "text": [
      "Validation Loss: 1.3299\n",
      "Validation Macro F1: 0.4516\n",
      "성능 향상 없음: 1/10\n",
      "\n",
      "Epoch 45/100\n"
     ]
    },
    {
     "name": "stderr",
     "output_type": "stream",
     "text": [
      "학습 중 (학습률: 0.00000311): 100%|██████████| 109/109 [00:06<00:00, 18.01it/s, loss=1.3483]\n"
     ]
    },
    {
     "name": "stdout",
     "output_type": "stream",
     "text": [
      "Train Loss: 1.3483, 현재 학습률: 0.00000311\n"
     ]
    },
    {
     "name": "stderr",
     "output_type": "stream",
     "text": [
      "평가 중: 100%|██████████| 24/24 [00:01<00:00, 17.44it/s]\n"
     ]
    },
    {
     "name": "stdout",
     "output_type": "stream",
     "text": [
      "Validation Loss: 1.3258\n",
      "Validation Macro F1: 0.4598\n",
      "성능 향상 없음: 2/10\n",
      "\n",
      "Epoch 46/100\n"
     ]
    },
    {
     "name": "stderr",
     "output_type": "stream",
     "text": [
      "학습 중 (학습률: 0.00000306): 100%|██████████| 109/109 [00:06<00:00, 17.99it/s, loss=1.3477]\n"
     ]
    },
    {
     "name": "stdout",
     "output_type": "stream",
     "text": [
      "Train Loss: 1.3477, 현재 학습률: 0.00000306\n"
     ]
    },
    {
     "name": "stderr",
     "output_type": "stream",
     "text": [
      "평가 중: 100%|██████████| 24/24 [00:01<00:00, 17.49it/s]\n"
     ]
    },
    {
     "name": "stdout",
     "output_type": "stream",
     "text": [
      "Validation Loss: 1.3218\n",
      "Validation Macro F1: 0.4631\n",
      "모델 저장됨: best_model.pth (F1: 0.4631)\n",
      "\n",
      "Epoch 47/100\n"
     ]
    },
    {
     "name": "stderr",
     "output_type": "stream",
     "text": [
      "학습 중 (학습률: 0.00000300): 100%|██████████| 109/109 [00:06<00:00, 17.96it/s, loss=1.3452]\n"
     ]
    },
    {
     "name": "stdout",
     "output_type": "stream",
     "text": [
      "Train Loss: 1.3452, 현재 학습률: 0.00000300\n"
     ]
    },
    {
     "name": "stderr",
     "output_type": "stream",
     "text": [
      "평가 중: 100%|██████████| 24/24 [00:01<00:00, 17.31it/s]\n"
     ]
    },
    {
     "name": "stdout",
     "output_type": "stream",
     "text": [
      "Validation Loss: 1.3182\n",
      "Validation Macro F1: 0.4616\n",
      "성능 향상 없음: 1/10\n",
      "\n",
      "Epoch 48/100\n"
     ]
    },
    {
     "name": "stderr",
     "output_type": "stream",
     "text": [
      "학습 중 (학습률: 0.00000294): 100%|██████████| 109/109 [00:06<00:00, 18.07it/s, loss=1.3420]\n"
     ]
    },
    {
     "name": "stdout",
     "output_type": "stream",
     "text": [
      "Train Loss: 1.3420, 현재 학습률: 0.00000294\n"
     ]
    },
    {
     "name": "stderr",
     "output_type": "stream",
     "text": [
      "평가 중: 100%|██████████| 24/24 [00:01<00:00, 17.40it/s]\n"
     ]
    },
    {
     "name": "stdout",
     "output_type": "stream",
     "text": [
      "Validation Loss: 1.3147\n",
      "Validation Macro F1: 0.4633\n",
      "모델 저장됨: best_model.pth (F1: 0.4633)\n",
      "\n",
      "Epoch 49/100\n"
     ]
    },
    {
     "name": "stderr",
     "output_type": "stream",
     "text": [
      "학습 중 (학습률: 0.00000289): 100%|██████████| 109/109 [00:06<00:00, 17.93it/s, loss=1.3339]\n"
     ]
    },
    {
     "name": "stdout",
     "output_type": "stream",
     "text": [
      "Train Loss: 1.3339, 현재 학습률: 0.00000289\n"
     ]
    },
    {
     "name": "stderr",
     "output_type": "stream",
     "text": [
      "평가 중: 100%|██████████| 24/24 [00:01<00:00, 17.46it/s]\n"
     ]
    },
    {
     "name": "stdout",
     "output_type": "stream",
     "text": [
      "Validation Loss: 1.3115\n",
      "Validation Macro F1: 0.4693\n",
      "모델 저장됨: best_model.pth (F1: 0.4693)\n",
      "\n",
      "Epoch 50/100\n"
     ]
    },
    {
     "name": "stderr",
     "output_type": "stream",
     "text": [
      "학습 중 (학습률: 0.00000283): 100%|██████████| 109/109 [00:06<00:00, 17.97it/s, loss=1.3317]\n"
     ]
    },
    {
     "name": "stdout",
     "output_type": "stream",
     "text": [
      "Train Loss: 1.3317, 현재 학습률: 0.00000283\n"
     ]
    },
    {
     "name": "stderr",
     "output_type": "stream",
     "text": [
      "평가 중: 100%|██████████| 24/24 [00:01<00:00, 17.31it/s]\n"
     ]
    },
    {
     "name": "stdout",
     "output_type": "stream",
     "text": [
      "Validation Loss: 1.3082\n",
      "Validation Macro F1: 0.4678\n",
      "성능 향상 없음: 1/10\n",
      "\n",
      "Epoch 51/100\n"
     ]
    },
    {
     "name": "stderr",
     "output_type": "stream",
     "text": [
      "학습 중 (학습률: 0.00000278): 100%|██████████| 109/109 [00:06<00:00, 18.02it/s, loss=1.3249]\n"
     ]
    },
    {
     "name": "stdout",
     "output_type": "stream",
     "text": [
      "Train Loss: 1.3249, 현재 학습률: 0.00000278\n"
     ]
    },
    {
     "name": "stderr",
     "output_type": "stream",
     "text": [
      "평가 중: 100%|██████████| 24/24 [00:01<00:00, 17.41it/s]\n"
     ]
    },
    {
     "name": "stdout",
     "output_type": "stream",
     "text": [
      "Validation Loss: 1.3052\n",
      "Validation Macro F1: 0.4748\n",
      "모델 저장됨: best_model.pth (F1: 0.4748)\n",
      "\n",
      "Epoch 52/100\n"
     ]
    },
    {
     "name": "stderr",
     "output_type": "stream",
     "text": [
      "학습 중 (학습률: 0.00000272): 100%|██████████| 109/109 [00:06<00:00, 17.96it/s, loss=1.3336]\n"
     ]
    },
    {
     "name": "stdout",
     "output_type": "stream",
     "text": [
      "Train Loss: 1.3336, 현재 학습률: 0.00000272\n"
     ]
    },
    {
     "name": "stderr",
     "output_type": "stream",
     "text": [
      "평가 중: 100%|██████████| 24/24 [00:01<00:00, 17.27it/s]\n"
     ]
    },
    {
     "name": "stdout",
     "output_type": "stream",
     "text": [
      "Validation Loss: 1.3021\n",
      "Validation Macro F1: 0.4728\n",
      "성능 향상 없음: 1/10\n",
      "\n",
      "Epoch 53/100\n"
     ]
    },
    {
     "name": "stderr",
     "output_type": "stream",
     "text": [
      "학습 중 (학습률: 0.00000267): 100%|██████████| 109/109 [00:06<00:00, 18.02it/s, loss=1.3263]\n"
     ]
    },
    {
     "name": "stdout",
     "output_type": "stream",
     "text": [
      "Train Loss: 1.3263, 현재 학습률: 0.00000267\n"
     ]
    },
    {
     "name": "stderr",
     "output_type": "stream",
     "text": [
      "평가 중: 100%|██████████| 24/24 [00:01<00:00, 17.31it/s]\n"
     ]
    },
    {
     "name": "stdout",
     "output_type": "stream",
     "text": [
      "Validation Loss: 1.2995\n",
      "Validation Macro F1: 0.4729\n",
      "성능 향상 없음: 2/10\n",
      "\n",
      "Epoch 54/100\n"
     ]
    },
    {
     "name": "stderr",
     "output_type": "stream",
     "text": [
      "학습 중 (학습률: 0.00000261): 100%|██████████| 109/109 [00:06<00:00, 17.95it/s, loss=1.3170]\n"
     ]
    },
    {
     "name": "stdout",
     "output_type": "stream",
     "text": [
      "Train Loss: 1.3170, 현재 학습률: 0.00000261\n"
     ]
    },
    {
     "name": "stderr",
     "output_type": "stream",
     "text": [
      "평가 중: 100%|██████████| 24/24 [00:01<00:00, 17.22it/s]\n"
     ]
    },
    {
     "name": "stdout",
     "output_type": "stream",
     "text": [
      "Validation Loss: 1.2967\n",
      "Validation Macro F1: 0.4736\n",
      "성능 향상 없음: 3/10\n",
      "\n",
      "Epoch 55/100\n"
     ]
    },
    {
     "name": "stderr",
     "output_type": "stream",
     "text": [
      "학습 중 (학습률: 0.00000256): 100%|██████████| 109/109 [00:06<00:00, 17.92it/s, loss=1.3176]\n"
     ]
    },
    {
     "name": "stdout",
     "output_type": "stream",
     "text": [
      "Train Loss: 1.3176, 현재 학습률: 0.00000256\n"
     ]
    },
    {
     "name": "stderr",
     "output_type": "stream",
     "text": [
      "평가 중: 100%|██████████| 24/24 [00:01<00:00, 17.47it/s]\n"
     ]
    },
    {
     "name": "stdout",
     "output_type": "stream",
     "text": [
      "Validation Loss: 1.2941\n",
      "Validation Macro F1: 0.4780\n",
      "모델 저장됨: best_model.pth (F1: 0.4780)\n",
      "\n",
      "Epoch 56/100\n"
     ]
    },
    {
     "name": "stderr",
     "output_type": "stream",
     "text": [
      "학습 중 (학습률: 0.00000250): 100%|██████████| 109/109 [00:06<00:00, 17.93it/s, loss=1.3163]\n"
     ]
    },
    {
     "name": "stdout",
     "output_type": "stream",
     "text": [
      "Train Loss: 1.3163, 현재 학습률: 0.00000250\n"
     ]
    },
    {
     "name": "stderr",
     "output_type": "stream",
     "text": [
      "평가 중: 100%|██████████| 24/24 [00:01<00:00, 17.39it/s]\n"
     ]
    },
    {
     "name": "stdout",
     "output_type": "stream",
     "text": [
      "Validation Loss: 1.2919\n",
      "Validation Macro F1: 0.4833\n",
      "모델 저장됨: best_model.pth (F1: 0.4833)\n",
      "\n",
      "Epoch 57/100\n"
     ]
    },
    {
     "name": "stderr",
     "output_type": "stream",
     "text": [
      "학습 중 (학습률: 0.00000244): 100%|██████████| 109/109 [00:06<00:00, 17.92it/s, loss=1.3055]\n"
     ]
    },
    {
     "name": "stdout",
     "output_type": "stream",
     "text": [
      "Train Loss: 1.3055, 현재 학습률: 0.00000244\n"
     ]
    },
    {
     "name": "stderr",
     "output_type": "stream",
     "text": [
      "평가 중: 100%|██████████| 24/24 [00:01<00:00, 17.27it/s]\n"
     ]
    },
    {
     "name": "stdout",
     "output_type": "stream",
     "text": [
      "Validation Loss: 1.2891\n",
      "Validation Macro F1: 0.4838\n",
      "모델 저장됨: best_model.pth (F1: 0.4838)\n",
      "\n",
      "Epoch 58/100\n"
     ]
    },
    {
     "name": "stderr",
     "output_type": "stream",
     "text": [
      "학습 중 (학습률: 0.00000239): 100%|██████████| 109/109 [00:06<00:00, 17.96it/s, loss=1.3100]\n"
     ]
    },
    {
     "name": "stdout",
     "output_type": "stream",
     "text": [
      "Train Loss: 1.3100, 현재 학습률: 0.00000239\n"
     ]
    },
    {
     "name": "stderr",
     "output_type": "stream",
     "text": [
      "평가 중: 100%|██████████| 24/24 [00:01<00:00, 17.46it/s]\n"
     ]
    },
    {
     "name": "stdout",
     "output_type": "stream",
     "text": [
      "Validation Loss: 1.2869\n",
      "Validation Macro F1: 0.4834\n",
      "성능 향상 없음: 1/10\n",
      "\n",
      "Epoch 59/100\n"
     ]
    },
    {
     "name": "stderr",
     "output_type": "stream",
     "text": [
      "학습 중 (학습률: 0.00000233): 100%|██████████| 109/109 [00:06<00:00, 18.03it/s, loss=1.3136]\n"
     ]
    },
    {
     "name": "stdout",
     "output_type": "stream",
     "text": [
      "Train Loss: 1.3136, 현재 학습률: 0.00000233\n"
     ]
    },
    {
     "name": "stderr",
     "output_type": "stream",
     "text": [
      "평가 중: 100%|██████████| 24/24 [00:01<00:00, 17.41it/s]\n"
     ]
    },
    {
     "name": "stdout",
     "output_type": "stream",
     "text": [
      "Validation Loss: 1.2843\n",
      "Validation Macro F1: 0.4841\n",
      "모델 저장됨: best_model.pth (F1: 0.4841)\n",
      "\n",
      "Epoch 60/100\n"
     ]
    },
    {
     "name": "stderr",
     "output_type": "stream",
     "text": [
      "학습 중 (학습률: 0.00000228): 100%|██████████| 109/109 [00:06<00:00, 18.00it/s, loss=1.3053]\n"
     ]
    },
    {
     "name": "stdout",
     "output_type": "stream",
     "text": [
      "Train Loss: 1.3053, 현재 학습률: 0.00000228\n"
     ]
    },
    {
     "name": "stderr",
     "output_type": "stream",
     "text": [
      "평가 중: 100%|██████████| 24/24 [00:01<00:00, 17.38it/s]\n"
     ]
    },
    {
     "name": "stdout",
     "output_type": "stream",
     "text": [
      "Validation Loss: 1.2822\n",
      "Validation Macro F1: 0.4837\n",
      "성능 향상 없음: 1/10\n",
      "\n",
      "Epoch 61/100\n"
     ]
    },
    {
     "name": "stderr",
     "output_type": "stream",
     "text": [
      "학습 중 (학습률: 0.00000222): 100%|██████████| 109/109 [00:06<00:00, 17.94it/s, loss=1.3006]\n"
     ]
    },
    {
     "name": "stdout",
     "output_type": "stream",
     "text": [
      "Train Loss: 1.3006, 현재 학습률: 0.00000222\n"
     ]
    },
    {
     "name": "stderr",
     "output_type": "stream",
     "text": [
      "평가 중: 100%|██████████| 24/24 [00:01<00:00, 17.45it/s]\n"
     ]
    },
    {
     "name": "stdout",
     "output_type": "stream",
     "text": [
      "Validation Loss: 1.2799\n",
      "Validation Macro F1: 0.4894\n",
      "모델 저장됨: best_model.pth (F1: 0.4894)\n",
      "\n",
      "Epoch 62/100\n"
     ]
    },
    {
     "name": "stderr",
     "output_type": "stream",
     "text": [
      "학습 중 (학습률: 0.00000217): 100%|██████████| 109/109 [00:06<00:00, 17.92it/s, loss=1.3018]\n"
     ]
    },
    {
     "name": "stdout",
     "output_type": "stream",
     "text": [
      "Train Loss: 1.3018, 현재 학습률: 0.00000217\n"
     ]
    },
    {
     "name": "stderr",
     "output_type": "stream",
     "text": [
      "평가 중: 100%|██████████| 24/24 [00:01<00:00, 17.33it/s]\n"
     ]
    },
    {
     "name": "stdout",
     "output_type": "stream",
     "text": [
      "Validation Loss: 1.2784\n",
      "Validation Macro F1: 0.4880\n",
      "성능 향상 없음: 1/10\n",
      "\n",
      "Epoch 63/100\n"
     ]
    },
    {
     "name": "stderr",
     "output_type": "stream",
     "text": [
      "학습 중 (학습률: 0.00000211): 100%|██████████| 109/109 [00:06<00:00, 18.01it/s, loss=1.2980]\n"
     ]
    },
    {
     "name": "stdout",
     "output_type": "stream",
     "text": [
      "Train Loss: 1.2980, 현재 학습률: 0.00000211\n"
     ]
    },
    {
     "name": "stderr",
     "output_type": "stream",
     "text": [
      "평가 중: 100%|██████████| 24/24 [00:01<00:00, 17.40it/s]\n"
     ]
    },
    {
     "name": "stdout",
     "output_type": "stream",
     "text": [
      "Validation Loss: 1.2764\n",
      "Validation Macro F1: 0.4880\n",
      "성능 향상 없음: 2/10\n",
      "\n",
      "Epoch 64/100\n"
     ]
    },
    {
     "name": "stderr",
     "output_type": "stream",
     "text": [
      "학습 중 (학습률: 0.00000206): 100%|██████████| 109/109 [00:06<00:00, 17.96it/s, loss=1.2988]\n"
     ]
    },
    {
     "name": "stdout",
     "output_type": "stream",
     "text": [
      "Train Loss: 1.2988, 현재 학습률: 0.00000206\n"
     ]
    },
    {
     "name": "stderr",
     "output_type": "stream",
     "text": [
      "평가 중: 100%|██████████| 24/24 [00:01<00:00, 17.40it/s]\n"
     ]
    },
    {
     "name": "stdout",
     "output_type": "stream",
     "text": [
      "Validation Loss: 1.2745\n",
      "Validation Macro F1: 0.4895\n",
      "모델 저장됨: best_model.pth (F1: 0.4895)\n",
      "\n",
      "Epoch 65/100\n"
     ]
    },
    {
     "name": "stderr",
     "output_type": "stream",
     "text": [
      "학습 중 (학습률: 0.00000200): 100%|██████████| 109/109 [00:06<00:00, 17.90it/s, loss=1.2948]\n"
     ]
    },
    {
     "name": "stdout",
     "output_type": "stream",
     "text": [
      "Train Loss: 1.2948, 현재 학습률: 0.00000200\n"
     ]
    },
    {
     "name": "stderr",
     "output_type": "stream",
     "text": [
      "평가 중: 100%|██████████| 24/24 [00:01<00:00, 17.29it/s]\n"
     ]
    },
    {
     "name": "stdout",
     "output_type": "stream",
     "text": [
      "Validation Loss: 1.2727\n",
      "Validation Macro F1: 0.4881\n",
      "성능 향상 없음: 1/10\n",
      "\n",
      "Epoch 66/100\n"
     ]
    },
    {
     "name": "stderr",
     "output_type": "stream",
     "text": [
      "학습 중 (학습률: 0.00000194): 100%|██████████| 109/109 [00:06<00:00, 17.94it/s, loss=1.3002]\n"
     ]
    },
    {
     "name": "stdout",
     "output_type": "stream",
     "text": [
      "Train Loss: 1.3002, 현재 학습률: 0.00000194\n"
     ]
    },
    {
     "name": "stderr",
     "output_type": "stream",
     "text": [
      "평가 중: 100%|██████████| 24/24 [00:01<00:00, 17.41it/s]\n"
     ]
    },
    {
     "name": "stdout",
     "output_type": "stream",
     "text": [
      "Validation Loss: 1.2714\n",
      "Validation Macro F1: 0.4900\n",
      "모델 저장됨: best_model.pth (F1: 0.4900)\n",
      "\n",
      "Epoch 67/100\n"
     ]
    },
    {
     "name": "stderr",
     "output_type": "stream",
     "text": [
      "학습 중 (학습률: 0.00000189): 100%|██████████| 109/109 [00:06<00:00, 17.94it/s, loss=1.2896]\n"
     ]
    },
    {
     "name": "stdout",
     "output_type": "stream",
     "text": [
      "Train Loss: 1.2896, 현재 학습률: 0.00000189\n"
     ]
    },
    {
     "name": "stderr",
     "output_type": "stream",
     "text": [
      "평가 중: 100%|██████████| 24/24 [00:01<00:00, 17.42it/s]\n"
     ]
    },
    {
     "name": "stdout",
     "output_type": "stream",
     "text": [
      "Validation Loss: 1.2698\n",
      "Validation Macro F1: 0.4927\n",
      "모델 저장됨: best_model.pth (F1: 0.4927)\n",
      "\n",
      "Epoch 68/100\n"
     ]
    },
    {
     "name": "stderr",
     "output_type": "stream",
     "text": [
      "학습 중 (학습률: 0.00000183): 100%|██████████| 109/109 [00:06<00:00, 17.99it/s, loss=1.2919]\n"
     ]
    },
    {
     "name": "stdout",
     "output_type": "stream",
     "text": [
      "Train Loss: 1.2919, 현재 학습률: 0.00000183\n"
     ]
    },
    {
     "name": "stderr",
     "output_type": "stream",
     "text": [
      "평가 중: 100%|██████████| 24/24 [00:01<00:00, 17.23it/s]\n"
     ]
    },
    {
     "name": "stdout",
     "output_type": "stream",
     "text": [
      "Validation Loss: 1.2683\n",
      "Validation Macro F1: 0.4983\n",
      "모델 저장됨: best_model.pth (F1: 0.4983)\n",
      "\n",
      "Epoch 69/100\n"
     ]
    },
    {
     "name": "stderr",
     "output_type": "stream",
     "text": [
      "학습 중 (학습률: 0.00000178): 100%|██████████| 109/109 [00:06<00:00, 17.96it/s, loss=1.2873]\n"
     ]
    },
    {
     "name": "stdout",
     "output_type": "stream",
     "text": [
      "Train Loss: 1.2873, 현재 학습률: 0.00000178\n"
     ]
    },
    {
     "name": "stderr",
     "output_type": "stream",
     "text": [
      "평가 중: 100%|██████████| 24/24 [00:01<00:00, 17.34it/s]\n"
     ]
    },
    {
     "name": "stdout",
     "output_type": "stream",
     "text": [
      "Validation Loss: 1.2666\n",
      "Validation Macro F1: 0.4981\n",
      "성능 향상 없음: 1/10\n",
      "\n",
      "Epoch 70/100\n"
     ]
    },
    {
     "name": "stderr",
     "output_type": "stream",
     "text": [
      "학습 중 (학습률: 0.00000172): 100%|██████████| 109/109 [00:06<00:00, 17.98it/s, loss=1.2903]\n"
     ]
    },
    {
     "name": "stdout",
     "output_type": "stream",
     "text": [
      "Train Loss: 1.2903, 현재 학습률: 0.00000172\n"
     ]
    },
    {
     "name": "stderr",
     "output_type": "stream",
     "text": [
      "평가 중: 100%|██████████| 24/24 [00:01<00:00, 17.30it/s]\n"
     ]
    },
    {
     "name": "stdout",
     "output_type": "stream",
     "text": [
      "Validation Loss: 1.2653\n",
      "Validation Macro F1: 0.4994\n",
      "모델 저장됨: best_model.pth (F1: 0.4994)\n",
      "\n",
      "Epoch 71/100\n"
     ]
    },
    {
     "name": "stderr",
     "output_type": "stream",
     "text": [
      "학습 중 (학습률: 0.00000167): 100%|██████████| 109/109 [00:06<00:00, 17.99it/s, loss=1.2883]\n"
     ]
    },
    {
     "name": "stdout",
     "output_type": "stream",
     "text": [
      "Train Loss: 1.2883, 현재 학습률: 0.00000167\n"
     ]
    },
    {
     "name": "stderr",
     "output_type": "stream",
     "text": [
      "평가 중: 100%|██████████| 24/24 [00:01<00:00, 17.35it/s]\n"
     ]
    },
    {
     "name": "stdout",
     "output_type": "stream",
     "text": [
      "Validation Loss: 1.2637\n",
      "Validation Macro F1: 0.4980\n",
      "성능 향상 없음: 1/10\n",
      "\n",
      "Epoch 72/100\n"
     ]
    },
    {
     "name": "stderr",
     "output_type": "stream",
     "text": [
      "학습 중 (학습률: 0.00000161): 100%|██████████| 109/109 [00:06<00:00, 17.96it/s, loss=1.2843]\n"
     ]
    },
    {
     "name": "stdout",
     "output_type": "stream",
     "text": [
      "Train Loss: 1.2843, 현재 학습률: 0.00000161\n"
     ]
    },
    {
     "name": "stderr",
     "output_type": "stream",
     "text": [
      "평가 중: 100%|██████████| 24/24 [00:01<00:00, 17.37it/s]\n"
     ]
    },
    {
     "name": "stdout",
     "output_type": "stream",
     "text": [
      "Validation Loss: 1.2622\n",
      "Validation Macro F1: 0.5035\n",
      "모델 저장됨: best_model.pth (F1: 0.5035)\n",
      "\n",
      "Epoch 73/100\n"
     ]
    },
    {
     "name": "stderr",
     "output_type": "stream",
     "text": [
      "학습 중 (학습률: 0.00000156): 100%|██████████| 109/109 [00:06<00:00, 17.90it/s, loss=1.2823]\n"
     ]
    },
    {
     "name": "stdout",
     "output_type": "stream",
     "text": [
      "Train Loss: 1.2823, 현재 학습률: 0.00000156\n"
     ]
    },
    {
     "name": "stderr",
     "output_type": "stream",
     "text": [
      "평가 중: 100%|██████████| 24/24 [00:01<00:00, 17.48it/s]\n"
     ]
    },
    {
     "name": "stdout",
     "output_type": "stream",
     "text": [
      "Validation Loss: 1.2610\n",
      "Validation Macro F1: 0.5006\n",
      "성능 향상 없음: 1/10\n",
      "\n",
      "Epoch 74/100\n"
     ]
    },
    {
     "name": "stderr",
     "output_type": "stream",
     "text": [
      "학습 중 (학습률: 0.00000150): 100%|██████████| 109/109 [00:06<00:00, 17.93it/s, loss=1.2756]\n"
     ]
    },
    {
     "name": "stdout",
     "output_type": "stream",
     "text": [
      "Train Loss: 1.2756, 현재 학습률: 0.00000150\n"
     ]
    },
    {
     "name": "stderr",
     "output_type": "stream",
     "text": [
      "평가 중: 100%|██████████| 24/24 [00:01<00:00, 17.25it/s]\n"
     ]
    },
    {
     "name": "stdout",
     "output_type": "stream",
     "text": [
      "Validation Loss: 1.2597\n",
      "Validation Macro F1: 0.5043\n",
      "모델 저장됨: best_model.pth (F1: 0.5043)\n",
      "\n",
      "Epoch 75/100\n"
     ]
    },
    {
     "name": "stderr",
     "output_type": "stream",
     "text": [
      "학습 중 (학습률: 0.00000144): 100%|██████████| 109/109 [00:06<00:00, 17.81it/s, loss=1.2766]\n"
     ]
    },
    {
     "name": "stdout",
     "output_type": "stream",
     "text": [
      "Train Loss: 1.2766, 현재 학습률: 0.00000144\n"
     ]
    },
    {
     "name": "stderr",
     "output_type": "stream",
     "text": [
      "평가 중: 100%|██████████| 24/24 [00:01<00:00, 17.48it/s]\n"
     ]
    },
    {
     "name": "stdout",
     "output_type": "stream",
     "text": [
      "Validation Loss: 1.2586\n",
      "Validation Macro F1: 0.5006\n",
      "성능 향상 없음: 1/10\n",
      "\n",
      "Epoch 76/100\n"
     ]
    },
    {
     "name": "stderr",
     "output_type": "stream",
     "text": [
      "학습 중 (학습률: 0.00000139): 100%|██████████| 109/109 [00:06<00:00, 17.96it/s, loss=1.2780]\n"
     ]
    },
    {
     "name": "stdout",
     "output_type": "stream",
     "text": [
      "Train Loss: 1.2780, 현재 학습률: 0.00000139\n"
     ]
    },
    {
     "name": "stderr",
     "output_type": "stream",
     "text": [
      "평가 중: 100%|██████████| 24/24 [00:01<00:00, 17.46it/s]\n"
     ]
    },
    {
     "name": "stdout",
     "output_type": "stream",
     "text": [
      "Validation Loss: 1.2572\n",
      "Validation Macro F1: 0.5078\n",
      "모델 저장됨: best_model.pth (F1: 0.5078)\n",
      "\n",
      "Epoch 77/100\n"
     ]
    },
    {
     "name": "stderr",
     "output_type": "stream",
     "text": [
      "학습 중 (학습률: 0.00000133): 100%|██████████| 109/109 [00:06<00:00, 17.94it/s, loss=1.2800]\n"
     ]
    },
    {
     "name": "stdout",
     "output_type": "stream",
     "text": [
      "Train Loss: 1.2800, 현재 학습률: 0.00000133\n"
     ]
    },
    {
     "name": "stderr",
     "output_type": "stream",
     "text": [
      "평가 중: 100%|██████████| 24/24 [00:01<00:00, 17.28it/s]\n"
     ]
    },
    {
     "name": "stdout",
     "output_type": "stream",
     "text": [
      "Validation Loss: 1.2565\n",
      "Validation Macro F1: 0.5082\n",
      "모델 저장됨: best_model.pth (F1: 0.5082)\n",
      "\n",
      "Epoch 78/100\n"
     ]
    },
    {
     "name": "stderr",
     "output_type": "stream",
     "text": [
      "학습 중 (학습률: 0.00000128): 100%|██████████| 109/109 [00:06<00:00, 17.96it/s, loss=1.2769]\n"
     ]
    },
    {
     "name": "stdout",
     "output_type": "stream",
     "text": [
      "Train Loss: 1.2769, 현재 학습률: 0.00000128\n"
     ]
    },
    {
     "name": "stderr",
     "output_type": "stream",
     "text": [
      "평가 중: 100%|██████████| 24/24 [00:01<00:00, 17.47it/s]\n"
     ]
    },
    {
     "name": "stdout",
     "output_type": "stream",
     "text": [
      "Validation Loss: 1.2553\n",
      "Validation Macro F1: 0.5078\n",
      "성능 향상 없음: 1/10\n",
      "\n",
      "Epoch 79/100\n"
     ]
    },
    {
     "name": "stderr",
     "output_type": "stream",
     "text": [
      "학습 중 (학습률: 0.00000122): 100%|██████████| 109/109 [00:06<00:00, 18.02it/s, loss=1.2766]\n"
     ]
    },
    {
     "name": "stdout",
     "output_type": "stream",
     "text": [
      "Train Loss: 1.2766, 현재 학습률: 0.00000122\n"
     ]
    },
    {
     "name": "stderr",
     "output_type": "stream",
     "text": [
      "평가 중: 100%|██████████| 24/24 [00:01<00:00, 17.36it/s]\n"
     ]
    },
    {
     "name": "stdout",
     "output_type": "stream",
     "text": [
      "Validation Loss: 1.2542\n",
      "Validation Macro F1: 0.5083\n",
      "모델 저장됨: best_model.pth (F1: 0.5083)\n",
      "\n",
      "Epoch 80/100\n"
     ]
    },
    {
     "name": "stderr",
     "output_type": "stream",
     "text": [
      "학습 중 (학습률: 0.00000117): 100%|██████████| 109/109 [00:06<00:00, 17.93it/s, loss=1.2780]\n"
     ]
    },
    {
     "name": "stdout",
     "output_type": "stream",
     "text": [
      "Train Loss: 1.2780, 현재 학습률: 0.00000117\n"
     ]
    },
    {
     "name": "stderr",
     "output_type": "stream",
     "text": [
      "평가 중: 100%|██████████| 24/24 [00:01<00:00, 17.31it/s]\n"
     ]
    },
    {
     "name": "stdout",
     "output_type": "stream",
     "text": [
      "Validation Loss: 1.2535\n",
      "Validation Macro F1: 0.5071\n",
      "성능 향상 없음: 1/10\n",
      "\n",
      "Epoch 81/100\n"
     ]
    },
    {
     "name": "stderr",
     "output_type": "stream",
     "text": [
      "학습 중 (학습률: 0.00000111): 100%|██████████| 109/109 [00:06<00:00, 17.97it/s, loss=1.2744]\n"
     ]
    },
    {
     "name": "stdout",
     "output_type": "stream",
     "text": [
      "Train Loss: 1.2744, 현재 학습률: 0.00000111\n"
     ]
    },
    {
     "name": "stderr",
     "output_type": "stream",
     "text": [
      "평가 중: 100%|██████████| 24/24 [00:01<00:00, 17.44it/s]\n"
     ]
    },
    {
     "name": "stdout",
     "output_type": "stream",
     "text": [
      "Validation Loss: 1.2525\n",
      "Validation Macro F1: 0.5103\n",
      "모델 저장됨: best_model.pth (F1: 0.5103)\n",
      "\n",
      "Epoch 82/100\n"
     ]
    },
    {
     "name": "stderr",
     "output_type": "stream",
     "text": [
      "학습 중 (학습률: 0.00000106): 100%|██████████| 109/109 [00:06<00:00, 17.93it/s, loss=1.2742]\n"
     ]
    },
    {
     "name": "stdout",
     "output_type": "stream",
     "text": [
      "Train Loss: 1.2742, 현재 학습률: 0.00000106\n"
     ]
    },
    {
     "name": "stderr",
     "output_type": "stream",
     "text": [
      "평가 중: 100%|██████████| 24/24 [00:01<00:00, 17.45it/s]\n"
     ]
    },
    {
     "name": "stdout",
     "output_type": "stream",
     "text": [
      "Validation Loss: 1.2519\n",
      "Validation Macro F1: 0.5103\n",
      "성능 향상 없음: 1/10\n",
      "\n",
      "Epoch 83/100\n"
     ]
    },
    {
     "name": "stderr",
     "output_type": "stream",
     "text": [
      "학습 중 (학습률: 0.00000100): 100%|██████████| 109/109 [00:06<00:00, 18.00it/s, loss=1.2723]\n"
     ]
    },
    {
     "name": "stdout",
     "output_type": "stream",
     "text": [
      "Train Loss: 1.2723, 현재 학습률: 0.00000100\n"
     ]
    },
    {
     "name": "stderr",
     "output_type": "stream",
     "text": [
      "평가 중: 100%|██████████| 24/24 [00:01<00:00, 17.34it/s]\n"
     ]
    },
    {
     "name": "stdout",
     "output_type": "stream",
     "text": [
      "Validation Loss: 1.2511\n",
      "Validation Macro F1: 0.5106\n",
      "모델 저장됨: best_model.pth (F1: 0.5106)\n",
      "\n",
      "Epoch 84/100\n"
     ]
    },
    {
     "name": "stderr",
     "output_type": "stream",
     "text": [
      "학습 중 (학습률: 0.00000094): 100%|██████████| 109/109 [00:06<00:00, 17.95it/s, loss=1.2736]\n"
     ]
    },
    {
     "name": "stdout",
     "output_type": "stream",
     "text": [
      "Train Loss: 1.2736, 현재 학습률: 0.00000094\n"
     ]
    },
    {
     "name": "stderr",
     "output_type": "stream",
     "text": [
      "평가 중: 100%|██████████| 24/24 [00:01<00:00, 17.43it/s]\n"
     ]
    },
    {
     "name": "stdout",
     "output_type": "stream",
     "text": [
      "Validation Loss: 1.2505\n",
      "Validation Macro F1: 0.5105\n",
      "성능 향상 없음: 1/10\n",
      "\n",
      "Epoch 85/100\n"
     ]
    },
    {
     "name": "stderr",
     "output_type": "stream",
     "text": [
      "학습 중 (학습률: 0.00000089): 100%|██████████| 109/109 [00:06<00:00, 17.97it/s, loss=1.2754]\n"
     ]
    },
    {
     "name": "stdout",
     "output_type": "stream",
     "text": [
      "Train Loss: 1.2754, 현재 학습률: 0.00000089\n"
     ]
    },
    {
     "name": "stderr",
     "output_type": "stream",
     "text": [
      "평가 중: 100%|██████████| 24/24 [00:01<00:00, 17.39it/s]\n"
     ]
    },
    {
     "name": "stdout",
     "output_type": "stream",
     "text": [
      "Validation Loss: 1.2500\n",
      "Validation Macro F1: 0.5122\n",
      "모델 저장됨: best_model.pth (F1: 0.5122)\n",
      "\n",
      "Epoch 86/100\n"
     ]
    },
    {
     "name": "stderr",
     "output_type": "stream",
     "text": [
      "학습 중 (학습률: 0.00000083): 100%|██████████| 109/109 [00:06<00:00, 17.98it/s, loss=1.2773]\n"
     ]
    },
    {
     "name": "stdout",
     "output_type": "stream",
     "text": [
      "Train Loss: 1.2773, 현재 학습률: 0.00000083\n"
     ]
    },
    {
     "name": "stderr",
     "output_type": "stream",
     "text": [
      "평가 중: 100%|██████████| 24/24 [00:01<00:00, 17.40it/s]\n"
     ]
    },
    {
     "name": "stdout",
     "output_type": "stream",
     "text": [
      "Validation Loss: 1.2494\n",
      "Validation Macro F1: 0.5122\n",
      "성능 향상 없음: 1/10\n",
      "\n",
      "Epoch 87/100\n"
     ]
    },
    {
     "name": "stderr",
     "output_type": "stream",
     "text": [
      "학습 중 (학습률: 0.00000078): 100%|██████████| 109/109 [00:06<00:00, 18.03it/s, loss=1.2704]\n"
     ]
    },
    {
     "name": "stdout",
     "output_type": "stream",
     "text": [
      "Train Loss: 1.2704, 현재 학습률: 0.00000078\n"
     ]
    },
    {
     "name": "stderr",
     "output_type": "stream",
     "text": [
      "평가 중: 100%|██████████| 24/24 [00:01<00:00, 17.39it/s]\n"
     ]
    },
    {
     "name": "stdout",
     "output_type": "stream",
     "text": [
      "Validation Loss: 1.2489\n",
      "Validation Macro F1: 0.5138\n",
      "모델 저장됨: best_model.pth (F1: 0.5138)\n",
      "\n",
      "Epoch 88/100\n"
     ]
    },
    {
     "name": "stderr",
     "output_type": "stream",
     "text": [
      "학습 중 (학습률: 0.00000072): 100%|██████████| 109/109 [00:06<00:00, 17.95it/s, loss=1.2695]\n"
     ]
    },
    {
     "name": "stdout",
     "output_type": "stream",
     "text": [
      "Train Loss: 1.2695, 현재 학습률: 0.00000072\n"
     ]
    },
    {
     "name": "stderr",
     "output_type": "stream",
     "text": [
      "평가 중: 100%|██████████| 24/24 [00:01<00:00, 17.36it/s]\n"
     ]
    },
    {
     "name": "stdout",
     "output_type": "stream",
     "text": [
      "Validation Loss: 1.2484\n",
      "Validation Macro F1: 0.5138\n",
      "성능 향상 없음: 1/10\n",
      "\n",
      "Epoch 89/100\n"
     ]
    },
    {
     "name": "stderr",
     "output_type": "stream",
     "text": [
      "학습 중 (학습률: 0.00000067): 100%|██████████| 109/109 [00:06<00:00, 17.99it/s, loss=1.2718]\n"
     ]
    },
    {
     "name": "stdout",
     "output_type": "stream",
     "text": [
      "Train Loss: 1.2718, 현재 학습률: 0.00000067\n"
     ]
    },
    {
     "name": "stderr",
     "output_type": "stream",
     "text": [
      "평가 중: 100%|██████████| 24/24 [00:01<00:00, 16.96it/s]\n"
     ]
    },
    {
     "name": "stdout",
     "output_type": "stream",
     "text": [
      "Validation Loss: 1.2475\n",
      "Validation Macro F1: 0.5125\n",
      "성능 향상 없음: 2/10\n",
      "\n",
      "Epoch 90/100\n"
     ]
    },
    {
     "name": "stderr",
     "output_type": "stream",
     "text": [
      "학습 중 (학습률: 0.00000061): 100%|██████████| 109/109 [00:06<00:00, 17.94it/s, loss=1.2677]\n"
     ]
    },
    {
     "name": "stdout",
     "output_type": "stream",
     "text": [
      "Train Loss: 1.2677, 현재 학습률: 0.00000061\n"
     ]
    },
    {
     "name": "stderr",
     "output_type": "stream",
     "text": [
      "평가 중: 100%|██████████| 24/24 [00:01<00:00, 17.38it/s]\n"
     ]
    },
    {
     "name": "stdout",
     "output_type": "stream",
     "text": [
      "Validation Loss: 1.2470\n",
      "Validation Macro F1: 0.5113\n",
      "성능 향상 없음: 3/10\n",
      "\n",
      "Epoch 91/100\n"
     ]
    },
    {
     "name": "stderr",
     "output_type": "stream",
     "text": [
      "학습 중 (학습률: 0.00000056): 100%|██████████| 109/109 [00:06<00:00, 17.91it/s, loss=1.2687]\n"
     ]
    },
    {
     "name": "stdout",
     "output_type": "stream",
     "text": [
      "Train Loss: 1.2687, 현재 학습률: 0.00000056\n"
     ]
    },
    {
     "name": "stderr",
     "output_type": "stream",
     "text": [
      "평가 중: 100%|██████████| 24/24 [00:01<00:00, 17.43it/s]\n"
     ]
    },
    {
     "name": "stdout",
     "output_type": "stream",
     "text": [
      "Validation Loss: 1.2466\n",
      "Validation Macro F1: 0.5113\n",
      "성능 향상 없음: 4/10\n",
      "\n",
      "Epoch 92/100\n"
     ]
    },
    {
     "name": "stderr",
     "output_type": "stream",
     "text": [
      "학습 중 (학습률: 0.00000050): 100%|██████████| 109/109 [00:06<00:00, 17.94it/s, loss=1.2704]\n"
     ]
    },
    {
     "name": "stdout",
     "output_type": "stream",
     "text": [
      "Train Loss: 1.2704, 현재 학습률: 0.00000050\n"
     ]
    },
    {
     "name": "stderr",
     "output_type": "stream",
     "text": [
      "평가 중: 100%|██████████| 24/24 [00:01<00:00, 17.29it/s]\n"
     ]
    },
    {
     "name": "stdout",
     "output_type": "stream",
     "text": [
      "Validation Loss: 1.2463\n",
      "Validation Macro F1: 0.5113\n",
      "성능 향상 없음: 5/10\n",
      "\n",
      "Epoch 93/100\n"
     ]
    },
    {
     "name": "stderr",
     "output_type": "stream",
     "text": [
      "학습 중 (학습률: 0.00000044): 100%|██████████| 109/109 [00:06<00:00, 17.93it/s, loss=1.2677]\n"
     ]
    },
    {
     "name": "stdout",
     "output_type": "stream",
     "text": [
      "Train Loss: 1.2677, 현재 학습률: 0.00000044\n"
     ]
    },
    {
     "name": "stderr",
     "output_type": "stream",
     "text": [
      "평가 중: 100%|██████████| 24/24 [00:01<00:00, 17.33it/s]\n"
     ]
    },
    {
     "name": "stdout",
     "output_type": "stream",
     "text": [
      "Validation Loss: 1.2460\n",
      "Validation Macro F1: 0.5112\n",
      "성능 향상 없음: 6/10\n",
      "\n",
      "Epoch 94/100\n"
     ]
    },
    {
     "name": "stderr",
     "output_type": "stream",
     "text": [
      "학습 중 (학습률: 0.00000039): 100%|██████████| 109/109 [00:06<00:00, 17.93it/s, loss=1.2688]\n"
     ]
    },
    {
     "name": "stdout",
     "output_type": "stream",
     "text": [
      "Train Loss: 1.2688, 현재 학습률: 0.00000039\n"
     ]
    },
    {
     "name": "stderr",
     "output_type": "stream",
     "text": [
      "평가 중: 100%|██████████| 24/24 [00:01<00:00, 17.31it/s]\n"
     ]
    },
    {
     "name": "stdout",
     "output_type": "stream",
     "text": [
      "Validation Loss: 1.2457\n",
      "Validation Macro F1: 0.5113\n",
      "성능 향상 없음: 7/10\n",
      "\n",
      "Epoch 95/100\n"
     ]
    },
    {
     "name": "stderr",
     "output_type": "stream",
     "text": [
      "학습 중 (학습률: 0.00000033): 100%|██████████| 109/109 [00:06<00:00, 17.99it/s, loss=1.2667]\n"
     ]
    },
    {
     "name": "stdout",
     "output_type": "stream",
     "text": [
      "Train Loss: 1.2667, 현재 학습률: 0.00000033\n"
     ]
    },
    {
     "name": "stderr",
     "output_type": "stream",
     "text": [
      "평가 중: 100%|██████████| 24/24 [00:01<00:00, 17.32it/s]\n"
     ]
    },
    {
     "name": "stdout",
     "output_type": "stream",
     "text": [
      "Validation Loss: 1.2456\n",
      "Validation Macro F1: 0.5113\n",
      "성능 향상 없음: 8/10\n",
      "\n",
      "Epoch 96/100\n"
     ]
    },
    {
     "name": "stderr",
     "output_type": "stream",
     "text": [
      "학습 중 (학습률: 0.00000028): 100%|██████████| 109/109 [00:06<00:00, 17.93it/s, loss=1.2720]\n"
     ]
    },
    {
     "name": "stdout",
     "output_type": "stream",
     "text": [
      "Train Loss: 1.2720, 현재 학습률: 0.00000028\n"
     ]
    },
    {
     "name": "stderr",
     "output_type": "stream",
     "text": [
      "평가 중: 100%|██████████| 24/24 [00:01<00:00, 17.42it/s]\n"
     ]
    },
    {
     "name": "stdout",
     "output_type": "stream",
     "text": [
      "Validation Loss: 1.2454\n",
      "Validation Macro F1: 0.5113\n",
      "성능 향상 없음: 9/10\n",
      "\n",
      "Epoch 97/100\n"
     ]
    },
    {
     "name": "stderr",
     "output_type": "stream",
     "text": [
      "학습 중 (학습률: 0.00000022): 100%|██████████| 109/109 [00:06<00:00, 17.96it/s, loss=1.2632]\n"
     ]
    },
    {
     "name": "stdout",
     "output_type": "stream",
     "text": [
      "Train Loss: 1.2632, 현재 학습률: 0.00000022\n"
     ]
    },
    {
     "name": "stderr",
     "output_type": "stream",
     "text": [
      "평가 중: 100%|██████████| 24/24 [00:01<00:00, 17.32it/s]\n"
     ]
    },
    {
     "name": "stdout",
     "output_type": "stream",
     "text": [
      "Validation Loss: 1.2453\n",
      "Validation Macro F1: 0.5113\n",
      "성능 향상 없음: 10/10\n",
      "\n",
      "Early Stopping! 10번의 에폭 동안 성능 향상 없음.\n"
     ]
    },
    {
     "name": "stderr",
     "output_type": "stream",
     "text": [
      "평가 중: 100%|██████████| 24/24 [00:01<00:00, 16.86it/s]\n"
     ]
    },
    {
     "name": "stdout",
     "output_type": "stream",
     "text": [
      "\n",
      "테스트 결과:\n",
      "Test Loss: 1.2149\n",
      "Test Macro F1: 0.4708\n",
      "\n",
      "분류 보고서:\n",
      "              precision    recall  f1-score   support\n",
      "\n",
      "       협박 대화       0.50      0.26      0.34       134\n",
      "       갈취 대화       0.52      0.40      0.45       146\n",
      " 직장 내 괴롭힘 대화       0.42      0.34      0.38       145\n",
      "   기타 괴롭힘 대화       0.40      0.47      0.43       152\n",
      "       일반 대화       0.61      0.97      0.75       169\n",
      "\n",
      "    accuracy                           0.51       746\n",
      "   macro avg       0.49      0.49      0.47       746\n",
      "weighted avg       0.49      0.51      0.48       746\n",
      "\n",
      "W: Skipping acquire of configured file 'main/source/Sources' as repository 'https://r2u.stat.illinois.edu/ubuntu jammy InRelease' does not seem to provide it (sources.list entry misspelt?)\n"
     ]
    },
    {
     "name": "stderr",
     "output_type": "stream",
     "text": [
      "Some weights of ElectraForSequenceClassification were not initialized from the model checkpoint at monologg/koelectra-base-v3-discriminator and are newly initialized: ['classifier.dense.bias', 'classifier.dense.weight', 'classifier.out_proj.bias', 'classifier.out_proj.weight']\n",
      "You should probably TRAIN this model on a down-stream task to be able to use it for predictions and inference.\n",
      "테스트 예측 중: 100%|██████████| 16/16 [00:01<00:00, 15.33it/s]\n"
     ]
    },
    {
     "name": "stdout",
     "output_type": "stream",
     "text": [
      "제출 파일 생성 완료: submission.csv\n"
     ]
    }
   ],
   "source": [
    "# 필요한 라이브러리 설치\n",
    "!pip install transformers pandas scikit-learn\n",
    "!pip install torch\n",
    "\n",
    "import os\n",
    "import numpy as np\n",
    "import pandas as pd\n",
    "from sklearn.model_selection import train_test_split\n",
    "from sklearn.metrics import classification_report, f1_score, confusion_matrix\n",
    "import torch\n",
    "from torch.utils.data import Dataset, DataLoader\n",
    "from transformers import ElectraTokenizer, ElectraForSequenceClassification\n",
    "from transformers import get_linear_schedule_with_warmup\n",
    "from torch.optim import AdamW\n",
    "from tqdm import tqdm\n",
    "import random\n",
    "import matplotlib.pyplot as plt\n",
    "import seaborn as sns\n",
    "\n",
    "# 시드 고정\n",
    "def set_seed(seed_value=42):\n",
    "    random.seed(seed_value)\n",
    "    np.random.seed(seed_value)\n",
    "    torch.manual_seed(seed_value)\n",
    "    torch.cuda.manual_seed_all(seed_value)\n",
    "    torch.backends.cudnn.deterministic = True\n",
    "\n",
    "set_seed(42)\n",
    "\n",
    "# 설정값\n",
    "MODEL_NAME = \"monologg/koelectra-base-v3-discriminator\"\n",
    "MAX_LEN = 128\n",
    "BATCH_SIZE = 32\n",
    "EPOCHS = 100  # 에폭 100으로 설정\n",
    "EARLY_STOPPING_PATIENCE = 10  # Early Stopping 인내심 증가\n",
    "LEARNING_RATE = 5e-6  # 학습률 낮춤\n",
    "TRAIN_FILE = \"data/train_preprocessed_1.csv\"\n",
    "TEXT_COL = \"text\"\n",
    "LABEL_COL = \"class\"\n",
    "LABEL_DICT = {'협박 대화': 0, '갈취 대화': 1, '직장 내 괴롭힘 대화': 2, '기타 괴롭힘 대화': 3, '일반 대화': 4}\n",
    "ID_TO_LABEL = {v: k for k, v in LABEL_DICT.items()}\n",
    "GPU_NUM = 0\n",
    "TEST_FILE = \"data/test.csv\"\n",
    "\n",
    "# 1. 데이터 로드 및 전처리\n",
    "print(\"데이터 로드 중...\")\n",
    "df = pd.read_csv(TRAIN_FILE)\n",
    "\n",
    "# 라벨 매핑\n",
    "df[LABEL_COL] = df[LABEL_COL].map(LABEL_DICT)\n",
    "\n",
    "# 데이터 분할\n",
    "train_df, temp_df = train_test_split(df, test_size=0.3, random_state=42, stratify=df[LABEL_COL])\n",
    "val_df, test_df = train_test_split(temp_df, test_size=0.5, random_state=42, stratify=temp_df[LABEL_COL])\n",
    "\n",
    "print(f\"학습 데이터 크기: {len(train_df)}\")\n",
    "print(f\"검증 데이터 크기: {len(val_df)}\")\n",
    "print(f\"테스트 데이터 크기: {len(test_df)}\")\n",
    "\n",
    "# 클래스별 데이터 개수 확인\n",
    "print(\"학습 데이터의 클래스 분포:\")\n",
    "print(train_df[LABEL_COL].value_counts())\n",
    "\n",
    "# 2. Dataset 클래스 정의\n",
    "class TextClassificationDataset(Dataset):\n",
    "    def __init__(self, texts, labels, tokenizer, max_len):\n",
    "        self.texts = texts\n",
    "        self.labels = labels\n",
    "        self.tokenizer = tokenizer\n",
    "        self.max_len = max_len\n",
    "\n",
    "    def __len__(self):\n",
    "        return len(self.texts)\n",
    "\n",
    "    def __getitem__(self, idx):\n",
    "        text = str(self.texts[idx])\n",
    "        label = self.labels[idx]\n",
    "\n",
    "        encoding = self.tokenizer.encode_plus(\n",
    "            text,\n",
    "            add_special_tokens=True,\n",
    "            max_length=self.max_len,\n",
    "            return_token_type_ids=True,\n",
    "            padding='max_length',\n",
    "            truncation=True,\n",
    "            return_attention_mask=True,\n",
    "            return_tensors='pt'\n",
    "        )\n",
    "\n",
    "        return {\n",
    "            'text': text,\n",
    "            'input_ids': encoding['input_ids'].flatten(),\n",
    "            'attention_mask': encoding['attention_mask'].flatten(),\n",
    "            'token_type_ids': encoding['token_type_ids'].flatten(),\n",
    "            'labels': torch.tensor(label, dtype=torch.long)\n",
    "        }\n",
    "\n",
    "# 3. 데이터 로더 생성\n",
    "def create_data_loader(df, tokenizer, max_len, batch_size):\n",
    "    dataset = TextClassificationDataset(\n",
    "        texts=df[TEXT_COL].values,\n",
    "        labels=df[LABEL_COL].values,\n",
    "        tokenizer=tokenizer,\n",
    "        max_len=max_len\n",
    "    )\n",
    "\n",
    "    return DataLoader(\n",
    "        dataset,\n",
    "        batch_size=batch_size,\n",
    "        num_workers=2\n",
    "    )\n",
    "\n",
    "# 4. 토크나이저 및 모델 로드\n",
    "print(f\"모델 '{MODEL_NAME}' 로드 중...\")\n",
    "tokenizer = ElectraTokenizer.from_pretrained(MODEL_NAME)\n",
    "model = ElectraForSequenceClassification.from_pretrained(MODEL_NAME, num_labels=len(LABEL_DICT))\n",
    "\n",
    "# ELECTRA 인코더 부분 freeze\n",
    "for param in model.electra.parameters():\n",
    "    param.requires_grad = False\n",
    "\n",
    "# classifier 부분만 학습 가능하게 설정\n",
    "for param in model.classifier.parameters():\n",
    "    param.requires_grad = True\n",
    "\n",
    "# 학습 가능한 파라미터 확인 (디버깅용)\n",
    "trainable_params = 0\n",
    "all_param = 0\n",
    "for name, param in model.named_parameters():\n",
    "    all_param += param.numel()\n",
    "    if param.requires_grad:\n",
    "        trainable_params += param.numel()\n",
    "        print(f\"✅ 학습 대상: {name}\")\n",
    "print(f\"🔢 학습 대상 파라미터 수: {trainable_params:,} / 전체 파라미터 수: {all_param:,} ({trainable_params/all_param:.2%})\")\n",
    "\n",
    "# 5. 데이터 로더 생성\n",
    "train_data_loader = create_data_loader(train_df, tokenizer, MAX_LEN, BATCH_SIZE)\n",
    "val_data_loader = create_data_loader(val_df, tokenizer, MAX_LEN, BATCH_SIZE)\n",
    "test_data_loader = create_data_loader(test_df, tokenizer, MAX_LEN, BATCH_SIZE)\n",
    "\n",
    "# 6. 모델 학습 함수 (학습률 표시 추가)\n",
    "def train_model(model, data_loader, optimizer, scheduler, device, current_lr):\n",
    "    model.train()\n",
    "    losses = []\n",
    "\n",
    "    progress_bar = tqdm(data_loader, desc=f\"학습 중 (학습률: {current_lr:.8f})\")\n",
    "\n",
    "    for batch in progress_bar:\n",
    "        optimizer.zero_grad()\n",
    "\n",
    "        input_ids = batch['input_ids'].to(device)\n",
    "        attention_mask = batch['attention_mask'].to(device)\n",
    "        token_type_ids = batch['token_type_ids'].to(device)\n",
    "        labels = batch['labels'].to(device)\n",
    "\n",
    "        outputs = model(\n",
    "            input_ids=input_ids,\n",
    "            attention_mask=attention_mask,\n",
    "            token_type_ids=token_type_ids,\n",
    "            labels=labels\n",
    "        )\n",
    "\n",
    "        loss = outputs.loss\n",
    "        loss.backward()\n",
    "\n",
    "        torch.nn.utils.clip_grad_norm_(model.parameters(), max_norm=1.0)\n",
    "\n",
    "        optimizer.step()\n",
    "        scheduler.step()\n",
    "\n",
    "        losses.append(loss.item())\n",
    "        progress_bar.set_postfix({\"loss\": f\"{np.mean(losses):.4f}\"})\n",
    "\n",
    "    return np.mean(losses)\n",
    "\n",
    "# 7. 모델 평가 함수\n",
    "def evaluate_model(model, data_loader, device):\n",
    "    model.eval()\n",
    "    losses = []\n",
    "    predictions = []\n",
    "    real_labels = []\n",
    "\n",
    "    with torch.no_grad():\n",
    "        for batch in tqdm(data_loader, desc=\"평가 중\"):\n",
    "            input_ids = batch['input_ids'].to(device)\n",
    "            attention_mask = batch['attention_mask'].to(device)\n",
    "            token_type_ids = batch['token_type_ids'].to(device)\n",
    "            labels = batch['labels'].to(device)\n",
    "\n",
    "            outputs = model(\n",
    "                input_ids=input_ids,\n",
    "                attention_mask=attention_mask,\n",
    "                token_type_ids=token_type_ids,\n",
    "                labels=labels\n",
    "            )\n",
    "\n",
    "            _, preds = torch.max(outputs.logits, dim=1)\n",
    "\n",
    "            losses.append(outputs.loss.item())\n",
    "            predictions.extend(preds.detach().cpu().numpy())\n",
    "            real_labels.extend(labels.detach().cpu().numpy())\n",
    "\n",
    "    return np.mean(losses), predictions, real_labels\n",
    "\n",
    "# 8. 테스트 세트 예측 함수\n",
    "def predict_test(model, data_loader, device):\n",
    "    model.eval()\n",
    "    predictions = []\n",
    "\n",
    "    with torch.no_grad():\n",
    "        for batch in tqdm(data_loader, desc=\"테스트 예측 중\"):\n",
    "            input_ids = batch['input_ids'].to(device)\n",
    "            attention_mask = batch['attention_mask'].to(device)\n",
    "            token_type_ids = batch['token_type_ids'].to(device)\n",
    "\n",
    "            outputs = model(\n",
    "                input_ids=input_ids,\n",
    "                attention_mask=attention_mask,\n",
    "                token_type_ids=token_type_ids\n",
    "            )\n",
    "\n",
    "            _, preds = torch.max(outputs.logits, dim=1)\n",
    "            predictions.extend(preds.detach().cpu().numpy())\n",
    "\n",
    "    return predictions\n",
    "\n",
    "# 9. 혼동 행렬 시각화 함수\n",
    "def plot_confusion_matrix(cm, classes):\n",
    "    # 한글 폰트 설정\n",
    "    import matplotlib.font_manager as fm\n",
    "\n",
    "    try:\n",
    "        # 방법 1: 나눔 글꼴 설치 및 사용\n",
    "        !apt-get update -qq\n",
    "        !apt-get install fonts-nanum -qq\n",
    "        plt.rc('font', family='NanumGothic')\n",
    "    except:\n",
    "        try:\n",
    "            # 방법 2: 한글 레이블을 영어로 변환\n",
    "            classes = ['Threat', 'Extortion', 'Workplace Harassment', 'Other Harassment', 'Normal Conversation']\n",
    "        except:\n",
    "            pass\n",
    "\n",
    "    plt.figure(figsize=(10, 8))\n",
    "    sns.heatmap(cm, annot=True, fmt='d', cmap='Blues', xticklabels=classes, yticklabels=classes)\n",
    "    plt.xlabel('예측값')\n",
    "    plt.ylabel('실제값')\n",
    "    plt.title('혼동 행렬')\n",
    "    plt.savefig('confusion_matrix.png')\n",
    "    plt.close()\n",
    "\n",
    "# 10. 학습 메인 함수\n",
    "def train():\n",
    "    # GPU 사용 설정\n",
    "    device = torch.device(f\"cuda:{GPU_NUM}\" if torch.cuda.is_available() else \"cpu\")\n",
    "    print(f\"사용 중인 디바이스: {device}\")\n",
    "    model.to(device)\n",
    "\n",
    "    # 옵티마이저 및 스케줄러 설정\n",
    "    optimizer = AdamW(model.parameters(), lr=LEARNING_RATE)\n",
    "\n",
    "    # Warmup 비율 설정 (전체 훈련 스텝의 10%)\n",
    "    warmup_ratio = 0.1\n",
    "    total_steps = len(train_data_loader) * EPOCHS\n",
    "    warmup_steps = int(total_steps * warmup_ratio)\n",
    "\n",
    "    scheduler = get_linear_schedule_with_warmup(\n",
    "        optimizer,\n",
    "        num_warmup_steps=warmup_steps,\n",
    "        num_training_steps=total_steps\n",
    "    )\n",
    "\n",
    "    # 학습 시작\n",
    "    best_val_f1 = 0\n",
    "    patience_counter = 0  # Early Stopping을 위한 카운터\n",
    "\n",
    "    # 에폭별 F1 점수 및 손실 기록\n",
    "    train_losses = []\n",
    "    val_losses = []\n",
    "    val_f1_scores = []\n",
    "\n",
    "    for epoch in range(EPOCHS):\n",
    "        # 현재 학습률 가져오기\n",
    "        current_lr = optimizer.param_groups[0]['lr']\n",
    "\n",
    "        print(f\"\\nEpoch {epoch + 1}/{EPOCHS}\")\n",
    "\n",
    "        # 학습\n",
    "        train_loss = train_model(model, train_data_loader, optimizer, scheduler, device, current_lr)\n",
    "        print(f\"Train Loss: {train_loss:.4f}, 현재 학습률: {current_lr:.8f}\")\n",
    "        train_losses.append(train_loss)\n",
    "\n",
    "        # 검증\n",
    "        val_loss, val_predictions, val_labels = evaluate_model(model, val_data_loader, device)\n",
    "        val_f1 = f1_score(val_labels, val_predictions, average='macro')\n",
    "        val_losses.append(val_loss)\n",
    "        val_f1_scores.append(val_f1)\n",
    "\n",
    "        print(f\"Validation Loss: {val_loss:.4f}\")\n",
    "        print(f\"Validation Macro F1: {val_f1:.4f}\")\n",
    "\n",
    "        # 최고 성능 모델 저장 및 Early Stopping 로직\n",
    "        if val_f1 > best_val_f1:\n",
    "            best_val_f1 = val_f1\n",
    "            torch.save(model.state_dict(), \"best_model.pth\")\n",
    "            print(f\"모델 저장됨: best_model.pth (F1: {val_f1:.4f})\")\n",
    "            patience_counter = 0  # 성능이 향상되었으므로 카운터 초기화\n",
    "        else:\n",
    "            patience_counter += 1  # 성능이 향상되지 않았으므로 카운터 증가\n",
    "            print(f\"성능 향상 없음: {patience_counter}/{EARLY_STOPPING_PATIENCE}\")\n",
    "\n",
    "            # Early Stopping 조건 확인\n",
    "            if patience_counter >= EARLY_STOPPING_PATIENCE:\n",
    "                print(f\"\\nEarly Stopping! {EARLY_STOPPING_PATIENCE}번의 에폭 동안 성능 향상 없음.\")\n",
    "                break\n",
    "\n",
    "    # 학습 곡선 시각화\n",
    "    plt.figure(figsize=(12, 4))\n",
    "    plt.subplot(1, 2, 1)\n",
    "    plt.plot(train_losses, label='Train Loss')\n",
    "    plt.plot(val_losses, label='Validation Loss')\n",
    "    plt.xlabel('Epoch')\n",
    "    plt.ylabel('Loss')\n",
    "    plt.legend()\n",
    "    plt.title('Loss Curves')\n",
    "\n",
    "    plt.subplot(1, 2, 2)\n",
    "    plt.plot(val_f1_scores, label='Validation F1')\n",
    "    plt.xlabel('Epoch')\n",
    "    plt.ylabel('F1 Score')\n",
    "    plt.legend()\n",
    "    plt.title('F1 Score Curve')\n",
    "\n",
    "    plt.tight_layout()\n",
    "    plt.savefig('learning_curves.png')\n",
    "    plt.close()\n",
    "\n",
    "    # 최고 성능 모델 로드\n",
    "    model.load_state_dict(torch.load(\"best_model.pth\"))\n",
    "\n",
    "    # 테스트 세트 평가\n",
    "    test_loss, test_predictions, test_labels = evaluate_model(model, test_data_loader, device)\n",
    "    test_f1 = f1_score(test_labels, test_predictions, average='macro')\n",
    "\n",
    "    print(\"\\n테스트 결과:\")\n",
    "    print(f\"Test Loss: {test_loss:.4f}\")\n",
    "    print(f\"Test Macro F1: {test_f1:.4f}\")\n",
    "\n",
    "    # 분류 보고서 출력\n",
    "    class_names = [ID_TO_LABEL[i] for i in range(len(LABEL_DICT))]\n",
    "    print(\"\\n분류 보고서:\")\n",
    "    print(classification_report(test_labels, test_predictions, target_names=class_names))\n",
    "\n",
    "    # 혼동 행렬 시각화\n",
    "    cm = confusion_matrix(test_labels, test_predictions)\n",
    "    plot_confusion_matrix(cm, class_names)\n",
    "\n",
    "    return model\n",
    "\n",
    "# 11. 실제 테스트 데이터 예측 및 제출 파일 생성\n",
    "def predict_and_save():\n",
    "    # 테스트 파일 로드\n",
    "    test_data = pd.read_csv(TEST_FILE)\n",
    "\n",
    "    # Dataset 생성\n",
    "    class TestDataset(Dataset):\n",
    "        def __init__(self, texts, tokenizer, max_len):\n",
    "            self.texts = texts\n",
    "            self.tokenizer = tokenizer\n",
    "            self.max_len = max_len\n",
    "\n",
    "        def __len__(self):\n",
    "            return len(self.texts)\n",
    "\n",
    "        def __getitem__(self, idx):\n",
    "            text = str(self.texts[idx])\n",
    "\n",
    "            encoding = self.tokenizer.encode_plus(\n",
    "                text,\n",
    "                add_special_tokens=True,\n",
    "                max_length=self.max_len,\n",
    "                return_token_type_ids=True,\n",
    "                padding='max_length',\n",
    "                truncation=True,\n",
    "                return_attention_mask=True,\n",
    "                return_tensors='pt'\n",
    "            )\n",
    "\n",
    "            return {\n",
    "                'text': text,\n",
    "                'input_ids': encoding['input_ids'].flatten(),\n",
    "                'attention_mask': encoding['attention_mask'].flatten(),\n",
    "                'token_type_ids': encoding['token_type_ids'].flatten(),\n",
    "            }\n",
    "\n",
    "    # 테스트 데이터 로더 생성\n",
    "    test_dataset = TestDataset(\n",
    "        texts=test_data['text'].values,\n",
    "        tokenizer=tokenizer,\n",
    "        max_len=MAX_LEN\n",
    "    )\n",
    "\n",
    "    test_data_loader = DataLoader(\n",
    "        test_dataset,\n",
    "        batch_size=BATCH_SIZE,\n",
    "        num_workers=2\n",
    "    )\n",
    "\n",
    "    # GPU 설정\n",
    "    device = torch.device(f\"cuda:{GPU_NUM}\" if torch.cuda.is_available() else \"cpu\")\n",
    "\n",
    "    # 최고 성능 모델 로드\n",
    "    model = ElectraForSequenceClassification.from_pretrained(MODEL_NAME, num_labels=len(LABEL_DICT))\n",
    "    model.load_state_dict(torch.load(\"best_model.pth\"))\n",
    "    model.to(device)\n",
    "\n",
    "    # 예측\n",
    "    model.eval()\n",
    "    predictions = []\n",
    "\n",
    "    with torch.no_grad():\n",
    "        for batch in tqdm(test_data_loader, desc=\"테스트 예측 중\"):\n",
    "            input_ids = batch['input_ids'].to(device)\n",
    "            attention_mask = batch['attention_mask'].to(device)\n",
    "            token_type_ids = batch['token_type_ids'].to(device)\n",
    "\n",
    "            outputs = model(\n",
    "                input_ids=input_ids,\n",
    "                attention_mask=attention_mask,\n",
    "                token_type_ids=token_type_ids\n",
    "            )\n",
    "\n",
    "            _, preds = torch.max(outputs.logits, dim=1)\n",
    "            predictions.extend(preds.detach().cpu().numpy())\n",
    "\n",
    "    # 예측 결과 라벨로 변환\n",
    "    label_predictions = [ID_TO_LABEL[p] for p in predictions]\n",
    "\n",
    "    # 제출 파일 생성\n",
    "    submission = pd.DataFrame({\n",
    "        'idx': test_data['idx'],\n",
    "        'class': label_predictions\n",
    "    })\n",
    "\n",
    "    submission.to_csv('submission.csv', index=False)\n",
    "    print(f\"제출 파일 생성 완료: submission.csv\")\n",
    "\n",
    "# 메인 실행\n",
    "if __name__ == \"__main__\":\n",
    "    # 모델 학습\n",
    "    model = train()\n",
    "\n",
    "    # 테스트 데이터 예측 및 제출 파일 생성\n",
    "    predict_and_save()"
   ]
  },
  {
   "cell_type": "markdown",
   "metadata": {
    "id": "-cD5YHThVZbC"
   },
   "source": [
    "- 성능 향상"
   ]
  },
  {
   "cell_type": "code",
   "execution_count": null,
   "metadata": {
    "colab": {
     "base_uri": "https://localhost:8080/"
    },
    "executionInfo": {
     "elapsed": 697295,
     "status": "ok",
     "timestamp": 1746573272602,
     "user": {
      "displayName": "김지환",
      "userId": "17439535786603393953"
     },
     "user_tz": -540
    },
    "id": "P57QL8XIysQ8",
    "outputId": "8cf7b596-e314-40bb-bccf-aade6a5d4251"
   },
   "outputs": [
    {
     "name": "stdout",
     "output_type": "stream",
     "text": [
      "데이터 로드 중...\n",
      "학습 데이터 크기: 3477\n",
      "검증 데이터 크기: 745\n",
      "테스트 데이터 크기: 746\n",
      "학습 데이터의 클래스 분포:\n",
      "class\n",
      "4    786\n",
      "3    707\n",
      "1    681\n",
      "2    679\n",
      "0    624\n",
      "Name: count, dtype: int64\n",
      "모델 'monologg/koelectra-base-v3-discriminator' 로드 중...\n"
     ]
    },
    {
     "name": "stderr",
     "output_type": "stream",
     "text": [
      "Some weights of ElectraForSequenceClassification were not initialized from the model checkpoint at monologg/koelectra-base-v3-discriminator and are newly initialized: ['classifier.dense.bias', 'classifier.dense.weight', 'classifier.out_proj.bias', 'classifier.out_proj.weight']\n",
      "You should probably TRAIN this model on a down-stream task to be able to use it for predictions and inference.\n"
     ]
    },
    {
     "name": "stdout",
     "output_type": "stream",
     "text": [
      "✅ 학습 대상: classifier.dense.weight\n",
      "✅ 학습 대상: classifier.dense.bias\n",
      "✅ 학습 대상: classifier.out_proj.weight\n",
      "✅ 학습 대상: classifier.out_proj.bias\n",
      "🔢 학습 대상 파라미터 수: 594,437 / 전체 파라미터 수: 112,925,189 (0.53%)\n",
      "수동 설정된 클래스별 가중치:\n",
      "클래스 0 (협박 대화): 1.8000\n",
      "클래스 1 (갈취 대화): 1.8000\n",
      "클래스 2 (직장 내 괴롭힘 대화): 1.8000\n",
      "클래스 3 (기타 괴롭힘 대화): 2.0000\n",
      "클래스 4 (일반 대화): 0.7000\n",
      "사용 중인 디바이스: cuda:0\n",
      "\n",
      "Epoch 1/100 (학습률: 1.50e-05)\n"
     ]
    },
    {
     "name": "stderr",
     "output_type": "stream",
     "text": [
      "학습 중: 100%|██████████| 109/109 [00:06<00:00, 17.64it/s, loss=1.5838]\n"
     ]
    },
    {
     "name": "stdout",
     "output_type": "stream",
     "text": [
      "Train Loss: 1.5838\n"
     ]
    },
    {
     "name": "stderr",
     "output_type": "stream",
     "text": [
      "평가 중: 100%|██████████| 24/24 [00:01<00:00, 16.65it/s]\n"
     ]
    },
    {
     "name": "stdout",
     "output_type": "stream",
     "text": [
      "Validation Loss: 1.5604\n",
      "Validation Macro F1: 0.0674\n",
      "클래스 0 (협박 대화) F1: 0.0000\n",
      "클래스 1 (갈취 대화) F1: 0.0000\n",
      "클래스 2 (직장 내 괴롭힘 대화) F1: 0.0000\n",
      "클래스 3 (기타 괴롭힘 대화) F1: 0.3371\n",
      "클래스 4 (일반 대화) F1: 0.0000\n",
      "모델 저장됨: best_model.pth (F1: 0.0674)\n",
      "\n",
      "Epoch 2/100 (학습률: 1.49e-05)\n"
     ]
    },
    {
     "name": "stderr",
     "output_type": "stream",
     "text": [
      "학습 중: 100%|██████████| 109/109 [00:06<00:00, 17.77it/s, loss=1.5609]\n"
     ]
    },
    {
     "name": "stdout",
     "output_type": "stream",
     "text": [
      "Train Loss: 1.5609\n"
     ]
    },
    {
     "name": "stderr",
     "output_type": "stream",
     "text": [
      "평가 중: 100%|██████████| 24/24 [00:01<00:00, 16.74it/s]\n"
     ]
    },
    {
     "name": "stdout",
     "output_type": "stream",
     "text": [
      "Validation Loss: 1.5492\n",
      "Validation Macro F1: 0.0674\n",
      "클래스 0 (협박 대화) F1: 0.0000\n",
      "클래스 1 (갈취 대화) F1: 0.0000\n",
      "클래스 2 (직장 내 괴롭힘 대화) F1: 0.0000\n",
      "클래스 3 (기타 괴롭힘 대화) F1: 0.3371\n",
      "클래스 4 (일반 대화) F1: 0.0000\n",
      "성능 향상 없음: 1/5\n",
      "\n",
      "Epoch 3/100 (학습률: 1.47e-05)\n"
     ]
    },
    {
     "name": "stderr",
     "output_type": "stream",
     "text": [
      "학습 중: 100%|██████████| 109/109 [00:06<00:00, 17.74it/s, loss=1.5513]\n"
     ]
    },
    {
     "name": "stdout",
     "output_type": "stream",
     "text": [
      "Train Loss: 1.5513\n"
     ]
    },
    {
     "name": "stderr",
     "output_type": "stream",
     "text": [
      "평가 중: 100%|██████████| 24/24 [00:01<00:00, 16.43it/s]\n"
     ]
    },
    {
     "name": "stdout",
     "output_type": "stream",
     "text": [
      "Validation Loss: 1.5395\n",
      "Validation Macro F1: 0.0678\n",
      "클래스 0 (협박 대화) F1: 0.0000\n",
      "클래스 1 (갈취 대화) F1: 0.0000\n",
      "클래스 2 (직장 내 괴롭힘 대화) F1: 0.0000\n",
      "클래스 3 (기타 괴롭힘 대화) F1: 0.3389\n",
      "클래스 4 (일반 대화) F1: 0.0000\n",
      "모델 저장됨: best_model.pth (F1: 0.0678)\n",
      "\n",
      "Epoch 4/100 (학습률: 1.45e-05)\n"
     ]
    },
    {
     "name": "stderr",
     "output_type": "stream",
     "text": [
      "학습 중: 100%|██████████| 109/109 [00:06<00:00, 17.83it/s, loss=1.5411]\n"
     ]
    },
    {
     "name": "stdout",
     "output_type": "stream",
     "text": [
      "Train Loss: 1.5411\n"
     ]
    },
    {
     "name": "stderr",
     "output_type": "stream",
     "text": [
      "평가 중: 100%|██████████| 24/24 [00:01<00:00, 16.59it/s]\n"
     ]
    },
    {
     "name": "stdout",
     "output_type": "stream",
     "text": [
      "Validation Loss: 1.5294\n",
      "Validation Macro F1: 0.0737\n",
      "클래스 0 (협박 대화) F1: 0.0145\n",
      "클래스 1 (갈취 대화) F1: 0.0000\n",
      "클래스 2 (직장 내 괴롭힘 대화) F1: 0.0132\n",
      "클래스 3 (기타 괴롭힘 대화) F1: 0.3409\n",
      "클래스 4 (일반 대화) F1: 0.0000\n",
      "모델 저장됨: best_model.pth (F1: 0.0737)\n",
      "\n",
      "Epoch 5/100 (학습률: 1.44e-05)\n"
     ]
    },
    {
     "name": "stderr",
     "output_type": "stream",
     "text": [
      "학습 중: 100%|██████████| 109/109 [00:06<00:00, 17.75it/s, loss=1.5309]\n"
     ]
    },
    {
     "name": "stdout",
     "output_type": "stream",
     "text": [
      "Train Loss: 1.5309\n"
     ]
    },
    {
     "name": "stderr",
     "output_type": "stream",
     "text": [
      "평가 중: 100%|██████████| 24/24 [00:01<00:00, 16.64it/s]\n"
     ]
    },
    {
     "name": "stdout",
     "output_type": "stream",
     "text": [
      "Validation Loss: 1.5182\n",
      "Validation Macro F1: 0.0906\n",
      "클래스 0 (협박 대화) F1: 0.0286\n",
      "클래스 1 (갈취 대화) F1: 0.0000\n",
      "클래스 2 (직장 내 괴롭힘 대화) F1: 0.0828\n",
      "클래스 3 (기타 괴롭힘 대화) F1: 0.3414\n",
      "클래스 4 (일반 대화) F1: 0.0000\n",
      "모델 저장됨: best_model.pth (F1: 0.0906)\n",
      "\n",
      "Epoch 6/100 (학습률: 1.42e-05)\n"
     ]
    },
    {
     "name": "stderr",
     "output_type": "stream",
     "text": [
      "학습 중: 100%|██████████| 109/109 [00:06<00:00, 17.72it/s, loss=1.5223]\n"
     ]
    },
    {
     "name": "stdout",
     "output_type": "stream",
     "text": [
      "Train Loss: 1.5223\n"
     ]
    },
    {
     "name": "stderr",
     "output_type": "stream",
     "text": [
      "평가 중: 100%|██████████| 24/24 [00:01<00:00, 16.72it/s]\n"
     ]
    },
    {
     "name": "stdout",
     "output_type": "stream",
     "text": [
      "Validation Loss: 1.5066\n",
      "Validation Macro F1: 0.1410\n",
      "클래스 0 (협박 대화) F1: 0.0556\n",
      "클래스 1 (갈취 대화) F1: 0.0135\n",
      "클래스 2 (직장 내 괴롭힘 대화) F1: 0.1421\n",
      "클래스 3 (기타 괴롭힘 대화) F1: 0.3501\n",
      "클래스 4 (일반 대화) F1: 0.1436\n",
      "모델 저장됨: best_model.pth (F1: 0.1410)\n",
      "\n",
      "Epoch 7/100 (학습률: 1.41e-05)\n"
     ]
    },
    {
     "name": "stderr",
     "output_type": "stream",
     "text": [
      "학습 중: 100%|██████████| 109/109 [00:06<00:00, 17.75it/s, loss=1.5098]\n"
     ]
    },
    {
     "name": "stdout",
     "output_type": "stream",
     "text": [
      "Train Loss: 1.5098\n"
     ]
    },
    {
     "name": "stderr",
     "output_type": "stream",
     "text": [
      "평가 중: 100%|██████████| 24/24 [00:01<00:00, 16.60it/s]\n"
     ]
    },
    {
     "name": "stdout",
     "output_type": "stream",
     "text": [
      "Validation Loss: 1.4937\n",
      "Validation Macro F1: 0.1901\n",
      "클래스 0 (협박 대화) F1: 0.0548\n",
      "클래스 1 (갈취 대화) F1: 0.0000\n",
      "클래스 2 (직장 내 괴롭힘 대화) F1: 0.1846\n",
      "클래스 3 (기타 괴롭힘 대화) F1: 0.3584\n",
      "클래스 4 (일반 대화) F1: 0.3529\n",
      "모델 저장됨: best_model.pth (F1: 0.1901)\n",
      "\n",
      "Epoch 8/100 (학습률: 1.40e-05)\n"
     ]
    },
    {
     "name": "stderr",
     "output_type": "stream",
     "text": [
      "학습 중: 100%|██████████| 109/109 [00:06<00:00, 17.80it/s, loss=1.4971]\n"
     ]
    },
    {
     "name": "stdout",
     "output_type": "stream",
     "text": [
      "Train Loss: 1.4971\n"
     ]
    },
    {
     "name": "stderr",
     "output_type": "stream",
     "text": [
      "평가 중: 100%|██████████| 24/24 [00:01<00:00, 16.71it/s]\n"
     ]
    },
    {
     "name": "stdout",
     "output_type": "stream",
     "text": [
      "Validation Loss: 1.4797\n",
      "Validation Macro F1: 0.2407\n",
      "클래스 0 (협박 대화) F1: 0.0680\n",
      "클래스 1 (갈취 대화) F1: 0.0267\n",
      "클래스 2 (직장 내 괴롭힘 대화) F1: 0.2245\n",
      "클래스 3 (기타 괴롭힘 대화) F1: 0.3709\n",
      "클래스 4 (일반 대화) F1: 0.5133\n",
      "모델 저장됨: best_model.pth (F1: 0.2407)\n",
      "\n",
      "Epoch 9/100 (학습률: 1.38e-05)\n"
     ]
    },
    {
     "name": "stderr",
     "output_type": "stream",
     "text": [
      "학습 중: 100%|██████████| 109/109 [00:06<00:00, 17.73it/s, loss=1.4833]\n"
     ]
    },
    {
     "name": "stdout",
     "output_type": "stream",
     "text": [
      "Train Loss: 1.4833\n"
     ]
    },
    {
     "name": "stderr",
     "output_type": "stream",
     "text": [
      "평가 중: 100%|██████████| 24/24 [00:01<00:00, 16.63it/s]\n"
     ]
    },
    {
     "name": "stdout",
     "output_type": "stream",
     "text": [
      "Validation Loss: 1.4649\n",
      "Validation Macro F1: 0.2648\n",
      "클래스 0 (협박 대화) F1: 0.0805\n",
      "클래스 1 (갈취 대화) F1: 0.0397\n",
      "클래스 2 (직장 내 괴롭힘 대화) F1: 0.2245\n",
      "클래스 3 (기타 괴롭힘 대화) F1: 0.3793\n",
      "클래스 4 (일반 대화) F1: 0.6000\n",
      "모델 저장됨: best_model.pth (F1: 0.2648)\n",
      "\n",
      "Epoch 10/100 (학습률: 1.37e-05)\n"
     ]
    },
    {
     "name": "stderr",
     "output_type": "stream",
     "text": [
      "학습 중: 100%|██████████| 109/109 [00:06<00:00, 17.78it/s, loss=1.4721]\n"
     ]
    },
    {
     "name": "stdout",
     "output_type": "stream",
     "text": [
      "Train Loss: 1.4721\n"
     ]
    },
    {
     "name": "stderr",
     "output_type": "stream",
     "text": [
      "평가 중: 100%|██████████| 24/24 [00:01<00:00, 16.57it/s]\n"
     ]
    },
    {
     "name": "stdout",
     "output_type": "stream",
     "text": [
      "Validation Loss: 1.4500\n",
      "Validation Macro F1: 0.3061\n",
      "클래스 0 (협박 대화) F1: 0.1060\n",
      "클래스 1 (갈취 대화) F1: 0.1026\n",
      "클래스 2 (직장 내 괴롭힘 대화) F1: 0.2613\n",
      "클래스 3 (기타 괴롭힘 대화) F1: 0.3885\n",
      "클래스 4 (일반 대화) F1: 0.6719\n",
      "모델 저장됨: best_model.pth (F1: 0.3061)\n",
      "\n",
      "Epoch 11/100 (학습률: 1.35e-05)\n"
     ]
    },
    {
     "name": "stderr",
     "output_type": "stream",
     "text": [
      "학습 중: 100%|██████████| 109/109 [00:06<00:00, 17.79it/s, loss=1.4623]\n"
     ]
    },
    {
     "name": "stdout",
     "output_type": "stream",
     "text": [
      "Train Loss: 1.4623\n"
     ]
    },
    {
     "name": "stderr",
     "output_type": "stream",
     "text": [
      "평가 중: 100%|██████████| 24/24 [00:01<00:00, 16.71it/s]\n"
     ]
    },
    {
     "name": "stdout",
     "output_type": "stream",
     "text": [
      "Validation Loss: 1.4363\n",
      "Validation Macro F1: 0.3468\n",
      "클래스 0 (협박 대화) F1: 0.2061\n",
      "클래스 1 (갈취 대화) F1: 0.1266\n",
      "클래스 2 (직장 내 괴롭힘 대화) F1: 0.3039\n",
      "클래스 3 (기타 괴롭힘 대화) F1: 0.4000\n",
      "클래스 4 (일반 대화) F1: 0.6977\n",
      "모델 저장됨: best_model.pth (F1: 0.3468)\n",
      "\n",
      "Epoch 12/100 (학습률: 1.34e-05)\n"
     ]
    },
    {
     "name": "stderr",
     "output_type": "stream",
     "text": [
      "학습 중: 100%|██████████| 109/109 [00:06<00:00, 17.73it/s, loss=1.4451]\n"
     ]
    },
    {
     "name": "stdout",
     "output_type": "stream",
     "text": [
      "Train Loss: 1.4451\n"
     ]
    },
    {
     "name": "stderr",
     "output_type": "stream",
     "text": [
      "평가 중: 100%|██████████| 24/24 [00:01<00:00, 16.69it/s]\n"
     ]
    },
    {
     "name": "stdout",
     "output_type": "stream",
     "text": [
      "Validation Loss: 1.4225\n",
      "Validation Macro F1: 0.3443\n",
      "클래스 0 (협박 대화) F1: 0.2118\n",
      "클래스 1 (갈취 대화) F1: 0.0897\n",
      "클래스 2 (직장 내 괴롭힘 대화) F1: 0.2952\n",
      "클래스 3 (기타 괴롭힘 대화) F1: 0.3953\n",
      "클래스 4 (일반 대화) F1: 0.7293\n",
      "성능 향상 없음: 1/5\n",
      "\n",
      "Epoch 13/100 (학습률: 1.32e-05)\n"
     ]
    },
    {
     "name": "stderr",
     "output_type": "stream",
     "text": [
      "학습 중: 100%|██████████| 109/109 [00:06<00:00, 17.84it/s, loss=1.4348]\n"
     ]
    },
    {
     "name": "stdout",
     "output_type": "stream",
     "text": [
      "Train Loss: 1.4348\n"
     ]
    },
    {
     "name": "stderr",
     "output_type": "stream",
     "text": [
      "평가 중: 100%|██████████| 24/24 [00:01<00:00, 16.56it/s]\n"
     ]
    },
    {
     "name": "stdout",
     "output_type": "stream",
     "text": [
      "Validation Loss: 1.4089\n",
      "Validation Macro F1: 0.3675\n",
      "클래스 0 (협박 대화) F1: 0.2235\n",
      "클래스 1 (갈취 대화) F1: 0.1566\n",
      "클래스 2 (직장 내 괴롭힘 대화) F1: 0.3062\n",
      "클래스 3 (기타 괴롭힘 대화) F1: 0.4030\n",
      "클래스 4 (일반 대화) F1: 0.7481\n",
      "모델 저장됨: best_model.pth (F1: 0.3675)\n",
      "\n",
      "Epoch 14/100 (학습률: 1.31e-05)\n"
     ]
    },
    {
     "name": "stderr",
     "output_type": "stream",
     "text": [
      "학습 중: 100%|██████████| 109/109 [00:06<00:00, 17.84it/s, loss=1.4214]\n"
     ]
    },
    {
     "name": "stdout",
     "output_type": "stream",
     "text": [
      "Train Loss: 1.4214\n"
     ]
    },
    {
     "name": "stderr",
     "output_type": "stream",
     "text": [
      "평가 중: 100%|██████████| 24/24 [00:01<00:00, 16.70it/s]\n"
     ]
    },
    {
     "name": "stdout",
     "output_type": "stream",
     "text": [
      "Validation Loss: 1.3971\n",
      "Validation Macro F1: 0.3802\n",
      "클래스 0 (협박 대화) F1: 0.2428\n",
      "클래스 1 (갈취 대화) F1: 0.1677\n",
      "클래스 2 (직장 내 괴롭힘 대화) F1: 0.3303\n",
      "클래스 3 (기타 괴롭힘 대화) F1: 0.4012\n",
      "클래스 4 (일반 대화) F1: 0.7591\n",
      "모델 저장됨: best_model.pth (F1: 0.3802)\n",
      "\n",
      "Epoch 15/100 (학습률: 1.29e-05)\n"
     ]
    },
    {
     "name": "stderr",
     "output_type": "stream",
     "text": [
      "학습 중: 100%|██████████| 109/109 [00:06<00:00, 17.74it/s, loss=1.4106]\n"
     ]
    },
    {
     "name": "stdout",
     "output_type": "stream",
     "text": [
      "Train Loss: 1.4106\n"
     ]
    },
    {
     "name": "stderr",
     "output_type": "stream",
     "text": [
      "평가 중: 100%|██████████| 24/24 [00:01<00:00, 16.69it/s]\n"
     ]
    },
    {
     "name": "stdout",
     "output_type": "stream",
     "text": [
      "Validation Loss: 1.3859\n",
      "Validation Macro F1: 0.4102\n",
      "클래스 0 (협박 대화) F1: 0.2811\n",
      "클래스 1 (갈취 대화) F1: 0.2386\n",
      "클래스 2 (직장 내 괴롭힘 대화) F1: 0.3439\n",
      "클래스 3 (기타 괴롭힘 대화) F1: 0.4134\n",
      "클래스 4 (일반 대화) F1: 0.7742\n",
      "모델 저장됨: best_model.pth (F1: 0.4102)\n",
      "\n",
      "Epoch 16/100 (학습률: 1.27e-05)\n"
     ]
    },
    {
     "name": "stderr",
     "output_type": "stream",
     "text": [
      "학습 중: 100%|██████████| 109/109 [00:06<00:00, 17.78it/s, loss=1.3995]\n"
     ]
    },
    {
     "name": "stdout",
     "output_type": "stream",
     "text": [
      "Train Loss: 1.3995\n"
     ]
    },
    {
     "name": "stderr",
     "output_type": "stream",
     "text": [
      "평가 중: 100%|██████████| 24/24 [00:01<00:00, 16.71it/s]\n"
     ]
    },
    {
     "name": "stdout",
     "output_type": "stream",
     "text": [
      "Validation Loss: 1.3756\n",
      "Validation Macro F1: 0.4327\n",
      "클래스 0 (협박 대화) F1: 0.3141\n",
      "클래스 1 (갈취 대화) F1: 0.2827\n",
      "클래스 2 (직장 내 괴롭힘 대화) F1: 0.3684\n",
      "클래스 3 (기타 괴롭힘 대화) F1: 0.4181\n",
      "클래스 4 (일반 대화) F1: 0.7801\n",
      "모델 저장됨: best_model.pth (F1: 0.4327)\n",
      "\n",
      "Epoch 17/100 (학습률: 1.26e-05)\n"
     ]
    },
    {
     "name": "stderr",
     "output_type": "stream",
     "text": [
      "학습 중: 100%|██████████| 109/109 [00:06<00:00, 17.83it/s, loss=1.3911]\n"
     ]
    },
    {
     "name": "stdout",
     "output_type": "stream",
     "text": [
      "Train Loss: 1.3911\n"
     ]
    },
    {
     "name": "stderr",
     "output_type": "stream",
     "text": [
      "평가 중: 100%|██████████| 24/24 [00:01<00:00, 16.61it/s]\n"
     ]
    },
    {
     "name": "stdout",
     "output_type": "stream",
     "text": [
      "Validation Loss: 1.3662\n",
      "Validation Macro F1: 0.4312\n",
      "클래스 0 (협박 대화) F1: 0.3053\n",
      "클래스 1 (갈취 대화) F1: 0.2623\n",
      "클래스 2 (직장 내 괴롭힘 대화) F1: 0.3900\n",
      "클래스 3 (기타 괴롭힘 대화) F1: 0.4109\n",
      "클래스 4 (일반 대화) F1: 0.7875\n",
      "성능 향상 없음: 1/5\n",
      "\n",
      "Epoch 18/100 (학습률: 1.24e-05)\n"
     ]
    },
    {
     "name": "stderr",
     "output_type": "stream",
     "text": [
      "학습 중: 100%|██████████| 109/109 [00:06<00:00, 17.84it/s, loss=1.3781]\n"
     ]
    },
    {
     "name": "stdout",
     "output_type": "stream",
     "text": [
      "Train Loss: 1.3781\n"
     ]
    },
    {
     "name": "stderr",
     "output_type": "stream",
     "text": [
      "평가 중: 100%|██████████| 24/24 [00:01<00:00, 16.68it/s]\n"
     ]
    },
    {
     "name": "stdout",
     "output_type": "stream",
     "text": [
      "Validation Loss: 1.3572\n",
      "Validation Macro F1: 0.4244\n",
      "클래스 0 (협박 대화) F1: 0.3021\n",
      "클래스 1 (갈취 대화) F1: 0.2541\n",
      "클래스 2 (직장 내 괴롭힘 대화) F1: 0.3581\n",
      "클래스 3 (기타 괴롭힘 대화) F1: 0.4147\n",
      "클래스 4 (일반 대화) F1: 0.7931\n",
      "성능 향상 없음: 2/5\n",
      "\n",
      "Epoch 19/100 (학습률: 1.23e-05)\n"
     ]
    },
    {
     "name": "stderr",
     "output_type": "stream",
     "text": [
      "학습 중: 100%|██████████| 109/109 [00:06<00:00, 17.83it/s, loss=1.3701]\n"
     ]
    },
    {
     "name": "stdout",
     "output_type": "stream",
     "text": [
      "Train Loss: 1.3701\n"
     ]
    },
    {
     "name": "stderr",
     "output_type": "stream",
     "text": [
      "평가 중: 100%|██████████| 24/24 [00:01<00:00, 16.71it/s]\n"
     ]
    },
    {
     "name": "stdout",
     "output_type": "stream",
     "text": [
      "Validation Loss: 1.3494\n",
      "Validation Macro F1: 0.4556\n",
      "클래스 0 (협박 대화) F1: 0.3547\n",
      "클래스 1 (갈취 대화) F1: 0.2796\n",
      "클래스 2 (직장 내 괴롭힘 대화) F1: 0.4127\n",
      "클래스 3 (기타 괴롭힘 대화) F1: 0.4216\n",
      "클래스 4 (일반 대화) F1: 0.8095\n",
      "모델 저장됨: best_model.pth (F1: 0.4556)\n",
      "\n",
      "Epoch 20/100 (학습률: 1.22e-05)\n"
     ]
    },
    {
     "name": "stderr",
     "output_type": "stream",
     "text": [
      "학습 중: 100%|██████████| 109/109 [00:06<00:00, 17.84it/s, loss=1.3683]\n"
     ]
    },
    {
     "name": "stdout",
     "output_type": "stream",
     "text": [
      "Train Loss: 1.3683\n"
     ]
    },
    {
     "name": "stderr",
     "output_type": "stream",
     "text": [
      "평가 중: 100%|██████████| 24/24 [00:01<00:00, 16.65it/s]\n"
     ]
    },
    {
     "name": "stdout",
     "output_type": "stream",
     "text": [
      "Validation Loss: 1.3423\n",
      "Validation Macro F1: 0.4549\n",
      "클래스 0 (협박 대화) F1: 0.3529\n",
      "클래스 1 (갈취 대화) F1: 0.2903\n",
      "클래스 2 (직장 내 괴롭힘 대화) F1: 0.3968\n",
      "클래스 3 (기타 괴롭힘 대화) F1: 0.4237\n",
      "클래스 4 (일반 대화) F1: 0.8108\n",
      "성능 향상 없음: 1/5\n",
      "\n",
      "Epoch 21/100 (학습률: 1.20e-05)\n"
     ]
    },
    {
     "name": "stderr",
     "output_type": "stream",
     "text": [
      "학습 중: 100%|██████████| 109/109 [00:06<00:00, 17.79it/s, loss=1.3592]\n"
     ]
    },
    {
     "name": "stdout",
     "output_type": "stream",
     "text": [
      "Train Loss: 1.3592\n"
     ]
    },
    {
     "name": "stderr",
     "output_type": "stream",
     "text": [
      "평가 중: 100%|██████████| 24/24 [00:01<00:00, 16.54it/s]\n"
     ]
    },
    {
     "name": "stdout",
     "output_type": "stream",
     "text": [
      "Validation Loss: 1.3354\n",
      "Validation Macro F1: 0.4756\n",
      "클래스 0 (협박 대화) F1: 0.3714\n",
      "클래스 1 (갈취 대화) F1: 0.3366\n",
      "클래스 2 (직장 내 괴롭힘 대화) F1: 0.4127\n",
      "클래스 3 (기타 괴롭힘 대화) F1: 0.4373\n",
      "클래스 4 (일반 대화) F1: 0.8200\n",
      "모델 저장됨: best_model.pth (F1: 0.4756)\n",
      "\n",
      "Epoch 22/100 (학습률: 1.19e-05)\n"
     ]
    },
    {
     "name": "stderr",
     "output_type": "stream",
     "text": [
      "학습 중: 100%|██████████| 109/109 [00:06<00:00, 17.77it/s, loss=1.3503]\n"
     ]
    },
    {
     "name": "stdout",
     "output_type": "stream",
     "text": [
      "Train Loss: 1.3503\n"
     ]
    },
    {
     "name": "stderr",
     "output_type": "stream",
     "text": [
      "평가 중: 100%|██████████| 24/24 [00:01<00:00, 16.64it/s]\n"
     ]
    },
    {
     "name": "stdout",
     "output_type": "stream",
     "text": [
      "Validation Loss: 1.3289\n",
      "Validation Macro F1: 0.4808\n",
      "클래스 0 (협박 대화) F1: 0.3704\n",
      "클래스 1 (갈취 대화) F1: 0.3558\n",
      "클래스 2 (직장 내 괴롭힘 대화) F1: 0.4274\n",
      "클래스 3 (기타 괴롭힘 대화) F1: 0.4333\n",
      "클래스 4 (일반 대화) F1: 0.8173\n",
      "모델 저장됨: best_model.pth (F1: 0.4808)\n",
      "\n",
      "Epoch 23/100 (학습률: 1.17e-05)\n"
     ]
    },
    {
     "name": "stderr",
     "output_type": "stream",
     "text": [
      "학습 중: 100%|██████████| 109/109 [00:06<00:00, 17.81it/s, loss=1.3458]\n"
     ]
    },
    {
     "name": "stdout",
     "output_type": "stream",
     "text": [
      "Train Loss: 1.3458\n"
     ]
    },
    {
     "name": "stderr",
     "output_type": "stream",
     "text": [
      "평가 중: 100%|██████████| 24/24 [00:01<00:00, 16.67it/s]\n"
     ]
    },
    {
     "name": "stdout",
     "output_type": "stream",
     "text": [
      "Validation Loss: 1.3219\n",
      "Validation Macro F1: 0.4867\n",
      "클래스 0 (협박 대화) F1: 0.3850\n",
      "클래스 1 (갈취 대화) F1: 0.3524\n",
      "클래스 2 (직장 내 괴롭힘 대화) F1: 0.4286\n",
      "클래스 3 (기타 괴롭힘 대화) F1: 0.4440\n",
      "클래스 4 (일반 대화) F1: 0.8235\n",
      "모델 저장됨: best_model.pth (F1: 0.4867)\n",
      "\n",
      "Epoch 24/100 (학습률: 1.16e-05)\n"
     ]
    },
    {
     "name": "stderr",
     "output_type": "stream",
     "text": [
      "학습 중: 100%|██████████| 109/109 [00:06<00:00, 17.78it/s, loss=1.3426]\n"
     ]
    },
    {
     "name": "stdout",
     "output_type": "stream",
     "text": [
      "Train Loss: 1.3426\n"
     ]
    },
    {
     "name": "stderr",
     "output_type": "stream",
     "text": [
      "평가 중: 100%|██████████| 24/24 [00:01<00:00, 16.60it/s]\n"
     ]
    },
    {
     "name": "stdout",
     "output_type": "stream",
     "text": [
      "Validation Loss: 1.3160\n",
      "Validation Macro F1: 0.4824\n",
      "클래스 0 (협박 대화) F1: 0.3850\n",
      "클래스 1 (갈취 대화) F1: 0.3350\n",
      "클래스 2 (직장 내 괴롭힘 대화) F1: 0.4269\n",
      "클래스 3 (기타 괴롭힘 대화) F1: 0.4457\n",
      "클래스 4 (일반 대화) F1: 0.8197\n",
      "성능 향상 없음: 1/5\n",
      "\n",
      "Epoch 25/100 (학습률: 1.14e-05)\n"
     ]
    },
    {
     "name": "stderr",
     "output_type": "stream",
     "text": [
      "학습 중: 100%|██████████| 109/109 [00:06<00:00, 17.77it/s, loss=1.3345]\n"
     ]
    },
    {
     "name": "stdout",
     "output_type": "stream",
     "text": [
      "Train Loss: 1.3345\n"
     ]
    },
    {
     "name": "stderr",
     "output_type": "stream",
     "text": [
      "평가 중: 100%|██████████| 24/24 [00:01<00:00, 16.63it/s]\n"
     ]
    },
    {
     "name": "stdout",
     "output_type": "stream",
     "text": [
      "Validation Loss: 1.3109\n",
      "Validation Macro F1: 0.4897\n",
      "클래스 0 (협박 대화) F1: 0.3628\n",
      "클래스 1 (갈취 대화) F1: 0.3602\n",
      "클래스 2 (직장 내 괴롭힘 대화) F1: 0.4488\n",
      "클래스 3 (기타 괴롭힘 대화) F1: 0.4498\n",
      "클래스 4 (일반 대화) F1: 0.8269\n",
      "모델 저장됨: best_model.pth (F1: 0.4897)\n",
      "\n",
      "Epoch 26/100 (학습률: 1.13e-05)\n"
     ]
    },
    {
     "name": "stderr",
     "output_type": "stream",
     "text": [
      "학습 중: 100%|██████████| 109/109 [00:06<00:00, 17.73it/s, loss=1.3232]\n"
     ]
    },
    {
     "name": "stdout",
     "output_type": "stream",
     "text": [
      "Train Loss: 1.3232\n"
     ]
    },
    {
     "name": "stderr",
     "output_type": "stream",
     "text": [
      "평가 중: 100%|██████████| 24/24 [00:01<00:00, 16.61it/s]\n"
     ]
    },
    {
     "name": "stdout",
     "output_type": "stream",
     "text": [
      "Validation Loss: 1.3051\n",
      "Validation Macro F1: 0.4990\n",
      "클래스 0 (협박 대화) F1: 0.3645\n",
      "클래스 1 (갈취 대화) F1: 0.3909\n",
      "클래스 2 (직장 내 괴롭힘 대화) F1: 0.4633\n",
      "클래스 3 (기타 괴롭힘 대화) F1: 0.4495\n",
      "클래스 4 (일반 대화) F1: 0.8269\n",
      "모델 저장됨: best_model.pth (F1: 0.4990)\n",
      "\n",
      "Epoch 27/100 (학습률: 1.11e-05)\n"
     ]
    },
    {
     "name": "stderr",
     "output_type": "stream",
     "text": [
      "학습 중: 100%|██████████| 109/109 [00:06<00:00, 17.82it/s, loss=1.3181]\n"
     ]
    },
    {
     "name": "stdout",
     "output_type": "stream",
     "text": [
      "Train Loss: 1.3181\n"
     ]
    },
    {
     "name": "stderr",
     "output_type": "stream",
     "text": [
      "평가 중: 100%|██████████| 24/24 [00:01<00:00, 16.65it/s]\n"
     ]
    },
    {
     "name": "stdout",
     "output_type": "stream",
     "text": [
      "Validation Loss: 1.2999\n",
      "Validation Macro F1: 0.5081\n",
      "클래스 0 (협박 대화) F1: 0.3929\n",
      "클래스 1 (갈취 대화) F1: 0.3927\n",
      "클래스 2 (직장 내 괴롭힘 대화) F1: 0.4627\n",
      "클래스 3 (기타 괴롭힘 대화) F1: 0.4551\n",
      "클래스 4 (일반 대화) F1: 0.8371\n",
      "모델 저장됨: best_model.pth (F1: 0.5081)\n",
      "\n",
      "Epoch 28/100 (학습률: 1.10e-05)\n"
     ]
    },
    {
     "name": "stderr",
     "output_type": "stream",
     "text": [
      "학습 중: 100%|██████████| 109/109 [00:06<00:00, 17.72it/s, loss=1.3143]\n"
     ]
    },
    {
     "name": "stdout",
     "output_type": "stream",
     "text": [
      "Train Loss: 1.3143\n"
     ]
    },
    {
     "name": "stderr",
     "output_type": "stream",
     "text": [
      "평가 중: 100%|██████████| 24/24 [00:01<00:00, 16.71it/s]\n"
     ]
    },
    {
     "name": "stdout",
     "output_type": "stream",
     "text": [
      "Validation Loss: 1.2947\n",
      "Validation Macro F1: 0.5085\n",
      "클래스 0 (협박 대화) F1: 0.3982\n",
      "클래스 1 (갈취 대화) F1: 0.3704\n",
      "클래스 2 (직장 내 괴롭힘 대화) F1: 0.4812\n",
      "클래스 3 (기타 괴롭힘 대화) F1: 0.4557\n",
      "클래스 4 (일반 대화) F1: 0.8371\n",
      "모델 저장됨: best_model.pth (F1: 0.5085)\n",
      "\n",
      "Epoch 29/100 (학습률: 1.08e-05)\n"
     ]
    },
    {
     "name": "stderr",
     "output_type": "stream",
     "text": [
      "학습 중: 100%|██████████| 109/109 [00:06<00:00, 17.75it/s, loss=1.3136]\n"
     ]
    },
    {
     "name": "stdout",
     "output_type": "stream",
     "text": [
      "Train Loss: 1.3136\n"
     ]
    },
    {
     "name": "stderr",
     "output_type": "stream",
     "text": [
      "평가 중: 100%|██████████| 24/24 [00:01<00:00, 16.71it/s]\n"
     ]
    },
    {
     "name": "stdout",
     "output_type": "stream",
     "text": [
      "Validation Loss: 1.2900\n",
      "Validation Macro F1: 0.5122\n",
      "클래스 0 (협박 대화) F1: 0.3909\n",
      "클래스 1 (갈취 대화) F1: 0.3911\n",
      "클래스 2 (직장 내 괴롭힘 대화) F1: 0.4851\n",
      "클래스 3 (기타 괴롭힘 대화) F1: 0.4569\n",
      "클래스 4 (일반 대화) F1: 0.8371\n",
      "모델 저장됨: best_model.pth (F1: 0.5122)\n",
      "\n",
      "Epoch 30/100 (학습률: 1.06e-05)\n"
     ]
    },
    {
     "name": "stderr",
     "output_type": "stream",
     "text": [
      "학습 중: 100%|██████████| 109/109 [00:06<00:00, 17.74it/s, loss=1.3020]\n"
     ]
    },
    {
     "name": "stdout",
     "output_type": "stream",
     "text": [
      "Train Loss: 1.3020\n"
     ]
    },
    {
     "name": "stderr",
     "output_type": "stream",
     "text": [
      "평가 중: 100%|██████████| 24/24 [00:01<00:00, 16.72it/s]\n"
     ]
    },
    {
     "name": "stdout",
     "output_type": "stream",
     "text": [
      "Validation Loss: 1.2860\n",
      "Validation Macro F1: 0.5299\n",
      "클래스 0 (협박 대화) F1: 0.4229\n",
      "클래스 1 (갈취 대화) F1: 0.4211\n",
      "클래스 2 (직장 내 괴롭힘 대화) F1: 0.4833\n",
      "클래스 3 (기타 괴롭힘 대화) F1: 0.4732\n",
      "클래스 4 (일반 대화) F1: 0.8491\n",
      "모델 저장됨: best_model.pth (F1: 0.5299)\n",
      "\n",
      "Epoch 31/100 (학습률: 1.05e-05)\n"
     ]
    },
    {
     "name": "stderr",
     "output_type": "stream",
     "text": [
      "학습 중: 100%|██████████| 109/109 [00:06<00:00, 17.82it/s, loss=1.3036]\n"
     ]
    },
    {
     "name": "stdout",
     "output_type": "stream",
     "text": [
      "Train Loss: 1.3036\n"
     ]
    },
    {
     "name": "stderr",
     "output_type": "stream",
     "text": [
      "평가 중: 100%|██████████| 24/24 [00:01<00:00, 16.72it/s]\n"
     ]
    },
    {
     "name": "stdout",
     "output_type": "stream",
     "text": [
      "Validation Loss: 1.2818\n",
      "Validation Macro F1: 0.5207\n",
      "클래스 0 (협박 대화) F1: 0.4159\n",
      "클래스 1 (갈취 대화) F1: 0.3853\n",
      "클래스 2 (직장 내 괴롭힘 대화) F1: 0.4924\n",
      "클래스 3 (기타 괴롭힘 대화) F1: 0.4645\n",
      "클래스 4 (일반 대화) F1: 0.8454\n",
      "성능 향상 없음: 1/5\n",
      "\n",
      "Epoch 32/100 (학습률: 1.03e-05)\n"
     ]
    },
    {
     "name": "stderr",
     "output_type": "stream",
     "text": [
      "학습 중: 100%|██████████| 109/109 [00:06<00:00, 17.74it/s, loss=1.3036]\n"
     ]
    },
    {
     "name": "stdout",
     "output_type": "stream",
     "text": [
      "Train Loss: 1.3036\n"
     ]
    },
    {
     "name": "stderr",
     "output_type": "stream",
     "text": [
      "평가 중: 100%|██████████| 24/24 [00:01<00:00, 16.56it/s]\n"
     ]
    },
    {
     "name": "stdout",
     "output_type": "stream",
     "text": [
      "Validation Loss: 1.2769\n",
      "Validation Macro F1: 0.5265\n",
      "클래스 0 (협박 대화) F1: 0.4229\n",
      "클래스 1 (갈취 대화) F1: 0.3929\n",
      "클래스 2 (직장 내 괴롭힘 대화) F1: 0.4963\n",
      "클래스 3 (기타 괴롭힘 대화) F1: 0.4724\n",
      "클래스 4 (일반 대화) F1: 0.8481\n",
      "성능 향상 없음: 2/5\n",
      "\n",
      "Epoch 33/100 (학습률: 1.02e-05)\n"
     ]
    },
    {
     "name": "stderr",
     "output_type": "stream",
     "text": [
      "학습 중: 100%|██████████| 109/109 [00:06<00:00, 17.79it/s, loss=1.2957]\n"
     ]
    },
    {
     "name": "stdout",
     "output_type": "stream",
     "text": [
      "Train Loss: 1.2957\n"
     ]
    },
    {
     "name": "stderr",
     "output_type": "stream",
     "text": [
      "평가 중: 100%|██████████| 24/24 [00:01<00:00, 16.65it/s]\n"
     ]
    },
    {
     "name": "stdout",
     "output_type": "stream",
     "text": [
      "Validation Loss: 1.2729\n",
      "Validation Macro F1: 0.5393\n",
      "클래스 0 (협박 대화) F1: 0.4473\n",
      "클래스 1 (갈취 대화) F1: 0.4192\n",
      "클래스 2 (직장 내 괴롭힘 대화) F1: 0.5000\n",
      "클래스 3 (기타 괴롭힘 대화) F1: 0.4784\n",
      "클래스 4 (일반 대화) F1: 0.8517\n",
      "모델 저장됨: best_model.pth (F1: 0.5393)\n",
      "\n",
      "Epoch 34/100 (학습률: 1.01e-05)\n"
     ]
    },
    {
     "name": "stderr",
     "output_type": "stream",
     "text": [
      "학습 중: 100%|██████████| 109/109 [00:06<00:00, 17.77it/s, loss=1.2896]\n"
     ]
    },
    {
     "name": "stdout",
     "output_type": "stream",
     "text": [
      "Train Loss: 1.2896\n"
     ]
    },
    {
     "name": "stderr",
     "output_type": "stream",
     "text": [
      "평가 중: 100%|██████████| 24/24 [00:01<00:00, 16.71it/s]\n"
     ]
    },
    {
     "name": "stdout",
     "output_type": "stream",
     "text": [
      "Validation Loss: 1.2689\n",
      "Validation Macro F1: 0.5412\n",
      "클래스 0 (협박 대화) F1: 0.4519\n",
      "클래스 1 (갈취 대화) F1: 0.4262\n",
      "클래스 2 (직장 내 괴롭힘 대화) F1: 0.4924\n",
      "클래스 3 (기타 괴롭힘 대화) F1: 0.4800\n",
      "클래스 4 (일반 대화) F1: 0.8553\n",
      "모델 저장됨: best_model.pth (F1: 0.5412)\n",
      "\n",
      "Epoch 35/100 (학습률: 9.90e-06)\n"
     ]
    },
    {
     "name": "stderr",
     "output_type": "stream",
     "text": [
      "학습 중: 100%|██████████| 109/109 [00:06<00:00, 17.79it/s, loss=1.2877]\n"
     ]
    },
    {
     "name": "stdout",
     "output_type": "stream",
     "text": [
      "Train Loss: 1.2877\n"
     ]
    },
    {
     "name": "stderr",
     "output_type": "stream",
     "text": [
      "평가 중: 100%|██████████| 24/24 [00:01<00:00, 16.69it/s]\n"
     ]
    },
    {
     "name": "stdout",
     "output_type": "stream",
     "text": [
      "Validation Loss: 1.2651\n",
      "Validation Macro F1: 0.5435\n",
      "클래스 0 (협박 대화) F1: 0.4454\n",
      "클래스 1 (갈취 대화) F1: 0.4255\n",
      "클래스 2 (직장 내 괴롭힘 대화) F1: 0.5111\n",
      "클래스 3 (기타 괴롭힘 대화) F1: 0.4731\n",
      "클래스 4 (일반 대화) F1: 0.8625\n",
      "모델 저장됨: best_model.pth (F1: 0.5435)\n",
      "\n",
      "Epoch 36/100 (학습률: 9.75e-06)\n"
     ]
    },
    {
     "name": "stderr",
     "output_type": "stream",
     "text": [
      "학습 중: 100%|██████████| 109/109 [00:06<00:00, 17.70it/s, loss=1.2834]\n"
     ]
    },
    {
     "name": "stdout",
     "output_type": "stream",
     "text": [
      "Train Loss: 1.2834\n"
     ]
    },
    {
     "name": "stderr",
     "output_type": "stream",
     "text": [
      "평가 중: 100%|██████████| 24/24 [00:01<00:00, 16.65it/s]\n"
     ]
    },
    {
     "name": "stdout",
     "output_type": "stream",
     "text": [
      "Validation Loss: 1.2616\n",
      "Validation Macro F1: 0.5444\n",
      "클래스 0 (협박 대화) F1: 0.4500\n",
      "클래스 1 (갈취 대화) F1: 0.4229\n",
      "클래스 2 (직장 내 괴롭힘 대화) F1: 0.5109\n",
      "클래스 3 (기타 괴롭힘 대화) F1: 0.4791\n",
      "클래스 4 (일반 대화) F1: 0.8589\n",
      "모델 저장됨: best_model.pth (F1: 0.5444)\n",
      "\n",
      "Epoch 37/100 (학습률: 9.60e-06)\n"
     ]
    },
    {
     "name": "stderr",
     "output_type": "stream",
     "text": [
      "학습 중: 100%|██████████| 109/109 [00:06<00:00, 17.81it/s, loss=1.2775]\n"
     ]
    },
    {
     "name": "stdout",
     "output_type": "stream",
     "text": [
      "Train Loss: 1.2775\n"
     ]
    },
    {
     "name": "stderr",
     "output_type": "stream",
     "text": [
      "평가 중: 100%|██████████| 24/24 [00:01<00:00, 16.61it/s]\n"
     ]
    },
    {
     "name": "stdout",
     "output_type": "stream",
     "text": [
      "Validation Loss: 1.2576\n",
      "Validation Macro F1: 0.5418\n",
      "클래스 0 (협박 대화) F1: 0.4388\n",
      "클래스 1 (갈취 대화) F1: 0.4279\n",
      "클래스 2 (직장 내 괴롭힘 대화) F1: 0.5091\n",
      "클래스 3 (기타 괴롭힘 대화) F1: 0.4744\n",
      "클래스 4 (일반 대화) F1: 0.8589\n",
      "성능 향상 없음: 1/5\n",
      "\n",
      "Epoch 38/100 (학습률: 9.45e-06)\n"
     ]
    },
    {
     "name": "stderr",
     "output_type": "stream",
     "text": [
      "학습 중: 100%|██████████| 109/109 [00:06<00:00, 17.73it/s, loss=1.2765]\n"
     ]
    },
    {
     "name": "stdout",
     "output_type": "stream",
     "text": [
      "Train Loss: 1.2765\n"
     ]
    },
    {
     "name": "stderr",
     "output_type": "stream",
     "text": [
      "평가 중: 100%|██████████| 24/24 [00:01<00:00, 16.74it/s]\n"
     ]
    },
    {
     "name": "stdout",
     "output_type": "stream",
     "text": [
      "Validation Loss: 1.2542\n",
      "Validation Macro F1: 0.5493\n",
      "클래스 0 (협박 대화) F1: 0.4628\n",
      "클래스 1 (갈취 대화) F1: 0.4279\n",
      "클래스 2 (직장 내 괴롭힘 대화) F1: 0.5166\n",
      "클래스 3 (기타 괴롭힘 대화) F1: 0.4731\n",
      "클래스 4 (일반 대화) F1: 0.8660\n",
      "모델 저장됨: best_model.pth (F1: 0.5493)\n",
      "\n",
      "Epoch 39/100 (학습률: 9.30e-06)\n"
     ]
    },
    {
     "name": "stderr",
     "output_type": "stream",
     "text": [
      "학습 중: 100%|██████████| 109/109 [00:06<00:00, 17.73it/s, loss=1.2745]\n"
     ]
    },
    {
     "name": "stdout",
     "output_type": "stream",
     "text": [
      "Train Loss: 1.2745\n"
     ]
    },
    {
     "name": "stderr",
     "output_type": "stream",
     "text": [
      "평가 중: 100%|██████████| 24/24 [00:01<00:00, 16.68it/s]\n"
     ]
    },
    {
     "name": "stdout",
     "output_type": "stream",
     "text": [
      "Validation Loss: 1.2513\n",
      "Validation Macro F1: 0.5487\n",
      "클래스 0 (협박 대화) F1: 0.4519\n",
      "클래스 1 (갈취 대화) F1: 0.4351\n",
      "클래스 2 (직장 내 괴롭힘 대화) F1: 0.5147\n",
      "클래스 3 (기타 괴롭힘 대화) F1: 0.4785\n",
      "클래스 4 (일반 대화) F1: 0.8634\n",
      "성능 향상 없음: 1/5\n",
      "\n",
      "Epoch 40/100 (학습률: 9.15e-06)\n"
     ]
    },
    {
     "name": "stderr",
     "output_type": "stream",
     "text": [
      "학습 중: 100%|██████████| 109/109 [00:06<00:00, 17.76it/s, loss=1.2683]\n"
     ]
    },
    {
     "name": "stdout",
     "output_type": "stream",
     "text": [
      "Train Loss: 1.2683\n"
     ]
    },
    {
     "name": "stderr",
     "output_type": "stream",
     "text": [
      "평가 중: 100%|██████████| 24/24 [00:01<00:00, 16.57it/s]\n"
     ]
    },
    {
     "name": "stdout",
     "output_type": "stream",
     "text": [
      "Validation Loss: 1.2478\n",
      "Validation Macro F1: 0.5493\n",
      "클래스 0 (협박 대화) F1: 0.4571\n",
      "클래스 1 (갈취 대화) F1: 0.4340\n",
      "클래스 2 (직장 내 괴롭힘 대화) F1: 0.5130\n",
      "클래스 3 (기타 괴롭힘 대화) F1: 0.4726\n",
      "클래스 4 (일반 대화) F1: 0.8696\n",
      "성능 향상 없음: 2/5\n",
      "\n",
      "Epoch 41/100 (학습률: 9.00e-06)\n"
     ]
    },
    {
     "name": "stderr",
     "output_type": "stream",
     "text": [
      "학습 중: 100%|██████████| 109/109 [00:06<00:00, 17.72it/s, loss=1.2671]\n"
     ]
    },
    {
     "name": "stdout",
     "output_type": "stream",
     "text": [
      "Train Loss: 1.2671\n"
     ]
    },
    {
     "name": "stderr",
     "output_type": "stream",
     "text": [
      "평가 중: 100%|██████████| 24/24 [00:01<00:00, 16.40it/s]\n"
     ]
    },
    {
     "name": "stdout",
     "output_type": "stream",
     "text": [
      "Validation Loss: 1.2450\n",
      "Validation Macro F1: 0.5470\n",
      "클래스 0 (협박 대화) F1: 0.4545\n",
      "클래스 1 (갈취 대화) F1: 0.4359\n",
      "클래스 2 (직장 내 괴롭힘 대화) F1: 0.5164\n",
      "클래스 3 (기타 괴롭힘 대화) F1: 0.4615\n",
      "클래스 4 (일반 대화) F1: 0.8669\n",
      "성능 향상 없음: 3/5\n",
      "\n",
      "Epoch 42/100 (학습률: 8.85e-06)\n"
     ]
    },
    {
     "name": "stderr",
     "output_type": "stream",
     "text": [
      "학습 중: 100%|██████████| 109/109 [00:06<00:00, 17.75it/s, loss=1.2619]\n"
     ]
    },
    {
     "name": "stdout",
     "output_type": "stream",
     "text": [
      "Train Loss: 1.2619\n"
     ]
    },
    {
     "name": "stderr",
     "output_type": "stream",
     "text": [
      "평가 중: 100%|██████████| 24/24 [00:01<00:00, 16.66it/s]\n"
     ]
    },
    {
     "name": "stdout",
     "output_type": "stream",
     "text": [
      "Validation Loss: 1.2414\n",
      "Validation Macro F1: 0.5495\n",
      "클래스 0 (협박 대화) F1: 0.4500\n",
      "클래스 1 (갈취 대화) F1: 0.4333\n",
      "클래스 2 (직장 내 괴롭힘 대화) F1: 0.5182\n",
      "클래스 3 (기타 괴롭힘 대화) F1: 0.4757\n",
      "클래스 4 (일반 대화) F1: 0.8704\n",
      "모델 저장됨: best_model.pth (F1: 0.5495)\n",
      "\n",
      "Epoch 43/100 (학습률: 8.70e-06)\n"
     ]
    },
    {
     "name": "stderr",
     "output_type": "stream",
     "text": [
      "학습 중: 100%|██████████| 109/109 [00:06<00:00, 17.81it/s, loss=1.2676]\n"
     ]
    },
    {
     "name": "stdout",
     "output_type": "stream",
     "text": [
      "Train Loss: 1.2676\n"
     ]
    },
    {
     "name": "stderr",
     "output_type": "stream",
     "text": [
      "평가 중: 100%|██████████| 24/24 [00:01<00:00, 16.45it/s]\n"
     ]
    },
    {
     "name": "stdout",
     "output_type": "stream",
     "text": [
      "Validation Loss: 1.2389\n",
      "Validation Macro F1: 0.5508\n",
      "클래스 0 (협박 대화) F1: 0.4527\n",
      "클래스 1 (갈취 대화) F1: 0.4351\n",
      "클래스 2 (직장 내 괴롭힘 대화) F1: 0.5166\n",
      "클래스 3 (기타 괴롭힘 대화) F1: 0.4757\n",
      "클래스 4 (일반 대화) F1: 0.8738\n",
      "모델 저장됨: best_model.pth (F1: 0.5508)\n",
      "\n",
      "Epoch 44/100 (학습률: 8.55e-06)\n"
     ]
    },
    {
     "name": "stderr",
     "output_type": "stream",
     "text": [
      "학습 중: 100%|██████████| 109/109 [00:06<00:00, 17.78it/s, loss=1.2571]\n"
     ]
    },
    {
     "name": "stdout",
     "output_type": "stream",
     "text": [
      "Train Loss: 1.2571\n"
     ]
    },
    {
     "name": "stderr",
     "output_type": "stream",
     "text": [
      "평가 중: 100%|██████████| 24/24 [00:01<00:00, 16.70it/s]\n"
     ]
    },
    {
     "name": "stdout",
     "output_type": "stream",
     "text": [
      "Validation Loss: 1.2360\n",
      "Validation Macro F1: 0.5492\n",
      "클래스 0 (협박 대화) F1: 0.4564\n",
      "클래스 1 (갈취 대화) F1: 0.4340\n",
      "클래스 2 (직장 내 괴롭힘 대화) F1: 0.5147\n",
      "클래스 3 (기타 괴롭힘 대화) F1: 0.4723\n",
      "클래스 4 (일반 대화) F1: 0.8685\n",
      "성능 향상 없음: 1/5\n",
      "\n",
      "Epoch 45/100 (학습률: 8.40e-06)\n"
     ]
    },
    {
     "name": "stderr",
     "output_type": "stream",
     "text": [
      "학습 중: 100%|██████████| 109/109 [00:06<00:00, 17.80it/s, loss=1.2524]\n"
     ]
    },
    {
     "name": "stdout",
     "output_type": "stream",
     "text": [
      "Train Loss: 1.2524\n"
     ]
    },
    {
     "name": "stderr",
     "output_type": "stream",
     "text": [
      "평가 중: 100%|██████████| 24/24 [00:01<00:00, 16.77it/s]\n"
     ]
    },
    {
     "name": "stdout",
     "output_type": "stream",
     "text": [
      "Validation Loss: 1.2318\n",
      "Validation Macro F1: 0.5539\n",
      "클래스 0 (협박 대화) F1: 0.4527\n",
      "클래스 1 (갈취 대화) F1: 0.4310\n",
      "클래스 2 (직장 내 괴롭힘 대화) F1: 0.5236\n",
      "클래스 3 (기타 괴롭힘 대화) F1: 0.4856\n",
      "클래스 4 (일반 대화) F1: 0.8765\n",
      "모델 저장됨: best_model.pth (F1: 0.5539)\n",
      "\n",
      "Epoch 46/100 (학습률: 8.25e-06)\n"
     ]
    },
    {
     "name": "stderr",
     "output_type": "stream",
     "text": [
      "학습 중: 100%|██████████| 109/109 [00:06<00:00, 17.76it/s, loss=1.2530]\n"
     ]
    },
    {
     "name": "stdout",
     "output_type": "stream",
     "text": [
      "Train Loss: 1.2530\n"
     ]
    },
    {
     "name": "stderr",
     "output_type": "stream",
     "text": [
      "평가 중: 100%|██████████| 24/24 [00:01<00:00, 16.55it/s]\n"
     ]
    },
    {
     "name": "stdout",
     "output_type": "stream",
     "text": [
      "Validation Loss: 1.2286\n",
      "Validation Macro F1: 0.5599\n",
      "클래스 0 (협박 대화) F1: 0.4777\n",
      "클래스 1 (갈취 대화) F1: 0.4333\n",
      "클래스 2 (직장 내 괴롭힘 대화) F1: 0.5305\n",
      "클래스 3 (기타 괴롭힘 대화) F1: 0.4788\n",
      "클래스 4 (일반 대화) F1: 0.8793\n",
      "모델 저장됨: best_model.pth (F1: 0.5599)\n",
      "\n",
      "Epoch 47/100 (학습률: 8.10e-06)\n"
     ]
    },
    {
     "name": "stderr",
     "output_type": "stream",
     "text": [
      "학습 중: 100%|██████████| 109/109 [00:06<00:00, 17.81it/s, loss=1.2497]\n"
     ]
    },
    {
     "name": "stdout",
     "output_type": "stream",
     "text": [
      "Train Loss: 1.2497\n"
     ]
    },
    {
     "name": "stderr",
     "output_type": "stream",
     "text": [
      "평가 중: 100%|██████████| 24/24 [00:01<00:00, 16.72it/s]\n"
     ]
    },
    {
     "name": "stdout",
     "output_type": "stream",
     "text": [
      "Validation Loss: 1.2260\n",
      "Validation Macro F1: 0.5519\n",
      "클래스 0 (협박 대화) F1: 0.4534\n",
      "클래스 1 (갈취 대화) F1: 0.4280\n",
      "클래스 2 (직장 내 괴롭힘 대화) F1: 0.5201\n",
      "클래스 3 (기타 괴롭힘 대화) F1: 0.4814\n",
      "클래스 4 (일반 대화) F1: 0.8765\n",
      "성능 향상 없음: 1/5\n",
      "\n",
      "Epoch 48/100 (학습률: 7.95e-06)\n"
     ]
    },
    {
     "name": "stderr",
     "output_type": "stream",
     "text": [
      "학습 중: 100%|██████████| 109/109 [00:06<00:00, 17.77it/s, loss=1.2505]\n"
     ]
    },
    {
     "name": "stdout",
     "output_type": "stream",
     "text": [
      "Train Loss: 1.2505\n"
     ]
    },
    {
     "name": "stderr",
     "output_type": "stream",
     "text": [
      "평가 중: 100%|██████████| 24/24 [00:01<00:00, 16.69it/s]\n"
     ]
    },
    {
     "name": "stdout",
     "output_type": "stream",
     "text": [
      "Validation Loss: 1.2232\n",
      "Validation Macro F1: 0.5599\n",
      "클래스 0 (협박 대화) F1: 0.4672\n",
      "클래스 1 (갈취 대화) F1: 0.4408\n",
      "클래스 2 (직장 내 괴롭힘 대화) F1: 0.5333\n",
      "클래스 3 (기타 괴롭힘 대화) F1: 0.4833\n",
      "클래스 4 (일반 대화) F1: 0.8746\n",
      "성능 향상 없음: 2/5\n",
      "\n",
      "Epoch 49/100 (학습률: 7.80e-06)\n"
     ]
    },
    {
     "name": "stderr",
     "output_type": "stream",
     "text": [
      "학습 중: 100%|██████████| 109/109 [00:06<00:00, 17.80it/s, loss=1.2466]\n"
     ]
    },
    {
     "name": "stdout",
     "output_type": "stream",
     "text": [
      "Train Loss: 1.2466\n"
     ]
    },
    {
     "name": "stderr",
     "output_type": "stream",
     "text": [
      "평가 중: 100%|██████████| 24/24 [00:01<00:00, 16.59it/s]\n"
     ]
    },
    {
     "name": "stdout",
     "output_type": "stream",
     "text": [
      "Validation Loss: 1.2208\n",
      "Validation Macro F1: 0.5643\n",
      "클래스 0 (협박 대화) F1: 0.4739\n",
      "클래스 1 (갈취 대화) F1: 0.4472\n",
      "클래스 2 (직장 내 괴롭힘 대화) F1: 0.5338\n",
      "클래스 3 (기타 괴롭힘 대화) F1: 0.4858\n",
      "클래스 4 (일반 대화) F1: 0.8807\n",
      "모델 저장됨: best_model.pth (F1: 0.5643)\n",
      "\n",
      "Epoch 50/100 (학습률: 7.65e-06)\n"
     ]
    },
    {
     "name": "stderr",
     "output_type": "stream",
     "text": [
      "학습 중: 100%|██████████| 109/109 [00:06<00:00, 17.75it/s, loss=1.2435]\n"
     ]
    },
    {
     "name": "stdout",
     "output_type": "stream",
     "text": [
      "Train Loss: 1.2435\n"
     ]
    },
    {
     "name": "stderr",
     "output_type": "stream",
     "text": [
      "평가 중: 100%|██████████| 24/24 [00:01<00:00, 16.72it/s]\n"
     ]
    },
    {
     "name": "stdout",
     "output_type": "stream",
     "text": [
      "Validation Loss: 1.2181\n",
      "Validation Macro F1: 0.5674\n",
      "클래스 0 (협박 대화) F1: 0.4861\n",
      "클래스 1 (갈취 대화) F1: 0.4472\n",
      "클래스 2 (직장 내 괴롭힘 대화) F1: 0.5371\n",
      "클래스 3 (기타 괴롭힘 대화) F1: 0.4845\n",
      "클래스 4 (일반 대화) F1: 0.8820\n",
      "모델 저장됨: best_model.pth (F1: 0.5674)\n",
      "\n",
      "Epoch 51/100 (학습률: 7.50e-06)\n"
     ]
    },
    {
     "name": "stderr",
     "output_type": "stream",
     "text": [
      "학습 중: 100%|██████████| 109/109 [00:06<00:00, 17.70it/s, loss=1.2325]\n"
     ]
    },
    {
     "name": "stdout",
     "output_type": "stream",
     "text": [
      "Train Loss: 1.2325\n"
     ]
    },
    {
     "name": "stderr",
     "output_type": "stream",
     "text": [
      "평가 중: 100%|██████████| 24/24 [00:01<00:00, 16.63it/s]\n"
     ]
    },
    {
     "name": "stdout",
     "output_type": "stream",
     "text": [
      "Validation Loss: 1.2166\n",
      "Validation Macro F1: 0.5655\n",
      "클래스 0 (협박 대화) F1: 0.4819\n",
      "클래스 1 (갈취 대화) F1: 0.4472\n",
      "클래스 2 (직장 내 괴롭힘 대화) F1: 0.5319\n",
      "클래스 3 (기타 괴롭힘 대화) F1: 0.4883\n",
      "클래스 4 (일반 대화) F1: 0.8780\n",
      "성능 향상 없음: 1/5\n",
      "\n",
      "Epoch 52/100 (학습률: 7.35e-06)\n"
     ]
    },
    {
     "name": "stderr",
     "output_type": "stream",
     "text": [
      "학습 중: 100%|██████████| 109/109 [00:06<00:00, 17.83it/s, loss=1.2487]\n"
     ]
    },
    {
     "name": "stdout",
     "output_type": "stream",
     "text": [
      "Train Loss: 1.2487\n"
     ]
    },
    {
     "name": "stderr",
     "output_type": "stream",
     "text": [
      "평가 중: 100%|██████████| 24/24 [00:01<00:00, 16.62it/s]\n"
     ]
    },
    {
     "name": "stdout",
     "output_type": "stream",
     "text": [
      "Validation Loss: 1.2138\n",
      "Validation Macro F1: 0.5610\n",
      "클래스 0 (협박 대화) F1: 0.4701\n",
      "클래스 1 (갈취 대화) F1: 0.4516\n",
      "클래스 2 (직장 내 괴롭힘 대화) F1: 0.5217\n",
      "클래스 3 (기타 괴롭힘 대화) F1: 0.4781\n",
      "클래스 4 (일반 대화) F1: 0.8834\n",
      "성능 향상 없음: 2/5\n",
      "\n",
      "Epoch 53/100 (학습률: 7.20e-06)\n"
     ]
    },
    {
     "name": "stderr",
     "output_type": "stream",
     "text": [
      "학습 중: 100%|██████████| 109/109 [00:06<00:00, 17.84it/s, loss=1.2390]\n"
     ]
    },
    {
     "name": "stdout",
     "output_type": "stream",
     "text": [
      "Train Loss: 1.2390\n"
     ]
    },
    {
     "name": "stderr",
     "output_type": "stream",
     "text": [
      "평가 중: 100%|██████████| 24/24 [00:01<00:00, 16.64it/s]\n"
     ]
    },
    {
     "name": "stdout",
     "output_type": "stream",
     "text": [
      "Validation Loss: 1.2119\n",
      "Validation Macro F1: 0.5664\n",
      "클래스 0 (협박 대화) F1: 0.4841\n",
      "클래스 1 (갈취 대화) F1: 0.4508\n",
      "클래스 2 (직장 내 괴롭힘 대화) F1: 0.5357\n",
      "클래스 3 (기타 괴롭힘 대화) F1: 0.4806\n",
      "클래스 4 (일반 대화) F1: 0.8807\n",
      "성능 향상 없음: 3/5\n",
      "\n",
      "Epoch 54/100 (학습률: 7.05e-06)\n"
     ]
    },
    {
     "name": "stderr",
     "output_type": "stream",
     "text": [
      "학습 중: 100%|██████████| 109/109 [00:06<00:00, 17.77it/s, loss=1.2303]\n"
     ]
    },
    {
     "name": "stdout",
     "output_type": "stream",
     "text": [
      "Train Loss: 1.2303\n"
     ]
    },
    {
     "name": "stderr",
     "output_type": "stream",
     "text": [
      "평가 중: 100%|██████████| 24/24 [00:01<00:00, 16.69it/s]\n"
     ]
    },
    {
     "name": "stdout",
     "output_type": "stream",
     "text": [
      "Validation Loss: 1.2089\n",
      "Validation Macro F1: 0.5653\n",
      "클래스 0 (협박 대화) F1: 0.4659\n",
      "클래스 1 (갈취 대화) F1: 0.4435\n",
      "클래스 2 (직장 내 괴롭힘 대화) F1: 0.5442\n",
      "클래스 3 (기타 괴롭힘 대화) F1: 0.4896\n",
      "클래스 4 (일반 대화) F1: 0.8834\n",
      "성능 향상 없음: 4/5\n",
      "\n",
      "Epoch 55/100 (학습률: 6.90e-06)\n"
     ]
    },
    {
     "name": "stderr",
     "output_type": "stream",
     "text": [
      "학습 중: 100%|██████████| 109/109 [00:06<00:00, 17.81it/s, loss=1.2342]\n"
     ]
    },
    {
     "name": "stdout",
     "output_type": "stream",
     "text": [
      "Train Loss: 1.2342\n"
     ]
    },
    {
     "name": "stderr",
     "output_type": "stream",
     "text": [
      "평가 중: 100%|██████████| 24/24 [00:01<00:00, 16.68it/s]\n"
     ]
    },
    {
     "name": "stdout",
     "output_type": "stream",
     "text": [
      "Validation Loss: 1.2072\n",
      "Validation Macro F1: 0.5694\n",
      "클래스 0 (협박 대화) F1: 0.4882\n",
      "클래스 1 (갈취 대화) F1: 0.4398\n",
      "클래스 2 (직장 내 괴롭힘 대화) F1: 0.5423\n",
      "클래스 3 (기타 괴롭힘 대화) F1: 0.4935\n",
      "클래스 4 (일반 대화) F1: 0.8834\n",
      "모델 저장됨: best_model.pth (F1: 0.5694)\n",
      "\n",
      "Epoch 56/100 (학습률: 6.75e-06)\n"
     ]
    },
    {
     "name": "stderr",
     "output_type": "stream",
     "text": [
      "학습 중: 100%|██████████| 109/109 [00:06<00:00, 17.75it/s, loss=1.2339]\n"
     ]
    },
    {
     "name": "stdout",
     "output_type": "stream",
     "text": [
      "Train Loss: 1.2339\n"
     ]
    },
    {
     "name": "stderr",
     "output_type": "stream",
     "text": [
      "평가 중: 100%|██████████| 24/24 [00:01<00:00, 16.71it/s]\n"
     ]
    },
    {
     "name": "stdout",
     "output_type": "stream",
     "text": [
      "Validation Loss: 1.2054\n",
      "Validation Macro F1: 0.5756\n",
      "클래스 0 (협박 대화) F1: 0.4841\n",
      "클래스 1 (갈취 대화) F1: 0.4498\n",
      "클래스 2 (직장 내 괴롭힘 대화) F1: 0.5474\n",
      "클래스 3 (기타 괴롭힘 대화) F1: 0.5054\n",
      "클래스 4 (일반 대화) F1: 0.8916\n",
      "모델 저장됨: best_model.pth (F1: 0.5756)\n",
      "\n",
      "Epoch 57/100 (학습률: 6.60e-06)\n"
     ]
    },
    {
     "name": "stderr",
     "output_type": "stream",
     "text": [
      "학습 중: 100%|██████████| 109/109 [00:06<00:00, 17.72it/s, loss=1.2210]\n"
     ]
    },
    {
     "name": "stdout",
     "output_type": "stream",
     "text": [
      "Train Loss: 1.2210\n"
     ]
    },
    {
     "name": "stderr",
     "output_type": "stream",
     "text": [
      "평가 중: 100%|██████████| 24/24 [00:01<00:00, 16.65it/s]\n"
     ]
    },
    {
     "name": "stdout",
     "output_type": "stream",
     "text": [
      "Validation Loss: 1.2026\n",
      "Validation Macro F1: 0.5744\n",
      "클래스 0 (협박 대화) F1: 0.4863\n",
      "클래스 1 (갈취 대화) F1: 0.4427\n",
      "클래스 2 (직장 내 괴롭힘 대화) F1: 0.5461\n",
      "클래스 3 (기타 괴롭힘 대화) F1: 0.5040\n",
      "클래스 4 (일반 대화) F1: 0.8930\n",
      "성능 향상 없음: 1/5\n",
      "\n",
      "Epoch 58/100 (학습률: 6.45e-06)\n"
     ]
    },
    {
     "name": "stderr",
     "output_type": "stream",
     "text": [
      "학습 중: 100%|██████████| 109/109 [00:06<00:00, 17.72it/s, loss=1.2304]\n"
     ]
    },
    {
     "name": "stdout",
     "output_type": "stream",
     "text": [
      "Train Loss: 1.2304\n"
     ]
    },
    {
     "name": "stderr",
     "output_type": "stream",
     "text": [
      "평가 중: 100%|██████████| 24/24 [00:01<00:00, 16.56it/s]\n"
     ]
    },
    {
     "name": "stdout",
     "output_type": "stream",
     "text": [
      "Validation Loss: 1.2008\n",
      "Validation Macro F1: 0.5673\n",
      "클래스 0 (협박 대화) F1: 0.4844\n",
      "클래스 1 (갈취 대화) F1: 0.4382\n",
      "클래스 2 (직장 내 괴롭힘 대화) F1: 0.5357\n",
      "클래스 3 (기타 괴롭힘 대화) F1: 0.4921\n",
      "클래스 4 (일반 대화) F1: 0.8862\n",
      "성능 향상 없음: 2/5\n",
      "\n",
      "Epoch 59/100 (학습률: 6.30e-06)\n"
     ]
    },
    {
     "name": "stderr",
     "output_type": "stream",
     "text": [
      "학습 중: 100%|██████████| 109/109 [00:06<00:00, 17.80it/s, loss=1.2323]\n"
     ]
    },
    {
     "name": "stdout",
     "output_type": "stream",
     "text": [
      "Train Loss: 1.2323\n"
     ]
    },
    {
     "name": "stderr",
     "output_type": "stream",
     "text": [
      "평가 중: 100%|██████████| 24/24 [00:01<00:00, 16.60it/s]\n"
     ]
    },
    {
     "name": "stdout",
     "output_type": "stream",
     "text": [
      "Validation Loss: 1.1986\n",
      "Validation Macro F1: 0.5707\n",
      "클래스 0 (협박 대화) F1: 0.4961\n",
      "클래스 1 (갈취 대화) F1: 0.4435\n",
      "클래스 2 (직장 내 괴롭힘 대화) F1: 0.5357\n",
      "클래스 3 (기타 괴롭힘 대화) F1: 0.4895\n",
      "클래스 4 (일반 대화) F1: 0.8889\n",
      "성능 향상 없음: 3/5\n",
      "\n",
      "Epoch 60/100 (학습률: 6.15e-06)\n"
     ]
    },
    {
     "name": "stderr",
     "output_type": "stream",
     "text": [
      "학습 중: 100%|██████████| 109/109 [00:06<00:00, 17.73it/s, loss=1.2205]\n"
     ]
    },
    {
     "name": "stdout",
     "output_type": "stream",
     "text": [
      "Train Loss: 1.2205\n"
     ]
    },
    {
     "name": "stderr",
     "output_type": "stream",
     "text": [
      "평가 중: 100%|██████████| 24/24 [00:01<00:00, 16.70it/s]\n"
     ]
    },
    {
     "name": "stdout",
     "output_type": "stream",
     "text": [
      "Validation Loss: 1.1967\n",
      "Validation Macro F1: 0.5744\n",
      "클래스 0 (협박 대화) F1: 0.4903\n",
      "클래스 1 (갈취 대화) F1: 0.4462\n",
      "클래스 2 (직장 내 괴롭힘 대화) F1: 0.5390\n",
      "클래스 3 (기타 괴롭힘 대화) F1: 0.5000\n",
      "클래스 4 (일반 대화) F1: 0.8963\n",
      "성능 향상 없음: 4/5\n",
      "\n",
      "Epoch 61/100 (학습률: 6.00e-06)\n"
     ]
    },
    {
     "name": "stderr",
     "output_type": "stream",
     "text": [
      "학습 중: 100%|██████████| 109/109 [00:06<00:00, 17.79it/s, loss=1.2204]\n"
     ]
    },
    {
     "name": "stdout",
     "output_type": "stream",
     "text": [
      "Train Loss: 1.2204\n"
     ]
    },
    {
     "name": "stderr",
     "output_type": "stream",
     "text": [
      "평가 중: 100%|██████████| 24/24 [00:01<00:00, 16.62it/s]\n"
     ]
    },
    {
     "name": "stdout",
     "output_type": "stream",
     "text": [
      "Validation Loss: 1.1946\n",
      "Validation Macro F1: 0.5775\n",
      "클래스 0 (협박 대화) F1: 0.4941\n",
      "클래스 1 (갈취 대화) F1: 0.4435\n",
      "클래스 2 (직장 내 괴롭힘 대화) F1: 0.5442\n",
      "클래스 3 (기타 괴롭힘 대화) F1: 0.5027\n",
      "클래스 4 (일반 대화) F1: 0.9030\n",
      "모델 저장됨: best_model.pth (F1: 0.5775)\n",
      "\n",
      "Epoch 62/100 (학습률: 5.85e-06)\n"
     ]
    },
    {
     "name": "stderr",
     "output_type": "stream",
     "text": [
      "학습 중: 100%|██████████| 109/109 [00:06<00:00, 17.74it/s, loss=1.2216]\n"
     ]
    },
    {
     "name": "stdout",
     "output_type": "stream",
     "text": [
      "Train Loss: 1.2216\n"
     ]
    },
    {
     "name": "stderr",
     "output_type": "stream",
     "text": [
      "평가 중: 100%|██████████| 24/24 [00:01<00:00, 16.61it/s]\n"
     ]
    },
    {
     "name": "stdout",
     "output_type": "stream",
     "text": [
      "Validation Loss: 1.1931\n",
      "Validation Macro F1: 0.5731\n",
      "클래스 0 (협박 대화) F1: 0.4903\n",
      "클래스 1 (갈취 대화) F1: 0.4480\n",
      "클래스 2 (직장 내 괴롭힘 대화) F1: 0.5309\n",
      "클래스 3 (기타 괴롭힘 대화) F1: 0.5000\n",
      "클래스 4 (일반 대화) F1: 0.8963\n",
      "성능 향상 없음: 1/5\n",
      "\n",
      "Epoch 63/100 (학습률: 5.70e-06)\n"
     ]
    },
    {
     "name": "stderr",
     "output_type": "stream",
     "text": [
      "학습 중: 100%|██████████| 109/109 [00:06<00:00, 17.67it/s, loss=1.2190]\n"
     ]
    },
    {
     "name": "stdout",
     "output_type": "stream",
     "text": [
      "Train Loss: 1.2190\n"
     ]
    },
    {
     "name": "stderr",
     "output_type": "stream",
     "text": [
      "평가 중: 100%|██████████| 24/24 [00:01<00:00, 16.73it/s]\n"
     ]
    },
    {
     "name": "stdout",
     "output_type": "stream",
     "text": [
      "Validation Loss: 1.1911\n",
      "Validation Macro F1: 0.5763\n",
      "클래스 0 (협박 대화) F1: 0.4922\n",
      "클래스 1 (갈취 대화) F1: 0.4472\n",
      "클래스 2 (직장 내 괴롭힘 대화) F1: 0.5390\n",
      "클래스 3 (기타 괴롭힘 대화) F1: 0.5000\n",
      "클래스 4 (일반 대화) F1: 0.9030\n",
      "성능 향상 없음: 2/5\n",
      "\n",
      "Epoch 64/100 (학습률: 5.55e-06)\n"
     ]
    },
    {
     "name": "stderr",
     "output_type": "stream",
     "text": [
      "학습 중: 100%|██████████| 109/109 [00:06<00:00, 17.82it/s, loss=1.2196]\n"
     ]
    },
    {
     "name": "stdout",
     "output_type": "stream",
     "text": [
      "Train Loss: 1.2196\n"
     ]
    },
    {
     "name": "stderr",
     "output_type": "stream",
     "text": [
      "평가 중: 100%|██████████| 24/24 [00:01<00:00, 16.66it/s]\n"
     ]
    },
    {
     "name": "stdout",
     "output_type": "stream",
     "text": [
      "Validation Loss: 1.1895\n",
      "Validation Macro F1: 0.5763\n",
      "클래스 0 (협박 대화) F1: 0.4922\n",
      "클래스 1 (갈취 대화) F1: 0.4472\n",
      "클래스 2 (직장 내 괴롭힘 대화) F1: 0.5390\n",
      "클래스 3 (기타 괴롭힘 대화) F1: 0.5000\n",
      "클래스 4 (일반 대화) F1: 0.9030\n",
      "성능 향상 없음: 3/5\n",
      "\n",
      "Epoch 65/100 (학습률: 5.40e-06)\n"
     ]
    },
    {
     "name": "stderr",
     "output_type": "stream",
     "text": [
      "학습 중: 100%|██████████| 109/109 [00:06<00:00, 17.77it/s, loss=1.2147]\n"
     ]
    },
    {
     "name": "stdout",
     "output_type": "stream",
     "text": [
      "Train Loss: 1.2147\n"
     ]
    },
    {
     "name": "stderr",
     "output_type": "stream",
     "text": [
      "평가 중: 100%|██████████| 24/24 [00:01<00:00, 16.51it/s]\n"
     ]
    },
    {
     "name": "stdout",
     "output_type": "stream",
     "text": [
      "Validation Loss: 1.1881\n",
      "Validation Macro F1: 0.5766\n",
      "클래스 0 (협박 대화) F1: 0.4865\n",
      "클래스 1 (갈취 대화) F1: 0.4542\n",
      "클래스 2 (직장 내 괴롭힘 대화) F1: 0.5382\n",
      "클래스 3 (기타 괴롭힘 대화) F1: 0.5013\n",
      "클래스 4 (일반 대화) F1: 0.9030\n",
      "성능 향상 없음: 4/5\n",
      "\n",
      "Epoch 66/100 (학습률: 5.25e-06)\n"
     ]
    },
    {
     "name": "stderr",
     "output_type": "stream",
     "text": [
      "학습 중: 100%|██████████| 109/109 [00:06<00:00, 17.80it/s, loss=1.2224]\n"
     ]
    },
    {
     "name": "stdout",
     "output_type": "stream",
     "text": [
      "Train Loss: 1.2224\n"
     ]
    },
    {
     "name": "stderr",
     "output_type": "stream",
     "text": [
      "평가 중: 100%|██████████| 24/24 [00:01<00:00, 16.62it/s]\n"
     ]
    },
    {
     "name": "stdout",
     "output_type": "stream",
     "text": [
      "Validation Loss: 1.1869\n",
      "Validation Macro F1: 0.5804\n",
      "클래스 0 (협박 대화) F1: 0.4942\n",
      "클래스 1 (갈취 대화) F1: 0.4553\n",
      "클래스 2 (직장 내 괴롭힘 대화) F1: 0.5461\n",
      "클래스 3 (기타 괴롭힘 대화) F1: 0.5000\n",
      "클래스 4 (일반 대화) F1: 0.9063\n",
      "모델 저장됨: best_model.pth (F1: 0.5804)\n",
      "\n",
      "Epoch 67/100 (학습률: 5.10e-06)\n"
     ]
    },
    {
     "name": "stderr",
     "output_type": "stream",
     "text": [
      "학습 중: 100%|██████████| 109/109 [00:06<00:00, 17.76it/s, loss=1.2141]\n"
     ]
    },
    {
     "name": "stdout",
     "output_type": "stream",
     "text": [
      "Train Loss: 1.2141\n"
     ]
    },
    {
     "name": "stderr",
     "output_type": "stream",
     "text": [
      "평가 중: 100%|██████████| 24/24 [00:01<00:00, 16.57it/s]\n"
     ]
    },
    {
     "name": "stdout",
     "output_type": "stream",
     "text": [
      "Validation Loss: 1.1854\n",
      "Validation Macro F1: 0.5805\n",
      "클래스 0 (협박 대화) F1: 0.4942\n",
      "클래스 1 (갈취 대화) F1: 0.4553\n",
      "클래스 2 (직장 내 괴롭힘 대화) F1: 0.5480\n",
      "클래스 3 (기타 괴롭힘 대화) F1: 0.4987\n",
      "클래스 4 (일반 대화) F1: 0.9063\n",
      "모델 저장됨: best_model.pth (F1: 0.5805)\n",
      "\n",
      "Epoch 68/100 (학습률: 4.95e-06)\n"
     ]
    },
    {
     "name": "stderr",
     "output_type": "stream",
     "text": [
      "학습 중: 100%|██████████| 109/109 [00:06<00:00, 17.75it/s, loss=1.2151]\n"
     ]
    },
    {
     "name": "stdout",
     "output_type": "stream",
     "text": [
      "Train Loss: 1.2151\n"
     ]
    },
    {
     "name": "stderr",
     "output_type": "stream",
     "text": [
      "평가 중: 100%|██████████| 24/24 [00:01<00:00, 16.75it/s]\n"
     ]
    },
    {
     "name": "stdout",
     "output_type": "stream",
     "text": [
      "Validation Loss: 1.1843\n",
      "Validation Macro F1: 0.5837\n",
      "클래스 0 (협박 대화) F1: 0.4981\n",
      "클래스 1 (갈취 대화) F1: 0.4729\n",
      "클래스 2 (직장 내 괴롭힘 대화) F1: 0.5448\n",
      "클래스 3 (기타 괴롭힘 대화) F1: 0.4959\n",
      "클래스 4 (일반 대화) F1: 0.9069\n",
      "모델 저장됨: best_model.pth (F1: 0.5837)\n",
      "\n",
      "Epoch 69/100 (학습률: 4.80e-06)\n"
     ]
    },
    {
     "name": "stderr",
     "output_type": "stream",
     "text": [
      "학습 중: 100%|██████████| 109/109 [00:06<00:00, 17.75it/s, loss=1.2105]\n"
     ]
    },
    {
     "name": "stdout",
     "output_type": "stream",
     "text": [
      "Train Loss: 1.2105\n"
     ]
    },
    {
     "name": "stderr",
     "output_type": "stream",
     "text": [
      "평가 중: 100%|██████████| 24/24 [00:01<00:00, 16.68it/s]\n"
     ]
    },
    {
     "name": "stdout",
     "output_type": "stream",
     "text": [
      "Validation Loss: 1.1820\n",
      "Validation Macro F1: 0.5859\n",
      "클래스 0 (협박 대화) F1: 0.4942\n",
      "클래스 1 (갈취 대화) F1: 0.4664\n",
      "클래스 2 (직장 내 괴롭힘 대화) F1: 0.5544\n",
      "클래스 3 (기타 괴롭힘 대화) F1: 0.5083\n",
      "클래스 4 (일반 대화) F1: 0.9063\n",
      "모델 저장됨: best_model.pth (F1: 0.5859)\n",
      "\n",
      "Epoch 70/100 (학습률: 4.65e-06)\n"
     ]
    },
    {
     "name": "stderr",
     "output_type": "stream",
     "text": [
      "학습 중: 100%|██████████| 109/109 [00:06<00:00, 17.80it/s, loss=1.2097]\n"
     ]
    },
    {
     "name": "stdout",
     "output_type": "stream",
     "text": [
      "Train Loss: 1.2097\n"
     ]
    },
    {
     "name": "stderr",
     "output_type": "stream",
     "text": [
      "평가 중: 100%|██████████| 24/24 [00:01<00:00, 16.66it/s]\n"
     ]
    },
    {
     "name": "stdout",
     "output_type": "stream",
     "text": [
      "Validation Loss: 1.1808\n",
      "Validation Macro F1: 0.5863\n",
      "클래스 0 (협박 대화) F1: 0.4942\n",
      "클래스 1 (갈취 대화) F1: 0.4743\n",
      "클래스 2 (직장 내 괴롭힘 대화) F1: 0.5500\n",
      "클래스 3 (기타 괴롭힘 대화) F1: 0.5068\n",
      "클래스 4 (일반 대화) F1: 0.9063\n",
      "모델 저장됨: best_model.pth (F1: 0.5863)\n",
      "\n",
      "Epoch 71/100 (학습률: 4.50e-06)\n"
     ]
    },
    {
     "name": "stderr",
     "output_type": "stream",
     "text": [
      "학습 중: 100%|██████████| 109/109 [00:06<00:00, 17.75it/s, loss=1.2068]\n"
     ]
    },
    {
     "name": "stdout",
     "output_type": "stream",
     "text": [
      "Train Loss: 1.2068\n"
     ]
    },
    {
     "name": "stderr",
     "output_type": "stream",
     "text": [
      "평가 중: 100%|██████████| 24/24 [00:01<00:00, 16.63it/s]\n"
     ]
    },
    {
     "name": "stdout",
     "output_type": "stream",
     "text": [
      "Validation Loss: 1.1793\n",
      "Validation Macro F1: 0.5863\n",
      "클래스 0 (협박 대화) F1: 0.5000\n",
      "클래스 1 (갈취 대화) F1: 0.4724\n",
      "클래스 2 (직장 내 괴롭힘 대화) F1: 0.5448\n",
      "클래스 3 (기타 괴롭힘 대화) F1: 0.5081\n",
      "클래스 4 (일반 대화) F1: 0.9063\n",
      "모델 저장됨: best_model.pth (F1: 0.5863)\n",
      "\n",
      "Epoch 72/100 (학습률: 4.35e-06)\n"
     ]
    },
    {
     "name": "stderr",
     "output_type": "stream",
     "text": [
      "학습 중: 100%|██████████| 109/109 [00:06<00:00, 17.69it/s, loss=1.2110]\n"
     ]
    },
    {
     "name": "stdout",
     "output_type": "stream",
     "text": [
      "Train Loss: 1.2110\n"
     ]
    },
    {
     "name": "stderr",
     "output_type": "stream",
     "text": [
      "평가 중: 100%|██████████| 24/24 [00:01<00:00, 16.66it/s]\n"
     ]
    },
    {
     "name": "stdout",
     "output_type": "stream",
     "text": [
      "Validation Loss: 1.1780\n",
      "Validation Macro F1: 0.5839\n",
      "클래스 0 (협박 대화) F1: 0.4961\n",
      "클래스 1 (갈취 대화) F1: 0.4710\n",
      "클래스 2 (직장 내 괴롭힘 대화) F1: 0.5362\n",
      "클래스 3 (기타 괴롭힘 대화) F1: 0.5068\n",
      "클래스 4 (일반 대화) F1: 0.9091\n",
      "성능 향상 없음: 1/5\n",
      "\n",
      "Epoch 73/100 (학습률: 4.20e-06)\n"
     ]
    },
    {
     "name": "stderr",
     "output_type": "stream",
     "text": [
      "학습 중: 100%|██████████| 109/109 [00:06<00:00, 17.78it/s, loss=1.2096]\n"
     ]
    },
    {
     "name": "stdout",
     "output_type": "stream",
     "text": [
      "Train Loss: 1.2096\n"
     ]
    },
    {
     "name": "stderr",
     "output_type": "stream",
     "text": [
      "평가 중: 100%|██████████| 24/24 [00:01<00:00, 16.60it/s]\n"
     ]
    },
    {
     "name": "stdout",
     "output_type": "stream",
     "text": [
      "Validation Loss: 1.1780\n",
      "Validation Macro F1: 0.5855\n",
      "클래스 0 (협박 대화) F1: 0.4961\n",
      "클래스 1 (갈취 대화) F1: 0.4701\n",
      "클래스 2 (직장 내 괴롭힘 대화) F1: 0.5429\n",
      "클래스 3 (기타 괴롭힘 대화) F1: 0.5054\n",
      "클래스 4 (일반 대화) F1: 0.9129\n",
      "성능 향상 없음: 2/5\n",
      "\n",
      "Epoch 74/100 (학습률: 4.05e-06)\n"
     ]
    },
    {
     "name": "stderr",
     "output_type": "stream",
     "text": [
      "학습 중: 100%|██████████| 109/109 [00:06<00:00, 17.76it/s, loss=1.2004]\n"
     ]
    },
    {
     "name": "stdout",
     "output_type": "stream",
     "text": [
      "Train Loss: 1.2004\n"
     ]
    },
    {
     "name": "stderr",
     "output_type": "stream",
     "text": [
      "평가 중: 100%|██████████| 24/24 [00:01<00:00, 16.71it/s]\n"
     ]
    },
    {
     "name": "stdout",
     "output_type": "stream",
     "text": [
      "Validation Loss: 1.1764\n",
      "Validation Macro F1: 0.5868\n",
      "클래스 0 (협박 대화) F1: 0.4981\n",
      "클래스 1 (갈취 대화) F1: 0.4622\n",
      "클래스 2 (직장 내 괴롭힘 대화) F1: 0.5575\n",
      "클래스 3 (기타 괴롭힘 대화) F1: 0.5069\n",
      "클래스 4 (일반 대화) F1: 0.9096\n",
      "모델 저장됨: best_model.pth (F1: 0.5868)\n",
      "\n",
      "Epoch 75/100 (학습률: 3.90e-06)\n"
     ]
    },
    {
     "name": "stderr",
     "output_type": "stream",
     "text": [
      "학습 중: 100%|██████████| 109/109 [00:06<00:00, 17.76it/s, loss=1.2040]\n"
     ]
    },
    {
     "name": "stdout",
     "output_type": "stream",
     "text": [
      "Train Loss: 1.2040\n"
     ]
    },
    {
     "name": "stderr",
     "output_type": "stream",
     "text": [
      "평가 중: 100%|██████████| 24/24 [00:01<00:00, 16.64it/s]\n"
     ]
    },
    {
     "name": "stdout",
     "output_type": "stream",
     "text": [
      "Validation Loss: 1.1752\n",
      "Validation Macro F1: 0.5846\n",
      "클래스 0 (협박 대화) F1: 0.4942\n",
      "클래스 1 (갈취 대화) F1: 0.4784\n",
      "클래스 2 (직장 내 괴롭힘 대화) F1: 0.5343\n",
      "클래스 3 (기타 괴롭힘 대화) F1: 0.5123\n",
      "클래스 4 (일반 대화) F1: 0.9036\n",
      "성능 향상 없음: 1/5\n",
      "\n",
      "Epoch 76/100 (학습률: 3.75e-06)\n"
     ]
    },
    {
     "name": "stderr",
     "output_type": "stream",
     "text": [
      "학습 중: 100%|██████████| 109/109 [00:06<00:00, 17.79it/s, loss=1.2010]\n"
     ]
    },
    {
     "name": "stdout",
     "output_type": "stream",
     "text": [
      "Train Loss: 1.2010\n"
     ]
    },
    {
     "name": "stderr",
     "output_type": "stream",
     "text": [
      "평가 중: 100%|██████████| 24/24 [00:01<00:00, 16.67it/s]\n"
     ]
    },
    {
     "name": "stdout",
     "output_type": "stream",
     "text": [
      "Validation Loss: 1.1738\n",
      "Validation Macro F1: 0.5822\n",
      "클래스 0 (협박 대화) F1: 0.4942\n",
      "클래스 1 (갈취 대화) F1: 0.4729\n",
      "클래스 2 (직장 내 괴롭힘 대화) F1: 0.5309\n",
      "클래스 3 (기타 괴롭힘 대화) F1: 0.5068\n",
      "클래스 4 (일반 대화) F1: 0.9063\n",
      "성능 향상 없음: 2/5\n",
      "\n",
      "Epoch 77/100 (학습률: 3.60e-06)\n"
     ]
    },
    {
     "name": "stderr",
     "output_type": "stream",
     "text": [
      "학습 중: 100%|██████████| 109/109 [00:06<00:00, 17.78it/s, loss=1.1986]\n"
     ]
    },
    {
     "name": "stdout",
     "output_type": "stream",
     "text": [
      "Train Loss: 1.1986\n"
     ]
    },
    {
     "name": "stderr",
     "output_type": "stream",
     "text": [
      "평가 중: 100%|██████████| 24/24 [00:01<00:00, 16.69it/s]\n"
     ]
    },
    {
     "name": "stdout",
     "output_type": "stream",
     "text": [
      "Validation Loss: 1.1730\n",
      "Validation Macro F1: 0.5863\n",
      "클래스 0 (협박 대화) F1: 0.4981\n",
      "클래스 1 (갈취 대화) F1: 0.4788\n",
      "클래스 2 (직장 내 괴롭힘 대화) F1: 0.5396\n",
      "클래스 3 (기타 괴롭힘 대화) F1: 0.5055\n",
      "클래스 4 (일반 대화) F1: 0.9096\n",
      "성능 향상 없음: 3/5\n",
      "\n",
      "Epoch 78/100 (학습률: 3.45e-06)\n"
     ]
    },
    {
     "name": "stderr",
     "output_type": "stream",
     "text": [
      "학습 중: 100%|██████████| 109/109 [00:06<00:00, 17.72it/s, loss=1.1993]\n"
     ]
    },
    {
     "name": "stdout",
     "output_type": "stream",
     "text": [
      "Train Loss: 1.1993\n"
     ]
    },
    {
     "name": "stderr",
     "output_type": "stream",
     "text": [
      "평가 중: 100%|██████████| 24/24 [00:01<00:00, 16.58it/s]\n"
     ]
    },
    {
     "name": "stdout",
     "output_type": "stream",
     "text": [
      "Validation Loss: 1.1718\n",
      "Validation Macro F1: 0.5898\n",
      "클래스 0 (협박 대화) F1: 0.4981\n",
      "클래스 1 (갈취 대화) F1: 0.4803\n",
      "클래스 2 (직장 내 괴롭힘 대화) F1: 0.5480\n",
      "클래스 3 (기타 괴롭힘 대화) F1: 0.5096\n",
      "클래스 4 (일반 대화) F1: 0.9129\n",
      "모델 저장됨: best_model.pth (F1: 0.5898)\n",
      "\n",
      "Epoch 79/100 (학습률: 3.30e-06)\n"
     ]
    },
    {
     "name": "stderr",
     "output_type": "stream",
     "text": [
      "학습 중: 100%|██████████| 109/109 [00:06<00:00, 17.66it/s, loss=1.2063]\n"
     ]
    },
    {
     "name": "stdout",
     "output_type": "stream",
     "text": [
      "Train Loss: 1.2063\n"
     ]
    },
    {
     "name": "stderr",
     "output_type": "stream",
     "text": [
      "평가 중: 100%|██████████| 24/24 [00:01<00:00, 16.64it/s]\n"
     ]
    },
    {
     "name": "stdout",
     "output_type": "stream",
     "text": [
      "Validation Loss: 1.1709\n",
      "Validation Macro F1: 0.5850\n",
      "클래스 0 (협박 대화) F1: 0.5000\n",
      "클래스 1 (갈취 대화) F1: 0.4729\n",
      "클래스 2 (직장 내 괴롭힘 대화) F1: 0.5396\n",
      "클래스 3 (기타 괴롭힘 대화) F1: 0.5027\n",
      "클래스 4 (일반 대화) F1: 0.9096\n",
      "성능 향상 없음: 1/5\n",
      "\n",
      "Epoch 80/100 (학습률: 3.15e-06)\n"
     ]
    },
    {
     "name": "stderr",
     "output_type": "stream",
     "text": [
      "학습 중: 100%|██████████| 109/109 [00:06<00:00, 17.75it/s, loss=1.2041]\n"
     ]
    },
    {
     "name": "stdout",
     "output_type": "stream",
     "text": [
      "Train Loss: 1.2041\n"
     ]
    },
    {
     "name": "stderr",
     "output_type": "stream",
     "text": [
      "평가 중: 100%|██████████| 24/24 [00:01<00:00, 16.60it/s]\n"
     ]
    },
    {
     "name": "stdout",
     "output_type": "stream",
     "text": [
      "Validation Loss: 1.1702\n",
      "Validation Macro F1: 0.5864\n",
      "클래스 0 (협박 대화) F1: 0.5000\n",
      "클래스 1 (갈취 대화) F1: 0.4766\n",
      "클래스 2 (직장 내 괴롭힘 대화) F1: 0.5376\n",
      "클래스 3 (기타 괴롭힘 대화) F1: 0.5054\n",
      "클래스 4 (일반 대화) F1: 0.9124\n",
      "성능 향상 없음: 2/5\n",
      "\n",
      "Epoch 81/100 (학습률: 3.00e-06)\n"
     ]
    },
    {
     "name": "stderr",
     "output_type": "stream",
     "text": [
      "학습 중: 100%|██████████| 109/109 [00:06<00:00, 17.74it/s, loss=1.2009]\n"
     ]
    },
    {
     "name": "stdout",
     "output_type": "stream",
     "text": [
      "Train Loss: 1.2009\n"
     ]
    },
    {
     "name": "stderr",
     "output_type": "stream",
     "text": [
      "평가 중: 100%|██████████| 24/24 [00:01<00:00, 16.70it/s]\n"
     ]
    },
    {
     "name": "stdout",
     "output_type": "stream",
     "text": [
      "Validation Loss: 1.1696\n",
      "Validation Macro F1: 0.5821\n",
      "클래스 0 (협박 대화) F1: 0.4961\n",
      "클래스 1 (갈취 대화) F1: 0.4729\n",
      "클래스 2 (직장 내 괴롭힘 대화) F1: 0.5290\n",
      "클래스 3 (기타 괴롭힘 대화) F1: 0.5027\n",
      "클래스 4 (일반 대화) F1: 0.9096\n",
      "성능 향상 없음: 3/5\n",
      "\n",
      "Epoch 82/100 (학습률: 2.85e-06)\n"
     ]
    },
    {
     "name": "stderr",
     "output_type": "stream",
     "text": [
      "학습 중: 100%|██████████| 109/109 [00:06<00:00, 17.81it/s, loss=1.1960]\n"
     ]
    },
    {
     "name": "stdout",
     "output_type": "stream",
     "text": [
      "Train Loss: 1.1960\n"
     ]
    },
    {
     "name": "stderr",
     "output_type": "stream",
     "text": [
      "평가 중: 100%|██████████| 24/24 [00:01<00:00, 16.58it/s]\n"
     ]
    },
    {
     "name": "stdout",
     "output_type": "stream",
     "text": [
      "Validation Loss: 1.1690\n",
      "Validation Macro F1: 0.5821\n",
      "클래스 0 (협박 대화) F1: 0.4961\n",
      "클래스 1 (갈취 대화) F1: 0.4729\n",
      "클래스 2 (직장 내 괴롭힘 대화) F1: 0.5290\n",
      "클래스 3 (기타 괴롭힘 대화) F1: 0.5027\n",
      "클래스 4 (일반 대화) F1: 0.9096\n",
      "성능 향상 없음: 4/5\n",
      "\n",
      "Epoch 83/100 (학습률: 2.70e-06)\n"
     ]
    },
    {
     "name": "stderr",
     "output_type": "stream",
     "text": [
      "학습 중: 100%|██████████| 109/109 [00:06<00:00, 17.77it/s, loss=1.2018]\n"
     ]
    },
    {
     "name": "stdout",
     "output_type": "stream",
     "text": [
      "Train Loss: 1.2018\n"
     ]
    },
    {
     "name": "stderr",
     "output_type": "stream",
     "text": [
      "평가 중: 100%|██████████| 24/24 [00:01<00:00, 16.75it/s]\n",
      "<ipython-input-6-89288e5b8766>:342: UserWarning: Glyph 8722 (\\N{MINUS SIGN}) missing from font(s) NanumGothic.\n",
      "  plt.tight_layout()\n"
     ]
    },
    {
     "name": "stdout",
     "output_type": "stream",
     "text": [
      "Validation Loss: 1.1679\n",
      "Validation Macro F1: 0.5865\n",
      "클래스 0 (협박 대화) F1: 0.4981\n",
      "클래스 1 (갈취 대화) F1: 0.4729\n",
      "클래스 2 (직장 내 괴롭힘 대화) F1: 0.5409\n",
      "클래스 3 (기타 괴롭힘 대화) F1: 0.5055\n",
      "클래스 4 (일반 대화) F1: 0.9152\n",
      "성능 향상 없음: 5/5\n",
      "\n",
      "Early Stopping! 5번의 에폭 동안 성능 향상 없음.\n"
     ]
    },
    {
     "name": "stderr",
     "output_type": "stream",
     "text": [
      "<ipython-input-6-89288e5b8766>:343: UserWarning: Glyph 8722 (\\N{MINUS SIGN}) missing from font(s) NanumGothic.\n",
      "  plt.savefig('training_history.png')\n",
      "평가 중: 100%|██████████| 24/24 [00:01<00:00, 16.57it/s]\n"
     ]
    },
    {
     "name": "stdout",
     "output_type": "stream",
     "text": [
      "\n",
      "테스트 결과:\n",
      "Test Loss: 1.1499\n",
      "Test Macro F1: 0.6095\n",
      "\n",
      "분류 보고서:\n",
      "              precision    recall  f1-score   support\n",
      "\n",
      "       협박 대화       0.54      0.57      0.55       134\n",
      "       갈취 대화       0.58      0.40      0.48       146\n",
      " 직장 내 괴롭힘 대화       0.58      0.50      0.54       145\n",
      "   기타 괴롭힘 대화       0.48      0.64      0.55       152\n",
      "       일반 대화       0.92      0.94      0.93       169\n",
      "\n",
      "    accuracy                           0.62       746\n",
      "   macro avg       0.62      0.61      0.61       746\n",
      "weighted avg       0.63      0.62      0.62       746\n",
      "\n",
      "W: Skipping acquire of configured file 'main/source/Sources' as repository 'https://r2u.stat.illinois.edu/ubuntu jammy InRelease' does not seem to provide it (sources.list entry misspelt?)\n"
     ]
    },
    {
     "name": "stderr",
     "output_type": "stream",
     "text": [
      "Some weights of ElectraForSequenceClassification were not initialized from the model checkpoint at monologg/koelectra-base-v3-discriminator and are newly initialized: ['classifier.dense.bias', 'classifier.dense.weight', 'classifier.out_proj.bias', 'classifier.out_proj.weight']\n",
      "You should probably TRAIN this model on a down-stream task to be able to use it for predictions and inference.\n",
      "테스트 예측 중: 100%|██████████| 16/16 [00:01<00:00, 14.85it/s]\n"
     ]
    },
    {
     "name": "stdout",
     "output_type": "stream",
     "text": [
      "제출 파일 생성 완료: submission.csv\n"
     ]
    }
   ],
   "source": [
    "import os\n",
    "import numpy as np\n",
    "import pandas as pd\n",
    "from sklearn.model_selection import train_test_split\n",
    "from sklearn.metrics import classification_report, f1_score, confusion_matrix\n",
    "import torch\n",
    "from torch.utils.data import Dataset, DataLoader\n",
    "from transformers import ElectraTokenizer, ElectraForSequenceClassification\n",
    "from transformers import get_linear_schedule_with_warmup\n",
    "from torch.optim import AdamW\n",
    "from tqdm import tqdm\n",
    "import random\n",
    "import matplotlib.pyplot as plt\n",
    "import seaborn as sns\n",
    "\n",
    "# 시드 고정\n",
    "def set_seed(seed_value=42):\n",
    "    random.seed(seed_value)\n",
    "    np.random.seed(seed_value)\n",
    "    torch.manual_seed(seed_value)\n",
    "    torch.cuda.manual_seed_all(seed_value)\n",
    "    torch.backends.cudnn.deterministic = True\n",
    "\n",
    "set_seed(42)\n",
    "\n",
    "# 설정값\n",
    "MODEL_NAME = \"monologg/koelectra-base-v3-discriminator\"\n",
    "MAX_LEN = 128\n",
    "BATCH_SIZE = 32\n",
    "EPOCHS = 100  # 에폭 100으로 유지\n",
    "SCHEDULER_EPOCHS = 5  # 스케줄러용 에폭 (원래 설정 유지)\n",
    "EARLY_STOPPING_PATIENCE = 5  # 연속 5번의 에폭 동안 성능이 향상되지 않으면 학습 중단\n",
    "LEARNING_RATE = 1.5e-5  # 8e-6에서 증가\n",
    "TRAIN_FILE = \"data/train_preprocessed_1.csv\" # 줄 바꿈 표시 x, 불용어 X\n",
    "TEXT_COL = \"text\"\n",
    "LABEL_COL = \"class\"\n",
    "LABEL_DICT = {'협박 대화': 0, '갈취 대화': 1, '직장 내 괴롭힘 대화': 2, '기타 괴롭힘 대화': 3, '일반 대화': 4}\n",
    "ID_TO_LABEL = {v: k for k, v in LABEL_DICT.items()}\n",
    "GPU_NUM = 0\n",
    "TEST_FILE = \"data/test.csv\"\n",
    "\n",
    "# 1. 데이터 로드 및 전처리\n",
    "print(\"데이터 로드 중...\")\n",
    "df = pd.read_csv(TRAIN_FILE)\n",
    "\n",
    "# 라벨 매핑\n",
    "df[LABEL_COL] = df[LABEL_COL].map(LABEL_DICT)\n",
    "\n",
    "# 데이터 분할\n",
    "train_df, temp_df = train_test_split(df, test_size=0.3, random_state=42, stratify=df[LABEL_COL])\n",
    "val_df, test_df = train_test_split(temp_df, test_size=0.5, random_state=42, stratify=temp_df[LABEL_COL])\n",
    "\n",
    "print(f\"학습 데이터 크기: {len(train_df)}\")\n",
    "print(f\"검증 데이터 크기: {len(val_df)}\")\n",
    "print(f\"테스트 데이터 크기: {len(test_df)}\")\n",
    "\n",
    "# 클래스별 데이터 개수 확인\n",
    "print(\"학습 데이터의 클래스 분포:\")\n",
    "print(train_df[LABEL_COL].value_counts())\n",
    "\n",
    "# 2. Dataset 클래스 정의\n",
    "class TextClassificationDataset(Dataset):\n",
    "    def __init__(self, texts, labels, tokenizer, max_len):\n",
    "        self.texts = texts\n",
    "        self.labels = labels\n",
    "        self.tokenizer = tokenizer\n",
    "        self.max_len = max_len\n",
    "\n",
    "    def __len__(self):\n",
    "        return len(self.texts)\n",
    "\n",
    "    def __getitem__(self, idx):\n",
    "        text = str(self.texts[idx])\n",
    "        label = self.labels[idx]\n",
    "\n",
    "        encoding = self.tokenizer.encode_plus(\n",
    "            text,\n",
    "            add_special_tokens=True,\n",
    "            max_length=self.max_len,\n",
    "            return_token_type_ids=True,\n",
    "            padding='max_length',\n",
    "            truncation=True,\n",
    "            return_attention_mask=True,\n",
    "            return_tensors='pt'\n",
    "        )\n",
    "\n",
    "        return {\n",
    "            'text': text,\n",
    "            'input_ids': encoding['input_ids'].flatten(),\n",
    "            'attention_mask': encoding['attention_mask'].flatten(),\n",
    "            'token_type_ids': encoding['token_type_ids'].flatten(),\n",
    "            'labels': torch.tensor(label, dtype=torch.long)\n",
    "        }\n",
    "\n",
    "# 3. 데이터 로더 생성\n",
    "def create_data_loader(df, tokenizer, max_len, batch_size):\n",
    "    dataset = TextClassificationDataset(\n",
    "        texts=df[TEXT_COL].values,\n",
    "        labels=df[LABEL_COL].values,\n",
    "        tokenizer=tokenizer,\n",
    "        max_len=max_len\n",
    "    )\n",
    "\n",
    "    return DataLoader(\n",
    "        dataset,\n",
    "        batch_size=batch_size,\n",
    "        num_workers=2\n",
    "    )\n",
    "\n",
    "# 4. 토크나이저 및 모델 로드\n",
    "print(f\"모델 '{MODEL_NAME}' 로드 중...\")\n",
    "tokenizer = ElectraTokenizer.from_pretrained(MODEL_NAME)\n",
    "model = ElectraForSequenceClassification.from_pretrained(MODEL_NAME, num_labels=len(LABEL_DICT))\n",
    "\n",
    "# ELECTRA 인코더 부분 freeze\n",
    "for param in model.electra.parameters():\n",
    "    param.requires_grad = False\n",
    "\n",
    "# classifier 부분만 학습 가능하게 설정\n",
    "for param in model.classifier.parameters():\n",
    "    param.requires_grad = True\n",
    "\n",
    "# 학습 가능한 파라미터 확인 (디버깅용)\n",
    "trainable_params = 0\n",
    "all_param = 0\n",
    "for name, param in model.named_parameters():\n",
    "    all_param += param.numel()\n",
    "    if param.requires_grad:\n",
    "        trainable_params += param.numel()\n",
    "        print(f\"✅ 학습 대상: {name}\")\n",
    "print(f\"🔢 학습 대상 파라미터 수: {trainable_params:,} / 전체 파라미터 수: {all_param:,} ({trainable_params/all_param:.2%})\")\n",
    "\n",
    "# 5. 데이터 로더 생성\n",
    "train_data_loader = create_data_loader(train_df, tokenizer, MAX_LEN, BATCH_SIZE)\n",
    "val_data_loader = create_data_loader(val_df, tokenizer, MAX_LEN, BATCH_SIZE)\n",
    "test_data_loader = create_data_loader(test_df, tokenizer, MAX_LEN, BATCH_SIZE)\n",
    "\n",
    "# 6. 클래스 가중치 설정 (수동 조정) - 성능이 낮은 클래스에 더 높은 가중치 부여\n",
    "# 클래스 가중치 수동 조정 - F1 점수가 낮은 클래스에 더 높은 가중치 부여\n",
    "class_weights = [1.8, 1.8, 1.8, 2.0, 0.7]  # 기타 괴롭힘 대화에 적당한 가중치\n",
    "\n",
    "print(\"수동 설정된 클래스별 가중치:\")\n",
    "for i, weight in enumerate(class_weights):\n",
    "    print(f\"클래스 {i} ({ID_TO_LABEL[i]}): {weight:.4f}\")\n",
    "\n",
    "# 7. 모델 학습 함수 (가중치 적용한 손실 함수 사용)\n",
    "def train_model(model, data_loader, optimizer, scheduler, device, class_weights_tensor):\n",
    "    model.train()\n",
    "    losses = []\n",
    "\n",
    "    progress_bar = tqdm(data_loader, desc=\"학습 중\")\n",
    "\n",
    "    for batch in progress_bar:\n",
    "        optimizer.zero_grad()\n",
    "\n",
    "        input_ids = batch['input_ids'].to(device)\n",
    "        attention_mask = batch['attention_mask'].to(device)\n",
    "        token_type_ids = batch['token_type_ids'].to(device)\n",
    "        labels = batch['labels'].to(device)\n",
    "\n",
    "        outputs = model(\n",
    "            input_ids=input_ids,\n",
    "            attention_mask=attention_mask,\n",
    "            token_type_ids=token_type_ids,\n",
    "            labels=labels\n",
    "        )\n",
    "\n",
    "        # 기본 손실 함수 대신 가중치가 적용된 손실 함수 사용\n",
    "        logits = outputs.logits\n",
    "        loss_fct = torch.nn.CrossEntropyLoss(weight=class_weights_tensor)\n",
    "        loss = loss_fct(logits.view(-1, model.config.num_labels), labels.view(-1))\n",
    "\n",
    "        loss.backward()\n",
    "\n",
    "        torch.nn.utils.clip_grad_norm_(model.parameters(), max_norm=1.0)\n",
    "\n",
    "        optimizer.step()\n",
    "        scheduler.step()\n",
    "\n",
    "        losses.append(loss.item())\n",
    "        progress_bar.set_postfix({\"loss\": f\"{np.mean(losses):.4f}\"})\n",
    "\n",
    "    return np.mean(losses)\n",
    "\n",
    "# 8. 모델 평가 함수\n",
    "def evaluate_model(model, data_loader, device, class_weights_tensor=None):\n",
    "    model.eval()\n",
    "    losses = []\n",
    "    predictions = []\n",
    "    real_labels = []\n",
    "\n",
    "    with torch.no_grad():\n",
    "        for batch in tqdm(data_loader, desc=\"평가 중\"):\n",
    "            input_ids = batch['input_ids'].to(device)\n",
    "            attention_mask = batch['attention_mask'].to(device)\n",
    "            token_type_ids = batch['token_type_ids'].to(device)\n",
    "            labels = batch['labels'].to(device)\n",
    "\n",
    "            outputs = model(\n",
    "                input_ids=input_ids,\n",
    "                attention_mask=attention_mask,\n",
    "                token_type_ids=token_type_ids\n",
    "            )\n",
    "\n",
    "            # 평가 시에도 동일한 가중치 적용\n",
    "            if class_weights_tensor is not None:\n",
    "                loss_fct = torch.nn.CrossEntropyLoss(weight=class_weights_tensor)\n",
    "                loss = loss_fct(outputs.logits.view(-1, model.config.num_labels), labels.view(-1))\n",
    "            else:\n",
    "                loss_fct = torch.nn.CrossEntropyLoss()\n",
    "                loss = loss_fct(outputs.logits.view(-1, model.config.num_labels), labels.view(-1))\n",
    "\n",
    "            _, preds = torch.max(outputs.logits, dim=1)\n",
    "\n",
    "            losses.append(loss.item())\n",
    "            predictions.extend(preds.detach().cpu().numpy())\n",
    "            real_labels.extend(labels.detach().cpu().numpy())\n",
    "\n",
    "    return np.mean(losses), predictions, real_labels\n",
    "\n",
    "# 9. 혼동 행렬 시각화 함수\n",
    "def plot_confusion_matrix(cm, classes):\n",
    "    try:\n",
    "        # 방법 1: 나눔 글꼴 설치 및 사용\n",
    "        !apt-get update -qq\n",
    "        !apt-get install fonts-nanum -qq\n",
    "        plt.rc('font', family='NanumGothic')\n",
    "    except:\n",
    "        try:\n",
    "            # 방법 2: 한글 레이블을 영어로 변환\n",
    "            classes = ['Threat', 'Extortion', 'Workplace Harassment', 'Other Harassment', 'Normal Conversation']\n",
    "        except:\n",
    "            pass\n",
    "\n",
    "    plt.figure(figsize=(10, 8))\n",
    "    sns.heatmap(cm, annot=True, fmt='d', cmap='Blues', xticklabels=classes, yticklabels=classes)\n",
    "    plt.xlabel('예측값')\n",
    "    plt.ylabel('실제값')\n",
    "    plt.title('혼동 행렬')\n",
    "    plt.savefig('confusion_matrix.png')\n",
    "    plt.close()\n",
    "\n",
    "# 10. 학습 메인 함수\n",
    "def train():\n",
    "    # GPU 사용 설정\n",
    "    device = torch.device(f\"cuda:{GPU_NUM}\" if torch.cuda.is_available() else \"cpu\")\n",
    "    print(f\"사용 중인 디바이스: {device}\")\n",
    "    model.to(device)\n",
    "\n",
    "    # 클래스 가중치 텐서를 디바이스로 이동\n",
    "    class_weights_tensor = torch.FloatTensor(class_weights).to(device)\n",
    "\n",
    "    # 옵티마이저 및 스케줄러 설정\n",
    "    optimizer = AdamW(model.parameters(), lr=LEARNING_RATE)\n",
    "\n",
    "    # 전체 스텝 설정 - 여기서는 EPOCHS 전체를 사용\n",
    "    total_steps = len(train_data_loader) * EPOCHS\n",
    "\n",
    "    # 학습률 스케줄러 설정 - 더 느린 감소율 적용\n",
    "    scheduler = get_linear_schedule_with_warmup(\n",
    "        optimizer,\n",
    "        num_warmup_steps=0,\n",
    "        num_training_steps=total_steps\n",
    "    )\n",
    "\n",
    "    # 학습 시작\n",
    "    best_val_f1 = 0\n",
    "    patience_counter = 0  # Early Stopping을 위한 카운터\n",
    "\n",
    "    # 에폭별 성능 기록\n",
    "    train_losses = []\n",
    "    val_losses = []\n",
    "    val_f1_scores = []\n",
    "    learning_rates = []\n",
    "\n",
    "    for epoch in range(EPOCHS):\n",
    "        # 현재 학습률 가져오기\n",
    "        current_lr = optimizer.param_groups[0]['lr']\n",
    "        learning_rates.append(current_lr)\n",
    "\n",
    "        print(f\"\\nEpoch {epoch + 1}/{EPOCHS} (학습률: {current_lr:.2e})\")\n",
    "\n",
    "        # 학습\n",
    "        train_loss = train_model(model, train_data_loader, optimizer, scheduler, device, class_weights_tensor)\n",
    "        train_losses.append(train_loss)\n",
    "        print(f\"Train Loss: {train_loss:.4f}\")\n",
    "\n",
    "        # 검증\n",
    "        val_loss, val_predictions, val_labels = evaluate_model(model, val_data_loader, device, class_weights_tensor)\n",
    "        val_losses.append(val_loss)\n",
    "        val_f1 = f1_score(val_labels, val_predictions, average='macro')\n",
    "        val_f1_scores.append(val_f1)\n",
    "\n",
    "        print(f\"Validation Loss: {val_loss:.4f}\")\n",
    "        print(f\"Validation Macro F1: {val_f1:.4f}\")\n",
    "\n",
    "        # 클래스별 F1 점수 출력\n",
    "        class_f1 = f1_score(val_labels, val_predictions, average=None)\n",
    "        for i, score in enumerate(class_f1):\n",
    "            print(f\"클래스 {i} ({ID_TO_LABEL[i]}) F1: {score:.4f}\")\n",
    "\n",
    "        # 최고 성능 모델 저장 및 Early Stopping 로직\n",
    "        if val_f1 > best_val_f1:\n",
    "            best_val_f1 = val_f1\n",
    "            torch.save(model.state_dict(), \"best_model.pth\")\n",
    "            print(f\"모델 저장됨: best_model.pth (F1: {val_f1:.4f})\")\n",
    "            patience_counter = 0  # 성능이 향상되었으므로 카운터 초기화\n",
    "        else:\n",
    "            patience_counter += 1  # 성능이 향상되지 않았으므로 카운터 증가\n",
    "            print(f\"성능 향상 없음: {patience_counter}/{EARLY_STOPPING_PATIENCE}\")\n",
    "\n",
    "            # Early Stopping 조건 확인\n",
    "            if patience_counter >= EARLY_STOPPING_PATIENCE:\n",
    "                print(f\"\\nEarly Stopping! {EARLY_STOPPING_PATIENCE}번의 에폭 동안 성능 향상 없음.\")\n",
    "                break\n",
    "\n",
    "    # 학습 과정 시각화\n",
    "    plt.figure(figsize=(12, 8))\n",
    "\n",
    "    plt.subplot(2, 2, 1)\n",
    "    plt.plot(train_losses, label='Train Loss')\n",
    "    plt.plot(val_losses, label='Validation Loss')\n",
    "    plt.xlabel('Epoch')\n",
    "    plt.ylabel('Loss')\n",
    "    plt.legend()\n",
    "    plt.title('Training and Validation Loss')\n",
    "\n",
    "    plt.subplot(2, 2, 2)\n",
    "    plt.plot(val_f1_scores, label='Validation F1')\n",
    "    plt.xlabel('Epoch')\n",
    "    plt.ylabel('F1 Score')\n",
    "    plt.legend()\n",
    "    plt.title('Validation F1 Score')\n",
    "\n",
    "    plt.subplot(2, 2, 3)\n",
    "    plt.plot(learning_rates, label='Learning Rate')\n",
    "    plt.xlabel('Epoch')\n",
    "    plt.ylabel('Learning Rate')\n",
    "    plt.legend()\n",
    "    plt.title('Learning Rate Schedule')\n",
    "\n",
    "    plt.tight_layout()\n",
    "    plt.savefig('training_history.png')\n",
    "    plt.close()\n",
    "\n",
    "    # 최고 성능 모델 로드\n",
    "    model.load_state_dict(torch.load(\"best_model.pth\"))\n",
    "\n",
    "    # 테스트 세트 평가\n",
    "    test_loss, test_predictions, test_labels = evaluate_model(model, test_data_loader, device, class_weights_tensor)\n",
    "    test_f1 = f1_score(test_labels, test_predictions, average='macro')\n",
    "\n",
    "    print(\"\\n테스트 결과:\")\n",
    "    print(f\"Test Loss: {test_loss:.4f}\")\n",
    "    print(f\"Test Macro F1: {test_f1:.4f}\")\n",
    "\n",
    "    # 분류 보고서 출력\n",
    "    class_names = [ID_TO_LABEL[i] for i in range(len(LABEL_DICT))]\n",
    "    print(\"\\n분류 보고서:\")\n",
    "    print(classification_report(test_labels, test_predictions, target_names=class_names))\n",
    "\n",
    "    # 혼동 행렬 시각화\n",
    "    cm = confusion_matrix(test_labels, test_predictions)\n",
    "    plot_confusion_matrix(cm, class_names)\n",
    "\n",
    "    return model\n",
    "\n",
    "# 11. 실제 테스트 데이터 예측 및 제출 파일 생성\n",
    "def predict_and_save():\n",
    "    # 테스트 파일 로드\n",
    "    test_data = pd.read_csv(TEST_FILE)\n",
    "\n",
    "    # Dataset 생성\n",
    "    class TestDataset(Dataset):\n",
    "        def __init__(self, texts, tokenizer, max_len):\n",
    "            self.texts = texts\n",
    "            self.tokenizer = tokenizer\n",
    "            self.max_len = max_len\n",
    "\n",
    "        def __len__(self):\n",
    "            return len(self.texts)\n",
    "\n",
    "        def __getitem__(self, idx):\n",
    "            text = str(self.texts[idx])\n",
    "\n",
    "            encoding = self.tokenizer.encode_plus(\n",
    "                text,\n",
    "                add_special_tokens=True,\n",
    "                max_length=self.max_len,\n",
    "                return_token_type_ids=True,\n",
    "                padding='max_length',\n",
    "                truncation=True,\n",
    "                return_attention_mask=True,\n",
    "                return_tensors='pt'\n",
    "            )\n",
    "\n",
    "            return {\n",
    "                'text': text,\n",
    "                'input_ids': encoding['input_ids'].flatten(),\n",
    "                'attention_mask': encoding['attention_mask'].flatten(),\n",
    "                'token_type_ids': encoding['token_type_ids'].flatten(),\n",
    "            }\n",
    "\n",
    "    # 테스트 데이터 로더 생성\n",
    "    test_dataset = TestDataset(\n",
    "        texts=test_data['text'].values,\n",
    "        tokenizer=tokenizer,\n",
    "        max_len=MAX_LEN\n",
    "    )\n",
    "\n",
    "    test_data_loader = DataLoader(\n",
    "        test_dataset,\n",
    "        batch_size=BATCH_SIZE,\n",
    "        num_workers=2\n",
    "    )\n",
    "\n",
    "    # GPU 설정\n",
    "    device = torch.device(f\"cuda:{GPU_NUM}\" if torch.cuda.is_available() else \"cpu\")\n",
    "\n",
    "    # 최고 성능 모델 로드\n",
    "    model = ElectraForSequenceClassification.from_pretrained(MODEL_NAME, num_labels=len(LABEL_DICT))\n",
    "    model.load_state_dict(torch.load(\"best_model.pth\"))\n",
    "    model.to(device)\n",
    "\n",
    "    # 예측\n",
    "    model.eval()\n",
    "    predictions = []\n",
    "\n",
    "    with torch.no_grad():\n",
    "        for batch in tqdm(test_data_loader, desc=\"테스트 예측 중\"):\n",
    "            input_ids = batch['input_ids'].to(device)\n",
    "            attention_mask = batch['attention_mask'].to(device)\n",
    "            token_type_ids = batch['token_type_ids'].to(device)\n",
    "\n",
    "            outputs = model(\n",
    "                input_ids=input_ids,\n",
    "                attention_mask=attention_mask,\n",
    "                token_type_ids=token_type_ids\n",
    "            )\n",
    "\n",
    "            _, preds = torch.max(outputs.logits, dim=1)\n",
    "            predictions.extend(preds.detach().cpu().numpy())\n",
    "\n",
    "    # 예측 결과 라벨로 변환\n",
    "    label_predictions = [ID_TO_LABEL[p] for p in predictions]\n",
    "\n",
    "    # 제출 파일 생성\n",
    "    submission = pd.DataFrame({\n",
    "        'idx': test_data['idx'],\n",
    "        'class': label_predictions\n",
    "    })\n",
    "\n",
    "    submission.to_csv('submission.csv', index=False)\n",
    "    print(f\"제출 파일 생성 완료: submission.csv\")\n",
    "\n",
    "# 메인 실행\n",
    "if __name__ == \"__main__\":\n",
    "    # 모델 학습\n",
    "    model = train()\n",
    "\n",
    "    # 테스트 데이터 예측 및 제출 파일 생성\n",
    "    predict_and_save()"
   ]
  },
  {
   "cell_type": "markdown",
   "metadata": {
    "id": "49Jgx-KIMjUi"
   },
   "source": [
    "#### 전체 모델 한번 학습하기\n",
    "  - 현재는 ELECTRA 인코더를 고정하고 분류기만 학습하고 있는데, 이는 학습 데이터가 충분하다면 모델의 표현력을 제한할 수 있어 전체 모델을 미세 조정하는 방법을 시도 (F1 점수 높이기 위해서)\n",
    "  - 비교/대조를 위해 이전 전체 모델 학습 환경에 맞춰 진행\n",
    "    - 같은 결과 확인\n",
    "- 클래스 불균형 해결\n",
    "  - 클래스 가중치 적용: 클래스별 샘플 수에 반비례하는 가중치를 계산하여 적용\n",
    "    - **성능 향상 있었지만, 아래에서 점수가 예상 이하**  \n",
    "    https://www.kaggle.com/competitions/aiffel-dl-thon-dktc-online-13-a/submissions\n",
    "    \n",
    "    - 모델 개선 시 성능 향상 (점수 향상으로 이어지는) 있겠지만, 최종적으로 학습 데이터 (구성) 탓을 하게 됨"
   ]
  },
  {
   "cell_type": "code",
   "execution_count": null,
   "metadata": {
    "colab": {
     "base_uri": "https://localhost:8080/"
    },
    "executionInfo": {
     "elapsed": 171572,
     "status": "ok",
     "timestamp": 1746653441228,
     "user": {
      "displayName": "김지환",
      "userId": "17439535786603393953"
     },
     "user_tz": -540
    },
    "id": "RDLuGcvSysQ9",
    "outputId": "9896b9ab-7b30-455d-a266-c029198c1d2e",
    "scrolled": true
   },
   "outputs": [
    {
     "name": "stdout",
     "output_type": "stream",
     "text": [
      "데이터 로드 중...\n",
      "학습 데이터 크기: 3477\n",
      "검증 데이터 크기: 745\n",
      "테스트 데이터 크기: 746\n",
      "학습 데이터의 클래스 분포:\n",
      "class\n",
      "4    786\n",
      "3    707\n",
      "1    681\n",
      "2    679\n",
      "0    624\n",
      "Name: count, dtype: int64\n",
      "모델 'monologg/koelectra-base-v3-discriminator' 로드 중...\n"
     ]
    },
    {
     "name": "stderr",
     "output_type": "stream",
     "text": [
      "Some weights of ElectraForSequenceClassification were not initialized from the model checkpoint at monologg/koelectra-base-v3-discriminator and are newly initialized: ['classifier.dense.bias', 'classifier.dense.weight', 'classifier.out_proj.bias', 'classifier.out_proj.weight']\n",
      "You should probably TRAIN this model on a down-stream task to be able to use it for predictions and inference.\n"
     ]
    },
    {
     "name": "stdout",
     "output_type": "stream",
     "text": [
      "✅ 학습 대상: electra.embeddings.word_embeddings.weight\n",
      "✅ 학습 대상: electra.embeddings.position_embeddings.weight\n",
      "✅ 학습 대상: electra.embeddings.token_type_embeddings.weight\n",
      "✅ 학습 대상: electra.embeddings.LayerNorm.weight\n",
      "✅ 학습 대상: electra.embeddings.LayerNorm.bias\n",
      "✅ 학습 대상: electra.encoder.layer.0.attention.self.query.weight\n",
      "✅ 학습 대상: electra.encoder.layer.0.attention.self.query.bias\n",
      "✅ 학습 대상: electra.encoder.layer.0.attention.self.key.weight\n",
      "✅ 학습 대상: electra.encoder.layer.0.attention.self.key.bias\n",
      "✅ 학습 대상: electra.encoder.layer.0.attention.self.value.weight\n",
      "✅ 학습 대상: electra.encoder.layer.0.attention.self.value.bias\n",
      "✅ 학습 대상: electra.encoder.layer.0.attention.output.dense.weight\n",
      "✅ 학습 대상: electra.encoder.layer.0.attention.output.dense.bias\n",
      "✅ 학습 대상: electra.encoder.layer.0.attention.output.LayerNorm.weight\n",
      "✅ 학습 대상: electra.encoder.layer.0.attention.output.LayerNorm.bias\n",
      "✅ 학습 대상: electra.encoder.layer.0.intermediate.dense.weight\n",
      "✅ 학습 대상: electra.encoder.layer.0.intermediate.dense.bias\n",
      "✅ 학습 대상: electra.encoder.layer.0.output.dense.weight\n",
      "✅ 학습 대상: electra.encoder.layer.0.output.dense.bias\n",
      "✅ 학습 대상: electra.encoder.layer.0.output.LayerNorm.weight\n",
      "✅ 학습 대상: electra.encoder.layer.0.output.LayerNorm.bias\n",
      "✅ 학습 대상: electra.encoder.layer.1.attention.self.query.weight\n",
      "✅ 학습 대상: electra.encoder.layer.1.attention.self.query.bias\n",
      "✅ 학습 대상: electra.encoder.layer.1.attention.self.key.weight\n",
      "✅ 학습 대상: electra.encoder.layer.1.attention.self.key.bias\n",
      "✅ 학습 대상: electra.encoder.layer.1.attention.self.value.weight\n",
      "✅ 학습 대상: electra.encoder.layer.1.attention.self.value.bias\n",
      "✅ 학습 대상: electra.encoder.layer.1.attention.output.dense.weight\n",
      "✅ 학습 대상: electra.encoder.layer.1.attention.output.dense.bias\n",
      "✅ 학습 대상: electra.encoder.layer.1.attention.output.LayerNorm.weight\n",
      "✅ 학습 대상: electra.encoder.layer.1.attention.output.LayerNorm.bias\n",
      "✅ 학습 대상: electra.encoder.layer.1.intermediate.dense.weight\n",
      "✅ 학습 대상: electra.encoder.layer.1.intermediate.dense.bias\n",
      "✅ 학습 대상: electra.encoder.layer.1.output.dense.weight\n",
      "✅ 학습 대상: electra.encoder.layer.1.output.dense.bias\n",
      "✅ 학습 대상: electra.encoder.layer.1.output.LayerNorm.weight\n",
      "✅ 학습 대상: electra.encoder.layer.1.output.LayerNorm.bias\n",
      "✅ 학습 대상: electra.encoder.layer.2.attention.self.query.weight\n",
      "✅ 학습 대상: electra.encoder.layer.2.attention.self.query.bias\n",
      "✅ 학습 대상: electra.encoder.layer.2.attention.self.key.weight\n",
      "✅ 학습 대상: electra.encoder.layer.2.attention.self.key.bias\n",
      "✅ 학습 대상: electra.encoder.layer.2.attention.self.value.weight\n",
      "✅ 학습 대상: electra.encoder.layer.2.attention.self.value.bias\n",
      "✅ 학습 대상: electra.encoder.layer.2.attention.output.dense.weight\n",
      "✅ 학습 대상: electra.encoder.layer.2.attention.output.dense.bias\n",
      "✅ 학습 대상: electra.encoder.layer.2.attention.output.LayerNorm.weight\n",
      "✅ 학습 대상: electra.encoder.layer.2.attention.output.LayerNorm.bias\n",
      "✅ 학습 대상: electra.encoder.layer.2.intermediate.dense.weight\n",
      "✅ 학습 대상: electra.encoder.layer.2.intermediate.dense.bias\n",
      "✅ 학습 대상: electra.encoder.layer.2.output.dense.weight\n",
      "✅ 학습 대상: electra.encoder.layer.2.output.dense.bias\n",
      "✅ 학습 대상: electra.encoder.layer.2.output.LayerNorm.weight\n",
      "✅ 학습 대상: electra.encoder.layer.2.output.LayerNorm.bias\n",
      "✅ 학습 대상: electra.encoder.layer.3.attention.self.query.weight\n",
      "✅ 학습 대상: electra.encoder.layer.3.attention.self.query.bias\n",
      "✅ 학습 대상: electra.encoder.layer.3.attention.self.key.weight\n",
      "✅ 학습 대상: electra.encoder.layer.3.attention.self.key.bias\n",
      "✅ 학습 대상: electra.encoder.layer.3.attention.self.value.weight\n",
      "✅ 학습 대상: electra.encoder.layer.3.attention.self.value.bias\n",
      "✅ 학습 대상: electra.encoder.layer.3.attention.output.dense.weight\n",
      "✅ 학습 대상: electra.encoder.layer.3.attention.output.dense.bias\n",
      "✅ 학습 대상: electra.encoder.layer.3.attention.output.LayerNorm.weight\n",
      "✅ 학습 대상: electra.encoder.layer.3.attention.output.LayerNorm.bias\n",
      "✅ 학습 대상: electra.encoder.layer.3.intermediate.dense.weight\n",
      "✅ 학습 대상: electra.encoder.layer.3.intermediate.dense.bias\n",
      "✅ 학습 대상: electra.encoder.layer.3.output.dense.weight\n",
      "✅ 학습 대상: electra.encoder.layer.3.output.dense.bias\n",
      "✅ 학습 대상: electra.encoder.layer.3.output.LayerNorm.weight\n",
      "✅ 학습 대상: electra.encoder.layer.3.output.LayerNorm.bias\n",
      "✅ 학습 대상: electra.encoder.layer.4.attention.self.query.weight\n",
      "✅ 학습 대상: electra.encoder.layer.4.attention.self.query.bias\n",
      "✅ 학습 대상: electra.encoder.layer.4.attention.self.key.weight\n",
      "✅ 학습 대상: electra.encoder.layer.4.attention.self.key.bias\n",
      "✅ 학습 대상: electra.encoder.layer.4.attention.self.value.weight\n",
      "✅ 학습 대상: electra.encoder.layer.4.attention.self.value.bias\n",
      "✅ 학습 대상: electra.encoder.layer.4.attention.output.dense.weight\n",
      "✅ 학습 대상: electra.encoder.layer.4.attention.output.dense.bias\n",
      "✅ 학습 대상: electra.encoder.layer.4.attention.output.LayerNorm.weight\n",
      "✅ 학습 대상: electra.encoder.layer.4.attention.output.LayerNorm.bias\n",
      "✅ 학습 대상: electra.encoder.layer.4.intermediate.dense.weight\n",
      "✅ 학습 대상: electra.encoder.layer.4.intermediate.dense.bias\n",
      "✅ 학습 대상: electra.encoder.layer.4.output.dense.weight\n",
      "✅ 학습 대상: electra.encoder.layer.4.output.dense.bias\n",
      "✅ 학습 대상: electra.encoder.layer.4.output.LayerNorm.weight\n",
      "✅ 학습 대상: electra.encoder.layer.4.output.LayerNorm.bias\n",
      "✅ 학습 대상: electra.encoder.layer.5.attention.self.query.weight\n",
      "✅ 학습 대상: electra.encoder.layer.5.attention.self.query.bias\n",
      "✅ 학습 대상: electra.encoder.layer.5.attention.self.key.weight\n",
      "✅ 학습 대상: electra.encoder.layer.5.attention.self.key.bias\n",
      "✅ 학습 대상: electra.encoder.layer.5.attention.self.value.weight\n",
      "✅ 학습 대상: electra.encoder.layer.5.attention.self.value.bias\n",
      "✅ 학습 대상: electra.encoder.layer.5.attention.output.dense.weight\n",
      "✅ 학습 대상: electra.encoder.layer.5.attention.output.dense.bias\n",
      "✅ 학습 대상: electra.encoder.layer.5.attention.output.LayerNorm.weight\n",
      "✅ 학습 대상: electra.encoder.layer.5.attention.output.LayerNorm.bias\n",
      "✅ 학습 대상: electra.encoder.layer.5.intermediate.dense.weight\n",
      "✅ 학습 대상: electra.encoder.layer.5.intermediate.dense.bias\n",
      "✅ 학습 대상: electra.encoder.layer.5.output.dense.weight\n",
      "✅ 학습 대상: electra.encoder.layer.5.output.dense.bias\n",
      "✅ 학습 대상: electra.encoder.layer.5.output.LayerNorm.weight\n",
      "✅ 학습 대상: electra.encoder.layer.5.output.LayerNorm.bias\n",
      "✅ 학습 대상: electra.encoder.layer.6.attention.self.query.weight\n",
      "✅ 학습 대상: electra.encoder.layer.6.attention.self.query.bias\n",
      "✅ 학습 대상: electra.encoder.layer.6.attention.self.key.weight\n",
      "✅ 학습 대상: electra.encoder.layer.6.attention.self.key.bias\n",
      "✅ 학습 대상: electra.encoder.layer.6.attention.self.value.weight\n",
      "✅ 학습 대상: electra.encoder.layer.6.attention.self.value.bias\n",
      "✅ 학습 대상: electra.encoder.layer.6.attention.output.dense.weight\n",
      "✅ 학습 대상: electra.encoder.layer.6.attention.output.dense.bias\n",
      "✅ 학습 대상: electra.encoder.layer.6.attention.output.LayerNorm.weight\n",
      "✅ 학습 대상: electra.encoder.layer.6.attention.output.LayerNorm.bias\n",
      "✅ 학습 대상: electra.encoder.layer.6.intermediate.dense.weight\n",
      "✅ 학습 대상: electra.encoder.layer.6.intermediate.dense.bias\n",
      "✅ 학습 대상: electra.encoder.layer.6.output.dense.weight\n",
      "✅ 학습 대상: electra.encoder.layer.6.output.dense.bias\n",
      "✅ 학습 대상: electra.encoder.layer.6.output.LayerNorm.weight\n",
      "✅ 학습 대상: electra.encoder.layer.6.output.LayerNorm.bias\n",
      "✅ 학습 대상: electra.encoder.layer.7.attention.self.query.weight\n",
      "✅ 학습 대상: electra.encoder.layer.7.attention.self.query.bias\n",
      "✅ 학습 대상: electra.encoder.layer.7.attention.self.key.weight\n",
      "✅ 학습 대상: electra.encoder.layer.7.attention.self.key.bias\n",
      "✅ 학습 대상: electra.encoder.layer.7.attention.self.value.weight\n",
      "✅ 학습 대상: electra.encoder.layer.7.attention.self.value.bias\n",
      "✅ 학습 대상: electra.encoder.layer.7.attention.output.dense.weight\n",
      "✅ 학습 대상: electra.encoder.layer.7.attention.output.dense.bias\n",
      "✅ 학습 대상: electra.encoder.layer.7.attention.output.LayerNorm.weight\n",
      "✅ 학습 대상: electra.encoder.layer.7.attention.output.LayerNorm.bias\n",
      "✅ 학습 대상: electra.encoder.layer.7.intermediate.dense.weight\n",
      "✅ 학습 대상: electra.encoder.layer.7.intermediate.dense.bias\n",
      "✅ 학습 대상: electra.encoder.layer.7.output.dense.weight\n",
      "✅ 학습 대상: electra.encoder.layer.7.output.dense.bias\n",
      "✅ 학습 대상: electra.encoder.layer.7.output.LayerNorm.weight\n",
      "✅ 학습 대상: electra.encoder.layer.7.output.LayerNorm.bias\n",
      "✅ 학습 대상: electra.encoder.layer.8.attention.self.query.weight\n",
      "✅ 학습 대상: electra.encoder.layer.8.attention.self.query.bias\n",
      "✅ 학습 대상: electra.encoder.layer.8.attention.self.key.weight\n",
      "✅ 학습 대상: electra.encoder.layer.8.attention.self.key.bias\n",
      "✅ 학습 대상: electra.encoder.layer.8.attention.self.value.weight\n",
      "✅ 학습 대상: electra.encoder.layer.8.attention.self.value.bias\n",
      "✅ 학습 대상: electra.encoder.layer.8.attention.output.dense.weight\n",
      "✅ 학습 대상: electra.encoder.layer.8.attention.output.dense.bias\n",
      "✅ 학습 대상: electra.encoder.layer.8.attention.output.LayerNorm.weight\n",
      "✅ 학습 대상: electra.encoder.layer.8.attention.output.LayerNorm.bias\n",
      "✅ 학습 대상: electra.encoder.layer.8.intermediate.dense.weight\n",
      "✅ 학습 대상: electra.encoder.layer.8.intermediate.dense.bias\n",
      "✅ 학습 대상: electra.encoder.layer.8.output.dense.weight\n",
      "✅ 학습 대상: electra.encoder.layer.8.output.dense.bias\n",
      "✅ 학습 대상: electra.encoder.layer.8.output.LayerNorm.weight\n",
      "✅ 학습 대상: electra.encoder.layer.8.output.LayerNorm.bias\n",
      "✅ 학습 대상: electra.encoder.layer.9.attention.self.query.weight\n",
      "✅ 학습 대상: electra.encoder.layer.9.attention.self.query.bias\n",
      "✅ 학습 대상: electra.encoder.layer.9.attention.self.key.weight\n",
      "✅ 학습 대상: electra.encoder.layer.9.attention.self.key.bias\n",
      "✅ 학습 대상: electra.encoder.layer.9.attention.self.value.weight\n",
      "✅ 학습 대상: electra.encoder.layer.9.attention.self.value.bias\n",
      "✅ 학습 대상: electra.encoder.layer.9.attention.output.dense.weight\n",
      "✅ 학습 대상: electra.encoder.layer.9.attention.output.dense.bias\n",
      "✅ 학습 대상: electra.encoder.layer.9.attention.output.LayerNorm.weight\n",
      "✅ 학습 대상: electra.encoder.layer.9.attention.output.LayerNorm.bias\n",
      "✅ 학습 대상: electra.encoder.layer.9.intermediate.dense.weight\n",
      "✅ 학습 대상: electra.encoder.layer.9.intermediate.dense.bias\n",
      "✅ 학습 대상: electra.encoder.layer.9.output.dense.weight\n",
      "✅ 학습 대상: electra.encoder.layer.9.output.dense.bias\n",
      "✅ 학습 대상: electra.encoder.layer.9.output.LayerNorm.weight\n",
      "✅ 학습 대상: electra.encoder.layer.9.output.LayerNorm.bias\n",
      "✅ 학습 대상: electra.encoder.layer.10.attention.self.query.weight\n",
      "✅ 학습 대상: electra.encoder.layer.10.attention.self.query.bias\n",
      "✅ 학습 대상: electra.encoder.layer.10.attention.self.key.weight\n",
      "✅ 학습 대상: electra.encoder.layer.10.attention.self.key.bias\n",
      "✅ 학습 대상: electra.encoder.layer.10.attention.self.value.weight\n",
      "✅ 학습 대상: electra.encoder.layer.10.attention.self.value.bias\n",
      "✅ 학습 대상: electra.encoder.layer.10.attention.output.dense.weight\n",
      "✅ 학습 대상: electra.encoder.layer.10.attention.output.dense.bias\n",
      "✅ 학습 대상: electra.encoder.layer.10.attention.output.LayerNorm.weight\n",
      "✅ 학습 대상: electra.encoder.layer.10.attention.output.LayerNorm.bias\n",
      "✅ 학습 대상: electra.encoder.layer.10.intermediate.dense.weight\n",
      "✅ 학습 대상: electra.encoder.layer.10.intermediate.dense.bias\n",
      "✅ 학습 대상: electra.encoder.layer.10.output.dense.weight\n",
      "✅ 학습 대상: electra.encoder.layer.10.output.dense.bias\n",
      "✅ 학습 대상: electra.encoder.layer.10.output.LayerNorm.weight\n",
      "✅ 학습 대상: electra.encoder.layer.10.output.LayerNorm.bias\n",
      "✅ 학습 대상: electra.encoder.layer.11.attention.self.query.weight\n",
      "✅ 학습 대상: electra.encoder.layer.11.attention.self.query.bias\n",
      "✅ 학습 대상: electra.encoder.layer.11.attention.self.key.weight\n",
      "✅ 학습 대상: electra.encoder.layer.11.attention.self.key.bias\n",
      "✅ 학습 대상: electra.encoder.layer.11.attention.self.value.weight\n",
      "✅ 학습 대상: electra.encoder.layer.11.attention.self.value.bias\n",
      "✅ 학습 대상: electra.encoder.layer.11.attention.output.dense.weight\n",
      "✅ 학습 대상: electra.encoder.layer.11.attention.output.dense.bias\n",
      "✅ 학습 대상: electra.encoder.layer.11.attention.output.LayerNorm.weight\n",
      "✅ 학습 대상: electra.encoder.layer.11.attention.output.LayerNorm.bias\n",
      "✅ 학습 대상: electra.encoder.layer.11.intermediate.dense.weight\n",
      "✅ 학습 대상: electra.encoder.layer.11.intermediate.dense.bias\n",
      "✅ 학습 대상: electra.encoder.layer.11.output.dense.weight\n",
      "✅ 학습 대상: electra.encoder.layer.11.output.dense.bias\n",
      "✅ 학습 대상: electra.encoder.layer.11.output.LayerNorm.weight\n",
      "✅ 학습 대상: electra.encoder.layer.11.output.LayerNorm.bias\n",
      "✅ 학습 대상: classifier.dense.weight\n",
      "✅ 학습 대상: classifier.dense.bias\n",
      "✅ 학습 대상: classifier.out_proj.weight\n",
      "✅ 학습 대상: classifier.out_proj.bias\n",
      "🔢 학습 대상 파라미터 수: 112,925,189 / 전체 파라미터 수: 112,925,189 (100.00%)\n",
      "수동 설정된 클래스별 가중치:\n",
      "클래스 0 (협박 대화): 2.8000\n",
      "클래스 1 (갈취 대화): 2.0000\n",
      "클래스 2 (직장 내 괴롭힘 대화): 1.5000\n",
      "클래스 3 (기타 괴롭힘 대화): 3.8000\n",
      "클래스 4 (일반 대화): 0.4000\n",
      "사용 중인 디바이스: cuda:0\n",
      "\n",
      "Epoch 1/10 (학습률: 2.00e-05)\n"
     ]
    },
    {
     "name": "stderr",
     "output_type": "stream",
     "text": [
      "학습 중: 100%|██████████| 109/109 [00:17<00:00,  6.15it/s, loss=1.2272]\n"
     ]
    },
    {
     "name": "stdout",
     "output_type": "stream",
     "text": [
      "Train Loss: 1.2272\n"
     ]
    },
    {
     "name": "stderr",
     "output_type": "stream",
     "text": [
      "평가 중: 100%|██████████| 24/24 [00:01<00:00, 17.05it/s]\n"
     ]
    },
    {
     "name": "stdout",
     "output_type": "stream",
     "text": [
      "Validation Loss: 0.8842\n",
      "Validation Macro F1: 0.7292\n",
      "클래스 0 (협박 대화) F1: 0.6699\n",
      "클래스 1 (갈취 대화) F1: 0.8000\n",
      "클래스 2 (직장 내 괴롭힘 대화) F1: 0.6781\n",
      "클래스 3 (기타 괴롭힘 대화) F1: 0.6067\n",
      "클래스 4 (일반 대화) F1: 0.8911\n",
      "모델 저장됨: best_model.pth (F1: 0.7292)\n",
      "\n",
      "Epoch 2/10 (학습률: 1.80e-05)\n"
     ]
    },
    {
     "name": "stderr",
     "output_type": "stream",
     "text": [
      "학습 중: 100%|██████████| 109/109 [00:17<00:00,  6.15it/s, loss=0.6450]\n"
     ]
    },
    {
     "name": "stdout",
     "output_type": "stream",
     "text": [
      "Train Loss: 0.6450\n"
     ]
    },
    {
     "name": "stderr",
     "output_type": "stream",
     "text": [
      "평가 중: 100%|██████████| 24/24 [00:01<00:00, 16.66it/s]\n"
     ]
    },
    {
     "name": "stdout",
     "output_type": "stream",
     "text": [
      "Validation Loss: 0.5162\n",
      "Validation Macro F1: 0.8693\n",
      "클래스 0 (협박 대화) F1: 0.8028\n",
      "클래스 1 (갈취 대화) F1: 0.8309\n",
      "클래스 2 (직장 내 괴롭힘 대화) F1: 0.9176\n",
      "클래스 3 (기타 괴롭힘 대화) F1: 0.8224\n",
      "클래스 4 (일반 대화) F1: 0.9726\n",
      "모델 저장됨: best_model.pth (F1: 0.8693)\n",
      "\n",
      "Epoch 3/10 (학습률: 1.60e-05)\n"
     ]
    },
    {
     "name": "stderr",
     "output_type": "stream",
     "text": [
      "학습 중: 100%|██████████| 109/109 [00:17<00:00,  6.15it/s, loss=0.3958]\n"
     ]
    },
    {
     "name": "stdout",
     "output_type": "stream",
     "text": [
      "Train Loss: 0.3958\n"
     ]
    },
    {
     "name": "stderr",
     "output_type": "stream",
     "text": [
      "평가 중: 100%|██████████| 24/24 [00:01<00:00, 17.09it/s]\n"
     ]
    },
    {
     "name": "stdout",
     "output_type": "stream",
     "text": [
      "Validation Loss: 0.4769\n",
      "Validation Macro F1: 0.8685\n",
      "클래스 0 (협박 대화) F1: 0.8085\n",
      "클래스 1 (갈취 대화) F1: 0.8205\n",
      "클래스 2 (직장 내 괴롭힘 대화) F1: 0.9124\n",
      "클래스 3 (기타 괴롭힘 대화) F1: 0.8221\n",
      "클래스 4 (일반 대화) F1: 0.9791\n",
      "성능 향상 없음: 1/2\n",
      "\n",
      "Epoch 4/10 (학습률: 1.40e-05)\n"
     ]
    },
    {
     "name": "stderr",
     "output_type": "stream",
     "text": [
      "학습 중: 100%|██████████| 109/109 [00:17<00:00,  6.15it/s, loss=0.2624]\n"
     ]
    },
    {
     "name": "stdout",
     "output_type": "stream",
     "text": [
      "Train Loss: 0.2624\n"
     ]
    },
    {
     "name": "stderr",
     "output_type": "stream",
     "text": [
      "평가 중: 100%|██████████| 24/24 [00:01<00:00, 16.93it/s]\n"
     ]
    },
    {
     "name": "stdout",
     "output_type": "stream",
     "text": [
      "Validation Loss: 0.4702\n",
      "Validation Macro F1: 0.8880\n",
      "클래스 0 (협박 대화) F1: 0.8258\n",
      "클래스 1 (갈취 대화) F1: 0.8581\n",
      "클래스 2 (직장 내 괴롭힘 대화) F1: 0.9258\n",
      "클래스 3 (기타 괴롭힘 대화) F1: 0.8391\n",
      "클래스 4 (일반 대화) F1: 0.9911\n",
      "모델 저장됨: best_model.pth (F1: 0.8880)\n",
      "\n",
      "Epoch 5/10 (학습률: 1.20e-05)\n"
     ]
    },
    {
     "name": "stderr",
     "output_type": "stream",
     "text": [
      "학습 중: 100%|██████████| 109/109 [00:17<00:00,  6.15it/s, loss=0.1899]\n"
     ]
    },
    {
     "name": "stdout",
     "output_type": "stream",
     "text": [
      "Train Loss: 0.1899\n"
     ]
    },
    {
     "name": "stderr",
     "output_type": "stream",
     "text": [
      "평가 중: 100%|██████████| 24/24 [00:01<00:00, 16.90it/s]\n"
     ]
    },
    {
     "name": "stdout",
     "output_type": "stream",
     "text": [
      "Validation Loss: 0.5040\n",
      "Validation Macro F1: 0.8848\n",
      "클래스 0 (협박 대화) F1: 0.8397\n",
      "클래스 1 (갈취 대화) F1: 0.8364\n",
      "클래스 2 (직장 내 괴롭힘 대화) F1: 0.9310\n",
      "클래스 3 (기타 괴롭힘 대화) F1: 0.8375\n",
      "클래스 4 (일반 대화) F1: 0.9796\n",
      "성능 향상 없음: 1/2\n",
      "\n",
      "Epoch 6/10 (학습률: 1.00e-05)\n"
     ]
    },
    {
     "name": "stderr",
     "output_type": "stream",
     "text": [
      "학습 중: 100%|██████████| 109/109 [00:17<00:00,  6.16it/s, loss=0.1348]\n"
     ]
    },
    {
     "name": "stdout",
     "output_type": "stream",
     "text": [
      "Train Loss: 0.1348\n"
     ]
    },
    {
     "name": "stderr",
     "output_type": "stream",
     "text": [
      "평가 중: 100%|██████████| 24/24 [00:01<00:00, 17.05it/s]\n"
     ]
    },
    {
     "name": "stdout",
     "output_type": "stream",
     "text": [
      "Validation Loss: 0.5188\n",
      "Validation Macro F1: 0.8946\n",
      "클래스 0 (협박 대화) F1: 0.8346\n",
      "클래스 1 (갈취 대화) F1: 0.8658\n",
      "클래스 2 (직장 내 괴롭힘 대화) F1: 0.9444\n",
      "클래스 3 (기타 괴롭힘 대화) F1: 0.8371\n",
      "클래스 4 (일반 대화) F1: 0.9911\n",
      "모델 저장됨: best_model.pth (F1: 0.8946)\n",
      "\n",
      "Epoch 7/10 (학습률: 8.00e-06)\n"
     ]
    },
    {
     "name": "stderr",
     "output_type": "stream",
     "text": [
      "학습 중: 100%|██████████| 109/109 [00:18<00:00,  6.03it/s, loss=0.1014]\n"
     ]
    },
    {
     "name": "stdout",
     "output_type": "stream",
     "text": [
      "Train Loss: 0.1014\n"
     ]
    },
    {
     "name": "stderr",
     "output_type": "stream",
     "text": [
      "평가 중: 100%|██████████| 24/24 [00:01<00:00, 16.73it/s]\n"
     ]
    },
    {
     "name": "stdout",
     "output_type": "stream",
     "text": [
      "Validation Loss: 0.5638\n",
      "Validation Macro F1: 0.8817\n",
      "클래스 0 (협박 대화) F1: 0.8125\n",
      "클래스 1 (갈취 대화) F1: 0.8428\n",
      "클래스 2 (직장 내 괴롭힘 대화) F1: 0.9301\n",
      "클래스 3 (기타 괴롭힘 대화) F1: 0.8377\n",
      "클래스 4 (일반 대화) F1: 0.9853\n",
      "성능 향상 없음: 1/2\n",
      "\n",
      "Epoch 8/10 (학습률: 6.00e-06)\n"
     ]
    },
    {
     "name": "stderr",
     "output_type": "stream",
     "text": [
      "학습 중: 100%|██████████| 109/109 [00:17<00:00,  6.15it/s, loss=0.0830]\n"
     ]
    },
    {
     "name": "stdout",
     "output_type": "stream",
     "text": [
      "Train Loss: 0.0830\n"
     ]
    },
    {
     "name": "stderr",
     "output_type": "stream",
     "text": [
      "평가 중: 100%|██████████| 24/24 [00:01<00:00, 17.04it/s]\n",
      "<ipython-input-5-0a124382cd12>:340: UserWarning: Glyph 8722 (\\N{MINUS SIGN}) missing from font(s) NanumGothic.\n",
      "  plt.tight_layout()\n"
     ]
    },
    {
     "name": "stdout",
     "output_type": "stream",
     "text": [
      "Validation Loss: 0.5778\n",
      "Validation Macro F1: 0.8845\n",
      "클래스 0 (협박 대화) F1: 0.8193\n",
      "클래스 1 (갈취 대화) F1: 0.8407\n",
      "클래스 2 (직장 내 괴롭힘 대화) F1: 0.9379\n",
      "클래스 3 (기타 괴롭힘 대화) F1: 0.8276\n",
      "클래스 4 (일반 대화) F1: 0.9970\n",
      "성능 향상 없음: 2/2\n",
      "\n",
      "Early Stopping! 2번의 에폭 동안 성능 향상 없음.\n"
     ]
    },
    {
     "name": "stderr",
     "output_type": "stream",
     "text": [
      "<ipython-input-5-0a124382cd12>:341: UserWarning: Glyph 8722 (\\N{MINUS SIGN}) missing from font(s) NanumGothic.\n",
      "  plt.savefig('training_history.png')\n",
      "평가 중: 100%|██████████| 24/24 [00:01<00:00, 16.86it/s]\n"
     ]
    },
    {
     "name": "stdout",
     "output_type": "stream",
     "text": [
      "\n",
      "테스트 결과:\n",
      "Test Loss: 0.4856\n",
      "Test Macro F1: 0.9076\n",
      "\n",
      "분류 보고서:\n",
      "              precision    recall  f1-score   support\n",
      "\n",
      "       협박 대화       0.90      0.84      0.86       134\n",
      "       갈취 대화       0.89      0.88      0.89       146\n",
      " 직장 내 괴롭힘 대화       0.95      0.95      0.95       145\n",
      "   기타 괴롭힘 대화       0.83      0.88      0.85       152\n",
      "       일반 대화       0.98      0.99      0.98       169\n",
      "\n",
      "    accuracy                           0.91       746\n",
      "   macro avg       0.91      0.91      0.91       746\n",
      "weighted avg       0.91      0.91      0.91       746\n",
      "\n",
      "W: Skipping acquire of configured file 'main/source/Sources' as repository 'https://r2u.stat.illinois.edu/ubuntu jammy InRelease' does not seem to provide it (sources.list entry misspelt?)\n"
     ]
    },
    {
     "name": "stderr",
     "output_type": "stream",
     "text": [
      "Some weights of ElectraForSequenceClassification were not initialized from the model checkpoint at monologg/koelectra-base-v3-discriminator and are newly initialized: ['classifier.dense.bias', 'classifier.dense.weight', 'classifier.out_proj.bias', 'classifier.out_proj.weight']\n",
      "You should probably TRAIN this model on a down-stream task to be able to use it for predictions and inference.\n",
      "테스트 예측 중: 100%|██████████| 16/16 [00:01<00:00, 15.48it/s]"
     ]
    },
    {
     "name": "stdout",
     "output_type": "stream",
     "text": [
      "제출 파일 생성 완료: submission.csv\n"
     ]
    },
    {
     "name": "stderr",
     "output_type": "stream",
     "text": [
      "\n"
     ]
    }
   ],
   "source": [
    "import os\n",
    "import numpy as np\n",
    "import pandas as pd\n",
    "from sklearn.model_selection import train_test_split\n",
    "from sklearn.metrics import classification_report, f1_score, confusion_matrix\n",
    "import torch\n",
    "from torch.utils.data import Dataset, DataLoader\n",
    "from transformers import ElectraTokenizer, ElectraForSequenceClassification\n",
    "from transformers import get_linear_schedule_with_warmup, get_cosine_schedule_with_warmup\n",
    "from torch.optim import AdamW\n",
    "from tqdm import tqdm\n",
    "import random\n",
    "import matplotlib.pyplot as plt\n",
    "import seaborn as sns\n",
    "import re\n",
    "from functools import partial\n",
    "\n",
    "# 시드 고정\n",
    "def set_seed(seed_value=42):\n",
    "    random.seed(seed_value)\n",
    "    np.random.seed(seed_value)\n",
    "    torch.manual_seed(seed_value)\n",
    "    torch.cuda.manual_seed_all(seed_value)\n",
    "    torch.backends.cudnn.deterministic = True\n",
    "\n",
    "set_seed(42)\n",
    "\n",
    "# 설정값\n",
    "MODEL_NAME = \"monologg/koelectra-base-v3-discriminator\"\n",
    "MAX_LEN = 128\n",
    "BATCH_SIZE = 32\n",
    "EPOCHS = 10\n",
    "EARLY_STOPPING_PATIENCE = 2\n",
    "LEARNING_RATE = 2e-5\n",
    "TRAIN_FILE = \"data/train_preprocessed_1.csv\"\n",
    "TEXT_COL = \"text\"\n",
    "LABEL_COL = \"class\"\n",
    "LABEL_DICT = {'협박 대화': 0, '갈취 대화': 1, '직장 내 괴롭힘 대화': 2, '기타 괴롭힘 대화': 3, '일반 대화': 4}\n",
    "ID_TO_LABEL = {v: k for k, v in LABEL_DICT.items()}\n",
    "GPU_NUM = 0\n",
    "TEST_FILE = \"data/test.csv\"\n",
    "\n",
    "# 1. 데이터 로드 및 전처리\n",
    "print(\"데이터 로드 중...\")\n",
    "df = pd.read_csv(TRAIN_FILE)\n",
    "\n",
    "# 라벨 매핑\n",
    "df[LABEL_COL] = df[LABEL_COL].map(LABEL_DICT)\n",
    "\n",
    "# 데이터 분할\n",
    "train_df, temp_df = train_test_split(df, test_size=0.3, random_state=42, stratify=df[LABEL_COL])\n",
    "val_df, test_df = train_test_split(temp_df, test_size=0.5, random_state=42, stratify=temp_df[LABEL_COL])\n",
    "\n",
    "print(f\"학습 데이터 크기: {len(train_df)}\")\n",
    "print(f\"검증 데이터 크기: {len(val_df)}\")\n",
    "print(f\"테스트 데이터 크기: {len(test_df)}\")\n",
    "\n",
    "# 클래스별 데이터 개수 확인\n",
    "print(\"학습 데이터의 클래스 분포:\")\n",
    "print(train_df[LABEL_COL].value_counts())\n",
    "\n",
    "# 2. Dataset 클래스 정의\n",
    "class TextClassificationDataset(Dataset):\n",
    "    def __init__(self, texts, labels, tokenizer, max_len):\n",
    "        self.texts = texts\n",
    "        self.labels = labels\n",
    "        self.tokenizer = tokenizer\n",
    "        self.max_len = max_len\n",
    "\n",
    "    def __len__(self):\n",
    "        return len(self.texts)\n",
    "\n",
    "    def __getitem__(self, idx):\n",
    "        text = str(self.texts[idx])\n",
    "        label = self.labels[idx]\n",
    "\n",
    "        encoding = self.tokenizer.encode_plus(\n",
    "            text,\n",
    "            add_special_tokens=True,\n",
    "            max_length=self.max_len,\n",
    "            return_token_type_ids=True,\n",
    "            padding='max_length',\n",
    "            truncation=True,\n",
    "            return_attention_mask=True,\n",
    "            return_tensors='pt'\n",
    "        )\n",
    "\n",
    "        return {\n",
    "            'text': text,\n",
    "            'input_ids': encoding['input_ids'].flatten(),\n",
    "            'attention_mask': encoding['attention_mask'].flatten(),\n",
    "            'token_type_ids': encoding['token_type_ids'].flatten(),\n",
    "            'labels': torch.tensor(label, dtype=torch.long)\n",
    "        }\n",
    "\n",
    "# 3. 데이터 로더 생성\n",
    "def create_data_loader(df, tokenizer, max_len, batch_size):\n",
    "    dataset = TextClassificationDataset(\n",
    "        texts=df[TEXT_COL].values,\n",
    "        labels=df[LABEL_COL].values,\n",
    "        tokenizer=tokenizer,\n",
    "        max_len=max_len\n",
    "    )\n",
    "\n",
    "    return DataLoader(\n",
    "        dataset,\n",
    "        batch_size=batch_size,\n",
    "        num_workers=2\n",
    "    )\n",
    "\n",
    "# 4. 토크나이저 및 모델 로드\n",
    "print(f\"모델 '{MODEL_NAME}' 로드 중...\")\n",
    "tokenizer = ElectraTokenizer.from_pretrained(MODEL_NAME)\n",
    "model = ElectraForSequenceClassification.from_pretrained(MODEL_NAME, num_labels=len(LABEL_DICT))\n",
    "\n",
    "# 모든 파라미터 학습 가능하게 설정 (전체 모델 학습)\n",
    "for param in model.parameters():\n",
    "    param.requires_grad = True\n",
    "\n",
    "# 학습 가능한 파라미터 확인 (디버깅용)\n",
    "trainable_params = 0\n",
    "all_param = 0\n",
    "for name, param in model.named_parameters():\n",
    "    all_param += param.numel()\n",
    "    if param.requires_grad:\n",
    "        trainable_params += param.numel()\n",
    "        print(f\"✅ 학습 대상: {name}\")\n",
    "print(f\"🔢 학습 대상 파라미터 수: {trainable_params:,} / 전체 파라미터 수: {all_param:,} ({trainable_params/all_param:.2%})\")\n",
    "\n",
    "# 5. 데이터 로더 생성\n",
    "train_data_loader = create_data_loader(train_df, tokenizer, MAX_LEN, BATCH_SIZE)\n",
    "val_data_loader = create_data_loader(val_df, tokenizer, MAX_LEN, BATCH_SIZE)\n",
    "test_data_loader = create_data_loader(test_df, tokenizer, MAX_LEN, BATCH_SIZE)\n",
    "\n",
    "# 6. 클래스 가중치 설정 (더 세밀하게 조정)\n",
    "# 성능이 낮은 클래스의 가중치 증가, 성능이 높은 클래스의 가중치 감소\n",
    "class_weights = [2.8, 2.0, 1.5, 3.8, 0.4]  # 협박↑↑, 갈취=, 직장내괴롭힘↓, 기타괴롭힘↑↑↑↑, 일반대화↓↓\n",
    "\n",
    "print(\"수동 설정된 클래스별 가중치:\")\n",
    "for i, weight in enumerate(class_weights):\n",
    "    print(f\"클래스 {i} ({ID_TO_LABEL[i]}): {weight:.4f}\")\n",
    "\n",
    "# 7. 모델 학습 함수 (가중치 적용한 손실 함수 사용)\n",
    "def train_model(model, data_loader, optimizer, scheduler, device, class_weights_tensor):\n",
    "    model.train()\n",
    "    losses = []\n",
    "\n",
    "    progress_bar = tqdm(data_loader, desc=\"학습 중\")\n",
    "\n",
    "    for batch in progress_bar:\n",
    "        optimizer.zero_grad()\n",
    "\n",
    "        input_ids = batch['input_ids'].to(device)\n",
    "        attention_mask = batch['attention_mask'].to(device)\n",
    "        token_type_ids = batch['token_type_ids'].to(device)\n",
    "        labels = batch['labels'].to(device)\n",
    "\n",
    "        outputs = model(\n",
    "            input_ids=input_ids,\n",
    "            attention_mask=attention_mask,\n",
    "            token_type_ids=token_type_ids,\n",
    "            labels=labels\n",
    "        )\n",
    "\n",
    "        # 기본 손실 함수 대신 가중치가 적용된 손실 함수 사용\n",
    "        logits = outputs.logits\n",
    "        loss_fct = torch.nn.CrossEntropyLoss(weight=class_weights_tensor)\n",
    "        loss = loss_fct(logits.view(-1, model.config.num_labels), labels.view(-1))\n",
    "\n",
    "        loss.backward()\n",
    "\n",
    "        # 그래디언트 클리핑 설정 (전체 모델 학습시 안정성 향상)\n",
    "        torch.nn.utils.clip_grad_norm_(model.parameters(), max_norm=1.0)\n",
    "\n",
    "        optimizer.step()\n",
    "        scheduler.step()\n",
    "\n",
    "        losses.append(loss.item())\n",
    "        progress_bar.set_postfix({\"loss\": f\"{np.mean(losses):.4f}\"})\n",
    "\n",
    "    return np.mean(losses)\n",
    "\n",
    "# 8. 모델 평가 함수\n",
    "def evaluate_model(model, data_loader, device, class_weights_tensor=None):\n",
    "    model.eval()\n",
    "    losses = []\n",
    "    predictions = []\n",
    "    real_labels = []\n",
    "\n",
    "    with torch.no_grad():\n",
    "        for batch in tqdm(data_loader, desc=\"평가 중\"):\n",
    "            input_ids = batch['input_ids'].to(device)\n",
    "            attention_mask = batch['attention_mask'].to(device)\n",
    "            token_type_ids = batch['token_type_ids'].to(device)\n",
    "            labels = batch['labels'].to(device)\n",
    "\n",
    "            outputs = model(\n",
    "                input_ids=input_ids,\n",
    "                attention_mask=attention_mask,\n",
    "                token_type_ids=token_type_ids\n",
    "            )\n",
    "\n",
    "            # 평가 시에도 동일한 가중치 적용\n",
    "            if class_weights_tensor is not None:\n",
    "                loss_fct = torch.nn.CrossEntropyLoss(weight=class_weights_tensor)\n",
    "                loss = loss_fct(outputs.logits.view(-1, model.config.num_labels), labels.view(-1))\n",
    "            else:\n",
    "                loss_fct = torch.nn.CrossEntropyLoss()\n",
    "                loss = loss_fct(outputs.logits.view(-1, model.config.num_labels), labels.view(-1))\n",
    "\n",
    "            _, preds = torch.max(outputs.logits, dim=1)\n",
    "\n",
    "            losses.append(loss.item())\n",
    "            predictions.extend(preds.detach().cpu().numpy())\n",
    "            real_labels.extend(labels.detach().cpu().numpy())\n",
    "\n",
    "    return np.mean(losses), predictions, real_labels\n",
    "\n",
    "# 9. 혼동 행렬 시각화 함수\n",
    "def plot_confusion_matrix(cm, classes):\n",
    "    try:\n",
    "        # 방법 1: 나눔 글꼴 설치 및 사용\n",
    "        !apt-get update -qq\n",
    "        !apt-get install fonts-nanum -qq\n",
    "        plt.rc('font', family='NanumGothic')\n",
    "    except:\n",
    "        try:\n",
    "            # 방법 2: 한글 레이블을 영어로 변환\n",
    "            classes = ['Threat', 'Extortion', 'Workplace Harassment', 'Other Harassment', 'Normal Conversation']\n",
    "        except:\n",
    "            pass\n",
    "\n",
    "    plt.figure(figsize=(10, 8))\n",
    "    sns.heatmap(cm, annot=True, fmt='d', cmap='Blues', xticklabels=classes, yticklabels=classes)\n",
    "    plt.xlabel('예측값')\n",
    "    plt.ylabel('실제값')\n",
    "    plt.title('혼동 행렬')\n",
    "    plt.savefig('confusion_matrix.png')\n",
    "    plt.close()\n",
    "\n",
    "# 10. 학습 메인 함수\n",
    "def train():\n",
    "    # GPU 사용 설정\n",
    "    device = torch.device(f\"cuda:{GPU_NUM}\" if torch.cuda.is_available() else \"cpu\")\n",
    "    print(f\"사용 중인 디바이스: {device}\")\n",
    "    model.to(device)\n",
    "\n",
    "    # 클래스 가중치 텐서를 디바이스로 이동\n",
    "    class_weights_tensor = torch.FloatTensor(class_weights).to(device)\n",
    "\n",
    "    # 옵티마이저 설정\n",
    "    optimizer = AdamW(model.parameters(), lr=LEARNING_RATE)\n",
    "\n",
    "    # 전체 스텝 설정\n",
    "    total_steps = len(train_data_loader) * EPOCHS\n",
    "\n",
    "    # 학습률 스케줄러\n",
    "    scheduler = get_linear_schedule_with_warmup(\n",
    "        optimizer,\n",
    "        num_warmup_steps=0,\n",
    "        num_training_steps=total_steps\n",
    "    )\n",
    "\n",
    "    # 학습 시작\n",
    "    best_val_f1 = 0\n",
    "    patience_counter = 0  # Early Stopping을 위한 카운터\n",
    "\n",
    "    # 에폭별 성능 기록\n",
    "    train_losses = []\n",
    "    val_losses = []\n",
    "    val_f1_scores = []\n",
    "    learning_rates = []\n",
    "\n",
    "    for epoch in range(EPOCHS):\n",
    "        # 현재 학습률 가져오기\n",
    "        current_lr = optimizer.param_groups[0]['lr']\n",
    "        learning_rates.append(current_lr)\n",
    "\n",
    "        print(f\"\\nEpoch {epoch + 1}/{EPOCHS} (학습률: {current_lr:.2e})\")\n",
    "\n",
    "        # 학습\n",
    "        train_loss = train_model(model, train_data_loader, optimizer, scheduler, device, class_weights_tensor)\n",
    "        train_losses.append(train_loss)\n",
    "        print(f\"Train Loss: {train_loss:.4f}\")\n",
    "\n",
    "        # 검증\n",
    "        val_loss, val_predictions, val_labels = evaluate_model(model, val_data_loader, device, class_weights_tensor)\n",
    "        val_losses.append(val_loss)\n",
    "        val_f1 = f1_score(val_labels, val_predictions, average='macro')\n",
    "        val_f1_scores.append(val_f1)\n",
    "\n",
    "        print(f\"Validation Loss: {val_loss:.4f}\")\n",
    "        print(f\"Validation Macro F1: {val_f1:.4f}\")\n",
    "\n",
    "        # 클래스별 F1 점수 출력\n",
    "        class_f1 = f1_score(val_labels, val_predictions, average=None)\n",
    "        for i, score in enumerate(class_f1):\n",
    "            print(f\"클래스 {i} ({ID_TO_LABEL[i]}) F1: {score:.4f}\")\n",
    "\n",
    "        # 최고 성능 모델 저장 및 Early Stopping 로직\n",
    "        if val_f1 > best_val_f1:\n",
    "            best_val_f1 = val_f1\n",
    "            torch.save(model.state_dict(), \"best_model.pth\")\n",
    "            print(f\"모델 저장됨: best_model.pth (F1: {val_f1:.4f})\")\n",
    "            patience_counter = 0  # 성능이 향상되었으므로 카운터 초기화\n",
    "        else:\n",
    "            patience_counter += 1  # 성능이 향상되지 않았으므로 카운터 증가\n",
    "            print(f\"성능 향상 없음: {patience_counter}/{EARLY_STOPPING_PATIENCE}\")\n",
    "\n",
    "            # Early Stopping 조건 확인\n",
    "            if patience_counter >= EARLY_STOPPING_PATIENCE:\n",
    "                print(f\"\\nEarly Stopping! {EARLY_STOPPING_PATIENCE}번의 에폭 동안 성능 향상 없음.\")\n",
    "                break\n",
    "\n",
    "    # 학습 과정 시각화\n",
    "    plt.figure(figsize=(12, 8))\n",
    "\n",
    "    plt.subplot(2, 2, 1)\n",
    "    plt.plot(train_losses, label='Train Loss')\n",
    "    plt.plot(val_losses, label='Validation Loss')\n",
    "    plt.xlabel('Epoch')\n",
    "    plt.ylabel('Loss')\n",
    "    plt.legend()\n",
    "    plt.title('Training and Validation Loss')\n",
    "\n",
    "    plt.subplot(2, 2, 2)\n",
    "    plt.plot(val_f1_scores, label='Validation F1')\n",
    "    plt.xlabel('Epoch')\n",
    "    plt.ylabel('F1 Score')\n",
    "    plt.legend()\n",
    "    plt.title('Validation F1 Score')\n",
    "\n",
    "    plt.subplot(2, 2, 3)\n",
    "    plt.plot(learning_rates, label='Learning Rate')\n",
    "    plt.xlabel('Epoch')\n",
    "    plt.ylabel('Learning Rate')\n",
    "    plt.legend()\n",
    "    plt.title('Learning Rate Schedule')\n",
    "\n",
    "    plt.tight_layout()\n",
    "    plt.savefig('training_history.png')\n",
    "    plt.close()\n",
    "\n",
    "    # 최고 성능 모델 로드\n",
    "    model.load_state_dict(torch.load(\"best_model.pth\"))\n",
    "\n",
    "    # 테스트 세트 평가\n",
    "    test_loss, test_predictions, test_labels = evaluate_model(model, test_data_loader, device, class_weights_tensor)\n",
    "    test_f1 = f1_score(test_labels, test_predictions, average='macro')\n",
    "\n",
    "    print(\"\\n테스트 결과:\")\n",
    "    print(f\"Test Loss: {test_loss:.4f}\")\n",
    "    print(f\"Test Macro F1: {test_f1:.4f}\")\n",
    "\n",
    "    # 분류 보고서 출력\n",
    "    class_names = [ID_TO_LABEL[i] for i in range(len(LABEL_DICT))]\n",
    "    print(\"\\n분류 보고서:\")\n",
    "    print(classification_report(test_labels, test_predictions, target_names=class_names))\n",
    "\n",
    "    # 혼동 행렬 시각화\n",
    "    cm = confusion_matrix(test_labels, test_predictions)\n",
    "    plot_confusion_matrix(cm, class_names)\n",
    "\n",
    "    return model\n",
    "\n",
    "# 11. 실제 테스트 데이터 예측 및 제출 파일 생성\n",
    "def predict_and_save():\n",
    "    # 테스트 파일 로드\n",
    "    test_data = pd.read_csv(TEST_FILE)\n",
    "\n",
    "    # 전처리 함수 설정\n",
    "    preprocess_fn = partial(\n",
    "        preprocess,\n",
    "        stopwords=None,   # 불용어 리스트 사용하지 않음\n",
    "        speaker_token=\"\",  # 발화 단위 토큰 사용하지 않음\n",
    "        sep_token=\" \", # 줄 구분 토큰\n",
    "        use_silence=False, # 침묵 토큰 사용하지 않음\n",
    "        repeat_limit=2 # 반복 문자 2개까지 허용\n",
    "    )\n",
    "\n",
    "    # 전처리 적용\n",
    "    test_data['processed_text'] = test_data['text'].apply(preprocess_fn)\n",
    "\n",
    "    # Dataset 생성\n",
    "    class TestDataset(Dataset):\n",
    "        def __init__(self, texts, tokenizer, max_len):\n",
    "            self.texts = texts\n",
    "            self.tokenizer = tokenizer\n",
    "            self.max_len = max_len\n",
    "\n",
    "        def __len__(self):\n",
    "            return len(self.texts)\n",
    "\n",
    "        def __getitem__(self, idx):\n",
    "            text = str(self.texts[idx])\n",
    "\n",
    "            encoding = self.tokenizer.encode_plus(\n",
    "                text,\n",
    "                add_special_tokens=True,\n",
    "                max_length=self.max_len,\n",
    "                return_token_type_ids=True,\n",
    "                padding='max_length',\n",
    "                truncation=True,\n",
    "                return_attention_mask=True,\n",
    "                return_tensors='pt'\n",
    "            )\n",
    "\n",
    "            return {\n",
    "                'text': text,\n",
    "                'input_ids': encoding['input_ids'].flatten(),\n",
    "                'attention_mask': encoding['attention_mask'].flatten(),\n",
    "                'token_type_ids': encoding['token_type_ids'].flatten(),\n",
    "            }\n",
    "\n",
    "    # 테스트 데이터 로더 생성 (전처리된 텍스트 사용)\n",
    "    test_dataset = TestDataset(\n",
    "        texts=test_data['processed_text'].values,\n",
    "        tokenizer=tokenizer,\n",
    "        max_len=MAX_LEN\n",
    "    )\n",
    "\n",
    "    test_data_loader = DataLoader(\n",
    "        test_dataset,\n",
    "        batch_size=BATCH_SIZE,\n",
    "        num_workers=2\n",
    "    )\n",
    "\n",
    "    # GPU 설정\n",
    "    device = torch.device(f\"cuda:{GPU_NUM}\" if torch.cuda.is_available() else \"cpu\")\n",
    "\n",
    "    # 최고 성능 모델 로드\n",
    "    model = ElectraForSequenceClassification.from_pretrained(MODEL_NAME, num_labels=len(LABEL_DICT))\n",
    "    model.load_state_dict(torch.load(\"best_model.pth\"))\n",
    "    model.to(device)\n",
    "\n",
    "    # 예측\n",
    "    model.eval()\n",
    "    predictions = []\n",
    "\n",
    "    with torch.no_grad():\n",
    "        for batch in tqdm(test_data_loader, desc=\"테스트 예측 중\"):\n",
    "            input_ids = batch['input_ids'].to(device)\n",
    "            attention_mask = batch['attention_mask'].to(device)\n",
    "            token_type_ids = batch['token_type_ids'].to(device)\n",
    "\n",
    "            outputs = model(\n",
    "                input_ids=input_ids,\n",
    "                attention_mask=attention_mask,\n",
    "                token_type_ids=token_type_ids\n",
    "            )\n",
    "\n",
    "            _, preds = torch.max(outputs.logits, dim=1)\n",
    "            predictions.extend(preds.detach().cpu().numpy())\n",
    "\n",
    "    # 예측 결과 라벨로 변환\n",
    "    label_predictions = [ID_TO_LABEL[p] for p in predictions]\n",
    "\n",
    "    # 제출 파일 생성\n",
    "    submission = pd.DataFrame({\n",
    "        'idx': test_data['idx'],\n",
    "        'class': label_predictions\n",
    "    })\n",
    "\n",
    "    submission.to_csv('submission.csv', index=False)\n",
    "    print(f\"제출 파일 생성 완료: submission.csv\")\n",
    "\n",
    "# 메인 실행\n",
    "if __name__ == \"__main__\":\n",
    "    # 모델 학습\n",
    "    model = train()\n",
    "\n",
    "    # 테스트 데이터 예측 및 제출 파일 생성\n",
    "    predict_and_save()"
   ]
  },
  {
   "cell_type": "markdown",
   "metadata": {
    "id": "KiEVehR9XXnS"
   },
   "source": [
    "#### 토크나이저만 koRoBERTa로 대체 - 모델과 토크나이저를 분리해서 사용하는 방식\n",
    "- roberta 토크나이저 로드 중에 에러가 발생\n",
    "  - klue/roberta-base 모델이 RobertaTokenizer와 호환되지 않아 발생한 문제\n",
    "  - klue/roberta-base는 실제로는 BERT 기반 토크나이저를 사용\n",
    "- BERT 토크나이저를 사용하도록 코드를 수정\n",
    "  - KoElectra 모델과 KLUE/roberta-base의 BERT 기반 토크나이저를 함께 사용\n",
    "  (KoElectra 모델은 BERT 기반 토크나이저의 출력을 입력으로 받을 수 있게 되고, 두 시스템을 함께 사용 → 토크나이저와 모델 간의 호환성 문제를 해결하는 방법)\n",
    "  - **결과 : 성능 저하 발생 (호환성 문제일 듯)**"
   ]
  },
  {
   "cell_type": "code",
   "execution_count": null,
   "metadata": {
    "colab": {
     "base_uri": "https://localhost:8080/",
     "height": 1000,
     "referenced_widgets": [
      "51156f2878ce43d68063d86127aa61ec",
      "428562f2c8df4d1ebe77a03d9d5bc850",
      "c1ce4f8e2f7140c28ad9484c82657717",
      "a97e525469b2470b85609436e9948c19",
      "ad59717830d94ae0bb69659cefd69482",
      "a63ead7ebc234829b59dd3eb29f753ba",
      "0b35cd49e1034ee382589fdca2375c32",
      "7f339d93753c4380b1c3de3678d4a6c0",
      "9aaf9ac28c904635899e61b09c1e03c8",
      "ad939abd6ca14fa7971d09a44a3da0c4",
      "272eb419d32449a4822d3898e62813c1",
      "fcc86fd7f4904725baf6a3b6a2f76fc9",
      "71d9305f5c9b4b5aa4b1b2ce6cd50115",
      "2b7f1530a0ca49b88d8844349d1ad202",
      "046615b0dd2e458d8f8c4bbfe320ea9c",
      "b8dcc43fc0b34c5c831c13b8e43d5818",
      "80987fee75854dfcb7bf877a8d57a37b",
      "c753790719c34432bcefc3a08cfe088a",
      "5faf190e1a374de7a79c956b393a3568",
      "e2ea6295ede1409298b120f9291f684f",
      "0ea064ec0e054f93816ce7a35694ac75",
      "9af5225cd79140e28f25719c8bdc53c5",
      "9808cb465e5544e99fa1d1e653b98f67",
      "fa87d6babffb45fbb05990e4e3bdec80",
      "b6b2ebe837b04a259d51e61ee621e888",
      "8c3fc5e677354633987f6a7954e11310",
      "a294ba58362c4999b5fd47d4f63b8033",
      "65f56bf0ac5043df9979f59337b99bde",
      "39a6236ab9384d6db72bad2bd5105d30",
      "80b97cca885e41938c02088f4d0f4191",
      "b07670e90675477d9f521474e38b4a89",
      "9c758601e86a4a73ba09f09997320f44",
      "21bc2658bbc24356945ac016999b33c9",
      "4f6fe9f234334594a3cc1103aa79bb49",
      "6ee802ae81fd4f28b51feed503cb848f",
      "e7767dfc1a0b492ba7b772cf0f01c71d",
      "07bb6a1269da4da1bbc78a53bb87e083",
      "5f128454359744dc87fa5147df5557cf",
      "6114da6498ae4e0eba7246a4ac2afb5c",
      "4f9621fe144c446cb36de9933cb0eb8c",
      "36ae62d9e9f94334b2958ba3bbb8aa7f",
      "2340c7cab83d4d3b852e72b61cdd050e",
      "7e74f205bc614d2ba9e7cf7da22a5604",
      "397fccb6f94c40f2ba0f87e2baa8d220"
     ]
    },
    "executionInfo": {
     "elapsed": 165578,
     "status": "ok",
     "timestamp": 1746666532556,
     "user": {
      "displayName": "김지환",
      "userId": "17439535786603393953"
     },
     "user_tz": -540
    },
    "id": "3D6woRozTmyl",
    "outputId": "0dc72ccc-8166-4d29-b329-3776a1eeb226"
   },
   "outputs": [
    {
     "name": "stdout",
     "output_type": "stream",
     "text": [
      "데이터 로드 중...\n",
      "학습 데이터 크기: 3477\n",
      "검증 데이터 크기: 745\n",
      "테스트 데이터 크기: 746\n",
      "학습 데이터의 클래스 분포:\n",
      "class\n",
      "4    786\n",
      "3    707\n",
      "1    681\n",
      "2    679\n",
      "0    624\n",
      "Name: count, dtype: int64\n",
      "BERT 토크나이저 'klue/roberta-base' 로드 중...\n"
     ]
    },
    {
     "data": {
      "application/vnd.jupyter.widget-view+json": {
       "model_id": "51156f2878ce43d68063d86127aa61ec",
       "version_major": 2,
       "version_minor": 0
      },
      "text/plain": [
       "vocab.txt:   0%|          | 0.00/248k [00:00<?, ?B/s]"
      ]
     },
     "metadata": {},
     "output_type": "display_data"
    },
    {
     "name": "stdout",
     "output_type": "stream",
     "text": [
      "koElectra 모델 'monologg/koelectra-base-v3-discriminator' 로드 중...\n"
     ]
    },
    {
     "data": {
      "application/vnd.jupyter.widget-view+json": {
       "model_id": "fcc86fd7f4904725baf6a3b6a2f76fc9",
       "version_major": 2,
       "version_minor": 0
      },
      "text/plain": [
       "config.json:   0%|          | 0.00/467 [00:00<?, ?B/s]"
      ]
     },
     "metadata": {},
     "output_type": "display_data"
    },
    {
     "data": {
      "application/vnd.jupyter.widget-view+json": {
       "model_id": "9808cb465e5544e99fa1d1e653b98f67",
       "version_major": 2,
       "version_minor": 0
      },
      "text/plain": [
       "pytorch_model.bin:   0%|          | 0.00/452M [00:00<?, ?B/s]"
      ]
     },
     "metadata": {},
     "output_type": "display_data"
    },
    {
     "data": {
      "application/vnd.jupyter.widget-view+json": {
       "model_id": "4f6fe9f234334594a3cc1103aa79bb49",
       "version_major": 2,
       "version_minor": 0
      },
      "text/plain": [
       "model.safetensors:   0%|          | 0.00/452M [00:00<?, ?B/s]"
      ]
     },
     "metadata": {},
     "output_type": "display_data"
    },
    {
     "name": "stderr",
     "output_type": "stream",
     "text": [
      "Some weights of ElectraForSequenceClassification were not initialized from the model checkpoint at monologg/koelectra-base-v3-discriminator and are newly initialized: ['classifier.dense.bias', 'classifier.dense.weight', 'classifier.out_proj.bias', 'classifier.out_proj.weight']\n",
      "You should probably TRAIN this model on a down-stream task to be able to use it for predictions and inference.\n"
     ]
    },
    {
     "name": "stdout",
     "output_type": "stream",
     "text": [
      "사용 중인 디바이스: cuda:0\n",
      "\n",
      "Epoch 1/10\n"
     ]
    },
    {
     "name": "stderr",
     "output_type": "stream",
     "text": [
      "\n",
      "학습 중:   0%|          | 0/109 [00:00<?, ?it/s]\u001b[A\n",
      "학습 중:   0%|          | 0/109 [00:02<?, ?it/s, loss=1.6042]\u001b[A\n",
      "학습 중:   1%|          | 1/109 [00:02<03:46,  2.09s/it, loss=1.6042]\u001b[A\n",
      "학습 중:   1%|          | 1/109 [00:02<03:46,  2.09s/it, loss=1.5908]\u001b[A\n",
      "학습 중:   2%|▏         | 2/109 [00:02<01:43,  1.04it/s, loss=1.5908]\u001b[A\n",
      "학습 중:   2%|▏         | 2/109 [00:02<01:43,  1.04it/s, loss=1.5905]\u001b[A\n",
      "학습 중:   3%|▎         | 3/109 [00:02<01:03,  1.66it/s, loss=1.5905]\u001b[A\n",
      "학습 중:   3%|▎         | 3/109 [00:02<01:03,  1.66it/s, loss=1.6014]\u001b[A\n",
      "학습 중:   4%|▎         | 4/109 [00:02<00:45,  2.33it/s, loss=1.6014]\u001b[A\n",
      "학습 중:   4%|▎         | 4/109 [00:02<00:45,  2.33it/s, loss=1.6081]\u001b[A\n",
      "학습 중:   5%|▍         | 5/109 [00:02<00:34,  3.00it/s, loss=1.6081]\u001b[A\n",
      "학습 중:   5%|▍         | 5/109 [00:02<00:34,  3.00it/s, loss=1.6023]\u001b[A\n",
      "학습 중:   6%|▌         | 6/109 [00:02<00:28,  3.63it/s, loss=1.6023]\u001b[A\n",
      "학습 중:   6%|▌         | 6/109 [00:03<00:28,  3.63it/s, loss=1.5976]\u001b[A\n",
      "학습 중:   6%|▋         | 7/109 [00:03<00:24,  4.19it/s, loss=1.5976]\u001b[A\n",
      "학습 중:   6%|▋         | 7/109 [00:03<00:24,  4.19it/s, loss=1.6000]\u001b[A\n",
      "학습 중:   7%|▋         | 8/109 [00:03<00:21,  4.66it/s, loss=1.6000]\u001b[A\n",
      "학습 중:   7%|▋         | 8/109 [00:03<00:21,  4.66it/s, loss=1.6010]\u001b[A\n",
      "학습 중:   8%|▊         | 9/109 [00:03<00:19,  5.04it/s, loss=1.6010]\u001b[A\n",
      "학습 중:   8%|▊         | 9/109 [00:03<00:19,  5.04it/s, loss=1.6035]\u001b[A\n",
      "학습 중:   9%|▉         | 10/109 [00:03<00:18,  5.33it/s, loss=1.6035]\u001b[A\n",
      "학습 중:   9%|▉         | 10/109 [00:03<00:18,  5.33it/s, loss=1.6031]\u001b[A\n",
      "학습 중:  10%|█         | 11/109 [00:03<00:17,  5.56it/s, loss=1.6031]\u001b[A\n",
      "학습 중:  10%|█         | 11/109 [00:03<00:17,  5.56it/s, loss=1.6011]\u001b[A\n",
      "학습 중:  11%|█         | 12/109 [00:03<00:16,  5.73it/s, loss=1.6011]\u001b[A\n",
      "학습 중:  11%|█         | 12/109 [00:04<00:16,  5.73it/s, loss=1.6008]\u001b[A\n",
      "학습 중:  12%|█▏        | 13/109 [00:04<00:16,  5.85it/s, loss=1.6008]\u001b[A\n",
      "학습 중:  12%|█▏        | 13/109 [00:04<00:16,  5.85it/s, loss=1.6027]\u001b[A\n",
      "학습 중:  13%|█▎        | 14/109 [00:04<00:16,  5.94it/s, loss=1.6027]\u001b[A\n",
      "학습 중:  13%|█▎        | 14/109 [00:04<00:16,  5.94it/s, loss=1.6045]\u001b[A\n",
      "학습 중:  14%|█▍        | 15/109 [00:04<00:15,  6.00it/s, loss=1.6045]\u001b[A\n",
      "학습 중:  14%|█▍        | 15/109 [00:04<00:15,  6.00it/s, loss=1.6056]\u001b[A\n",
      "학습 중:  15%|█▍        | 16/109 [00:04<00:15,  6.04it/s, loss=1.6056]\u001b[A\n",
      "학습 중:  15%|█▍        | 16/109 [00:04<00:15,  6.04it/s, loss=1.6071]\u001b[A\n",
      "학습 중:  16%|█▌        | 17/109 [00:04<00:15,  6.07it/s, loss=1.6071]\u001b[A\n",
      "학습 중:  16%|█▌        | 17/109 [00:04<00:15,  6.07it/s, loss=1.6057]\u001b[A\n",
      "학습 중:  17%|█▋        | 18/109 [00:04<00:14,  6.10it/s, loss=1.6057]\u001b[A\n",
      "학습 중:  17%|█▋        | 18/109 [00:05<00:14,  6.10it/s, loss=1.6039]\u001b[A\n",
      "학습 중:  17%|█▋        | 19/109 [00:05<00:14,  6.12it/s, loss=1.6039]\u001b[A\n",
      "학습 중:  17%|█▋        | 19/109 [00:05<00:14,  6.12it/s, loss=1.6046]\u001b[A\n",
      "학습 중:  18%|█▊        | 20/109 [00:05<00:14,  6.13it/s, loss=1.6046]\u001b[A\n",
      "학습 중:  18%|█▊        | 20/109 [00:05<00:14,  6.13it/s, loss=1.6043]\u001b[A\n",
      "학습 중:  19%|█▉        | 21/109 [00:05<00:14,  6.14it/s, loss=1.6043]\u001b[A\n",
      "학습 중:  19%|█▉        | 21/109 [00:05<00:14,  6.14it/s, loss=1.6026]\u001b[A\n",
      "학습 중:  20%|██        | 22/109 [00:05<00:14,  6.14it/s, loss=1.6026]\u001b[A\n",
      "학습 중:  20%|██        | 22/109 [00:05<00:14,  6.14it/s, loss=1.5995]\u001b[A\n",
      "학습 중:  21%|██        | 23/109 [00:05<00:14,  6.14it/s, loss=1.5995]\u001b[A\n",
      "학습 중:  21%|██        | 23/109 [00:05<00:14,  6.14it/s, loss=1.6004]\u001b[A\n",
      "학습 중:  22%|██▏       | 24/109 [00:05<00:13,  6.14it/s, loss=1.6004]\u001b[A\n",
      "학습 중:  22%|██▏       | 24/109 [00:06<00:13,  6.14it/s, loss=1.6010]\u001b[A\n",
      "학습 중:  23%|██▎       | 25/109 [00:06<00:13,  6.14it/s, loss=1.6010]\u001b[A\n",
      "학습 중:  23%|██▎       | 25/109 [00:06<00:13,  6.14it/s, loss=1.5991]\u001b[A\n",
      "학습 중:  24%|██▍       | 26/109 [00:06<00:13,  6.15it/s, loss=1.5991]\u001b[A\n",
      "학습 중:  24%|██▍       | 26/109 [00:06<00:13,  6.15it/s, loss=1.5972]\u001b[A\n",
      "학습 중:  25%|██▍       | 27/109 [00:06<00:13,  6.14it/s, loss=1.5972]\u001b[A\n",
      "학습 중:  25%|██▍       | 27/109 [00:06<00:13,  6.14it/s, loss=1.5977]\u001b[A\n",
      "학습 중:  26%|██▌       | 28/109 [00:06<00:13,  6.14it/s, loss=1.5977]\u001b[A\n",
      "학습 중:  26%|██▌       | 28/109 [00:06<00:13,  6.14it/s, loss=1.5971]\u001b[A\n",
      "학습 중:  27%|██▋       | 29/109 [00:06<00:13,  6.13it/s, loss=1.5971]\u001b[A\n",
      "학습 중:  27%|██▋       | 29/109 [00:06<00:13,  6.13it/s, loss=1.5976]\u001b[A\n",
      "학습 중:  28%|██▊       | 30/109 [00:06<00:12,  6.14it/s, loss=1.5976]\u001b[A\n",
      "학습 중:  28%|██▊       | 30/109 [00:06<00:12,  6.14it/s, loss=1.5971]\u001b[A\n",
      "학습 중:  28%|██▊       | 31/109 [00:06<00:12,  6.14it/s, loss=1.5971]\u001b[A\n",
      "학습 중:  28%|██▊       | 31/109 [00:07<00:12,  6.14it/s, loss=1.5966]\u001b[A\n",
      "학습 중:  29%|██▉       | 32/109 [00:07<00:12,  6.13it/s, loss=1.5966]\u001b[A\n",
      "학습 중:  29%|██▉       | 32/109 [00:07<00:12,  6.13it/s, loss=1.5953]\u001b[A\n",
      "학습 중:  30%|███       | 33/109 [00:07<00:12,  6.13it/s, loss=1.5953]\u001b[A\n",
      "학습 중:  30%|███       | 33/109 [00:07<00:12,  6.13it/s, loss=1.5938]\u001b[A\n",
      "학습 중:  31%|███       | 34/109 [00:07<00:12,  6.13it/s, loss=1.5938]\u001b[A\n",
      "학습 중:  31%|███       | 34/109 [00:07<00:12,  6.13it/s, loss=1.5941]\u001b[A\n",
      "학습 중:  32%|███▏      | 35/109 [00:07<00:12,  6.12it/s, loss=1.5941]\u001b[A\n",
      "학습 중:  32%|███▏      | 35/109 [00:07<00:12,  6.12it/s, loss=1.5935]\u001b[A\n",
      "학습 중:  33%|███▎      | 36/109 [00:07<00:11,  6.13it/s, loss=1.5935]\u001b[A\n",
      "학습 중:  33%|███▎      | 36/109 [00:07<00:11,  6.13it/s, loss=1.5929]\u001b[A\n",
      "학습 중:  34%|███▍      | 37/109 [00:07<00:11,  6.14it/s, loss=1.5929]\u001b[A\n",
      "학습 중:  34%|███▍      | 37/109 [00:08<00:11,  6.14it/s, loss=1.5932]\u001b[A\n",
      "학습 중:  35%|███▍      | 38/109 [00:08<00:11,  6.14it/s, loss=1.5932]\u001b[A\n",
      "학습 중:  35%|███▍      | 38/109 [00:08<00:11,  6.14it/s, loss=1.5929]\u001b[A\n",
      "학습 중:  36%|███▌      | 39/109 [00:08<00:11,  6.14it/s, loss=1.5929]\u001b[A\n",
      "학습 중:  36%|███▌      | 39/109 [00:08<00:11,  6.14it/s, loss=1.5922]\u001b[A\n",
      "학습 중:  37%|███▋      | 40/109 [00:08<00:11,  6.14it/s, loss=1.5922]\u001b[A\n",
      "학습 중:  37%|███▋      | 40/109 [00:08<00:11,  6.14it/s, loss=1.5911]\u001b[A\n",
      "학습 중:  38%|███▊      | 41/109 [00:08<00:11,  6.14it/s, loss=1.5911]\u001b[A\n",
      "학습 중:  38%|███▊      | 41/109 [00:08<00:11,  6.14it/s, loss=1.5907]\u001b[A\n",
      "학습 중:  39%|███▊      | 42/109 [00:08<00:10,  6.14it/s, loss=1.5907]\u001b[A\n",
      "학습 중:  39%|███▊      | 42/109 [00:08<00:10,  6.14it/s, loss=1.5895]\u001b[A\n",
      "학습 중:  39%|███▉      | 43/109 [00:08<00:10,  6.14it/s, loss=1.5895]\u001b[A\n",
      "학습 중:  39%|███▉      | 43/109 [00:09<00:10,  6.14it/s, loss=1.5895]\u001b[A\n",
      "학습 중:  40%|████      | 44/109 [00:09<00:10,  6.13it/s, loss=1.5895]\u001b[A\n",
      "학습 중:  40%|████      | 44/109 [00:09<00:10,  6.13it/s, loss=1.5886]\u001b[A\n",
      "학습 중:  41%|████▏     | 45/109 [00:09<00:10,  6.14it/s, loss=1.5886]\u001b[A\n",
      "학습 중:  41%|████▏     | 45/109 [00:09<00:10,  6.14it/s, loss=1.5866]\u001b[A\n",
      "학습 중:  42%|████▏     | 46/109 [00:09<00:10,  6.13it/s, loss=1.5866]\u001b[A\n",
      "학습 중:  42%|████▏     | 46/109 [00:09<00:10,  6.13it/s, loss=1.5852]\u001b[A\n",
      "학습 중:  43%|████▎     | 47/109 [00:09<00:10,  6.12it/s, loss=1.5852]\u001b[A\n",
      "학습 중:  43%|████▎     | 47/109 [00:09<00:10,  6.12it/s, loss=1.5855]\u001b[A\n",
      "학습 중:  44%|████▍     | 48/109 [00:09<00:09,  6.13it/s, loss=1.5855]\u001b[A\n",
      "학습 중:  44%|████▍     | 48/109 [00:09<00:09,  6.13it/s, loss=1.5850]\u001b[A\n",
      "학습 중:  45%|████▍     | 49/109 [00:09<00:09,  6.14it/s, loss=1.5850]\u001b[A\n",
      "학습 중:  45%|████▍     | 49/109 [00:10<00:09,  6.14it/s, loss=1.5835]\u001b[A\n",
      "학습 중:  46%|████▌     | 50/109 [00:10<00:09,  6.14it/s, loss=1.5835]\u001b[A\n",
      "학습 중:  46%|████▌     | 50/109 [00:10<00:09,  6.14it/s, loss=1.5824]\u001b[A\n",
      "학습 중:  47%|████▋     | 51/109 [00:10<00:09,  6.14it/s, loss=1.5824]\u001b[A\n",
      "학습 중:  47%|████▋     | 51/109 [00:10<00:09,  6.14it/s, loss=1.5811]\u001b[A\n",
      "학습 중:  48%|████▊     | 52/109 [00:10<00:09,  6.14it/s, loss=1.5811]\u001b[A\n",
      "학습 중:  48%|████▊     | 52/109 [00:10<00:09,  6.14it/s, loss=1.5802]\u001b[A\n",
      "학습 중:  49%|████▊     | 53/109 [00:10<00:09,  6.14it/s, loss=1.5802]\u001b[A\n",
      "학습 중:  49%|████▊     | 53/109 [00:10<00:09,  6.14it/s, loss=1.5793]\u001b[A\n",
      "학습 중:  50%|████▉     | 54/109 [00:10<00:08,  6.13it/s, loss=1.5793]\u001b[A\n",
      "학습 중:  50%|████▉     | 54/109 [00:10<00:08,  6.13it/s, loss=1.5787]\u001b[A\n",
      "학습 중:  50%|█████     | 55/109 [00:10<00:08,  6.14it/s, loss=1.5787]\u001b[A\n",
      "학습 중:  50%|█████     | 55/109 [00:11<00:08,  6.14it/s, loss=1.5780]\u001b[A\n",
      "학습 중:  51%|█████▏    | 56/109 [00:11<00:08,  6.13it/s, loss=1.5780]\u001b[A\n",
      "학습 중:  51%|█████▏    | 56/109 [00:11<00:08,  6.13it/s, loss=1.5764]\u001b[A\n",
      "학습 중:  52%|█████▏    | 57/109 [00:11<00:08,  6.14it/s, loss=1.5764]\u001b[A\n",
      "학습 중:  52%|█████▏    | 57/109 [00:11<00:08,  6.14it/s, loss=1.5754]\u001b[A\n",
      "학습 중:  53%|█████▎    | 58/109 [00:11<00:08,  6.15it/s, loss=1.5754]\u001b[A\n",
      "학습 중:  53%|█████▎    | 58/109 [00:11<00:08,  6.15it/s, loss=1.5733]\u001b[A\n",
      "학습 중:  54%|█████▍    | 59/109 [00:11<00:08,  6.15it/s, loss=1.5733]\u001b[A\n",
      "학습 중:  54%|█████▍    | 59/109 [00:11<00:08,  6.15it/s, loss=1.5724]\u001b[A\n",
      "학습 중:  55%|█████▌    | 60/109 [00:11<00:07,  6.15it/s, loss=1.5724]\u001b[A\n",
      "학습 중:  55%|█████▌    | 60/109 [00:11<00:07,  6.15it/s, loss=1.5716]\u001b[A\n",
      "학습 중:  56%|█████▌    | 61/109 [00:11<00:07,  6.15it/s, loss=1.5716]\u001b[A\n",
      "학습 중:  56%|█████▌    | 61/109 [00:12<00:07,  6.15it/s, loss=1.5710]\u001b[A\n",
      "학습 중:  57%|█████▋    | 62/109 [00:12<00:07,  6.15it/s, loss=1.5710]\u001b[A\n",
      "학습 중:  57%|█████▋    | 62/109 [00:12<00:07,  6.15it/s, loss=1.5699]\u001b[A\n",
      "학습 중:  58%|█████▊    | 63/109 [00:12<00:07,  6.15it/s, loss=1.5699]\u001b[A\n",
      "학습 중:  58%|█████▊    | 63/109 [00:12<00:07,  6.15it/s, loss=1.5680]\u001b[A\n",
      "학습 중:  59%|█████▊    | 64/109 [00:12<00:07,  6.15it/s, loss=1.5680]\u001b[A\n",
      "학습 중:  59%|█████▊    | 64/109 [00:12<00:07,  6.15it/s, loss=1.5666]\u001b[A\n",
      "학습 중:  60%|█████▉    | 65/109 [00:12<00:07,  6.15it/s, loss=1.5666]\u001b[A\n",
      "학습 중:  60%|█████▉    | 65/109 [00:12<00:07,  6.15it/s, loss=1.5642]\u001b[A\n",
      "학습 중:  61%|██████    | 66/109 [00:12<00:06,  6.15it/s, loss=1.5642]\u001b[A\n",
      "학습 중:  61%|██████    | 66/109 [00:12<00:06,  6.15it/s, loss=1.5624]\u001b[A\n",
      "학습 중:  61%|██████▏   | 67/109 [00:12<00:06,  6.15it/s, loss=1.5624]\u001b[A\n",
      "학습 중:  61%|██████▏   | 67/109 [00:13<00:06,  6.15it/s, loss=1.5611]\u001b[A\n",
      "학습 중:  62%|██████▏   | 68/109 [00:13<00:06,  6.15it/s, loss=1.5611]\u001b[A\n",
      "학습 중:  62%|██████▏   | 68/109 [00:13<00:06,  6.15it/s, loss=1.5593]\u001b[A\n",
      "학습 중:  63%|██████▎   | 69/109 [00:13<00:06,  6.14it/s, loss=1.5593]\u001b[A\n",
      "학습 중:  63%|██████▎   | 69/109 [00:13<00:06,  6.14it/s, loss=1.5577]\u001b[A\n",
      "학습 중:  64%|██████▍   | 70/109 [00:13<00:06,  6.15it/s, loss=1.5577]\u001b[A\n",
      "학습 중:  64%|██████▍   | 70/109 [00:13<00:06,  6.15it/s, loss=1.5567]\u001b[A\n",
      "학습 중:  65%|██████▌   | 71/109 [00:13<00:06,  6.14it/s, loss=1.5567]\u001b[A\n",
      "학습 중:  65%|██████▌   | 71/109 [00:13<00:06,  6.14it/s, loss=1.5550]\u001b[A\n",
      "학습 중:  66%|██████▌   | 72/109 [00:13<00:06,  6.14it/s, loss=1.5550]\u001b[A\n",
      "학습 중:  66%|██████▌   | 72/109 [00:13<00:06,  6.14it/s, loss=1.5519]\u001b[A\n",
      "학습 중:  67%|██████▋   | 73/109 [00:13<00:05,  6.15it/s, loss=1.5519]\u001b[A\n",
      "학습 중:  67%|██████▋   | 73/109 [00:14<00:05,  6.15it/s, loss=1.5506]\u001b[A\n",
      "학습 중:  68%|██████▊   | 74/109 [00:14<00:05,  6.15it/s, loss=1.5506]\u001b[A\n",
      "학습 중:  68%|██████▊   | 74/109 [00:14<00:05,  6.15it/s, loss=1.5495]\u001b[A\n",
      "학습 중:  69%|██████▉   | 75/109 [00:14<00:05,  6.16it/s, loss=1.5495]\u001b[A\n",
      "학습 중:  69%|██████▉   | 75/109 [00:14<00:05,  6.16it/s, loss=1.5478]\u001b[A\n",
      "학습 중:  70%|██████▉   | 76/109 [00:14<00:05,  6.16it/s, loss=1.5478]\u001b[A\n",
      "학습 중:  70%|██████▉   | 76/109 [00:14<00:05,  6.16it/s, loss=1.5463]\u001b[A\n",
      "학습 중:  71%|███████   | 77/109 [00:14<00:05,  6.16it/s, loss=1.5463]\u001b[A\n",
      "학습 중:  71%|███████   | 77/109 [00:14<00:05,  6.16it/s, loss=1.5436]\u001b[A\n",
      "학습 중:  72%|███████▏  | 78/109 [00:14<00:05,  6.15it/s, loss=1.5436]\u001b[A\n",
      "학습 중:  72%|███████▏  | 78/109 [00:14<00:05,  6.15it/s, loss=1.5411]\u001b[A\n",
      "학습 중:  72%|███████▏  | 79/109 [00:14<00:04,  6.15it/s, loss=1.5411]\u001b[A\n",
      "학습 중:  72%|███████▏  | 79/109 [00:14<00:04,  6.15it/s, loss=1.5384]\u001b[A\n",
      "학습 중:  73%|███████▎  | 80/109 [00:14<00:04,  6.15it/s, loss=1.5384]\u001b[A\n",
      "학습 중:  73%|███████▎  | 80/109 [00:15<00:04,  6.15it/s, loss=1.5357]\u001b[A\n",
      "학습 중:  74%|███████▍  | 81/109 [00:15<00:04,  6.15it/s, loss=1.5357]\u001b[A\n",
      "학습 중:  74%|███████▍  | 81/109 [00:15<00:04,  6.15it/s, loss=1.5327]\u001b[A\n",
      "학습 중:  75%|███████▌  | 82/109 [00:15<00:04,  6.15it/s, loss=1.5327]\u001b[A\n",
      "학습 중:  75%|███████▌  | 82/109 [00:15<00:04,  6.15it/s, loss=1.5295]\u001b[A\n",
      "학습 중:  76%|███████▌  | 83/109 [00:15<00:04,  6.15it/s, loss=1.5295]\u001b[A\n",
      "학습 중:  76%|███████▌  | 83/109 [00:15<00:04,  6.15it/s, loss=1.5286]\u001b[A\n",
      "학습 중:  77%|███████▋  | 84/109 [00:15<00:04,  6.14it/s, loss=1.5286]\u001b[A\n",
      "학습 중:  77%|███████▋  | 84/109 [00:15<00:04,  6.14it/s, loss=1.5254]\u001b[A\n",
      "학습 중:  78%|███████▊  | 85/109 [00:15<00:03,  6.13it/s, loss=1.5254]\u001b[A\n",
      "학습 중:  78%|███████▊  | 85/109 [00:15<00:03,  6.13it/s, loss=1.5228]\u001b[A\n",
      "학습 중:  79%|███████▉  | 86/109 [00:15<00:03,  6.13it/s, loss=1.5228]\u001b[A\n",
      "학습 중:  79%|███████▉  | 86/109 [00:16<00:03,  6.13it/s, loss=1.5211]\u001b[A\n",
      "학습 중:  80%|███████▉  | 87/109 [00:16<00:03,  6.14it/s, loss=1.5211]\u001b[A\n",
      "학습 중:  80%|███████▉  | 87/109 [00:16<00:03,  6.14it/s, loss=1.5190]\u001b[A\n",
      "학습 중:  81%|████████  | 88/109 [00:16<00:03,  6.13it/s, loss=1.5190]\u001b[A\n",
      "학습 중:  81%|████████  | 88/109 [00:16<00:03,  6.13it/s, loss=1.5172]\u001b[A\n",
      "학습 중:  82%|████████▏ | 89/109 [00:16<00:03,  6.14it/s, loss=1.5172]\u001b[A\n",
      "학습 중:  82%|████████▏ | 89/109 [00:16<00:03,  6.14it/s, loss=1.5156]\u001b[A\n",
      "학습 중:  83%|████████▎ | 90/109 [00:16<00:03,  6.14it/s, loss=1.5156]\u001b[A\n",
      "학습 중:  83%|████████▎ | 90/109 [00:16<00:03,  6.14it/s, loss=1.5128]\u001b[A\n",
      "학습 중:  83%|████████▎ | 91/109 [00:16<00:02,  6.14it/s, loss=1.5128]\u001b[A\n",
      "학습 중:  83%|████████▎ | 91/109 [00:16<00:02,  6.14it/s, loss=1.5100]\u001b[A\n",
      "학습 중:  84%|████████▍ | 92/109 [00:16<00:02,  6.14it/s, loss=1.5100]\u001b[A\n",
      "학습 중:  84%|████████▍ | 92/109 [00:17<00:02,  6.14it/s, loss=1.5079]\u001b[A\n",
      "학습 중:  85%|████████▌ | 93/109 [00:17<00:02,  6.12it/s, loss=1.5079]\u001b[A\n",
      "학습 중:  85%|████████▌ | 93/109 [00:17<00:02,  6.12it/s, loss=1.5062]\u001b[A\n",
      "학습 중:  86%|████████▌ | 94/109 [00:17<00:02,  6.13it/s, loss=1.5062]\u001b[A\n",
      "학습 중:  86%|████████▌ | 94/109 [00:17<00:02,  6.13it/s, loss=1.5039]\u001b[A\n",
      "학습 중:  87%|████████▋ | 95/109 [00:17<00:02,  6.13it/s, loss=1.5039]\u001b[A\n",
      "학습 중:  87%|████████▋ | 95/109 [00:17<00:02,  6.13it/s, loss=1.5012]\u001b[A\n",
      "학습 중:  88%|████████▊ | 96/109 [00:17<00:02,  6.13it/s, loss=1.5012]\u001b[A\n",
      "학습 중:  88%|████████▊ | 96/109 [00:17<00:02,  6.13it/s, loss=1.4991]\u001b[A\n",
      "학습 중:  89%|████████▉ | 97/109 [00:17<00:01,  6.14it/s, loss=1.4991]\u001b[A\n",
      "학습 중:  89%|████████▉ | 97/109 [00:17<00:01,  6.14it/s, loss=1.4974]\u001b[A\n",
      "학습 중:  90%|████████▉ | 98/109 [00:17<00:01,  6.14it/s, loss=1.4974]\u001b[A\n",
      "학습 중:  90%|████████▉ | 98/109 [00:18<00:01,  6.14it/s, loss=1.4958]\u001b[A\n",
      "학습 중:  91%|█████████ | 99/109 [00:18<00:01,  6.14it/s, loss=1.4958]\u001b[A\n",
      "학습 중:  91%|█████████ | 99/109 [00:18<00:01,  6.14it/s, loss=1.4930]\u001b[A\n",
      "학습 중:  92%|█████████▏| 100/109 [00:18<00:01,  6.13it/s, loss=1.4930]\u001b[A\n",
      "학습 중:  92%|█████████▏| 100/109 [00:18<00:01,  6.13it/s, loss=1.4913]\u001b[A\n",
      "학습 중:  93%|█████████▎| 101/109 [00:18<00:01,  6.14it/s, loss=1.4913]\u001b[A\n",
      "학습 중:  93%|█████████▎| 101/109 [00:18<00:01,  6.14it/s, loss=1.4899]\u001b[A\n",
      "학습 중:  94%|█████████▎| 102/109 [00:18<00:01,  6.14it/s, loss=1.4899]\u001b[A\n",
      "학습 중:  94%|█████████▎| 102/109 [00:18<00:01,  6.14it/s, loss=1.4868]\u001b[A\n",
      "학습 중:  94%|█████████▍| 103/109 [00:18<00:00,  6.13it/s, loss=1.4868]\u001b[A\n",
      "학습 중:  94%|█████████▍| 103/109 [00:18<00:00,  6.13it/s, loss=1.4861]\u001b[A\n",
      "학습 중:  95%|█████████▌| 104/109 [00:18<00:00,  6.13it/s, loss=1.4861]\u001b[A\n",
      "학습 중:  95%|█████████▌| 104/109 [00:19<00:00,  6.13it/s, loss=1.4838]\u001b[A\n",
      "학습 중:  96%|█████████▋| 105/109 [00:19<00:00,  6.13it/s, loss=1.4838]\u001b[A\n",
      "학습 중:  96%|█████████▋| 105/109 [00:19<00:00,  6.13it/s, loss=1.4817]\u001b[A\n",
      "학습 중:  97%|█████████▋| 106/109 [00:19<00:00,  6.14it/s, loss=1.4817]\u001b[A\n",
      "학습 중:  97%|█████████▋| 106/109 [00:19<00:00,  6.14it/s, loss=1.4777]\u001b[A\n",
      "학습 중:  98%|█████████▊| 107/109 [00:19<00:00,  6.14it/s, loss=1.4777]\u001b[A\n",
      "학습 중:  98%|█████████▊| 107/109 [00:19<00:00,  6.14it/s, loss=1.4750]\u001b[A\n",
      "학습 중:  99%|█████████▉| 108/109 [00:19<00:00,  6.13it/s, loss=1.4750]\u001b[A\n",
      "학습 중:  99%|█████████▉| 108/109 [00:19<00:00,  6.13it/s, loss=1.4716]\u001b[A\n",
      "학습 중: 100%|██████████| 109/109 [00:19<00:00,  5.53it/s, loss=1.4716]\n"
     ]
    },
    {
     "name": "stdout",
     "output_type": "stream",
     "text": [
      "Train Loss: 1.4716\n"
     ]
    },
    {
     "name": "stderr",
     "output_type": "stream",
     "text": [
      "평가 중: 100%|██████████| 24/24 [00:01<00:00, 17.08it/s]\n"
     ]
    },
    {
     "name": "stdout",
     "output_type": "stream",
     "text": [
      "Validation Loss: 1.2341\n",
      "Validation Macro F1: 0.3635\n",
      "모델 저장됨: best_model.pth (F1: 0.3635)\n",
      "\n",
      "Epoch 2/10\n"
     ]
    },
    {
     "name": "stderr",
     "output_type": "stream",
     "text": [
      "학습 중: 100%|██████████| 109/109 [00:17<00:00,  6.16it/s, loss=1.0949]\n"
     ]
    },
    {
     "name": "stdout",
     "output_type": "stream",
     "text": [
      "Train Loss: 1.0949\n"
     ]
    },
    {
     "name": "stderr",
     "output_type": "stream",
     "text": [
      "평가 중: 100%|██████████| 24/24 [00:01<00:00, 17.23it/s]\n"
     ]
    },
    {
     "name": "stdout",
     "output_type": "stream",
     "text": [
      "Validation Loss: 0.9785\n",
      "Validation Macro F1: 0.5787\n",
      "모델 저장됨: best_model.pth (F1: 0.5787)\n",
      "\n",
      "Epoch 3/10\n"
     ]
    },
    {
     "name": "stderr",
     "output_type": "stream",
     "text": [
      "학습 중: 100%|██████████| 109/109 [00:17<00:00,  6.17it/s, loss=0.8843]\n"
     ]
    },
    {
     "name": "stdout",
     "output_type": "stream",
     "text": [
      "Train Loss: 0.8843\n"
     ]
    },
    {
     "name": "stderr",
     "output_type": "stream",
     "text": [
      "평가 중: 100%|██████████| 24/24 [00:01<00:00, 17.21it/s]\n"
     ]
    },
    {
     "name": "stdout",
     "output_type": "stream",
     "text": [
      "Validation Loss: 0.7987\n",
      "Validation Macro F1: 0.6584\n",
      "모델 저장됨: best_model.pth (F1: 0.6584)\n",
      "\n",
      "Epoch 4/10\n"
     ]
    },
    {
     "name": "stderr",
     "output_type": "stream",
     "text": [
      "학습 중: 100%|██████████| 109/109 [00:17<00:00,  6.18it/s, loss=0.7518]\n"
     ]
    },
    {
     "name": "stdout",
     "output_type": "stream",
     "text": [
      "Train Loss: 0.7518\n"
     ]
    },
    {
     "name": "stderr",
     "output_type": "stream",
     "text": [
      "평가 중: 100%|██████████| 24/24 [00:01<00:00, 17.42it/s]\n"
     ]
    },
    {
     "name": "stdout",
     "output_type": "stream",
     "text": [
      "Validation Loss: 0.7215\n",
      "Validation Macro F1: 0.7016\n",
      "모델 저장됨: best_model.pth (F1: 0.7016)\n",
      "\n",
      "Epoch 5/10\n"
     ]
    },
    {
     "name": "stderr",
     "output_type": "stream",
     "text": [
      "학습 중: 100%|██████████| 109/109 [00:17<00:00,  6.17it/s, loss=0.6676]\n"
     ]
    },
    {
     "name": "stdout",
     "output_type": "stream",
     "text": [
      "Train Loss: 0.6676\n"
     ]
    },
    {
     "name": "stderr",
     "output_type": "stream",
     "text": [
      "평가 중: 100%|██████████| 24/24 [00:01<00:00, 17.19it/s]\n"
     ]
    },
    {
     "name": "stdout",
     "output_type": "stream",
     "text": [
      "Validation Loss: 0.6966\n",
      "Validation Macro F1: 0.7444\n",
      "모델 저장됨: best_model.pth (F1: 0.7444)\n",
      "\n",
      "Epoch 6/10\n"
     ]
    },
    {
     "name": "stderr",
     "output_type": "stream",
     "text": [
      "학습 중: 100%|██████████| 109/109 [00:17<00:00,  6.17it/s, loss=0.6352]\n"
     ]
    },
    {
     "name": "stdout",
     "output_type": "stream",
     "text": [
      "Train Loss: 0.6352\n"
     ]
    },
    {
     "name": "stderr",
     "output_type": "stream",
     "text": [
      "평가 중: 100%|██████████| 24/24 [00:01<00:00, 17.23it/s]\n"
     ]
    },
    {
     "name": "stdout",
     "output_type": "stream",
     "text": [
      "Validation Loss: 0.6966\n",
      "Validation Macro F1: 0.7444\n",
      "성능 향상 없음: 1/2\n",
      "\n",
      "Epoch 7/10\n"
     ]
    },
    {
     "name": "stderr",
     "output_type": "stream",
     "text": [
      "학습 중: 100%|██████████| 109/109 [00:17<00:00,  6.17it/s, loss=0.6355]\n"
     ]
    },
    {
     "name": "stdout",
     "output_type": "stream",
     "text": [
      "Train Loss: 0.6355\n"
     ]
    },
    {
     "name": "stderr",
     "output_type": "stream",
     "text": [
      "평가 중: 100%|██████████| 24/24 [00:01<00:00, 17.31it/s]\n"
     ]
    },
    {
     "name": "stdout",
     "output_type": "stream",
     "text": [
      "Validation Loss: 0.6966\n",
      "Validation Macro F1: 0.7444\n",
      "성능 향상 없음: 2/2\n",
      "\n",
      "Early Stopping! 2번의 에폭 동안 성능 향상 없음.\n"
     ]
    },
    {
     "name": "stderr",
     "output_type": "stream",
     "text": [
      "평가 중: 100%|██████████| 24/24 [00:01<00:00, 17.11it/s]\n"
     ]
    },
    {
     "name": "stdout",
     "output_type": "stream",
     "text": [
      "\n",
      "테스트 결과:\n",
      "Test Loss: 0.6758\n",
      "Test Macro F1: 0.7623\n",
      "\n",
      "분류 보고서:\n",
      "              precision    recall  f1-score   support\n",
      "\n",
      "       협박 대화       0.67      0.51      0.58       134\n",
      "       갈취 대화       0.74      0.72      0.73       146\n",
      " 직장 내 괴롭힘 대화       0.77      0.89      0.83       145\n",
      "   기타 괴롭힘 대화       0.66      0.72      0.69       152\n",
      "       일반 대화       0.98      0.99      0.98       169\n",
      "\n",
      "    accuracy                           0.78       746\n",
      "   macro avg       0.77      0.77      0.76       746\n",
      "weighted avg       0.77      0.78      0.77       746\n",
      "\n",
      "W: Skipping acquire of configured file 'main/source/Sources' as repository 'https://r2u.stat.illinois.edu/ubuntu jammy InRelease' does not seem to provide it (sources.list entry misspelt?)\n"
     ]
    },
    {
     "name": "stderr",
     "output_type": "stream",
     "text": [
      "Some weights of ElectraForSequenceClassification were not initialized from the model checkpoint at monologg/koelectra-base-v3-discriminator and are newly initialized: ['classifier.dense.bias', 'classifier.dense.weight', 'classifier.out_proj.bias', 'classifier.out_proj.weight']\n",
      "You should probably TRAIN this model on a down-stream task to be able to use it for predictions and inference.\n",
      "테스트 예측 중: 100%|██████████| 16/16 [00:01<00:00, 15.60it/s]\n"
     ]
    },
    {
     "name": "stdout",
     "output_type": "stream",
     "text": [
      "제출 파일 생성 완료: submission.csv\n"
     ]
    }
   ],
   "source": [
    "import os\n",
    "import numpy as np\n",
    "import pandas as pd\n",
    "from sklearn.model_selection import train_test_split\n",
    "from sklearn.metrics import classification_report, f1_score, confusion_matrix\n",
    "import torch\n",
    "from torch.utils.data import Dataset, DataLoader\n",
    "# 토크나이저와 모델 import 수정\n",
    "from transformers import ElectraForSequenceClassification, BertTokenizer\n",
    "from transformers import get_linear_schedule_with_warmup\n",
    "from tqdm import tqdm\n",
    "import random\n",
    "import matplotlib.pyplot as plt\n",
    "import seaborn as sns\n",
    "\n",
    "# 시드 고정\n",
    "def set_seed(seed_value=42):\n",
    "    random.seed(seed_value)\n",
    "    np.random.seed(seed_value)\n",
    "    torch.manual_seed(seed_value)\n",
    "    torch.cuda.manual_seed_all(seed_value)\n",
    "    torch.backends.cudnn.deterministic = True\n",
    "\n",
    "set_seed(42)\n",
    "\n",
    "# 설정값\n",
    "ELECTRA_MODEL_NAME = \"monologg/koelectra-base-v3-discriminator\"\n",
    "BERT_TOKENIZER_NAME = \"klue/roberta-base\"  # BERT 기반 토크나이저\n",
    "MAX_LEN = 128\n",
    "BATCH_SIZE = 32\n",
    "EPOCHS = 10\n",
    "SCHEDULER_EPOCHS = 5\n",
    "EARLY_STOPPING_PATIENCE = 2\n",
    "LEARNING_RATE = 2e-5\n",
    "TRAIN_FILE = \"data/train_preprocessed_1.csv\"\n",
    "TEXT_COL = \"text\"\n",
    "LABEL_COL = \"class\"\n",
    "LABEL_DICT = {'협박 대화': 0, '갈취 대화': 1, '직장 내 괴롭힘 대화': 2, '기타 괴롭힘 대화': 3, '일반 대화': 4}\n",
    "ID_TO_LABEL = {v: k for k, v in LABEL_DICT.items()}\n",
    "GPU_NUM = 0\n",
    "TEST_FILE = \"data/test.csv\"\n",
    "\n",
    "# 1. 데이터 로드 및 전처리\n",
    "print(\"데이터 로드 중...\")\n",
    "df = pd.read_csv(TRAIN_FILE)\n",
    "\n",
    "# 라벨 매핑\n",
    "df[LABEL_COL] = df[LABEL_COL].map(LABEL_DICT)\n",
    "\n",
    "# 데이터 분할\n",
    "train_df, temp_df = train_test_split(df, test_size=0.3, random_state=42, stratify=df[LABEL_COL])\n",
    "val_df, test_df = train_test_split(temp_df, test_size=0.5, random_state=42, stratify=temp_df[LABEL_COL])\n",
    "\n",
    "print(f\"학습 데이터 크기: {len(train_df)}\")\n",
    "print(f\"검증 데이터 크기: {len(val_df)}\")\n",
    "print(f\"테스트 데이터 크기: {len(test_df)}\")\n",
    "\n",
    "# 클래스별 데이터 개수 확인\n",
    "print(\"학습 데이터의 클래스 분포:\")\n",
    "print(train_df[LABEL_COL].value_counts())\n",
    "\n",
    "# 2. Dataset 클래스 정의\n",
    "class TextClassificationDataset(Dataset):\n",
    "    def __init__(self, texts, labels, tokenizer, max_len):\n",
    "        self.texts = texts\n",
    "        self.labels = labels\n",
    "        self.tokenizer = tokenizer\n",
    "        self.max_len = max_len\n",
    "\n",
    "    def __len__(self):\n",
    "        return len(self.texts)\n",
    "\n",
    "    def __getitem__(self, idx):\n",
    "        text = str(self.texts[idx])\n",
    "        label = self.labels[idx]\n",
    "\n",
    "        # BERT 토크나이저는 token_type_ids를 반환함\n",
    "        encoding = self.tokenizer.encode_plus(\n",
    "            text,\n",
    "            add_special_tokens=True,\n",
    "            max_length=self.max_len,\n",
    "            padding='max_length',\n",
    "            truncation=True,\n",
    "            return_token_type_ids=True,\n",
    "            return_attention_mask=True,\n",
    "            return_tensors='pt'\n",
    "        )\n",
    "\n",
    "        return {\n",
    "            'text': text,\n",
    "            'input_ids': encoding['input_ids'].flatten(),\n",
    "            'attention_mask': encoding['attention_mask'].flatten(),\n",
    "            'token_type_ids': encoding['token_type_ids'].flatten(),\n",
    "            'labels': torch.tensor(label, dtype=torch.long)\n",
    "        }\n",
    "\n",
    "# 3. 데이터 로더 생성\n",
    "def create_data_loader(df, tokenizer, max_len, batch_size):\n",
    "    dataset = TextClassificationDataset(\n",
    "        texts=df[TEXT_COL].values,\n",
    "        labels=df[LABEL_COL].values,\n",
    "        tokenizer=tokenizer,\n",
    "        max_len=max_len\n",
    "    )\n",
    "\n",
    "    return DataLoader(\n",
    "        dataset,\n",
    "        batch_size=batch_size,\n",
    "        num_workers=2\n",
    "    )\n",
    "\n",
    "# 4. 토크나이저 및 모델 로드\n",
    "print(f\"BERT 토크나이저 '{ROBERTA_TOKENIZER_NAME}' 로드 중...\")\n",
    "tokenizer = BertTokenizer.from_pretrained(ROBERTA_TOKENIZER_NAME)\n",
    "\n",
    "print(f\"koElectra 모델 '{ELECTRA_MODEL_NAME}' 로드 중...\")\n",
    "model = ElectraForSequenceClassification.from_pretrained(ELECTRA_MODEL_NAME, num_labels=len(LABEL_DICT))\n",
    "\n",
    "# 5. 데이터 로더 생성\n",
    "train_data_loader = create_data_loader(train_df, tokenizer, MAX_LEN, BATCH_SIZE)\n",
    "val_data_loader = create_data_loader(val_df, tokenizer, MAX_LEN, BATCH_SIZE)\n",
    "test_data_loader = create_data_loader(test_df, tokenizer, MAX_LEN, BATCH_SIZE)\n",
    "\n",
    "# 6. 모델 학습 함수\n",
    "def train_model(model, data_loader, optimizer, scheduler, device):\n",
    "    model.train()\n",
    "    losses = []\n",
    "\n",
    "    progress_bar = tqdm(data_loader, desc=\"학습 중\")\n",
    "\n",
    "    for batch in progress_bar:\n",
    "        optimizer.zero_grad()\n",
    "\n",
    "        input_ids = batch['input_ids'].to(device)\n",
    "        attention_mask = batch['attention_mask'].to(device)\n",
    "        token_type_ids = batch['token_type_ids'].to(device)\n",
    "        labels = batch['labels'].to(device)\n",
    "\n",
    "        # BERT 토크나이저는 token_type_ids를 항상 제공\n",
    "        outputs = model(\n",
    "            input_ids=input_ids,\n",
    "            attention_mask=attention_mask,\n",
    "            token_type_ids=token_type_ids,\n",
    "            labels=labels\n",
    "        )\n",
    "\n",
    "        loss = outputs.loss\n",
    "        loss.backward()\n",
    "\n",
    "        torch.nn.utils.clip_grad_norm_(model.parameters(), max_norm=1.0)\n",
    "\n",
    "        optimizer.step()\n",
    "        scheduler.step()\n",
    "\n",
    "        losses.append(loss.item())\n",
    "        progress_bar.set_postfix({\"loss\": f\"{np.mean(losses):.4f}\"})\n",
    "\n",
    "    return np.mean(losses)\n",
    "\n",
    "# 7. 모델 평가 함수\n",
    "def evaluate_model(model, data_loader, device):\n",
    "    model.eval()\n",
    "    losses = []\n",
    "    predictions = []\n",
    "    real_labels = []\n",
    "\n",
    "    with torch.no_grad():\n",
    "        for batch in tqdm(data_loader, desc=\"평가 중\"):\n",
    "            input_ids = batch['input_ids'].to(device)\n",
    "            attention_mask = batch['attention_mask'].to(device)\n",
    "            token_type_ids = batch['token_type_ids'].to(device)\n",
    "            labels = batch['labels'].to(device)\n",
    "\n",
    "            outputs = model(\n",
    "                input_ids=input_ids,\n",
    "                attention_mask=attention_mask,\n",
    "                token_type_ids=token_type_ids,\n",
    "                labels=labels\n",
    "            )\n",
    "\n",
    "            _, preds = torch.max(outputs.logits, dim=1)\n",
    "\n",
    "            losses.append(outputs.loss.item())\n",
    "            predictions.extend(preds.detach().cpu().numpy())\n",
    "            real_labels.extend(labels.detach().cpu().numpy())\n",
    "\n",
    "    return np.mean(losses), predictions, real_labels\n",
    "\n",
    "# 8. 테스트 세트 예측 함수\n",
    "def predict_test(model, data_loader, device):\n",
    "    model.eval()\n",
    "    predictions = []\n",
    "\n",
    "    with torch.no_grad():\n",
    "        for batch in tqdm(data_loader, desc=\"테스트 예측 중\"):\n",
    "            input_ids = batch['input_ids'].to(device)\n",
    "            attention_mask = batch['attention_mask'].to(device)\n",
    "            token_type_ids = batch['token_type_ids'].to(device)\n",
    "\n",
    "            outputs = model(\n",
    "                input_ids=input_ids,\n",
    "                attention_mask=attention_mask,\n",
    "                token_type_ids=token_type_ids\n",
    "            )\n",
    "\n",
    "            _, preds = torch.max(outputs.logits, dim=1)\n",
    "            predictions.extend(preds.detach().cpu().numpy())\n",
    "\n",
    "    return predictions\n",
    "\n",
    "# 9. 혼동 행렬 시각화 함수\n",
    "def plot_confusion_matrix(cm, classes):\n",
    "    # 한글 폰트 설정\n",
    "    import matplotlib.font_manager as fm\n",
    "\n",
    "    # 시스템에 설치된 폰트 경로 확인\n",
    "    # 리눅스 환경이면 'NanumGothic'이나 다른 한글 폰트 사용\n",
    "    # 윈도우라면 'Malgun Gothic' 등 사용\n",
    "    try:\n",
    "        # 방법 1: 나눔 글꼴 설치 및 사용\n",
    "        !apt-get update -qq\n",
    "        !apt-get install fonts-nanum -qq\n",
    "        plt.rc('font', family='NanumGothic')\n",
    "    except:\n",
    "        try:\n",
    "            # 방법 2: 한글 레이블을 영어로 변환\n",
    "            classes = ['Threat', 'Extortion', 'Workplace Harassment', 'Other Harassment', 'Normal Conversation']\n",
    "        except:\n",
    "            pass\n",
    "\n",
    "    plt.figure(figsize=(10, 8))\n",
    "    sns.heatmap(cm, annot=True, fmt='d', cmap='Blues', xticklabels=classes, yticklabels=classes)\n",
    "    plt.xlabel('예측값')\n",
    "    plt.ylabel('실제값')\n",
    "    plt.title('혼동 행렬')\n",
    "    plt.savefig('confusion_matrix.png')\n",
    "    plt.close()\n",
    "\n",
    "# 10. 학습 메인 함수\n",
    "def train():\n",
    "    # GPU 사용 설정\n",
    "    device = torch.device(f\"cuda:{GPU_NUM}\" if torch.cuda.is_available() else \"cpu\")\n",
    "    print(f\"사용 중인 디바이스: {device}\")\n",
    "    model.to(device)\n",
    "\n",
    "    # 옵티마이저 및 스케줄러 설정\n",
    "    from torch.optim import AdamW\n",
    "    optimizer = AdamW(model.parameters(), lr=LEARNING_RATE)\n",
    "    total_steps = len(train_data_loader) * SCHEDULER_EPOCHS\n",
    "\n",
    "    scheduler = get_linear_schedule_with_warmup(\n",
    "        optimizer,\n",
    "        num_warmup_steps=0,\n",
    "        num_training_steps=total_steps\n",
    "    )\n",
    "\n",
    "    # 학습 시작\n",
    "    best_val_f1 = 0\n",
    "    patience_counter = 0  # Early Stopping을 위한 카운터\n",
    "\n",
    "    for epoch in range(EPOCHS):\n",
    "        print(f\"\\nEpoch {epoch + 1}/{EPOCHS}\")\n",
    "\n",
    "        # 학습\n",
    "        train_loss = train_model(model, train_data_loader, optimizer, scheduler, device)\n",
    "        print(f\"Train Loss: {train_loss:.4f}\")\n",
    "\n",
    "        # 검증\n",
    "        val_loss, val_predictions, val_labels = evaluate_model(model, val_data_loader, device)\n",
    "        val_f1 = f1_score(val_labels, val_predictions, average='macro')\n",
    "\n",
    "        print(f\"Validation Loss: {val_loss:.4f}\")\n",
    "        print(f\"Validation Macro F1: {val_f1:.4f}\")\n",
    "\n",
    "        # 최고 성능 모델 저장 및 Early Stopping 로직\n",
    "        if val_f1 > best_val_f1:\n",
    "            best_val_f1 = val_f1\n",
    "            torch.save(model.state_dict(), \"best_model.pth\")\n",
    "            print(f\"모델 저장됨: best_model.pth (F1: {val_f1:.4f})\")\n",
    "            patience_counter = 0  # 성능이 향상되었으므로 카운터 초기화\n",
    "        else:\n",
    "            patience_counter += 1  # 성능이 향상되지 않았으므로 카운터 증가\n",
    "            print(f\"성능 향상 없음: {patience_counter}/{EARLY_STOPPING_PATIENCE}\")\n",
    "\n",
    "            # Early Stopping 조건 확인\n",
    "            if patience_counter >= EARLY_STOPPING_PATIENCE:\n",
    "                print(f\"\\nEarly Stopping! {EARLY_STOPPING_PATIENCE}번의 에폭 동안 성능 향상 없음.\")\n",
    "                break\n",
    "\n",
    "    # 최고 성능 모델 로드\n",
    "    model.load_state_dict(torch.load(\"best_model.pth\"))\n",
    "\n",
    "    # 테스트 세트 평가\n",
    "    test_loss, test_predictions, test_labels = evaluate_model(model, test_data_loader, device)\n",
    "    test_f1 = f1_score(test_labels, test_predictions, average='macro')\n",
    "\n",
    "    print(\"\\n테스트 결과:\")\n",
    "    print(f\"Test Loss: {test_loss:.4f}\")\n",
    "    print(f\"Test Macro F1: {test_f1:.4f}\")\n",
    "\n",
    "    # 분류 보고서 출력\n",
    "    class_names = [ID_TO_LABEL[i] for i in range(len(LABEL_DICT))]\n",
    "    print(\"\\n분류 보고서:\")\n",
    "    print(classification_report(test_labels, test_predictions, target_names=class_names))\n",
    "\n",
    "    # 혼동 행렬 시각화\n",
    "    cm = confusion_matrix(test_labels, test_predictions)\n",
    "    plot_confusion_matrix(cm, class_names)\n",
    "\n",
    "    return model\n",
    "\n",
    "# 11. 실제 테스트 데이터 예측 및 제출 파일 생성\n",
    "def predict_and_save():\n",
    "    # 테스트 파일 로드\n",
    "    test_data = pd.read_csv(TEST_FILE)\n",
    "\n",
    "    # 전처리 함수 불러오기 (전처리 함수 정의 필요)\n",
    "    # 아래 함수는 실제 구현이 필요합니다\n",
    "    def preprocess(text, stopwords=None, speaker_token=\"\", sep_token=\" \", use_silence=False, repeat_limit=2):\n",
    "        # 실제 전처리 구현\n",
    "        # 필요한 경우 이 부분에 전처리 로직을 구현하세요\n",
    "        return text\n",
    "\n",
    "    # 전처리 함수 설정\n",
    "    from functools import partial\n",
    "    preprocess_fn = partial(\n",
    "        preprocess,\n",
    "        stopwords=None,\n",
    "        speaker_token=\"\",\n",
    "        sep_token=\" \",\n",
    "        use_silence=False,\n",
    "        repeat_limit=2\n",
    "    )\n",
    "\n",
    "    # 전처리 적용\n",
    "    test_data['processed_text'] = test_data['text'].apply(preprocess_fn)\n",
    "\n",
    "    # Dataset 생성\n",
    "    class TestDataset(Dataset):\n",
    "        def __init__(self, texts, tokenizer, max_len):\n",
    "            self.texts = texts\n",
    "            self.tokenizer = tokenizer\n",
    "            self.max_len = max_len\n",
    "\n",
    "        def __len__(self):\n",
    "            return len(self.texts)\n",
    "\n",
    "        def __getitem__(self, idx):\n",
    "            text = str(self.texts[idx])\n",
    "\n",
    "            # BERT 토크나이저 포맷에 맞게 수정\n",
    "            encoding = self.tokenizer.encode_plus(\n",
    "                text,\n",
    "                add_special_tokens=True,\n",
    "                max_length=self.max_len,\n",
    "                padding='max_length',\n",
    "                truncation=True,\n",
    "                return_token_type_ids=True,\n",
    "                return_attention_mask=True,\n",
    "                return_tensors='pt'\n",
    "            )\n",
    "\n",
    "            return {\n",
    "                'text': text,\n",
    "                'input_ids': encoding['input_ids'].flatten(),\n",
    "                'attention_mask': encoding['attention_mask'].flatten(),\n",
    "                'token_type_ids': encoding['token_type_ids'].flatten(),\n",
    "            }\n",
    "\n",
    "    # 테스트 데이터 로더 생성\n",
    "    test_dataset = TestDataset(\n",
    "        texts=test_data['processed_text'].values,\n",
    "        tokenizer=tokenizer,\n",
    "        max_len=MAX_LEN\n",
    "    )\n",
    "\n",
    "    test_data_loader = DataLoader(\n",
    "        test_dataset,\n",
    "        batch_size=BATCH_SIZE,\n",
    "        num_workers=2\n",
    "    )\n",
    "\n",
    "    # GPU 설정\n",
    "    device = torch.device(f\"cuda:{GPU_NUM}\" if torch.cuda.is_available() else \"cpu\")\n",
    "\n",
    "    # 최고 성능 모델 로드\n",
    "    model = ElectraForSequenceClassification.from_pretrained(ELECTRA_MODEL_NAME, num_labels=len(LABEL_DICT))\n",
    "    model.load_state_dict(torch.load(\"best_model.pth\"))\n",
    "    model.to(device)\n",
    "\n",
    "    # 예측\n",
    "    model.eval()\n",
    "    predictions = []\n",
    "\n",
    "    with torch.no_grad():\n",
    "        for batch in tqdm(test_data_loader, desc=\"테스트 예측 중\"):\n",
    "            input_ids = batch['input_ids'].to(device)\n",
    "            attention_mask = batch['attention_mask'].to(device)\n",
    "\n",
    "            # token_type_ids 제거\n",
    "            outputs = model(\n",
    "                input_ids=input_ids,\n",
    "                attention_mask=attention_mask\n",
    "            )\n",
    "\n",
    "            _, preds = torch.max(outputs.logits, dim=1)\n",
    "            predictions.extend(preds.detach().cpu().numpy())\n",
    "\n",
    "    # 예측 결과 라벨로 변환\n",
    "    label_predictions = [str(p) for p in predictions]\n",
    "\n",
    "    # 제출 파일 생성\n",
    "    submission = pd.DataFrame({\n",
    "        'idx': test_data['idx'],\n",
    "        'class': label_predictions\n",
    "    })\n",
    "\n",
    "    submission.to_csv('data/submission.csv', index=False)\n",
    "    print(f\"제출 파일 생성 완료: submission.csv\")\n",
    "\n",
    "# 메인 실행\n",
    "if __name__ == \"__main__\":\n",
    "    # 모델 학습\n",
    "    model = train()\n",
    "\n",
    "    # 테스트 데이터 예측 및 제출 파일 생성\n",
    "    predict_and_save()"
   ]
  },
  {
   "cell_type": "markdown",
   "metadata": {
    "id": "8f8Ec-Feauab"
   },
   "source": [
    "#### 모델이 모든 클래스에 대해 비등하게 학습시키기 위해 한번 과적합되는 일반 대화 수를 줄여봄\n",
    "- 데이터프레임 가공\n",
    "  - 일반 대화만 개수 조절\n",
    "- 이전 모델 개발 적용 (코드 출력 확인 요망)"
   ]
  },
  {
   "cell_type": "code",
   "execution_count": null,
   "metadata": {
    "colab": {
     "base_uri": "https://localhost:8080/"
    },
    "executionInfo": {
     "elapsed": 147,
     "status": "ok",
     "timestamp": 1746750861391,
     "user": {
      "displayName": "김지환",
      "userId": "17439535786603393953"
     },
     "user_tz": -540
    },
    "id": "kJHTcSmkkCx1",
    "outputId": "11816cb1-234d-4fd8-c2fa-1df98342275b"
   },
   "outputs": [
    {
     "name": "stdout",
     "output_type": "stream",
     "text": [
      "처리 전 클래스별 개수:\n",
      "일반 대화가 처음 시작하는 위치(인덱스): 3846\n",
      "\n",
      "처리 후 클래스별 개수:\n",
      "class\n",
      "기타 괴롭힘 대화      1011\n",
      "갈취 대화           973\n",
      "직장 내 괴롭힘 대화     970\n",
      "협박 대화           892\n",
      "일반 대화           800\n",
      "Name: count, dtype: int64\n",
      "\n",
      "일반 대화 800개만 유지한 데이터셋이 저장되었습니다.\n"
     ]
    }
   ],
   "source": [
    "import pandas as pd\n",
    "\n",
    "# 데이터셋 로드\n",
    "realize = pd.read_csv(\"data/train+normal_conversation.csv\")\n",
    "\n",
    "# 클래스별 개수 확인\n",
    "print(\"처리 전 클래스별 개수:\")\n",
    "realize['class'].value_counts()\n",
    "\n",
    "# 일반 대화 데이터의 첫 번째 인덱스 찾기\n",
    "normal_conv_indices = realize[realize['class'] == '일반 대화'].index\n",
    "first_normal_conv_index = normal_conv_indices[0] if len(normal_conv_indices) > 0 else None\n",
    "print(f\"일반 대화가 처음 시작하는 위치(인덱스): {first_normal_conv_index}\")\n",
    "\n",
    "# 유지할 일반 대화 개수 설정\n",
    "keep_count = 800\n",
    "\n",
    "# 유지할 인덱스와 제거할 인덱스 구분\n",
    "keep_indices = normal_conv_indices[:keep_count]\n",
    "remove_indices = normal_conv_indices[keep_count:]\n",
    "\n",
    "# 제거할 인덱스 제외하고 새로운 데이터프레임 생성\n",
    "df_filtered = realize.drop(remove_indices)\n",
    "\n",
    "# 결과 확인\n",
    "print(\"\\n처리 후 클래스별 개수:\")\n",
    "print(df_filtered['class'].value_counts())\n",
    "\n",
    "# 파일 저장\n",
    "df_filtered.to_csv(\"data/train+normal_conversation_filtered.csv\", index=False)\n",
    "print(f\"\\n일반 대화 {keep_count}개만 유지한 데이터셋이 저장되었습니다.\")"
   ]
  },
  {
   "cell_type": "code",
   "execution_count": null,
   "metadata": {
    "colab": {
     "base_uri": "https://localhost:8080/"
    },
    "executionInfo": {
     "elapsed": 86035,
     "status": "ok",
     "timestamp": 1746750948680,
     "user": {
      "displayName": "김지환",
      "userId": "17439535786603393953"
     },
     "user_tz": -540
    },
    "id": "_csogc4UysQ-",
    "outputId": "d595c1cb-db6f-4b17-ea3c-47318c0985a4"
   },
   "outputs": [
    {
     "name": "stdout",
     "output_type": "stream",
     "text": [
      "데이터 전처리 및 로드 중...\n",
      "데이터 전처리 시작...\n",
      "   idx      class                                               text\n",
      "0    0      협박 대화  지금 너 스스로를 죽여달라고 애원하는 것인가 아닙니다 죄송합니다 죽을 거면 혼자 죽...\n",
      "1    1      협박 대화  길동경찰서입니다 9시 40분 마트에 폭발물을 설치할거다 네 똑바로 들어 한번만 더 ...\n",
      "2    2  기타 괴롭힘 대화  너 되게 귀여운거 알지 나보다 작은 남자는 첨봤어 그만해 니들 놀리는거 재미없어 지...\n",
      "3    3      갈취 대화  어이 거기 예 너 말이야 너 이리 오라고 무슨 일 너 옷 좋아보인다 얘 돈 좀 있나...\n",
      "4    4      갈취 대화  저기요 혹시 날이 너무 뜨겁잖아요 저희 회사에서 이 선크림 파는데 한 번 손등에 발...\n",
      "학습 데이터 크기: 3251\n",
      "검증 데이터 크기: 697\n",
      "테스트 데이터 크기: 697\n",
      "학습 데이터의 클래스 분포:\n",
      "class\n",
      "3    707\n",
      "1    681\n",
      "2    679\n",
      "0    624\n",
      "4    560\n",
      "Name: count, dtype: int64\n",
      "모델 'monologg/koelectra-base-v3-discriminator' 로드 중...\n"
     ]
    },
    {
     "name": "stderr",
     "output_type": "stream",
     "text": [
      "Some weights of ElectraForSequenceClassification were not initialized from the model checkpoint at monologg/koelectra-base-v3-discriminator and are newly initialized: ['classifier.dense.bias', 'classifier.dense.weight', 'classifier.out_proj.bias', 'classifier.out_proj.weight']\n",
      "You should probably TRAIN this model on a down-stream task to be able to use it for predictions and inference.\n"
     ]
    },
    {
     "name": "stdout",
     "output_type": "stream",
     "text": [
      "사용 중인 디바이스: cuda:0\n",
      "\n",
      "Epoch 1/10\n"
     ]
    },
    {
     "name": "stderr",
     "output_type": "stream",
     "text": [
      "학습 중: 100%|██████████| 102/102 [00:16<00:00,  6.15it/s, loss=1.2269]\n"
     ]
    },
    {
     "name": "stdout",
     "output_type": "stream",
     "text": [
      "Train Loss: 1.2269\n"
     ]
    },
    {
     "name": "stderr",
     "output_type": "stream",
     "text": [
      "평가 중: 100%|██████████| 22/22 [00:01<00:00, 16.48it/s]\n"
     ]
    },
    {
     "name": "stdout",
     "output_type": "stream",
     "text": [
      "Validation Loss: 0.7408\n",
      "Validation Macro F1: 0.8205\n",
      "모델 저장됨: best_model.pth (F1: 0.8205)\n",
      "\n",
      "Epoch 2/10\n"
     ]
    },
    {
     "name": "stderr",
     "output_type": "stream",
     "text": [
      "학습 중: 100%|██████████| 102/102 [00:16<00:00,  6.16it/s, loss=0.5827]\n"
     ]
    },
    {
     "name": "stdout",
     "output_type": "stream",
     "text": [
      "Train Loss: 0.5827\n"
     ]
    },
    {
     "name": "stderr",
     "output_type": "stream",
     "text": [
      "평가 중: 100%|██████████| 22/22 [00:01<00:00, 16.34it/s]\n"
     ]
    },
    {
     "name": "stdout",
     "output_type": "stream",
     "text": [
      "Validation Loss: 0.4183\n",
      "Validation Macro F1: 0.8948\n",
      "모델 저장됨: best_model.pth (F1: 0.8948)\n",
      "\n",
      "Epoch 3/10\n"
     ]
    },
    {
     "name": "stderr",
     "output_type": "stream",
     "text": [
      "학습 중: 100%|██████████| 102/102 [00:16<00:00,  6.14it/s, loss=0.3665]\n"
     ]
    },
    {
     "name": "stdout",
     "output_type": "stream",
     "text": [
      "Train Loss: 0.3665\n"
     ]
    },
    {
     "name": "stderr",
     "output_type": "stream",
     "text": [
      "평가 중: 100%|██████████| 22/22 [00:01<00:00, 16.29it/s]\n"
     ]
    },
    {
     "name": "stdout",
     "output_type": "stream",
     "text": [
      "Validation Loss: 0.4343\n",
      "Validation Macro F1: 0.8784\n",
      "성능 향상 없음: 1/2\n",
      "\n",
      "Epoch 4/10\n"
     ]
    },
    {
     "name": "stderr",
     "output_type": "stream",
     "text": [
      "학습 중: 100%|██████████| 102/102 [00:16<00:00,  6.16it/s, loss=0.2615]\n"
     ]
    },
    {
     "name": "stdout",
     "output_type": "stream",
     "text": [
      "Train Loss: 0.2615\n"
     ]
    },
    {
     "name": "stderr",
     "output_type": "stream",
     "text": [
      "평가 중: 100%|██████████| 22/22 [00:01<00:00, 16.38it/s]\n"
     ]
    },
    {
     "name": "stdout",
     "output_type": "stream",
     "text": [
      "Validation Loss: 0.3847\n",
      "Validation Macro F1: 0.8939\n",
      "성능 향상 없음: 2/2\n",
      "\n",
      "Early Stopping! 2번의 에폭 동안 성능 향상 없음.\n"
     ]
    },
    {
     "name": "stderr",
     "output_type": "stream",
     "text": [
      "평가 중: 100%|██████████| 22/22 [00:01<00:00, 16.47it/s]\n"
     ]
    },
    {
     "name": "stdout",
     "output_type": "stream",
     "text": [
      "\n",
      "테스트 결과:\n",
      "Test Loss: 0.4258\n",
      "Test Macro F1: 0.8950\n",
      "\n",
      "분류 보고서:\n",
      "              precision    recall  f1-score   support\n",
      "\n",
      "       협박 대화       0.86      0.81      0.84       134\n",
      "       갈취 대화       0.86      0.89      0.88       146\n",
      " 직장 내 괴롭힘 대화       0.93      0.96      0.95       146\n",
      "   기타 괴롭힘 대화       0.83      0.81      0.82       151\n",
      "       일반 대화       0.99      1.00      1.00       120\n",
      "\n",
      "    accuracy                           0.89       697\n",
      "   macro avg       0.90      0.90      0.90       697\n",
      "weighted avg       0.89      0.89      0.89       697\n",
      "\n",
      "W: Skipping acquire of configured file 'main/source/Sources' as repository 'https://r2u.stat.illinois.edu/ubuntu jammy InRelease' does not seem to provide it (sources.list entry misspelt?)\n"
     ]
    },
    {
     "name": "stderr",
     "output_type": "stream",
     "text": [
      "Some weights of ElectraForSequenceClassification were not initialized from the model checkpoint at monologg/koelectra-base-v3-discriminator and are newly initialized: ['classifier.dense.bias', 'classifier.dense.weight', 'classifier.out_proj.bias', 'classifier.out_proj.weight']\n",
      "You should probably TRAIN this model on a down-stream task to be able to use it for predictions and inference.\n",
      "테스트 예측 중: 100%|██████████| 16/16 [00:01<00:00, 15.23it/s]"
     ]
    },
    {
     "name": "stdout",
     "output_type": "stream",
     "text": [
      "제출 파일 생성 완료: data/submission.csv\n"
     ]
    },
    {
     "name": "stderr",
     "output_type": "stream",
     "text": [
      "\n"
     ]
    }
   ],
   "source": [
    "import os\n",
    "import re\n",
    "import numpy as np\n",
    "import pandas as pd\n",
    "from functools import partial\n",
    "from sklearn.model_selection import train_test_split\n",
    "from sklearn.metrics import classification_report, f1_score, confusion_matrix\n",
    "import torch\n",
    "from torch.utils.data import Dataset, DataLoader\n",
    "from transformers import ElectraTokenizer, ElectraForSequenceClassification#, AdamW\n",
    "from transformers import get_linear_schedule_with_warmup\n",
    "from tqdm import tqdm\n",
    "import random\n",
    "import matplotlib.pyplot as plt\n",
    "import seaborn as sns\n",
    "\n",
    "# 시드 고정\n",
    "def set_seed(seed_value=42):\n",
    "    random.seed(seed_value)\n",
    "    np.random.seed(seed_value)\n",
    "    torch.manual_seed(seed_value)\n",
    "    torch.cuda.manual_seed_all(seed_value)\n",
    "    torch.backends.cudnn.deterministic = True\n",
    "\n",
    "set_seed(42)\n",
    "\n",
    "#--------------------------\n",
    "# 데이터 전처리 함수들\n",
    "#--------------------------\n",
    "\n",
    "# 1. 텍스트 정제 함수들\n",
    "def remove_stopwords(tokens, stopword_list):\n",
    "    stopword_set = stopword_list if isinstance(stopword_list, set) else set(stopword_list)\n",
    "    return [token for token in tokens if token not in stopword_set]\n",
    "\n",
    "def clean_text(text):\n",
    "    text = re.sub(r\"[^\\w\\s가-힣]\", \" \", text)\n",
    "    text = re.sub(r\"\\s+\", \" \", text)\n",
    "    return text.strip()\n",
    "\n",
    "def normalize_repetitions(text, repeat_limit=2):\n",
    "    # 문자 반복 (예: ㅋㅋㅋㅋ → ㅋㅋ)\n",
    "    text = re.sub(r'(.)\\1{2,}', lambda m: m.group(1) * repeat_limit, text)\n",
    "\n",
    "    # 음절 반복 (예: 하하하하 → 하하)\n",
    "    text = re.sub(r'((..))\\\\1{1,}', lambda m: m.group(1) * repeat_limit, text)\n",
    "\n",
    "    return text\n",
    "\n",
    "# 2. 텍스트 정제\n",
    "def tokenize_and_clean_text(text, stopword_list=None, repeat_limit=2):\n",
    "    text = normalize_repetitions(text, repeat_limit=repeat_limit)\n",
    "    text = clean_text(text)\n",
    "    tokens = text.split()\n",
    "    if stopword_list:\n",
    "        tokens = remove_stopwords(tokens, stopword_list)\n",
    "    return tokens\n",
    "\n",
    "# 3. 한줄 단위 전처리\n",
    "def preprocess_conversation_lines(\n",
    "    text,\n",
    "    stopwords=None,\n",
    "    use_silence=False,\n",
    "    speaker_token=\"[UTTER]\",\n",
    "    repeat_limit=2\n",
    "):\n",
    "    lines = text.strip().split('\\n')\n",
    "    results = []\n",
    "\n",
    "    for line in lines:\n",
    "        if not line.strip():\n",
    "            processed = [\"[SILENCE]\"] if use_silence else []\n",
    "        else:\n",
    "            processed = tokenize_and_clean_text(line, stopword_list=stopwords, repeat_limit=repeat_limit)\n",
    "            if not processed:\n",
    "                processed = [\"[SILENCE]\"] if use_silence else []\n",
    "            else:\n",
    "                processed = [speaker_token] + processed if speaker_token else processed\n",
    "\n",
    "        if processed:\n",
    "            results.append(\" \".join(processed).strip())\n",
    "\n",
    "    return results\n",
    "\n",
    "# 4. 여러줄을 한 줄로 flatten 함수\n",
    "def flatten_utterances(utterance_tokens_list, sep_token=\" \"):\n",
    "    return sep_token.join(utterance_tokens_list).strip()\n",
    "\n",
    "# 5. 전체 전처리 파이프라인\n",
    "def preprocess(\n",
    "    text,\n",
    "    stopwords=None,\n",
    "    speaker_token=\"[UTTER]\",\n",
    "    use_silence=True,\n",
    "    sep_token=\" \",\n",
    "    repeat_limit=2\n",
    "):\n",
    "    \"\"\"\n",
    "    전체 전처리 통합 함수\n",
    "    \"\"\"\n",
    "    utterance_tokens = preprocess_conversation_lines(\n",
    "        text,\n",
    "        stopwords=stopwords,\n",
    "        use_silence=use_silence,\n",
    "        speaker_token=speaker_token,\n",
    "        repeat_limit=repeat_limit\n",
    "    )\n",
    "    return flatten_utterances(utterance_tokens, sep_token=sep_token)\n",
    "\n",
    "# 결측치 및 중복 제거 함수\n",
    "def clean_dataframe(df, is_train=True):\n",
    "    df = df.dropna(subset=['text'])\n",
    "    df = df.drop_duplicates(subset=['text'])\n",
    "    if is_train:\n",
    "        df = df.dropna(subset=['class'])\n",
    "    df = df.reset_index(drop=True)\n",
    "    return df\n",
    "\n",
    "# CSV 파일 로드 함수\n",
    "def load_csv_files(file_list, is_train=True):\n",
    "    df_list = []\n",
    "\n",
    "    for file_path in file_list:\n",
    "        df = pd.read_csv(file_path)\n",
    "\n",
    "        if is_train:\n",
    "            if 'conversation' in df.columns:\n",
    "                df = df.rename(columns={'conversation': 'text'})\n",
    "        else:\n",
    "            if 'conversation' in df.columns:\n",
    "                df = df.rename(columns={'conversation': 'text'})\n",
    "            if 'class' not in df.columns:\n",
    "                df['class'] = pd.NA  # test에는 class가 없으므로 NaN 처리\n",
    "\n",
    "        df_list.append(df)\n",
    "\n",
    "    return pd.concat(df_list, ignore_index=True)\n",
    "\n",
    "# 데이터프레임 준비 함수\n",
    "def prepare_dataset(file_paths, preprocess_func, is_train=True):\n",
    "    df = load_csv_files(file_paths, is_train=is_train)\n",
    "    df = clean_dataframe(df, is_train=is_train)\n",
    "    df['text'] = df['text'].apply(preprocess_func)\n",
    "    df = clean_dataframe(df, is_train=is_train)\n",
    "    return df\n",
    "\n",
    "#--------------------------\n",
    "# 모델 학습 설정\n",
    "#--------------------------\n",
    "\n",
    "# 설정값\n",
    "MODEL_NAME = \"monologg/koelectra-base-v3-discriminator\"\n",
    "MAX_LEN = 128\n",
    "BATCH_SIZE = 32\n",
    "EPOCHS = 10  # 5에서 10으로 변경\n",
    "SCHEDULER_EPOCHS = 5  # 스케줄러용 에폭 (원래 설정 유지)\n",
    "EARLY_STOPPING_PATIENCE = 2  # 연속 2번의 에폭 동안 성능이 향상되지 않으면 학습 중단\n",
    "LEARNING_RATE = 2e-5\n",
    "TRAIN_PATH = \"data/train+normal_conversation_filtered.csv\"\n",
    "TEXT_COL = \"text\"#\"conversation\"x : 편리성 때문에\n",
    "LABEL_COL = \"class\"\n",
    "LABEL_DICT = {'협박 대화': 0, '갈취 대화': 1, '직장 내 괴롭힘 대화': 2, '기타 괴롭힘 대화': 3, '일반 대화': 4}\n",
    "ID_TO_LABEL = {v: k for k, v in LABEL_DICT.items()}\n",
    "GPU_NUM = 0\n",
    "TEST_FILE = \"data/test.csv\"\n",
    "\n",
    "# 1. 데이터 전처리 및 로드\n",
    "print(\"데이터 전처리 및 로드 중...\")\n",
    "\n",
    "# 불용어 리스트 정의\n",
    "stopwords = '이 있 하 것 들 그 되 수 이 보 않 없 나 주 아니 등 같 우리 때 년 가 한 지 오 네 야 아 아니 그럼 내가 너'.split()\n",
    "\n",
    "# 전처리 함수 설정 - 줄 바꿈 표시 X, 불용어 X\n",
    "preprocess_fn = partial(\n",
    "    preprocess,\n",
    "    stopwords=None,   # 불용어 리스트 사용하지 않음\n",
    "    speaker_token=\"\",  # 발화 단위 토큰 사용하지 않음\n",
    "    sep_token=\" \", # 줄 구분 시 토큰\n",
    "    use_silence=False, # [SILENCE] 토큰 사용하지 않음\n",
    "    repeat_limit=2 # 반복 문자 2개까지 허용\n",
    ")\n",
    "\n",
    "# 데이터셋 준비\n",
    "train_files = [TRAIN_PATH]\n",
    "\n",
    "# 데이터 전처리 및 저장\n",
    "print(\"데이터 전처리 시작...\")\n",
    "train_df = prepare_dataset(train_files, preprocess_fn, is_train=True)\n",
    "# train_df.to_csv(\"dataset/train_preprocessed_1.csv\", index=False)\n",
    "# print(f\"✅ 전처리된 데이터 저장 완료: {train_df.shape}\")\n",
    "print(train_df.head())\n",
    "\n",
    "# 라벨 매핑\n",
    "train_df[LABEL_COL] = train_df[LABEL_COL].map(LABEL_DICT)\n",
    "\n",
    "# 데이터 분할\n",
    "train_data, temp_data = train_test_split(train_df, test_size=0.3, random_state=42, stratify=train_df[LABEL_COL])\n",
    "val_data, test_data = train_test_split(temp_data, test_size=0.5, random_state=42, stratify=temp_data[LABEL_COL])\n",
    "\n",
    "print(f\"학습 데이터 크기: {len(train_data)}\")\n",
    "print(f\"검증 데이터 크기: {len(val_data)}\")\n",
    "print(f\"테스트 데이터 크기: {len(test_data)}\")\n",
    "\n",
    "# 클래스별 데이터 개수 확인\n",
    "print(\"학습 데이터의 클래스 분포:\")\n",
    "print(train_data[LABEL_COL].value_counts())\n",
    "\n",
    "# 2. Dataset 클래스 정의\n",
    "class TextClassificationDataset(Dataset):\n",
    "    def __init__(self, texts, labels, tokenizer, max_len):\n",
    "        self.texts = texts\n",
    "        self.labels = labels\n",
    "        self.tokenizer = tokenizer\n",
    "        self.max_len = max_len\n",
    "\n",
    "    def __len__(self):\n",
    "        return len(self.texts)\n",
    "\n",
    "    def __getitem__(self, idx):\n",
    "        text = str(self.texts[idx])\n",
    "        label = self.labels[idx]\n",
    "\n",
    "        encoding = self.tokenizer.encode_plus(\n",
    "            text,\n",
    "            add_special_tokens=True,\n",
    "            max_length=self.max_len,\n",
    "            return_token_type_ids=True,\n",
    "            padding='max_length',\n",
    "            truncation=True,\n",
    "            return_attention_mask=True,\n",
    "            return_tensors='pt'\n",
    "        )\n",
    "\n",
    "        return {\n",
    "            'text': text,\n",
    "            'input_ids': encoding['input_ids'].flatten(),\n",
    "            'attention_mask': encoding['attention_mask'].flatten(),\n",
    "            'token_type_ids': encoding['token_type_ids'].flatten(),\n",
    "            'labels': torch.tensor(label, dtype=torch.long)\n",
    "        }\n",
    "\n",
    "# 3. 데이터 로더 생성\n",
    "def create_data_loader(df, tokenizer, max_len, batch_size):\n",
    "    dataset = TextClassificationDataset(\n",
    "        texts=df[TEXT_COL].values,\n",
    "        labels=df[LABEL_COL].values,\n",
    "        tokenizer=tokenizer,\n",
    "        max_len=max_len\n",
    "    )\n",
    "\n",
    "    return DataLoader(\n",
    "        dataset,\n",
    "        batch_size=batch_size,\n",
    "        num_workers=2\n",
    "    )\n",
    "\n",
    "# 4. 토크나이저 및 모델 로드\n",
    "print(f\"모델 '{MODEL_NAME}' 로드 중...\")\n",
    "tokenizer = ElectraTokenizer.from_pretrained(MODEL_NAME)\n",
    "model = ElectraForSequenceClassification.from_pretrained(MODEL_NAME, num_labels=len(LABEL_DICT))\n",
    "\n",
    "# 5. 데이터 로더 생성\n",
    "train_data_loader = create_data_loader(train_data, tokenizer, MAX_LEN, BATCH_SIZE)\n",
    "val_data_loader = create_data_loader(val_data, tokenizer, MAX_LEN, BATCH_SIZE)\n",
    "test_data_loader = create_data_loader(test_data, tokenizer, MAX_LEN, BATCH_SIZE)\n",
    "\n",
    "# 6. 모델 학습 함수\n",
    "def train_model(model, data_loader, optimizer, scheduler, device):\n",
    "    model.train()\n",
    "    losses = []\n",
    "\n",
    "    progress_bar = tqdm(data_loader, desc=\"학습 중\")\n",
    "\n",
    "    for batch in progress_bar:\n",
    "        optimizer.zero_grad()\n",
    "\n",
    "        input_ids = batch['input_ids'].to(device)\n",
    "        attention_mask = batch['attention_mask'].to(device)\n",
    "        token_type_ids = batch['token_type_ids'].to(device)\n",
    "        labels = batch['labels'].to(device)\n",
    "\n",
    "        outputs = model(\n",
    "            input_ids=input_ids,\n",
    "            attention_mask=attention_mask,\n",
    "            token_type_ids=token_type_ids,\n",
    "            labels=labels\n",
    "        )\n",
    "\n",
    "        loss = outputs.loss\n",
    "        loss.backward()\n",
    "\n",
    "        torch.nn.utils.clip_grad_norm_(model.parameters(), max_norm=1.0)\n",
    "\n",
    "        optimizer.step()\n",
    "        scheduler.step()\n",
    "\n",
    "        losses.append(loss.item())\n",
    "        progress_bar.set_postfix({\"loss\": f\"{np.mean(losses):.4f}\"})\n",
    "\n",
    "    return np.mean(losses)\n",
    "\n",
    "# 7. 모델 평가 함수\n",
    "def evaluate_model(model, data_loader, device):\n",
    "    model.eval()\n",
    "    losses = []\n",
    "    predictions = []\n",
    "    real_labels = []\n",
    "\n",
    "    with torch.no_grad():\n",
    "        for batch in tqdm(data_loader, desc=\"평가 중\"):\n",
    "            input_ids = batch['input_ids'].to(device)\n",
    "            attention_mask = batch['attention_mask'].to(device)\n",
    "            token_type_ids = batch['token_type_ids'].to(device)\n",
    "            labels = batch['labels'].to(device)\n",
    "\n",
    "            outputs = model(\n",
    "                input_ids=input_ids,\n",
    "                attention_mask=attention_mask,\n",
    "                token_type_ids=token_type_ids,\n",
    "                labels=labels\n",
    "            )\n",
    "\n",
    "            _, preds = torch.max(outputs.logits, dim=1)\n",
    "\n",
    "            losses.append(outputs.loss.item())\n",
    "            predictions.extend(preds.detach().cpu().numpy())\n",
    "            real_labels.extend(labels.detach().cpu().numpy())\n",
    "\n",
    "    return np.mean(losses), predictions, real_labels\n",
    "\n",
    "# 8. 테스트 세트 예측 함수\n",
    "def predict_test(model, data_loader, device):\n",
    "    model.eval()\n",
    "    predictions = []\n",
    "\n",
    "    with torch.no_grad():\n",
    "        for batch in tqdm(data_loader, desc=\"테스트 예측 중\"):\n",
    "            input_ids = batch['input_ids'].to(device)\n",
    "            attention_mask = batch['attention_mask'].to(device)\n",
    "            token_type_ids = batch['token_type_ids'].to(device)\n",
    "\n",
    "            outputs = model(\n",
    "                input_ids=input_ids,\n",
    "                attention_mask=attention_mask,\n",
    "                token_type_ids=token_type_ids\n",
    "            )\n",
    "\n",
    "            _, preds = torch.max(outputs.logits, dim=1)\n",
    "            predictions.extend(preds.detach().cpu().numpy())\n",
    "\n",
    "    return predictions\n",
    "\n",
    "# 9. 혼동 행렬 시각화 함수\n",
    "def plot_confusion_matrix(cm, classes):\n",
    "    # 한글 폰트 설정\n",
    "    import matplotlib.font_manager as fm\n",
    "\n",
    "    # 시스템에 설치된 폰트 경로 확인\n",
    "    # 리눅스 환경이면 'NanumGothic'이나 다른 한글 폰트 사용\n",
    "    # 윈도우라면 'Malgun Gothic' 등 사용\n",
    "    try:\n",
    "        # 방법 1: 나눔 글꼴 설치 및 사용\n",
    "        !apt-get update -qq\n",
    "        !apt-get install fonts-nanum -qq\n",
    "        plt.rc('font', family='NanumGothic')\n",
    "    except:\n",
    "        try:\n",
    "            # 방법 2: 한글 레이블을 영어로 변환\n",
    "            classes = ['Threat', 'Extortion', 'Workplace Harassment', 'Other Harassment', 'Normal Conversation']\n",
    "        except:\n",
    "            pass\n",
    "\n",
    "    plt.figure(figsize=(10, 8))\n",
    "    sns.heatmap(cm, annot=True, fmt='d', cmap='Blues', xticklabels=classes, yticklabels=classes)\n",
    "    plt.xlabel('예측값')\n",
    "    plt.ylabel('실제값')\n",
    "    plt.title('혼동 행렬')\n",
    "    plt.savefig('confusion_matrix.png')\n",
    "    plt.close()\n",
    "\n",
    "# 10. 학습 메인 함수\n",
    "def train():\n",
    "    # GPU 사용 설정\n",
    "    device = torch.device(f\"cuda:{GPU_NUM}\" if torch.cuda.is_available() else \"cpu\")\n",
    "    print(f\"사용 중인 디바이스: {device}\")\n",
    "    model.to(device)\n",
    "\n",
    "    # 옵티마이저 및 스케줄러 설정\n",
    "    # AdamW 임포트 부분 수정\n",
    "    # from transformers import AdamW - 이 부분이 오류 발생\n",
    "    from torch.optim import AdamW  # 이렇게 수정\n",
    "    optimizer = AdamW(model.parameters(), lr=LEARNING_RATE)  # correct_bias 파라미터 제거\n",
    "    total_steps = len(train_data_loader) * SCHEDULER_EPOCHS  # 원래 에폭(5) 기준으로 설정\n",
    "\n",
    "    scheduler = get_linear_schedule_with_warmup(\n",
    "        optimizer,\n",
    "        num_warmup_steps=0,\n",
    "        num_training_steps=total_steps\n",
    "    )\n",
    "\n",
    "    # 학습 시작\n",
    "    best_val_f1 = 0\n",
    "    patience_counter = 0  # Early Stopping을 위한 카운터\n",
    "\n",
    "    for epoch in range(EPOCHS):\n",
    "        print(f\"\\nEpoch {epoch + 1}/{EPOCHS}\")\n",
    "\n",
    "        # 학습\n",
    "        train_loss = train_model(model, train_data_loader, optimizer, scheduler, device)\n",
    "        print(f\"Train Loss: {train_loss:.4f}\")\n",
    "\n",
    "        # 검증\n",
    "        val_loss, val_predictions, val_labels = evaluate_model(model, val_data_loader, device)\n",
    "        val_f1 = f1_score(val_labels, val_predictions, average='macro')\n",
    "\n",
    "        print(f\"Validation Loss: {val_loss:.4f}\")\n",
    "        print(f\"Validation Macro F1: {val_f1:.4f}\")\n",
    "\n",
    "        # 최고 성능 모델 저장 및 Early Stopping 로직\n",
    "        if val_f1 > best_val_f1:\n",
    "            best_val_f1 = val_f1\n",
    "            torch.save(model.state_dict(), \"best_model.pth\")\n",
    "            print(f\"모델 저장됨: best_model.pth (F1: {val_f1:.4f})\")\n",
    "            patience_counter = 0  # 성능이 향상되었으므로 카운터 초기화\n",
    "        else:\n",
    "            patience_counter += 1  # 성능이 향상되지 않았으므로 카운터 증가\n",
    "            print(f\"성능 향상 없음: {patience_counter}/{EARLY_STOPPING_PATIENCE}\")\n",
    "\n",
    "            # Early Stopping 조건 확인\n",
    "            if patience_counter >= EARLY_STOPPING_PATIENCE:\n",
    "                print(f\"\\nEarly Stopping! {EARLY_STOPPING_PATIENCE}번의 에폭 동안 성능 향상 없음.\")\n",
    "                break\n",
    "\n",
    "    # 최고 성능 모델 로드\n",
    "    model.load_state_dict(torch.load(\"best_model.pth\"))\n",
    "\n",
    "    # 테스트 세트 평가\n",
    "    test_loss, test_predictions, test_labels = evaluate_model(model, test_data_loader, device)\n",
    "    test_f1 = f1_score(test_labels, test_predictions, average='macro')\n",
    "\n",
    "    print(\"\\n테스트 결과:\")\n",
    "    print(f\"Test Loss: {test_loss:.4f}\")\n",
    "    print(f\"Test Macro F1: {test_f1:.4f}\")\n",
    "\n",
    "    # 분류 보고서 출력\n",
    "    class_names = [ID_TO_LABEL[i] for i in range(len(LABEL_DICT))]\n",
    "    print(\"\\n분류 보고서:\")\n",
    "    print(classification_report(test_labels, test_predictions, target_names=class_names))\n",
    "\n",
    "    # 혼동 행렬 시각화\n",
    "    cm = confusion_matrix(test_labels, test_predictions)\n",
    "    plot_confusion_matrix(cm, class_names)\n",
    "\n",
    "    return model\n",
    "\n",
    "# 11. 실제 테스트 데이터 예측 및 제출 파일 생성\n",
    "def predict_and_save():\n",
    "    # 테스트 파일 로드\n",
    "    test_data = pd.read_csv(TEST_FILE)\n",
    "\n",
    "    # 텍스트 전처리 적용 - 학습 데이터와 동일한 방식으로 전처리\n",
    "    # 줄 바꿈 표시 X, 불용어 X 설정\n",
    "    test_data['processed_text'] = test_data['text'].apply(\n",
    "        lambda x: preprocess(\n",
    "            x,\n",
    "            stopwords=None,\n",
    "            speaker_token=\"\",\n",
    "            sep_token=\" \",\n",
    "            use_silence=False,\n",
    "            repeat_limit=2\n",
    "        )\n",
    "    )\n",
    "\n",
    "    # Dataset 생성\n",
    "    class TestDataset(Dataset):\n",
    "        def __init__(self, texts, tokenizer, max_len):\n",
    "            self.texts = texts\n",
    "            self.tokenizer = tokenizer\n",
    "            self.max_len = max_len\n",
    "\n",
    "        def __len__(self):\n",
    "            return len(self.texts)\n",
    "\n",
    "        def __getitem__(self, idx):\n",
    "            text = str(self.texts[idx])\n",
    "\n",
    "            encoding = self.tokenizer.encode_plus(\n",
    "                text,\n",
    "                add_special_tokens=True,\n",
    "                max_length=self.max_len,\n",
    "                return_token_type_ids=True,\n",
    "                padding='max_length',\n",
    "                truncation=True,\n",
    "                return_attention_mask=True,\n",
    "                return_tensors='pt'\n",
    "            )\n",
    "\n",
    "            return {\n",
    "                'text': text,\n",
    "                'input_ids': encoding['input_ids'].flatten(),\n",
    "                'attention_mask': encoding['attention_mask'].flatten(),\n",
    "                'token_type_ids': encoding['token_type_ids'].flatten(),\n",
    "            }\n",
    "\n",
    "    # 테스트 데이터 로더 생성\n",
    "    test_dataset = TestDataset(\n",
    "        texts=test_data['processed_text'].values,\n",
    "        tokenizer=tokenizer,\n",
    "        max_len=MAX_LEN\n",
    "    )\n",
    "\n",
    "    test_data_loader = DataLoader(\n",
    "        test_dataset,\n",
    "        batch_size=BATCH_SIZE,\n",
    "        num_workers=2\n",
    "    )\n",
    "\n",
    "    # GPU 설정\n",
    "    device = torch.device(f\"cuda:{GPU_NUM}\" if torch.cuda.is_available() else \"cpu\")\n",
    "\n",
    "    # 최고 성능 모델 로드\n",
    "    model = ElectraForSequenceClassification.from_pretrained(MODEL_NAME, num_labels=len(LABEL_DICT))\n",
    "    model.load_state_dict(torch.load(\"best_model.pth\"))\n",
    "    model.to(device)\n",
    "\n",
    "    # 예측\n",
    "    model.eval()\n",
    "    predictions = []\n",
    "\n",
    "    with torch.no_grad():\n",
    "        for batch in tqdm(test_data_loader, desc=\"테스트 예측 중\"):\n",
    "            input_ids = batch['input_ids'].to(device)\n",
    "            attention_mask = batch['attention_mask'].to(device)\n",
    "            token_type_ids = batch['token_type_ids'].to(device)\n",
    "\n",
    "            outputs = model(\n",
    "                input_ids=input_ids,\n",
    "                attention_mask=attention_mask,\n",
    "                token_type_ids=token_type_ids\n",
    "            )\n",
    "\n",
    "            _, preds = torch.max(outputs.logits, dim=1)\n",
    "            predictions.extend(preds.detach().cpu().numpy())\n",
    "\n",
    "    # 예측 결과 라벨로 변환 (숫자로 유지)\n",
    "    label_predictions = [str(p) for p in predictions]\n",
    "\n",
    "    # 제출 파일 생성\n",
    "    submission = pd.DataFrame({\n",
    "        'idx': test_data['idx'],\n",
    "        'class': label_predictions\n",
    "    })\n",
    "\n",
    "    submission.to_csv('data/submission.csv', index=False)\n",
    "    print(f\"제출 파일 생성 완료: data/submission.csv\")\n",
    "\n",
    "# 메인 실행\n",
    "if __name__ == \"__main__\":\n",
    "    # 모델 학습\n",
    "    model = train()\n",
    "\n",
    "    # 테스트 데이터 예측 및 제출 파일 생성\n",
    "    predict_and_save()"
   ]
  },
  {
   "cell_type": "markdown",
   "metadata": {
    "id": "NfdaejZdfrzo"
   },
   "source": [
    "결과적으로 클래스별 균등하게 학습하는 것처럼 보이나 더 성능 떨어짐  \n",
    "즉, 근본적으로 **구성한 학습 데이터셋 문제**이고, 나아가 **모델을 건드리는데 미숙한 본인 실력 문제**"
   ]
  }
 ],
 "metadata": {
  "accelerator": "GPU",
  "colab": {
   "gpuType": "A100",
   "provenance": [
    {
     "file_id": "1o5sJ4LI3afnoNApbWkP9Rbbch8E0pIdr",
     "timestamp": 1746551376145
    }
   ]
  },
  "kernelspec": {
   "display_name": "Python 3",
   "name": "python3"
  },
  "language_info": {
   "codemirror_mode": {
    "name": "ipython",
    "version": 3
   },
   "file_extension": ".py",
   "mimetype": "text/x-python",
   "name": "python",
   "nbconvert_exporter": "python",
   "pygments_lexer": "ipython3",
   "version": "3.9.7"
  },
  "widgets": {
   "application/vnd.jupyter.widget-state+json": {
    "022b597c96f644a89d3e2ee74a9d6e4c": {
     "model_module": "@jupyter-widgets/base",
     "model_module_version": "1.2.0",
     "model_name": "LayoutModel",
     "state": {
      "_model_module": "@jupyter-widgets/base",
      "_model_module_version": "1.2.0",
      "_model_name": "LayoutModel",
      "_view_count": null,
      "_view_module": "@jupyter-widgets/base",
      "_view_module_version": "1.2.0",
      "_view_name": "LayoutView",
      "align_content": null,
      "align_items": null,
      "align_self": null,
      "border": null,
      "bottom": null,
      "display": null,
      "flex": null,
      "flex_flow": null,
      "grid_area": null,
      "grid_auto_columns": null,
      "grid_auto_flow": null,
      "grid_auto_rows": null,
      "grid_column": null,
      "grid_gap": null,
      "grid_row": null,
      "grid_template_areas": null,
      "grid_template_columns": null,
      "grid_template_rows": null,
      "height": null,
      "justify_content": null,
      "justify_items": null,
      "left": null,
      "margin": null,
      "max_height": null,
      "max_width": null,
      "min_height": null,
      "min_width": null,
      "object_fit": null,
      "object_position": null,
      "order": null,
      "overflow": null,
      "overflow_x": null,
      "overflow_y": null,
      "padding": null,
      "right": null,
      "top": null,
      "visibility": null,
      "width": null
     }
    },
    "0355693c56044972b561ac9b20874419": {
     "model_module": "@jupyter-widgets/controls",
     "model_module_version": "1.5.0",
     "model_name": "HTMLModel",
     "state": {
      "_dom_classes": [],
      "_model_module": "@jupyter-widgets/controls",
      "_model_module_version": "1.5.0",
      "_model_name": "HTMLModel",
      "_view_count": null,
      "_view_module": "@jupyter-widgets/controls",
      "_view_module_version": "1.5.0",
      "_view_name": "HTMLView",
      "description": "",
      "description_tooltip": null,
      "layout": "IPY_MODEL_022b597c96f644a89d3e2ee74a9d6e4c",
      "placeholder": "​",
      "style": "IPY_MODEL_36ff30ba05eb40aeb9588105c7855c4c",
      "value": "model.safetensors: 100%"
     }
    },
    "046615b0dd2e458d8f8c4bbfe320ea9c": {
     "model_module": "@jupyter-widgets/controls",
     "model_module_version": "1.5.0",
     "model_name": "HTMLModel",
     "state": {
      "_dom_classes": [],
      "_model_module": "@jupyter-widgets/controls",
      "_model_module_version": "1.5.0",
      "_model_name": "HTMLModel",
      "_view_count": null,
      "_view_module": "@jupyter-widgets/controls",
      "_view_module_version": "1.5.0",
      "_view_name": "HTMLView",
      "description": "",
      "description_tooltip": null,
      "layout": "IPY_MODEL_0ea064ec0e054f93816ce7a35694ac75",
      "placeholder": "​",
      "style": "IPY_MODEL_9af5225cd79140e28f25719c8bdc53c5",
      "value": " 467/467 [00:00&lt;00:00, 53.7kB/s]"
     }
    },
    "06e4dcac919b448ea7c0d0e54f2866c5": {
     "model_module": "@jupyter-widgets/controls",
     "model_module_version": "1.5.0",
     "model_name": "HTMLModel",
     "state": {
      "_dom_classes": [],
      "_model_module": "@jupyter-widgets/controls",
      "_model_module_version": "1.5.0",
      "_model_name": "HTMLModel",
      "_view_count": null,
      "_view_module": "@jupyter-widgets/controls",
      "_view_module_version": "1.5.0",
      "_view_name": "HTMLView",
      "description": "",
      "description_tooltip": null,
      "layout": "IPY_MODEL_fd726c29eb4a448887901a99a9a8ed20",
      "placeholder": "​",
      "style": "IPY_MODEL_ef1b79ceb2754828b145c73bc9066e75",
      "value": " 263k/263k [00:00&lt;00:00, 19.7MB/s]"
     }
    },
    "0736ba50086b4534991e9ec6aee99ac6": {
     "model_module": "@jupyter-widgets/controls",
     "model_module_version": "1.5.0",
     "model_name": "HBoxModel",
     "state": {
      "_dom_classes": [],
      "_model_module": "@jupyter-widgets/controls",
      "_model_module_version": "1.5.0",
      "_model_name": "HBoxModel",
      "_view_count": null,
      "_view_module": "@jupyter-widgets/controls",
      "_view_module_version": "1.5.0",
      "_view_name": "HBoxView",
      "box_style": "",
      "children": [
       "IPY_MODEL_80dd79cc969a42cfa15ca2db88f7f448",
       "IPY_MODEL_58535b6924114757aa1cd0443de28dfe",
       "IPY_MODEL_916004b1d94a4f16ba712fd03aee36f1"
      ],
      "layout": "IPY_MODEL_c46d0823f55747489c62671e46c38ec0"
     }
    },
    "07bb6a1269da4da1bbc78a53bb87e083": {
     "model_module": "@jupyter-widgets/controls",
     "model_module_version": "1.5.0",
     "model_name": "HTMLModel",
     "state": {
      "_dom_classes": [],
      "_model_module": "@jupyter-widgets/controls",
      "_model_module_version": "1.5.0",
      "_model_name": "HTMLModel",
      "_view_count": null,
      "_view_module": "@jupyter-widgets/controls",
      "_view_module_version": "1.5.0",
      "_view_name": "HTMLView",
      "description": "",
      "description_tooltip": null,
      "layout": "IPY_MODEL_7e74f205bc614d2ba9e7cf7da22a5604",
      "placeholder": "​",
      "style": "IPY_MODEL_397fccb6f94c40f2ba0f87e2baa8d220",
      "value": " 452M/452M [00:02&lt;00:00, 257MB/s]"
     }
    },
    "0b35cd49e1034ee382589fdca2375c32": {
     "model_module": "@jupyter-widgets/controls",
     "model_module_version": "1.5.0",
     "model_name": "DescriptionStyleModel",
     "state": {
      "_model_module": "@jupyter-widgets/controls",
      "_model_module_version": "1.5.0",
      "_model_name": "DescriptionStyleModel",
      "_view_count": null,
      "_view_module": "@jupyter-widgets/base",
      "_view_module_version": "1.2.0",
      "_view_name": "StyleView",
      "description_width": ""
     }
    },
    "0ea064ec0e054f93816ce7a35694ac75": {
     "model_module": "@jupyter-widgets/base",
     "model_module_version": "1.2.0",
     "model_name": "LayoutModel",
     "state": {
      "_model_module": "@jupyter-widgets/base",
      "_model_module_version": "1.2.0",
      "_model_name": "LayoutModel",
      "_view_count": null,
      "_view_module": "@jupyter-widgets/base",
      "_view_module_version": "1.2.0",
      "_view_name": "LayoutView",
      "align_content": null,
      "align_items": null,
      "align_self": null,
      "border": null,
      "bottom": null,
      "display": null,
      "flex": null,
      "flex_flow": null,
      "grid_area": null,
      "grid_auto_columns": null,
      "grid_auto_flow": null,
      "grid_auto_rows": null,
      "grid_column": null,
      "grid_gap": null,
      "grid_row": null,
      "grid_template_areas": null,
      "grid_template_columns": null,
      "grid_template_rows": null,
      "height": null,
      "justify_content": null,
      "justify_items": null,
      "left": null,
      "margin": null,
      "max_height": null,
      "max_width": null,
      "min_height": null,
      "min_width": null,
      "object_fit": null,
      "object_position": null,
      "order": null,
      "overflow": null,
      "overflow_x": null,
      "overflow_y": null,
      "padding": null,
      "right": null,
      "top": null,
      "visibility": null,
      "width": null
     }
    },
    "1177ed7de0eb457691bc2417c2e0f3f2": {
     "model_module": "@jupyter-widgets/controls",
     "model_module_version": "1.5.0",
     "model_name": "FloatProgressModel",
     "state": {
      "_dom_classes": [],
      "_model_module": "@jupyter-widgets/controls",
      "_model_module_version": "1.5.0",
      "_model_name": "FloatProgressModel",
      "_view_count": null,
      "_view_module": "@jupyter-widgets/controls",
      "_view_module_version": "1.5.0",
      "_view_name": "ProgressView",
      "bar_style": "success",
      "description": "",
      "description_tooltip": null,
      "layout": "IPY_MODEL_ccd03b479a01481bb4e169596711e2c8",
      "max": 451741507,
      "min": 0,
      "orientation": "horizontal",
      "style": "IPY_MODEL_7d29c021b8054839962c9f72ddd68ca3",
      "value": 451741507
     }
    },
    "1380776c7ae8471c8a269399f6dd7cec": {
     "model_module": "@jupyter-widgets/controls",
     "model_module_version": "1.5.0",
     "model_name": "HBoxModel",
     "state": {
      "_dom_classes": [],
      "_model_module": "@jupyter-widgets/controls",
      "_model_module_version": "1.5.0",
      "_model_name": "HBoxModel",
      "_view_count": null,
      "_view_module": "@jupyter-widgets/controls",
      "_view_module_version": "1.5.0",
      "_view_name": "HBoxView",
      "box_style": "",
      "children": [
       "IPY_MODEL_cbb2a6c6f1b24da79fe4edc620525f4e",
       "IPY_MODEL_e6cb833c8f1543caad7659debdecc65d",
       "IPY_MODEL_c4d535bfa1c34741ac0e71fd47c2ecba"
      ],
      "layout": "IPY_MODEL_aecc4d392f7e4aa4b78a6db468fcb3c2"
     }
    },
    "13d7129d758d44b99bbf66e6f054af29": {
     "model_module": "@jupyter-widgets/controls",
     "model_module_version": "1.5.0",
     "model_name": "HTMLModel",
     "state": {
      "_dom_classes": [],
      "_model_module": "@jupyter-widgets/controls",
      "_model_module_version": "1.5.0",
      "_model_name": "HTMLModel",
      "_view_count": null,
      "_view_module": "@jupyter-widgets/controls",
      "_view_module_version": "1.5.0",
      "_view_name": "HTMLView",
      "description": "",
      "description_tooltip": null,
      "layout": "IPY_MODEL_425b05a91a75467e97f0cfb4f42ccff3",
      "placeholder": "​",
      "style": "IPY_MODEL_f591e76dd0e24a61a24217ccc8e39c31",
      "value": " 263k/263k [00:00&lt;00:00, 588kB/s]"
     }
    },
    "1b9068cc7e0e469ba8225f05a45997cb": {
     "model_module": "@jupyter-widgets/base",
     "model_module_version": "1.2.0",
     "model_name": "LayoutModel",
     "state": {
      "_model_module": "@jupyter-widgets/base",
      "_model_module_version": "1.2.0",
      "_model_name": "LayoutModel",
      "_view_count": null,
      "_view_module": "@jupyter-widgets/base",
      "_view_module_version": "1.2.0",
      "_view_name": "LayoutView",
      "align_content": null,
      "align_items": null,
      "align_self": null,
      "border": null,
      "bottom": null,
      "display": null,
      "flex": null,
      "flex_flow": null,
      "grid_area": null,
      "grid_auto_columns": null,
      "grid_auto_flow": null,
      "grid_auto_rows": null,
      "grid_column": null,
      "grid_gap": null,
      "grid_row": null,
      "grid_template_areas": null,
      "grid_template_columns": null,
      "grid_template_rows": null,
      "height": null,
      "justify_content": null,
      "justify_items": null,
      "left": null,
      "margin": null,
      "max_height": null,
      "max_width": null,
      "min_height": null,
      "min_width": null,
      "object_fit": null,
      "object_position": null,
      "order": null,
      "overflow": null,
      "overflow_x": null,
      "overflow_y": null,
      "padding": null,
      "right": null,
      "top": null,
      "visibility": null,
      "width": null
     }
    },
    "1cec708eaecd4157a9f00a7e97ab196d": {
     "model_module": "@jupyter-widgets/controls",
     "model_module_version": "1.5.0",
     "model_name": "ProgressStyleModel",
     "state": {
      "_model_module": "@jupyter-widgets/controls",
      "_model_module_version": "1.5.0",
      "_model_name": "ProgressStyleModel",
      "_view_count": null,
      "_view_module": "@jupyter-widgets/base",
      "_view_module_version": "1.2.0",
      "_view_name": "StyleView",
      "bar_color": null,
      "description_width": ""
     }
    },
    "1eaeb6c10ea54bc98903e6bfe4587c0b": {
     "model_module": "@jupyter-widgets/base",
     "model_module_version": "1.2.0",
     "model_name": "LayoutModel",
     "state": {
      "_model_module": "@jupyter-widgets/base",
      "_model_module_version": "1.2.0",
      "_model_name": "LayoutModel",
      "_view_count": null,
      "_view_module": "@jupyter-widgets/base",
      "_view_module_version": "1.2.0",
      "_view_name": "LayoutView",
      "align_content": null,
      "align_items": null,
      "align_self": null,
      "border": null,
      "bottom": null,
      "display": null,
      "flex": null,
      "flex_flow": null,
      "grid_area": null,
      "grid_auto_columns": null,
      "grid_auto_flow": null,
      "grid_auto_rows": null,
      "grid_column": null,
      "grid_gap": null,
      "grid_row": null,
      "grid_template_areas": null,
      "grid_template_columns": null,
      "grid_template_rows": null,
      "height": null,
      "justify_content": null,
      "justify_items": null,
      "left": null,
      "margin": null,
      "max_height": null,
      "max_width": null,
      "min_height": null,
      "min_width": null,
      "object_fit": null,
      "object_position": null,
      "order": null,
      "overflow": null,
      "overflow_x": null,
      "overflow_y": null,
      "padding": null,
      "right": null,
      "top": null,
      "visibility": null,
      "width": null
     }
    },
    "21bc2658bbc24356945ac016999b33c9": {
     "model_module": "@jupyter-widgets/controls",
     "model_module_version": "1.5.0",
     "model_name": "DescriptionStyleModel",
     "state": {
      "_model_module": "@jupyter-widgets/controls",
      "_model_module_version": "1.5.0",
      "_model_name": "DescriptionStyleModel",
      "_view_count": null,
      "_view_module": "@jupyter-widgets/base",
      "_view_module_version": "1.2.0",
      "_view_name": "StyleView",
      "description_width": ""
     }
    },
    "2340c7cab83d4d3b852e72b61cdd050e": {
     "model_module": "@jupyter-widgets/controls",
     "model_module_version": "1.5.0",
     "model_name": "ProgressStyleModel",
     "state": {
      "_model_module": "@jupyter-widgets/controls",
      "_model_module_version": "1.5.0",
      "_model_name": "ProgressStyleModel",
      "_view_count": null,
      "_view_module": "@jupyter-widgets/base",
      "_view_module_version": "1.2.0",
      "_view_name": "StyleView",
      "bar_color": null,
      "description_width": ""
     }
    },
    "2405a5cb670e4feab454815354ab369c": {
     "model_module": "@jupyter-widgets/base",
     "model_module_version": "1.2.0",
     "model_name": "LayoutModel",
     "state": {
      "_model_module": "@jupyter-widgets/base",
      "_model_module_version": "1.2.0",
      "_model_name": "LayoutModel",
      "_view_count": null,
      "_view_module": "@jupyter-widgets/base",
      "_view_module_version": "1.2.0",
      "_view_name": "LayoutView",
      "align_content": null,
      "align_items": null,
      "align_self": null,
      "border": null,
      "bottom": null,
      "display": null,
      "flex": null,
      "flex_flow": null,
      "grid_area": null,
      "grid_auto_columns": null,
      "grid_auto_flow": null,
      "grid_auto_rows": null,
      "grid_column": null,
      "grid_gap": null,
      "grid_row": null,
      "grid_template_areas": null,
      "grid_template_columns": null,
      "grid_template_rows": null,
      "height": null,
      "justify_content": null,
      "justify_items": null,
      "left": null,
      "margin": null,
      "max_height": null,
      "max_width": null,
      "min_height": null,
      "min_width": null,
      "object_fit": null,
      "object_position": null,
      "order": null,
      "overflow": null,
      "overflow_x": null,
      "overflow_y": null,
      "padding": null,
      "right": null,
      "top": null,
      "visibility": null,
      "width": null
     }
    },
    "264355d8373f42c498af79912db03597": {
     "model_module": "@jupyter-widgets/controls",
     "model_module_version": "1.5.0",
     "model_name": "HBoxModel",
     "state": {
      "_dom_classes": [],
      "_model_module": "@jupyter-widgets/controls",
      "_model_module_version": "1.5.0",
      "_model_name": "HBoxModel",
      "_view_count": null,
      "_view_module": "@jupyter-widgets/controls",
      "_view_module_version": "1.5.0",
      "_view_name": "HBoxView",
      "box_style": "",
      "children": [
       "IPY_MODEL_da57079b6e7d4b3a86091058831fa56b",
       "IPY_MODEL_40e470a22ad64cc39e3307c606571852",
       "IPY_MODEL_06e4dcac919b448ea7c0d0e54f2866c5"
      ],
      "layout": "IPY_MODEL_57f1b9df02064054828fd3ff7fe5b372"
     }
    },
    "2717f29b4f2946f0b0264ad51d7aba8d": {
     "model_module": "@jupyter-widgets/base",
     "model_module_version": "1.2.0",
     "model_name": "LayoutModel",
     "state": {
      "_model_module": "@jupyter-widgets/base",
      "_model_module_version": "1.2.0",
      "_model_name": "LayoutModel",
      "_view_count": null,
      "_view_module": "@jupyter-widgets/base",
      "_view_module_version": "1.2.0",
      "_view_name": "LayoutView",
      "align_content": null,
      "align_items": null,
      "align_self": null,
      "border": null,
      "bottom": null,
      "display": null,
      "flex": null,
      "flex_flow": null,
      "grid_area": null,
      "grid_auto_columns": null,
      "grid_auto_flow": null,
      "grid_auto_rows": null,
      "grid_column": null,
      "grid_gap": null,
      "grid_row": null,
      "grid_template_areas": null,
      "grid_template_columns": null,
      "grid_template_rows": null,
      "height": null,
      "justify_content": null,
      "justify_items": null,
      "left": null,
      "margin": null,
      "max_height": null,
      "max_width": null,
      "min_height": null,
      "min_width": null,
      "object_fit": null,
      "object_position": null,
      "order": null,
      "overflow": null,
      "overflow_x": null,
      "overflow_y": null,
      "padding": null,
      "right": null,
      "top": null,
      "visibility": null,
      "width": null
     }
    },
    "272eb419d32449a4822d3898e62813c1": {
     "model_module": "@jupyter-widgets/controls",
     "model_module_version": "1.5.0",
     "model_name": "DescriptionStyleModel",
     "state": {
      "_model_module": "@jupyter-widgets/controls",
      "_model_module_version": "1.5.0",
      "_model_name": "DescriptionStyleModel",
      "_view_count": null,
      "_view_module": "@jupyter-widgets/base",
      "_view_module_version": "1.2.0",
      "_view_name": "StyleView",
      "description_width": ""
     }
    },
    "281808ab490042b0a55a45cbc4f4486c": {
     "model_module": "@jupyter-widgets/base",
     "model_module_version": "1.2.0",
     "model_name": "LayoutModel",
     "state": {
      "_model_module": "@jupyter-widgets/base",
      "_model_module_version": "1.2.0",
      "_model_name": "LayoutModel",
      "_view_count": null,
      "_view_module": "@jupyter-widgets/base",
      "_view_module_version": "1.2.0",
      "_view_name": "LayoutView",
      "align_content": null,
      "align_items": null,
      "align_self": null,
      "border": null,
      "bottom": null,
      "display": null,
      "flex": null,
      "flex_flow": null,
      "grid_area": null,
      "grid_auto_columns": null,
      "grid_auto_flow": null,
      "grid_auto_rows": null,
      "grid_column": null,
      "grid_gap": null,
      "grid_row": null,
      "grid_template_areas": null,
      "grid_template_columns": null,
      "grid_template_rows": null,
      "height": null,
      "justify_content": null,
      "justify_items": null,
      "left": null,
      "margin": null,
      "max_height": null,
      "max_width": null,
      "min_height": null,
      "min_width": null,
      "object_fit": null,
      "object_position": null,
      "order": null,
      "overflow": null,
      "overflow_x": null,
      "overflow_y": null,
      "padding": null,
      "right": null,
      "top": null,
      "visibility": null,
      "width": null
     }
    },
    "29802d6603b84d339d8c7f660428c0a5": {
     "model_module": "@jupyter-widgets/controls",
     "model_module_version": "1.5.0",
     "model_name": "DescriptionStyleModel",
     "state": {
      "_model_module": "@jupyter-widgets/controls",
      "_model_module_version": "1.5.0",
      "_model_name": "DescriptionStyleModel",
      "_view_count": null,
      "_view_module": "@jupyter-widgets/base",
      "_view_module_version": "1.2.0",
      "_view_name": "StyleView",
      "description_width": ""
     }
    },
    "2b7f1530a0ca49b88d8844349d1ad202": {
     "model_module": "@jupyter-widgets/controls",
     "model_module_version": "1.5.0",
     "model_name": "FloatProgressModel",
     "state": {
      "_dom_classes": [],
      "_model_module": "@jupyter-widgets/controls",
      "_model_module_version": "1.5.0",
      "_model_name": "FloatProgressModel",
      "_view_count": null,
      "_view_module": "@jupyter-widgets/controls",
      "_view_module_version": "1.5.0",
      "_view_name": "ProgressView",
      "bar_style": "success",
      "description": "",
      "description_tooltip": null,
      "layout": "IPY_MODEL_5faf190e1a374de7a79c956b393a3568",
      "max": 467,
      "min": 0,
      "orientation": "horizontal",
      "style": "IPY_MODEL_e2ea6295ede1409298b120f9291f684f",
      "value": 467
     }
    },
    "2ed1edf5ffae407a89f74b0581954c8d": {
     "model_module": "@jupyter-widgets/controls",
     "model_module_version": "1.5.0",
     "model_name": "HTMLModel",
     "state": {
      "_dom_classes": [],
      "_model_module": "@jupyter-widgets/controls",
      "_model_module_version": "1.5.0",
      "_model_name": "HTMLModel",
      "_view_count": null,
      "_view_module": "@jupyter-widgets/controls",
      "_view_module_version": "1.5.0",
      "_view_name": "HTMLView",
      "description": "",
      "description_tooltip": null,
      "layout": "IPY_MODEL_e76459797e834613a38ad6094b881663",
      "placeholder": "​",
      "style": "IPY_MODEL_cbbc9fd9bcee46638a4260a5a0b7982f",
      "value": " 452M/452M [00:01&lt;00:00, 387MB/s]"
     }
    },
    "30b5fe751ea5441384ebbb7678affd51": {
     "model_module": "@jupyter-widgets/base",
     "model_module_version": "1.2.0",
     "model_name": "LayoutModel",
     "state": {
      "_model_module": "@jupyter-widgets/base",
      "_model_module_version": "1.2.0",
      "_model_name": "LayoutModel",
      "_view_count": null,
      "_view_module": "@jupyter-widgets/base",
      "_view_module_version": "1.2.0",
      "_view_name": "LayoutView",
      "align_content": null,
      "align_items": null,
      "align_self": null,
      "border": null,
      "bottom": null,
      "display": null,
      "flex": null,
      "flex_flow": null,
      "grid_area": null,
      "grid_auto_columns": null,
      "grid_auto_flow": null,
      "grid_auto_rows": null,
      "grid_column": null,
      "grid_gap": null,
      "grid_row": null,
      "grid_template_areas": null,
      "grid_template_columns": null,
      "grid_template_rows": null,
      "height": null,
      "justify_content": null,
      "justify_items": null,
      "left": null,
      "margin": null,
      "max_height": null,
      "max_width": null,
      "min_height": null,
      "min_width": null,
      "object_fit": null,
      "object_position": null,
      "order": null,
      "overflow": null,
      "overflow_x": null,
      "overflow_y": null,
      "padding": null,
      "right": null,
      "top": null,
      "visibility": null,
      "width": null
     }
    },
    "34ec97c4a2a1483cb802987e2064f68e": {
     "model_module": "@jupyter-widgets/controls",
     "model_module_version": "1.5.0",
     "model_name": "DescriptionStyleModel",
     "state": {
      "_model_module": "@jupyter-widgets/controls",
      "_model_module_version": "1.5.0",
      "_model_name": "DescriptionStyleModel",
      "_view_count": null,
      "_view_module": "@jupyter-widgets/base",
      "_view_module_version": "1.2.0",
      "_view_name": "StyleView",
      "description_width": ""
     }
    },
    "35bc5c667d11408983fe81a190910430": {
     "model_module": "@jupyter-widgets/controls",
     "model_module_version": "1.5.0",
     "model_name": "HBoxModel",
     "state": {
      "_dom_classes": [],
      "_model_module": "@jupyter-widgets/controls",
      "_model_module_version": "1.5.0",
      "_model_name": "HBoxModel",
      "_view_count": null,
      "_view_module": "@jupyter-widgets/controls",
      "_view_module_version": "1.5.0",
      "_view_name": "HBoxView",
      "box_style": "",
      "children": [
       "IPY_MODEL_d7214bc4658342519cc862e5c2d46f68",
       "IPY_MODEL_1177ed7de0eb457691bc2417c2e0f3f2",
       "IPY_MODEL_6b01826ef27241008aaf5b9330e8fcf2"
      ],
      "layout": "IPY_MODEL_8ed93ffb3d6b429d99e0027da88a5324"
     }
    },
    "36ae62d9e9f94334b2958ba3bbb8aa7f": {
     "model_module": "@jupyter-widgets/base",
     "model_module_version": "1.2.0",
     "model_name": "LayoutModel",
     "state": {
      "_model_module": "@jupyter-widgets/base",
      "_model_module_version": "1.2.0",
      "_model_name": "LayoutModel",
      "_view_count": null,
      "_view_module": "@jupyter-widgets/base",
      "_view_module_version": "1.2.0",
      "_view_name": "LayoutView",
      "align_content": null,
      "align_items": null,
      "align_self": null,
      "border": null,
      "bottom": null,
      "display": null,
      "flex": null,
      "flex_flow": null,
      "grid_area": null,
      "grid_auto_columns": null,
      "grid_auto_flow": null,
      "grid_auto_rows": null,
      "grid_column": null,
      "grid_gap": null,
      "grid_row": null,
      "grid_template_areas": null,
      "grid_template_columns": null,
      "grid_template_rows": null,
      "height": null,
      "justify_content": null,
      "justify_items": null,
      "left": null,
      "margin": null,
      "max_height": null,
      "max_width": null,
      "min_height": null,
      "min_width": null,
      "object_fit": null,
      "object_position": null,
      "order": null,
      "overflow": null,
      "overflow_x": null,
      "overflow_y": null,
      "padding": null,
      "right": null,
      "top": null,
      "visibility": null,
      "width": null
     }
    },
    "36ff30ba05eb40aeb9588105c7855c4c": {
     "model_module": "@jupyter-widgets/controls",
     "model_module_version": "1.5.0",
     "model_name": "DescriptionStyleModel",
     "state": {
      "_model_module": "@jupyter-widgets/controls",
      "_model_module_version": "1.5.0",
      "_model_name": "DescriptionStyleModel",
      "_view_count": null,
      "_view_module": "@jupyter-widgets/base",
      "_view_module_version": "1.2.0",
      "_view_name": "StyleView",
      "description_width": ""
     }
    },
    "3875e77d00d64f80aba5b3174cb7cf2b": {
     "model_module": "@jupyter-widgets/controls",
     "model_module_version": "1.5.0",
     "model_name": "HTMLModel",
     "state": {
      "_dom_classes": [],
      "_model_module": "@jupyter-widgets/controls",
      "_model_module_version": "1.5.0",
      "_model_name": "HTMLModel",
      "_view_count": null,
      "_view_module": "@jupyter-widgets/controls",
      "_view_module_version": "1.5.0",
      "_view_name": "HTMLView",
      "description": "",
      "description_tooltip": null,
      "layout": "IPY_MODEL_a6eaad568b4d42ea85c42ebc3dff8332",
      "placeholder": "​",
      "style": "IPY_MODEL_c0b06c5f0150442f937c9dffebe35029",
      "value": "tokenizer_config.json: 100%"
     }
    },
    "397fccb6f94c40f2ba0f87e2baa8d220": {
     "model_module": "@jupyter-widgets/controls",
     "model_module_version": "1.5.0",
     "model_name": "DescriptionStyleModel",
     "state": {
      "_model_module": "@jupyter-widgets/controls",
      "_model_module_version": "1.5.0",
      "_model_name": "DescriptionStyleModel",
      "_view_count": null,
      "_view_module": "@jupyter-widgets/base",
      "_view_module_version": "1.2.0",
      "_view_name": "StyleView",
      "description_width": ""
     }
    },
    "39a6236ab9384d6db72bad2bd5105d30": {
     "model_module": "@jupyter-widgets/controls",
     "model_module_version": "1.5.0",
     "model_name": "DescriptionStyleModel",
     "state": {
      "_model_module": "@jupyter-widgets/controls",
      "_model_module_version": "1.5.0",
      "_model_name": "DescriptionStyleModel",
      "_view_count": null,
      "_view_module": "@jupyter-widgets/base",
      "_view_module_version": "1.2.0",
      "_view_name": "StyleView",
      "description_width": ""
     }
    },
    "40e470a22ad64cc39e3307c606571852": {
     "model_module": "@jupyter-widgets/controls",
     "model_module_version": "1.5.0",
     "model_name": "FloatProgressModel",
     "state": {
      "_dom_classes": [],
      "_model_module": "@jupyter-widgets/controls",
      "_model_module_version": "1.5.0",
      "_model_name": "FloatProgressModel",
      "_view_count": null,
      "_view_module": "@jupyter-widgets/controls",
      "_view_module_version": "1.5.0",
      "_view_name": "ProgressView",
      "bar_style": "success",
      "description": "",
      "description_tooltip": null,
      "layout": "IPY_MODEL_95e78ca6173a44999342ed7ab2bbb2ad",
      "max": 263326,
      "min": 0,
      "orientation": "horizontal",
      "style": "IPY_MODEL_693940ec7e7944448981fe5bcab35aa2",
      "value": 263326
     }
    },
    "425b05a91a75467e97f0cfb4f42ccff3": {
     "model_module": "@jupyter-widgets/base",
     "model_module_version": "1.2.0",
     "model_name": "LayoutModel",
     "state": {
      "_model_module": "@jupyter-widgets/base",
      "_model_module_version": "1.2.0",
      "_model_name": "LayoutModel",
      "_view_count": null,
      "_view_module": "@jupyter-widgets/base",
      "_view_module_version": "1.2.0",
      "_view_name": "LayoutView",
      "align_content": null,
      "align_items": null,
      "align_self": null,
      "border": null,
      "bottom": null,
      "display": null,
      "flex": null,
      "flex_flow": null,
      "grid_area": null,
      "grid_auto_columns": null,
      "grid_auto_flow": null,
      "grid_auto_rows": null,
      "grid_column": null,
      "grid_gap": null,
      "grid_row": null,
      "grid_template_areas": null,
      "grid_template_columns": null,
      "grid_template_rows": null,
      "height": null,
      "justify_content": null,
      "justify_items": null,
      "left": null,
      "margin": null,
      "max_height": null,
      "max_width": null,
      "min_height": null,
      "min_width": null,
      "object_fit": null,
      "object_position": null,
      "order": null,
      "overflow": null,
      "overflow_x": null,
      "overflow_y": null,
      "padding": null,
      "right": null,
      "top": null,
      "visibility": null,
      "width": null
     }
    },
    "428562f2c8df4d1ebe77a03d9d5bc850": {
     "model_module": "@jupyter-widgets/controls",
     "model_module_version": "1.5.0",
     "model_name": "HTMLModel",
     "state": {
      "_dom_classes": [],
      "_model_module": "@jupyter-widgets/controls",
      "_model_module_version": "1.5.0",
      "_model_name": "HTMLModel",
      "_view_count": null,
      "_view_module": "@jupyter-widgets/controls",
      "_view_module_version": "1.5.0",
      "_view_name": "HTMLView",
      "description": "",
      "description_tooltip": null,
      "layout": "IPY_MODEL_a63ead7ebc234829b59dd3eb29f753ba",
      "placeholder": "​",
      "style": "IPY_MODEL_0b35cd49e1034ee382589fdca2375c32",
      "value": "vocab.txt: 100%"
     }
    },
    "44aa9d96de5f48ce99a6c23b53e1b655": {
     "model_module": "@jupyter-widgets/controls",
     "model_module_version": "1.5.0",
     "model_name": "HTMLModel",
     "state": {
      "_dom_classes": [],
      "_model_module": "@jupyter-widgets/controls",
      "_model_module_version": "1.5.0",
      "_model_name": "HTMLModel",
      "_view_count": null,
      "_view_module": "@jupyter-widgets/controls",
      "_view_module_version": "1.5.0",
      "_view_name": "HTMLView",
      "description": "",
      "description_tooltip": null,
      "layout": "IPY_MODEL_47537abd2b6b447ba7cc17e441d61771",
      "placeholder": "​",
      "style": "IPY_MODEL_8b0b294d76d74025aee951a91297e25a",
      "value": "vocab.txt: 100%"
     }
    },
    "47537abd2b6b447ba7cc17e441d61771": {
     "model_module": "@jupyter-widgets/base",
     "model_module_version": "1.2.0",
     "model_name": "LayoutModel",
     "state": {
      "_model_module": "@jupyter-widgets/base",
      "_model_module_version": "1.2.0",
      "_model_name": "LayoutModel",
      "_view_count": null,
      "_view_module": "@jupyter-widgets/base",
      "_view_module_version": "1.2.0",
      "_view_name": "LayoutView",
      "align_content": null,
      "align_items": null,
      "align_self": null,
      "border": null,
      "bottom": null,
      "display": null,
      "flex": null,
      "flex_flow": null,
      "grid_area": null,
      "grid_auto_columns": null,
      "grid_auto_flow": null,
      "grid_auto_rows": null,
      "grid_column": null,
      "grid_gap": null,
      "grid_row": null,
      "grid_template_areas": null,
      "grid_template_columns": null,
      "grid_template_rows": null,
      "height": null,
      "justify_content": null,
      "justify_items": null,
      "left": null,
      "margin": null,
      "max_height": null,
      "max_width": null,
      "min_height": null,
      "min_width": null,
      "object_fit": null,
      "object_position": null,
      "order": null,
      "overflow": null,
      "overflow_x": null,
      "overflow_y": null,
      "padding": null,
      "right": null,
      "top": null,
      "visibility": null,
      "width": null
     }
    },
    "4ae86c5f8f954a93a6e7110139fd5e8a": {
     "model_module": "@jupyter-widgets/controls",
     "model_module_version": "1.5.0",
     "model_name": "DescriptionStyleModel",
     "state": {
      "_model_module": "@jupyter-widgets/controls",
      "_model_module_version": "1.5.0",
      "_model_name": "DescriptionStyleModel",
      "_view_count": null,
      "_view_module": "@jupyter-widgets/base",
      "_view_module_version": "1.2.0",
      "_view_name": "StyleView",
      "description_width": ""
     }
    },
    "4dad43adb54b4895bd1f98b069fc6976": {
     "model_module": "@jupyter-widgets/base",
     "model_module_version": "1.2.0",
     "model_name": "LayoutModel",
     "state": {
      "_model_module": "@jupyter-widgets/base",
      "_model_module_version": "1.2.0",
      "_model_name": "LayoutModel",
      "_view_count": null,
      "_view_module": "@jupyter-widgets/base",
      "_view_module_version": "1.2.0",
      "_view_name": "LayoutView",
      "align_content": null,
      "align_items": null,
      "align_self": null,
      "border": null,
      "bottom": null,
      "display": null,
      "flex": null,
      "flex_flow": null,
      "grid_area": null,
      "grid_auto_columns": null,
      "grid_auto_flow": null,
      "grid_auto_rows": null,
      "grid_column": null,
      "grid_gap": null,
      "grid_row": null,
      "grid_template_areas": null,
      "grid_template_columns": null,
      "grid_template_rows": null,
      "height": null,
      "justify_content": null,
      "justify_items": null,
      "left": null,
      "margin": null,
      "max_height": null,
      "max_width": null,
      "min_height": null,
      "min_width": null,
      "object_fit": null,
      "object_position": null,
      "order": null,
      "overflow": null,
      "overflow_x": null,
      "overflow_y": null,
      "padding": null,
      "right": null,
      "top": null,
      "visibility": null,
      "width": null
     }
    },
    "4f6fe9f234334594a3cc1103aa79bb49": {
     "model_module": "@jupyter-widgets/controls",
     "model_module_version": "1.5.0",
     "model_name": "HBoxModel",
     "state": {
      "_dom_classes": [],
      "_model_module": "@jupyter-widgets/controls",
      "_model_module_version": "1.5.0",
      "_model_name": "HBoxModel",
      "_view_count": null,
      "_view_module": "@jupyter-widgets/controls",
      "_view_module_version": "1.5.0",
      "_view_name": "HBoxView",
      "box_style": "",
      "children": [
       "IPY_MODEL_6ee802ae81fd4f28b51feed503cb848f",
       "IPY_MODEL_e7767dfc1a0b492ba7b772cf0f01c71d",
       "IPY_MODEL_07bb6a1269da4da1bbc78a53bb87e083"
      ],
      "layout": "IPY_MODEL_5f128454359744dc87fa5147df5557cf"
     }
    },
    "4f9621fe144c446cb36de9933cb0eb8c": {
     "model_module": "@jupyter-widgets/controls",
     "model_module_version": "1.5.0",
     "model_name": "DescriptionStyleModel",
     "state": {
      "_model_module": "@jupyter-widgets/controls",
      "_model_module_version": "1.5.0",
      "_model_name": "DescriptionStyleModel",
      "_view_count": null,
      "_view_module": "@jupyter-widgets/base",
      "_view_module_version": "1.2.0",
      "_view_name": "StyleView",
      "description_width": ""
     }
    },
    "51156f2878ce43d68063d86127aa61ec": {
     "model_module": "@jupyter-widgets/controls",
     "model_module_version": "1.5.0",
     "model_name": "HBoxModel",
     "state": {
      "_dom_classes": [],
      "_model_module": "@jupyter-widgets/controls",
      "_model_module_version": "1.5.0",
      "_model_name": "HBoxModel",
      "_view_count": null,
      "_view_module": "@jupyter-widgets/controls",
      "_view_module_version": "1.5.0",
      "_view_name": "HBoxView",
      "box_style": "",
      "children": [
       "IPY_MODEL_428562f2c8df4d1ebe77a03d9d5bc850",
       "IPY_MODEL_c1ce4f8e2f7140c28ad9484c82657717",
       "IPY_MODEL_a97e525469b2470b85609436e9948c19"
      ],
      "layout": "IPY_MODEL_ad59717830d94ae0bb69659cefd69482"
     }
    },
    "57b4a58db4d9480a89b0a3fc0e3827c9": {
     "model_module": "@jupyter-widgets/controls",
     "model_module_version": "1.5.0",
     "model_name": "HBoxModel",
     "state": {
      "_dom_classes": [],
      "_model_module": "@jupyter-widgets/controls",
      "_model_module_version": "1.5.0",
      "_model_name": "HBoxModel",
      "_view_count": null,
      "_view_module": "@jupyter-widgets/controls",
      "_view_module_version": "1.5.0",
      "_view_name": "HBoxView",
      "box_style": "",
      "children": [
       "IPY_MODEL_44aa9d96de5f48ce99a6c23b53e1b655",
       "IPY_MODEL_5a2f8d0d5f244230862bae5a9182934d",
       "IPY_MODEL_13d7129d758d44b99bbf66e6f054af29"
      ],
      "layout": "IPY_MODEL_81280d61b219441aab764f7ed1ee0c39"
     }
    },
    "57f1b9df02064054828fd3ff7fe5b372": {
     "model_module": "@jupyter-widgets/base",
     "model_module_version": "1.2.0",
     "model_name": "LayoutModel",
     "state": {
      "_model_module": "@jupyter-widgets/base",
      "_model_module_version": "1.2.0",
      "_model_name": "LayoutModel",
      "_view_count": null,
      "_view_module": "@jupyter-widgets/base",
      "_view_module_version": "1.2.0",
      "_view_name": "LayoutView",
      "align_content": null,
      "align_items": null,
      "align_self": null,
      "border": null,
      "bottom": null,
      "display": null,
      "flex": null,
      "flex_flow": null,
      "grid_area": null,
      "grid_auto_columns": null,
      "grid_auto_flow": null,
      "grid_auto_rows": null,
      "grid_column": null,
      "grid_gap": null,
      "grid_row": null,
      "grid_template_areas": null,
      "grid_template_columns": null,
      "grid_template_rows": null,
      "height": null,
      "justify_content": null,
      "justify_items": null,
      "left": null,
      "margin": null,
      "max_height": null,
      "max_width": null,
      "min_height": null,
      "min_width": null,
      "object_fit": null,
      "object_position": null,
      "order": null,
      "overflow": null,
      "overflow_x": null,
      "overflow_y": null,
      "padding": null,
      "right": null,
      "top": null,
      "visibility": null,
      "width": null
     }
    },
    "581d9cb8ba674909959ee444f77b29f8": {
     "model_module": "@jupyter-widgets/base",
     "model_module_version": "1.2.0",
     "model_name": "LayoutModel",
     "state": {
      "_model_module": "@jupyter-widgets/base",
      "_model_module_version": "1.2.0",
      "_model_name": "LayoutModel",
      "_view_count": null,
      "_view_module": "@jupyter-widgets/base",
      "_view_module_version": "1.2.0",
      "_view_name": "LayoutView",
      "align_content": null,
      "align_items": null,
      "align_self": null,
      "border": null,
      "bottom": null,
      "display": null,
      "flex": null,
      "flex_flow": null,
      "grid_area": null,
      "grid_auto_columns": null,
      "grid_auto_flow": null,
      "grid_auto_rows": null,
      "grid_column": null,
      "grid_gap": null,
      "grid_row": null,
      "grid_template_areas": null,
      "grid_template_columns": null,
      "grid_template_rows": null,
      "height": null,
      "justify_content": null,
      "justify_items": null,
      "left": null,
      "margin": null,
      "max_height": null,
      "max_width": null,
      "min_height": null,
      "min_width": null,
      "object_fit": null,
      "object_position": null,
      "order": null,
      "overflow": null,
      "overflow_x": null,
      "overflow_y": null,
      "padding": null,
      "right": null,
      "top": null,
      "visibility": null,
      "width": null
     }
    },
    "58535b6924114757aa1cd0443de28dfe": {
     "model_module": "@jupyter-widgets/controls",
     "model_module_version": "1.5.0",
     "model_name": "FloatProgressModel",
     "state": {
      "_dom_classes": [],
      "_model_module": "@jupyter-widgets/controls",
      "_model_module_version": "1.5.0",
      "_model_name": "FloatProgressModel",
      "_view_count": null,
      "_view_module": "@jupyter-widgets/controls",
      "_view_module_version": "1.5.0",
      "_view_name": "ProgressView",
      "bar_style": "success",
      "description": "",
      "description_tooltip": null,
      "layout": "IPY_MODEL_73a3ebfd04d74678a25fbe17b4d7553b",
      "max": 467,
      "min": 0,
      "orientation": "horizontal",
      "style": "IPY_MODEL_6d0c7e20e98b4d0db779b7d8e141ee4a",
      "value": 467
     }
    },
    "5a2f8d0d5f244230862bae5a9182934d": {
     "model_module": "@jupyter-widgets/controls",
     "model_module_version": "1.5.0",
     "model_name": "FloatProgressModel",
     "state": {
      "_dom_classes": [],
      "_model_module": "@jupyter-widgets/controls",
      "_model_module_version": "1.5.0",
      "_model_name": "FloatProgressModel",
      "_view_count": null,
      "_view_module": "@jupyter-widgets/controls",
      "_view_module_version": "1.5.0",
      "_view_name": "ProgressView",
      "bar_style": "success",
      "description": "",
      "description_tooltip": null,
      "layout": "IPY_MODEL_b91cab37b1124e8592f8fcd7cf0443ae",
      "max": 263326,
      "min": 0,
      "orientation": "horizontal",
      "style": "IPY_MODEL_1cec708eaecd4157a9f00a7e97ab196d",
      "value": 263326
     }
    },
    "5cb640e1ae234112990b396d9af7c60d": {
     "model_module": "@jupyter-widgets/controls",
     "model_module_version": "1.5.0",
     "model_name": "ProgressStyleModel",
     "state": {
      "_model_module": "@jupyter-widgets/controls",
      "_model_module_version": "1.5.0",
      "_model_name": "ProgressStyleModel",
      "_view_count": null,
      "_view_module": "@jupyter-widgets/base",
      "_view_module_version": "1.2.0",
      "_view_name": "StyleView",
      "bar_color": null,
      "description_width": ""
     }
    },
    "5f128454359744dc87fa5147df5557cf": {
     "model_module": "@jupyter-widgets/base",
     "model_module_version": "1.2.0",
     "model_name": "LayoutModel",
     "state": {
      "_model_module": "@jupyter-widgets/base",
      "_model_module_version": "1.2.0",
      "_model_name": "LayoutModel",
      "_view_count": null,
      "_view_module": "@jupyter-widgets/base",
      "_view_module_version": "1.2.0",
      "_view_name": "LayoutView",
      "align_content": null,
      "align_items": null,
      "align_self": null,
      "border": null,
      "bottom": null,
      "display": null,
      "flex": null,
      "flex_flow": null,
      "grid_area": null,
      "grid_auto_columns": null,
      "grid_auto_flow": null,
      "grid_auto_rows": null,
      "grid_column": null,
      "grid_gap": null,
      "grid_row": null,
      "grid_template_areas": null,
      "grid_template_columns": null,
      "grid_template_rows": null,
      "height": null,
      "justify_content": null,
      "justify_items": null,
      "left": null,
      "margin": null,
      "max_height": null,
      "max_width": null,
      "min_height": null,
      "min_width": null,
      "object_fit": null,
      "object_position": null,
      "order": null,
      "overflow": null,
      "overflow_x": null,
      "overflow_y": null,
      "padding": null,
      "right": null,
      "top": null,
      "visibility": null,
      "width": null
     }
    },
    "5faf190e1a374de7a79c956b393a3568": {
     "model_module": "@jupyter-widgets/base",
     "model_module_version": "1.2.0",
     "model_name": "LayoutModel",
     "state": {
      "_model_module": "@jupyter-widgets/base",
      "_model_module_version": "1.2.0",
      "_model_name": "LayoutModel",
      "_view_count": null,
      "_view_module": "@jupyter-widgets/base",
      "_view_module_version": "1.2.0",
      "_view_name": "LayoutView",
      "align_content": null,
      "align_items": null,
      "align_self": null,
      "border": null,
      "bottom": null,
      "display": null,
      "flex": null,
      "flex_flow": null,
      "grid_area": null,
      "grid_auto_columns": null,
      "grid_auto_flow": null,
      "grid_auto_rows": null,
      "grid_column": null,
      "grid_gap": null,
      "grid_row": null,
      "grid_template_areas": null,
      "grid_template_columns": null,
      "grid_template_rows": null,
      "height": null,
      "justify_content": null,
      "justify_items": null,
      "left": null,
      "margin": null,
      "max_height": null,
      "max_width": null,
      "min_height": null,
      "min_width": null,
      "object_fit": null,
      "object_position": null,
      "order": null,
      "overflow": null,
      "overflow_x": null,
      "overflow_y": null,
      "padding": null,
      "right": null,
      "top": null,
      "visibility": null,
      "width": null
     }
    },
    "60d1034e49a747c7b50048d0c6acc34e": {
     "model_module": "@jupyter-widgets/base",
     "model_module_version": "1.2.0",
     "model_name": "LayoutModel",
     "state": {
      "_model_module": "@jupyter-widgets/base",
      "_model_module_version": "1.2.0",
      "_model_name": "LayoutModel",
      "_view_count": null,
      "_view_module": "@jupyter-widgets/base",
      "_view_module_version": "1.2.0",
      "_view_name": "LayoutView",
      "align_content": null,
      "align_items": null,
      "align_self": null,
      "border": null,
      "bottom": null,
      "display": null,
      "flex": null,
      "flex_flow": null,
      "grid_area": null,
      "grid_auto_columns": null,
      "grid_auto_flow": null,
      "grid_auto_rows": null,
      "grid_column": null,
      "grid_gap": null,
      "grid_row": null,
      "grid_template_areas": null,
      "grid_template_columns": null,
      "grid_template_rows": null,
      "height": null,
      "justify_content": null,
      "justify_items": null,
      "left": null,
      "margin": null,
      "max_height": null,
      "max_width": null,
      "min_height": null,
      "min_width": null,
      "object_fit": null,
      "object_position": null,
      "order": null,
      "overflow": null,
      "overflow_x": null,
      "overflow_y": null,
      "padding": null,
      "right": null,
      "top": null,
      "visibility": null,
      "width": null
     }
    },
    "6114da6498ae4e0eba7246a4ac2afb5c": {
     "model_module": "@jupyter-widgets/base",
     "model_module_version": "1.2.0",
     "model_name": "LayoutModel",
     "state": {
      "_model_module": "@jupyter-widgets/base",
      "_model_module_version": "1.2.0",
      "_model_name": "LayoutModel",
      "_view_count": null,
      "_view_module": "@jupyter-widgets/base",
      "_view_module_version": "1.2.0",
      "_view_name": "LayoutView",
      "align_content": null,
      "align_items": null,
      "align_self": null,
      "border": null,
      "bottom": null,
      "display": null,
      "flex": null,
      "flex_flow": null,
      "grid_area": null,
      "grid_auto_columns": null,
      "grid_auto_flow": null,
      "grid_auto_rows": null,
      "grid_column": null,
      "grid_gap": null,
      "grid_row": null,
      "grid_template_areas": null,
      "grid_template_columns": null,
      "grid_template_rows": null,
      "height": null,
      "justify_content": null,
      "justify_items": null,
      "left": null,
      "margin": null,
      "max_height": null,
      "max_width": null,
      "min_height": null,
      "min_width": null,
      "object_fit": null,
      "object_position": null,
      "order": null,
      "overflow": null,
      "overflow_x": null,
      "overflow_y": null,
      "padding": null,
      "right": null,
      "top": null,
      "visibility": null,
      "width": null
     }
    },
    "65f56bf0ac5043df9979f59337b99bde": {
     "model_module": "@jupyter-widgets/base",
     "model_module_version": "1.2.0",
     "model_name": "LayoutModel",
     "state": {
      "_model_module": "@jupyter-widgets/base",
      "_model_module_version": "1.2.0",
      "_model_name": "LayoutModel",
      "_view_count": null,
      "_view_module": "@jupyter-widgets/base",
      "_view_module_version": "1.2.0",
      "_view_name": "LayoutView",
      "align_content": null,
      "align_items": null,
      "align_self": null,
      "border": null,
      "bottom": null,
      "display": null,
      "flex": null,
      "flex_flow": null,
      "grid_area": null,
      "grid_auto_columns": null,
      "grid_auto_flow": null,
      "grid_auto_rows": null,
      "grid_column": null,
      "grid_gap": null,
      "grid_row": null,
      "grid_template_areas": null,
      "grid_template_columns": null,
      "grid_template_rows": null,
      "height": null,
      "justify_content": null,
      "justify_items": null,
      "left": null,
      "margin": null,
      "max_height": null,
      "max_width": null,
      "min_height": null,
      "min_width": null,
      "object_fit": null,
      "object_position": null,
      "order": null,
      "overflow": null,
      "overflow_x": null,
      "overflow_y": null,
      "padding": null,
      "right": null,
      "top": null,
      "visibility": null,
      "width": null
     }
    },
    "693940ec7e7944448981fe5bcab35aa2": {
     "model_module": "@jupyter-widgets/controls",
     "model_module_version": "1.5.0",
     "model_name": "ProgressStyleModel",
     "state": {
      "_model_module": "@jupyter-widgets/controls",
      "_model_module_version": "1.5.0",
      "_model_name": "ProgressStyleModel",
      "_view_count": null,
      "_view_module": "@jupyter-widgets/base",
      "_view_module_version": "1.2.0",
      "_view_name": "StyleView",
      "bar_color": null,
      "description_width": ""
     }
    },
    "6a293f1569cc440c8bc6546d064cdc3d": {
     "model_module": "@jupyter-widgets/base",
     "model_module_version": "1.2.0",
     "model_name": "LayoutModel",
     "state": {
      "_model_module": "@jupyter-widgets/base",
      "_model_module_version": "1.2.0",
      "_model_name": "LayoutModel",
      "_view_count": null,
      "_view_module": "@jupyter-widgets/base",
      "_view_module_version": "1.2.0",
      "_view_name": "LayoutView",
      "align_content": null,
      "align_items": null,
      "align_self": null,
      "border": null,
      "bottom": null,
      "display": null,
      "flex": null,
      "flex_flow": null,
      "grid_area": null,
      "grid_auto_columns": null,
      "grid_auto_flow": null,
      "grid_auto_rows": null,
      "grid_column": null,
      "grid_gap": null,
      "grid_row": null,
      "grid_template_areas": null,
      "grid_template_columns": null,
      "grid_template_rows": null,
      "height": null,
      "justify_content": null,
      "justify_items": null,
      "left": null,
      "margin": null,
      "max_height": null,
      "max_width": null,
      "min_height": null,
      "min_width": null,
      "object_fit": null,
      "object_position": null,
      "order": null,
      "overflow": null,
      "overflow_x": null,
      "overflow_y": null,
      "padding": null,
      "right": null,
      "top": null,
      "visibility": null,
      "width": null
     }
    },
    "6b01826ef27241008aaf5b9330e8fcf2": {
     "model_module": "@jupyter-widgets/controls",
     "model_module_version": "1.5.0",
     "model_name": "HTMLModel",
     "state": {
      "_dom_classes": [],
      "_model_module": "@jupyter-widgets/controls",
      "_model_module_version": "1.5.0",
      "_model_name": "HTMLModel",
      "_view_count": null,
      "_view_module": "@jupyter-widgets/controls",
      "_view_module_version": "1.5.0",
      "_view_name": "HTMLView",
      "description": "",
      "description_tooltip": null,
      "layout": "IPY_MODEL_4dad43adb54b4895bd1f98b069fc6976",
      "placeholder": "​",
      "style": "IPY_MODEL_90aae99267c94d11ac3c20f739b7602e",
      "value": " 452M/452M [00:00&lt;00:00, 502MB/s]"
     }
    },
    "6d0c7e20e98b4d0db779b7d8e141ee4a": {
     "model_module": "@jupyter-widgets/controls",
     "model_module_version": "1.5.0",
     "model_name": "ProgressStyleModel",
     "state": {
      "_model_module": "@jupyter-widgets/controls",
      "_model_module_version": "1.5.0",
      "_model_name": "ProgressStyleModel",
      "_view_count": null,
      "_view_module": "@jupyter-widgets/base",
      "_view_module_version": "1.2.0",
      "_view_name": "StyleView",
      "bar_color": null,
      "description_width": ""
     }
    },
    "6ee802ae81fd4f28b51feed503cb848f": {
     "model_module": "@jupyter-widgets/controls",
     "model_module_version": "1.5.0",
     "model_name": "HTMLModel",
     "state": {
      "_dom_classes": [],
      "_model_module": "@jupyter-widgets/controls",
      "_model_module_version": "1.5.0",
      "_model_name": "HTMLModel",
      "_view_count": null,
      "_view_module": "@jupyter-widgets/controls",
      "_view_module_version": "1.5.0",
      "_view_name": "HTMLView",
      "description": "",
      "description_tooltip": null,
      "layout": "IPY_MODEL_6114da6498ae4e0eba7246a4ac2afb5c",
      "placeholder": "​",
      "style": "IPY_MODEL_4f9621fe144c446cb36de9933cb0eb8c",
      "value": "model.safetensors: 100%"
     }
    },
    "71d9305f5c9b4b5aa4b1b2ce6cd50115": {
     "model_module": "@jupyter-widgets/controls",
     "model_module_version": "1.5.0",
     "model_name": "HTMLModel",
     "state": {
      "_dom_classes": [],
      "_model_module": "@jupyter-widgets/controls",
      "_model_module_version": "1.5.0",
      "_model_name": "HTMLModel",
      "_view_count": null,
      "_view_module": "@jupyter-widgets/controls",
      "_view_module_version": "1.5.0",
      "_view_name": "HTMLView",
      "description": "",
      "description_tooltip": null,
      "layout": "IPY_MODEL_80987fee75854dfcb7bf877a8d57a37b",
      "placeholder": "​",
      "style": "IPY_MODEL_c753790719c34432bcefc3a08cfe088a",
      "value": "config.json: 100%"
     }
    },
    "73a3ebfd04d74678a25fbe17b4d7553b": {
     "model_module": "@jupyter-widgets/base",
     "model_module_version": "1.2.0",
     "model_name": "LayoutModel",
     "state": {
      "_model_module": "@jupyter-widgets/base",
      "_model_module_version": "1.2.0",
      "_model_name": "LayoutModel",
      "_view_count": null,
      "_view_module": "@jupyter-widgets/base",
      "_view_module_version": "1.2.0",
      "_view_name": "LayoutView",
      "align_content": null,
      "align_items": null,
      "align_self": null,
      "border": null,
      "bottom": null,
      "display": null,
      "flex": null,
      "flex_flow": null,
      "grid_area": null,
      "grid_auto_columns": null,
      "grid_auto_flow": null,
      "grid_auto_rows": null,
      "grid_column": null,
      "grid_gap": null,
      "grid_row": null,
      "grid_template_areas": null,
      "grid_template_columns": null,
      "grid_template_rows": null,
      "height": null,
      "justify_content": null,
      "justify_items": null,
      "left": null,
      "margin": null,
      "max_height": null,
      "max_width": null,
      "min_height": null,
      "min_width": null,
      "object_fit": null,
      "object_position": null,
      "order": null,
      "overflow": null,
      "overflow_x": null,
      "overflow_y": null,
      "padding": null,
      "right": null,
      "top": null,
      "visibility": null,
      "width": null
     }
    },
    "772b5ea3c3e1440db02411fc8135258a": {
     "model_module": "@jupyter-widgets/base",
     "model_module_version": "1.2.0",
     "model_name": "LayoutModel",
     "state": {
      "_model_module": "@jupyter-widgets/base",
      "_model_module_version": "1.2.0",
      "_model_name": "LayoutModel",
      "_view_count": null,
      "_view_module": "@jupyter-widgets/base",
      "_view_module_version": "1.2.0",
      "_view_name": "LayoutView",
      "align_content": null,
      "align_items": null,
      "align_self": null,
      "border": null,
      "bottom": null,
      "display": null,
      "flex": null,
      "flex_flow": null,
      "grid_area": null,
      "grid_auto_columns": null,
      "grid_auto_flow": null,
      "grid_auto_rows": null,
      "grid_column": null,
      "grid_gap": null,
      "grid_row": null,
      "grid_template_areas": null,
      "grid_template_columns": null,
      "grid_template_rows": null,
      "height": null,
      "justify_content": null,
      "justify_items": null,
      "left": null,
      "margin": null,
      "max_height": null,
      "max_width": null,
      "min_height": null,
      "min_width": null,
      "object_fit": null,
      "object_position": null,
      "order": null,
      "overflow": null,
      "overflow_x": null,
      "overflow_y": null,
      "padding": null,
      "right": null,
      "top": null,
      "visibility": null,
      "width": null
     }
    },
    "797583e4102c4d03968e3dd017498e14": {
     "model_module": "@jupyter-widgets/controls",
     "model_module_version": "1.5.0",
     "model_name": "HBoxModel",
     "state": {
      "_dom_classes": [],
      "_model_module": "@jupyter-widgets/controls",
      "_model_module_version": "1.5.0",
      "_model_name": "HBoxModel",
      "_view_count": null,
      "_view_module": "@jupyter-widgets/controls",
      "_view_module_version": "1.5.0",
      "_view_name": "HBoxView",
      "box_style": "",
      "children": [
       "IPY_MODEL_0355693c56044972b561ac9b20874419",
       "IPY_MODEL_9d077863ae584addaeac3199a744ef80",
       "IPY_MODEL_2ed1edf5ffae407a89f74b0581954c8d"
      ],
      "layout": "IPY_MODEL_d104a09aa2b54f7ba5396cc4eaae554c"
     }
    },
    "7d29c021b8054839962c9f72ddd68ca3": {
     "model_module": "@jupyter-widgets/controls",
     "model_module_version": "1.5.0",
     "model_name": "ProgressStyleModel",
     "state": {
      "_model_module": "@jupyter-widgets/controls",
      "_model_module_version": "1.5.0",
      "_model_name": "ProgressStyleModel",
      "_view_count": null,
      "_view_module": "@jupyter-widgets/base",
      "_view_module_version": "1.2.0",
      "_view_name": "StyleView",
      "bar_color": null,
      "description_width": ""
     }
    },
    "7e74f205bc614d2ba9e7cf7da22a5604": {
     "model_module": "@jupyter-widgets/base",
     "model_module_version": "1.2.0",
     "model_name": "LayoutModel",
     "state": {
      "_model_module": "@jupyter-widgets/base",
      "_model_module_version": "1.2.0",
      "_model_name": "LayoutModel",
      "_view_count": null,
      "_view_module": "@jupyter-widgets/base",
      "_view_module_version": "1.2.0",
      "_view_name": "LayoutView",
      "align_content": null,
      "align_items": null,
      "align_self": null,
      "border": null,
      "bottom": null,
      "display": null,
      "flex": null,
      "flex_flow": null,
      "grid_area": null,
      "grid_auto_columns": null,
      "grid_auto_flow": null,
      "grid_auto_rows": null,
      "grid_column": null,
      "grid_gap": null,
      "grid_row": null,
      "grid_template_areas": null,
      "grid_template_columns": null,
      "grid_template_rows": null,
      "height": null,
      "justify_content": null,
      "justify_items": null,
      "left": null,
      "margin": null,
      "max_height": null,
      "max_width": null,
      "min_height": null,
      "min_width": null,
      "object_fit": null,
      "object_position": null,
      "order": null,
      "overflow": null,
      "overflow_x": null,
      "overflow_y": null,
      "padding": null,
      "right": null,
      "top": null,
      "visibility": null,
      "width": null
     }
    },
    "7f339d93753c4380b1c3de3678d4a6c0": {
     "model_module": "@jupyter-widgets/base",
     "model_module_version": "1.2.0",
     "model_name": "LayoutModel",
     "state": {
      "_model_module": "@jupyter-widgets/base",
      "_model_module_version": "1.2.0",
      "_model_name": "LayoutModel",
      "_view_count": null,
      "_view_module": "@jupyter-widgets/base",
      "_view_module_version": "1.2.0",
      "_view_name": "LayoutView",
      "align_content": null,
      "align_items": null,
      "align_self": null,
      "border": null,
      "bottom": null,
      "display": null,
      "flex": null,
      "flex_flow": null,
      "grid_area": null,
      "grid_auto_columns": null,
      "grid_auto_flow": null,
      "grid_auto_rows": null,
      "grid_column": null,
      "grid_gap": null,
      "grid_row": null,
      "grid_template_areas": null,
      "grid_template_columns": null,
      "grid_template_rows": null,
      "height": null,
      "justify_content": null,
      "justify_items": null,
      "left": null,
      "margin": null,
      "max_height": null,
      "max_width": null,
      "min_height": null,
      "min_width": null,
      "object_fit": null,
      "object_position": null,
      "order": null,
      "overflow": null,
      "overflow_x": null,
      "overflow_y": null,
      "padding": null,
      "right": null,
      "top": null,
      "visibility": null,
      "width": null
     }
    },
    "80987fee75854dfcb7bf877a8d57a37b": {
     "model_module": "@jupyter-widgets/base",
     "model_module_version": "1.2.0",
     "model_name": "LayoutModel",
     "state": {
      "_model_module": "@jupyter-widgets/base",
      "_model_module_version": "1.2.0",
      "_model_name": "LayoutModel",
      "_view_count": null,
      "_view_module": "@jupyter-widgets/base",
      "_view_module_version": "1.2.0",
      "_view_name": "LayoutView",
      "align_content": null,
      "align_items": null,
      "align_self": null,
      "border": null,
      "bottom": null,
      "display": null,
      "flex": null,
      "flex_flow": null,
      "grid_area": null,
      "grid_auto_columns": null,
      "grid_auto_flow": null,
      "grid_auto_rows": null,
      "grid_column": null,
      "grid_gap": null,
      "grid_row": null,
      "grid_template_areas": null,
      "grid_template_columns": null,
      "grid_template_rows": null,
      "height": null,
      "justify_content": null,
      "justify_items": null,
      "left": null,
      "margin": null,
      "max_height": null,
      "max_width": null,
      "min_height": null,
      "min_width": null,
      "object_fit": null,
      "object_position": null,
      "order": null,
      "overflow": null,
      "overflow_x": null,
      "overflow_y": null,
      "padding": null,
      "right": null,
      "top": null,
      "visibility": null,
      "width": null
     }
    },
    "80b97cca885e41938c02088f4d0f4191": {
     "model_module": "@jupyter-widgets/base",
     "model_module_version": "1.2.0",
     "model_name": "LayoutModel",
     "state": {
      "_model_module": "@jupyter-widgets/base",
      "_model_module_version": "1.2.0",
      "_model_name": "LayoutModel",
      "_view_count": null,
      "_view_module": "@jupyter-widgets/base",
      "_view_module_version": "1.2.0",
      "_view_name": "LayoutView",
      "align_content": null,
      "align_items": null,
      "align_self": null,
      "border": null,
      "bottom": null,
      "display": null,
      "flex": null,
      "flex_flow": null,
      "grid_area": null,
      "grid_auto_columns": null,
      "grid_auto_flow": null,
      "grid_auto_rows": null,
      "grid_column": null,
      "grid_gap": null,
      "grid_row": null,
      "grid_template_areas": null,
      "grid_template_columns": null,
      "grid_template_rows": null,
      "height": null,
      "justify_content": null,
      "justify_items": null,
      "left": null,
      "margin": null,
      "max_height": null,
      "max_width": null,
      "min_height": null,
      "min_width": null,
      "object_fit": null,
      "object_position": null,
      "order": null,
      "overflow": null,
      "overflow_x": null,
      "overflow_y": null,
      "padding": null,
      "right": null,
      "top": null,
      "visibility": null,
      "width": null
     }
    },
    "80dd79cc969a42cfa15ca2db88f7f448": {
     "model_module": "@jupyter-widgets/controls",
     "model_module_version": "1.5.0",
     "model_name": "HTMLModel",
     "state": {
      "_dom_classes": [],
      "_model_module": "@jupyter-widgets/controls",
      "_model_module_version": "1.5.0",
      "_model_name": "HTMLModel",
      "_view_count": null,
      "_view_module": "@jupyter-widgets/controls",
      "_view_module_version": "1.5.0",
      "_view_name": "HTMLView",
      "description": "",
      "description_tooltip": null,
      "layout": "IPY_MODEL_281808ab490042b0a55a45cbc4f4486c",
      "placeholder": "​",
      "style": "IPY_MODEL_29802d6603b84d339d8c7f660428c0a5",
      "value": "config.json: 100%"
     }
    },
    "81280d61b219441aab764f7ed1ee0c39": {
     "model_module": "@jupyter-widgets/base",
     "model_module_version": "1.2.0",
     "model_name": "LayoutModel",
     "state": {
      "_model_module": "@jupyter-widgets/base",
      "_model_module_version": "1.2.0",
      "_model_name": "LayoutModel",
      "_view_count": null,
      "_view_module": "@jupyter-widgets/base",
      "_view_module_version": "1.2.0",
      "_view_name": "LayoutView",
      "align_content": null,
      "align_items": null,
      "align_self": null,
      "border": null,
      "bottom": null,
      "display": null,
      "flex": null,
      "flex_flow": null,
      "grid_area": null,
      "grid_auto_columns": null,
      "grid_auto_flow": null,
      "grid_auto_rows": null,
      "grid_column": null,
      "grid_gap": null,
      "grid_row": null,
      "grid_template_areas": null,
      "grid_template_columns": null,
      "grid_template_rows": null,
      "height": null,
      "justify_content": null,
      "justify_items": null,
      "left": null,
      "margin": null,
      "max_height": null,
      "max_width": null,
      "min_height": null,
      "min_width": null,
      "object_fit": null,
      "object_position": null,
      "order": null,
      "overflow": null,
      "overflow_x": null,
      "overflow_y": null,
      "padding": null,
      "right": null,
      "top": null,
      "visibility": null,
      "width": null
     }
    },
    "81eb8e6f92a345ef9293bf4da5a025a2": {
     "model_module": "@jupyter-widgets/controls",
     "model_module_version": "1.5.0",
     "model_name": "ProgressStyleModel",
     "state": {
      "_model_module": "@jupyter-widgets/controls",
      "_model_module_version": "1.5.0",
      "_model_name": "ProgressStyleModel",
      "_view_count": null,
      "_view_module": "@jupyter-widgets/base",
      "_view_module_version": "1.2.0",
      "_view_name": "StyleView",
      "bar_color": null,
      "description_width": ""
     }
    },
    "859b580d06fd4295ab12898bea0a8a05": {
     "model_module": "@jupyter-widgets/controls",
     "model_module_version": "1.5.0",
     "model_name": "DescriptionStyleModel",
     "state": {
      "_model_module": "@jupyter-widgets/controls",
      "_model_module_version": "1.5.0",
      "_model_name": "DescriptionStyleModel",
      "_view_count": null,
      "_view_module": "@jupyter-widgets/base",
      "_view_module_version": "1.2.0",
      "_view_name": "StyleView",
      "description_width": ""
     }
    },
    "8907adc22d374a5db064c1d58c4f0809": {
     "model_module": "@jupyter-widgets/controls",
     "model_module_version": "1.5.0",
     "model_name": "HTMLModel",
     "state": {
      "_dom_classes": [],
      "_model_module": "@jupyter-widgets/controls",
      "_model_module_version": "1.5.0",
      "_model_name": "HTMLModel",
      "_view_count": null,
      "_view_module": "@jupyter-widgets/controls",
      "_view_module_version": "1.5.0",
      "_view_name": "HTMLView",
      "description": "",
      "description_tooltip": null,
      "layout": "IPY_MODEL_60d1034e49a747c7b50048d0c6acc34e",
      "placeholder": "​",
      "style": "IPY_MODEL_e3212bcb5d2049ffa8a7208f88139bf5",
      "value": " 61.0/61.0 [00:00&lt;00:00, 7.00kB/s]"
     }
    },
    "8ac87f7f4fd24ef09ade2de3cbfcc2aa": {
     "model_module": "@jupyter-widgets/controls",
     "model_module_version": "1.5.0",
     "model_name": "HTMLModel",
     "state": {
      "_dom_classes": [],
      "_model_module": "@jupyter-widgets/controls",
      "_model_module_version": "1.5.0",
      "_model_name": "HTMLModel",
      "_view_count": null,
      "_view_module": "@jupyter-widgets/controls",
      "_view_module_version": "1.5.0",
      "_view_name": "HTMLView",
      "description": "",
      "description_tooltip": null,
      "layout": "IPY_MODEL_6a293f1569cc440c8bc6546d064cdc3d",
      "placeholder": "​",
      "style": "IPY_MODEL_4ae86c5f8f954a93a6e7110139fd5e8a",
      "value": " 467/467 [00:00&lt;00:00, 62.2kB/s]"
     }
    },
    "8b0b294d76d74025aee951a91297e25a": {
     "model_module": "@jupyter-widgets/controls",
     "model_module_version": "1.5.0",
     "model_name": "DescriptionStyleModel",
     "state": {
      "_model_module": "@jupyter-widgets/controls",
      "_model_module_version": "1.5.0",
      "_model_name": "DescriptionStyleModel",
      "_view_count": null,
      "_view_module": "@jupyter-widgets/base",
      "_view_module_version": "1.2.0",
      "_view_name": "StyleView",
      "description_width": ""
     }
    },
    "8c3fc5e677354633987f6a7954e11310": {
     "model_module": "@jupyter-widgets/controls",
     "model_module_version": "1.5.0",
     "model_name": "HTMLModel",
     "state": {
      "_dom_classes": [],
      "_model_module": "@jupyter-widgets/controls",
      "_model_module_version": "1.5.0",
      "_model_name": "HTMLModel",
      "_view_count": null,
      "_view_module": "@jupyter-widgets/controls",
      "_view_module_version": "1.5.0",
      "_view_name": "HTMLView",
      "description": "",
      "description_tooltip": null,
      "layout": "IPY_MODEL_9c758601e86a4a73ba09f09997320f44",
      "placeholder": "​",
      "style": "IPY_MODEL_21bc2658bbc24356945ac016999b33c9",
      "value": " 452M/452M [00:02&lt;00:00, 275MB/s]"
     }
    },
    "8ed93ffb3d6b429d99e0027da88a5324": {
     "model_module": "@jupyter-widgets/base",
     "model_module_version": "1.2.0",
     "model_name": "LayoutModel",
     "state": {
      "_model_module": "@jupyter-widgets/base",
      "_model_module_version": "1.2.0",
      "_model_name": "LayoutModel",
      "_view_count": null,
      "_view_module": "@jupyter-widgets/base",
      "_view_module_version": "1.2.0",
      "_view_name": "LayoutView",
      "align_content": null,
      "align_items": null,
      "align_self": null,
      "border": null,
      "bottom": null,
      "display": null,
      "flex": null,
      "flex_flow": null,
      "grid_area": null,
      "grid_auto_columns": null,
      "grid_auto_flow": null,
      "grid_auto_rows": null,
      "grid_column": null,
      "grid_gap": null,
      "grid_row": null,
      "grid_template_areas": null,
      "grid_template_columns": null,
      "grid_template_rows": null,
      "height": null,
      "justify_content": null,
      "justify_items": null,
      "left": null,
      "margin": null,
      "max_height": null,
      "max_width": null,
      "min_height": null,
      "min_width": null,
      "object_fit": null,
      "object_position": null,
      "order": null,
      "overflow": null,
      "overflow_x": null,
      "overflow_y": null,
      "padding": null,
      "right": null,
      "top": null,
      "visibility": null,
      "width": null
     }
    },
    "8ffd989eed6b45ac8e42919c73dce08e": {
     "model_module": "@jupyter-widgets/controls",
     "model_module_version": "1.5.0",
     "model_name": "HBoxModel",
     "state": {
      "_dom_classes": [],
      "_model_module": "@jupyter-widgets/controls",
      "_model_module_version": "1.5.0",
      "_model_name": "HBoxModel",
      "_view_count": null,
      "_view_module": "@jupyter-widgets/controls",
      "_view_module_version": "1.5.0",
      "_view_name": "HBoxView",
      "box_style": "",
      "children": [
       "IPY_MODEL_d7694c66ce4e4b168aaf379ee273520d",
       "IPY_MODEL_a5a76dd7d25a46c3bf22bdc8749b079e",
       "IPY_MODEL_8ac87f7f4fd24ef09ade2de3cbfcc2aa"
      ],
      "layout": "IPY_MODEL_d6969e52b69043da90946e632cc42269"
     }
    },
    "90aae99267c94d11ac3c20f739b7602e": {
     "model_module": "@jupyter-widgets/controls",
     "model_module_version": "1.5.0",
     "model_name": "DescriptionStyleModel",
     "state": {
      "_model_module": "@jupyter-widgets/controls",
      "_model_module_version": "1.5.0",
      "_model_name": "DescriptionStyleModel",
      "_view_count": null,
      "_view_module": "@jupyter-widgets/base",
      "_view_module_version": "1.2.0",
      "_view_name": "StyleView",
      "description_width": ""
     }
    },
    "916004b1d94a4f16ba712fd03aee36f1": {
     "model_module": "@jupyter-widgets/controls",
     "model_module_version": "1.5.0",
     "model_name": "HTMLModel",
     "state": {
      "_dom_classes": [],
      "_model_module": "@jupyter-widgets/controls",
      "_model_module_version": "1.5.0",
      "_model_name": "HTMLModel",
      "_view_count": null,
      "_view_module": "@jupyter-widgets/controls",
      "_view_module_version": "1.5.0",
      "_view_name": "HTMLView",
      "description": "",
      "description_tooltip": null,
      "layout": "IPY_MODEL_2717f29b4f2946f0b0264ad51d7aba8d",
      "placeholder": "​",
      "style": "IPY_MODEL_34ec97c4a2a1483cb802987e2064f68e",
      "value": " 467/467 [00:00&lt;00:00, 52.9kB/s]"
     }
    },
    "93e7b91170e2437d96268996dcc3ca3f": {
     "model_module": "@jupyter-widgets/base",
     "model_module_version": "1.2.0",
     "model_name": "LayoutModel",
     "state": {
      "_model_module": "@jupyter-widgets/base",
      "_model_module_version": "1.2.0",
      "_model_name": "LayoutModel",
      "_view_count": null,
      "_view_module": "@jupyter-widgets/base",
      "_view_module_version": "1.2.0",
      "_view_name": "LayoutView",
      "align_content": null,
      "align_items": null,
      "align_self": null,
      "border": null,
      "bottom": null,
      "display": null,
      "flex": null,
      "flex_flow": null,
      "grid_area": null,
      "grid_auto_columns": null,
      "grid_auto_flow": null,
      "grid_auto_rows": null,
      "grid_column": null,
      "grid_gap": null,
      "grid_row": null,
      "grid_template_areas": null,
      "grid_template_columns": null,
      "grid_template_rows": null,
      "height": null,
      "justify_content": null,
      "justify_items": null,
      "left": null,
      "margin": null,
      "max_height": null,
      "max_width": null,
      "min_height": null,
      "min_width": null,
      "object_fit": null,
      "object_position": null,
      "order": null,
      "overflow": null,
      "overflow_x": null,
      "overflow_y": null,
      "padding": null,
      "right": null,
      "top": null,
      "visibility": null,
      "width": null
     }
    },
    "942d72a5bdb547be949d23318a0b9082": {
     "model_module": "@jupyter-widgets/base",
     "model_module_version": "1.2.0",
     "model_name": "LayoutModel",
     "state": {
      "_model_module": "@jupyter-widgets/base",
      "_model_module_version": "1.2.0",
      "_model_name": "LayoutModel",
      "_view_count": null,
      "_view_module": "@jupyter-widgets/base",
      "_view_module_version": "1.2.0",
      "_view_name": "LayoutView",
      "align_content": null,
      "align_items": null,
      "align_self": null,
      "border": null,
      "bottom": null,
      "display": null,
      "flex": null,
      "flex_flow": null,
      "grid_area": null,
      "grid_auto_columns": null,
      "grid_auto_flow": null,
      "grid_auto_rows": null,
      "grid_column": null,
      "grid_gap": null,
      "grid_row": null,
      "grid_template_areas": null,
      "grid_template_columns": null,
      "grid_template_rows": null,
      "height": null,
      "justify_content": null,
      "justify_items": null,
      "left": null,
      "margin": null,
      "max_height": null,
      "max_width": null,
      "min_height": null,
      "min_width": null,
      "object_fit": null,
      "object_position": null,
      "order": null,
      "overflow": null,
      "overflow_x": null,
      "overflow_y": null,
      "padding": null,
      "right": null,
      "top": null,
      "visibility": null,
      "width": null
     }
    },
    "95c76b2083e14497857a66e80aa89273": {
     "model_module": "@jupyter-widgets/base",
     "model_module_version": "1.2.0",
     "model_name": "LayoutModel",
     "state": {
      "_model_module": "@jupyter-widgets/base",
      "_model_module_version": "1.2.0",
      "_model_name": "LayoutModel",
      "_view_count": null,
      "_view_module": "@jupyter-widgets/base",
      "_view_module_version": "1.2.0",
      "_view_name": "LayoutView",
      "align_content": null,
      "align_items": null,
      "align_self": null,
      "border": null,
      "bottom": null,
      "display": null,
      "flex": null,
      "flex_flow": null,
      "grid_area": null,
      "grid_auto_columns": null,
      "grid_auto_flow": null,
      "grid_auto_rows": null,
      "grid_column": null,
      "grid_gap": null,
      "grid_row": null,
      "grid_template_areas": null,
      "grid_template_columns": null,
      "grid_template_rows": null,
      "height": null,
      "justify_content": null,
      "justify_items": null,
      "left": null,
      "margin": null,
      "max_height": null,
      "max_width": null,
      "min_height": null,
      "min_width": null,
      "object_fit": null,
      "object_position": null,
      "order": null,
      "overflow": null,
      "overflow_x": null,
      "overflow_y": null,
      "padding": null,
      "right": null,
      "top": null,
      "visibility": null,
      "width": null
     }
    },
    "95e78ca6173a44999342ed7ab2bbb2ad": {
     "model_module": "@jupyter-widgets/base",
     "model_module_version": "1.2.0",
     "model_name": "LayoutModel",
     "state": {
      "_model_module": "@jupyter-widgets/base",
      "_model_module_version": "1.2.0",
      "_model_name": "LayoutModel",
      "_view_count": null,
      "_view_module": "@jupyter-widgets/base",
      "_view_module_version": "1.2.0",
      "_view_name": "LayoutView",
      "align_content": null,
      "align_items": null,
      "align_self": null,
      "border": null,
      "bottom": null,
      "display": null,
      "flex": null,
      "flex_flow": null,
      "grid_area": null,
      "grid_auto_columns": null,
      "grid_auto_flow": null,
      "grid_auto_rows": null,
      "grid_column": null,
      "grid_gap": null,
      "grid_row": null,
      "grid_template_areas": null,
      "grid_template_columns": null,
      "grid_template_rows": null,
      "height": null,
      "justify_content": null,
      "justify_items": null,
      "left": null,
      "margin": null,
      "max_height": null,
      "max_width": null,
      "min_height": null,
      "min_width": null,
      "object_fit": null,
      "object_position": null,
      "order": null,
      "overflow": null,
      "overflow_x": null,
      "overflow_y": null,
      "padding": null,
      "right": null,
      "top": null,
      "visibility": null,
      "width": null
     }
    },
    "9808cb465e5544e99fa1d1e653b98f67": {
     "model_module": "@jupyter-widgets/controls",
     "model_module_version": "1.5.0",
     "model_name": "HBoxModel",
     "state": {
      "_dom_classes": [],
      "_model_module": "@jupyter-widgets/controls",
      "_model_module_version": "1.5.0",
      "_model_name": "HBoxModel",
      "_view_count": null,
      "_view_module": "@jupyter-widgets/controls",
      "_view_module_version": "1.5.0",
      "_view_name": "HBoxView",
      "box_style": "",
      "children": [
       "IPY_MODEL_fa87d6babffb45fbb05990e4e3bdec80",
       "IPY_MODEL_b6b2ebe837b04a259d51e61ee621e888",
       "IPY_MODEL_8c3fc5e677354633987f6a7954e11310"
      ],
      "layout": "IPY_MODEL_a294ba58362c4999b5fd47d4f63b8033"
     }
    },
    "9aaf9ac28c904635899e61b09c1e03c8": {
     "model_module": "@jupyter-widgets/controls",
     "model_module_version": "1.5.0",
     "model_name": "ProgressStyleModel",
     "state": {
      "_model_module": "@jupyter-widgets/controls",
      "_model_module_version": "1.5.0",
      "_model_name": "ProgressStyleModel",
      "_view_count": null,
      "_view_module": "@jupyter-widgets/base",
      "_view_module_version": "1.2.0",
      "_view_name": "StyleView",
      "bar_color": null,
      "description_width": ""
     }
    },
    "9af5225cd79140e28f25719c8bdc53c5": {
     "model_module": "@jupyter-widgets/controls",
     "model_module_version": "1.5.0",
     "model_name": "DescriptionStyleModel",
     "state": {
      "_model_module": "@jupyter-widgets/controls",
      "_model_module_version": "1.5.0",
      "_model_name": "DescriptionStyleModel",
      "_view_count": null,
      "_view_module": "@jupyter-widgets/base",
      "_view_module_version": "1.2.0",
      "_view_name": "StyleView",
      "description_width": ""
     }
    },
    "9c758601e86a4a73ba09f09997320f44": {
     "model_module": "@jupyter-widgets/base",
     "model_module_version": "1.2.0",
     "model_name": "LayoutModel",
     "state": {
      "_model_module": "@jupyter-widgets/base",
      "_model_module_version": "1.2.0",
      "_model_name": "LayoutModel",
      "_view_count": null,
      "_view_module": "@jupyter-widgets/base",
      "_view_module_version": "1.2.0",
      "_view_name": "LayoutView",
      "align_content": null,
      "align_items": null,
      "align_self": null,
      "border": null,
      "bottom": null,
      "display": null,
      "flex": null,
      "flex_flow": null,
      "grid_area": null,
      "grid_auto_columns": null,
      "grid_auto_flow": null,
      "grid_auto_rows": null,
      "grid_column": null,
      "grid_gap": null,
      "grid_row": null,
      "grid_template_areas": null,
      "grid_template_columns": null,
      "grid_template_rows": null,
      "height": null,
      "justify_content": null,
      "justify_items": null,
      "left": null,
      "margin": null,
      "max_height": null,
      "max_width": null,
      "min_height": null,
      "min_width": null,
      "object_fit": null,
      "object_position": null,
      "order": null,
      "overflow": null,
      "overflow_x": null,
      "overflow_y": null,
      "padding": null,
      "right": null,
      "top": null,
      "visibility": null,
      "width": null
     }
    },
    "9d077863ae584addaeac3199a744ef80": {
     "model_module": "@jupyter-widgets/controls",
     "model_module_version": "1.5.0",
     "model_name": "FloatProgressModel",
     "state": {
      "_dom_classes": [],
      "_model_module": "@jupyter-widgets/controls",
      "_model_module_version": "1.5.0",
      "_model_name": "FloatProgressModel",
      "_view_count": null,
      "_view_module": "@jupyter-widgets/controls",
      "_view_module_version": "1.5.0",
      "_view_name": "ProgressView",
      "bar_style": "success",
      "description": "",
      "description_tooltip": null,
      "layout": "IPY_MODEL_581d9cb8ba674909959ee444f77b29f8",
      "max": 451716860,
      "min": 0,
      "orientation": "horizontal",
      "style": "IPY_MODEL_81eb8e6f92a345ef9293bf4da5a025a2",
      "value": 451716860
     }
    },
    "a294ba58362c4999b5fd47d4f63b8033": {
     "model_module": "@jupyter-widgets/base",
     "model_module_version": "1.2.0",
     "model_name": "LayoutModel",
     "state": {
      "_model_module": "@jupyter-widgets/base",
      "_model_module_version": "1.2.0",
      "_model_name": "LayoutModel",
      "_view_count": null,
      "_view_module": "@jupyter-widgets/base",
      "_view_module_version": "1.2.0",
      "_view_name": "LayoutView",
      "align_content": null,
      "align_items": null,
      "align_self": null,
      "border": null,
      "bottom": null,
      "display": null,
      "flex": null,
      "flex_flow": null,
      "grid_area": null,
      "grid_auto_columns": null,
      "grid_auto_flow": null,
      "grid_auto_rows": null,
      "grid_column": null,
      "grid_gap": null,
      "grid_row": null,
      "grid_template_areas": null,
      "grid_template_columns": null,
      "grid_template_rows": null,
      "height": null,
      "justify_content": null,
      "justify_items": null,
      "left": null,
      "margin": null,
      "max_height": null,
      "max_width": null,
      "min_height": null,
      "min_width": null,
      "object_fit": null,
      "object_position": null,
      "order": null,
      "overflow": null,
      "overflow_x": null,
      "overflow_y": null,
      "padding": null,
      "right": null,
      "top": null,
      "visibility": null,
      "width": null
     }
    },
    "a4a6ce05f2454b59bd6f2d306ec38d90": {
     "model_module": "@jupyter-widgets/controls",
     "model_module_version": "1.5.0",
     "model_name": "DescriptionStyleModel",
     "state": {
      "_model_module": "@jupyter-widgets/controls",
      "_model_module_version": "1.5.0",
      "_model_name": "DescriptionStyleModel",
      "_view_count": null,
      "_view_module": "@jupyter-widgets/base",
      "_view_module_version": "1.2.0",
      "_view_name": "StyleView",
      "description_width": ""
     }
    },
    "a5a76dd7d25a46c3bf22bdc8749b079e": {
     "model_module": "@jupyter-widgets/controls",
     "model_module_version": "1.5.0",
     "model_name": "FloatProgressModel",
     "state": {
      "_dom_classes": [],
      "_model_module": "@jupyter-widgets/controls",
      "_model_module_version": "1.5.0",
      "_model_name": "FloatProgressModel",
      "_view_count": null,
      "_view_module": "@jupyter-widgets/controls",
      "_view_module_version": "1.5.0",
      "_view_name": "ProgressView",
      "bar_style": "success",
      "description": "",
      "description_tooltip": null,
      "layout": "IPY_MODEL_2405a5cb670e4feab454815354ab369c",
      "max": 467,
      "min": 0,
      "orientation": "horizontal",
      "style": "IPY_MODEL_cce4ec65d08a4f989d6115bf1704d5a0",
      "value": 467
     }
    },
    "a5f19c93bf244a73be2f80f263ba2df8": {
     "model_module": "@jupyter-widgets/base",
     "model_module_version": "1.2.0",
     "model_name": "LayoutModel",
     "state": {
      "_model_module": "@jupyter-widgets/base",
      "_model_module_version": "1.2.0",
      "_model_name": "LayoutModel",
      "_view_count": null,
      "_view_module": "@jupyter-widgets/base",
      "_view_module_version": "1.2.0",
      "_view_name": "LayoutView",
      "align_content": null,
      "align_items": null,
      "align_self": null,
      "border": null,
      "bottom": null,
      "display": null,
      "flex": null,
      "flex_flow": null,
      "grid_area": null,
      "grid_auto_columns": null,
      "grid_auto_flow": null,
      "grid_auto_rows": null,
      "grid_column": null,
      "grid_gap": null,
      "grid_row": null,
      "grid_template_areas": null,
      "grid_template_columns": null,
      "grid_template_rows": null,
      "height": null,
      "justify_content": null,
      "justify_items": null,
      "left": null,
      "margin": null,
      "max_height": null,
      "max_width": null,
      "min_height": null,
      "min_width": null,
      "object_fit": null,
      "object_position": null,
      "order": null,
      "overflow": null,
      "overflow_x": null,
      "overflow_y": null,
      "padding": null,
      "right": null,
      "top": null,
      "visibility": null,
      "width": null
     }
    },
    "a63ead7ebc234829b59dd3eb29f753ba": {
     "model_module": "@jupyter-widgets/base",
     "model_module_version": "1.2.0",
     "model_name": "LayoutModel",
     "state": {
      "_model_module": "@jupyter-widgets/base",
      "_model_module_version": "1.2.0",
      "_model_name": "LayoutModel",
      "_view_count": null,
      "_view_module": "@jupyter-widgets/base",
      "_view_module_version": "1.2.0",
      "_view_name": "LayoutView",
      "align_content": null,
      "align_items": null,
      "align_self": null,
      "border": null,
      "bottom": null,
      "display": null,
      "flex": null,
      "flex_flow": null,
      "grid_area": null,
      "grid_auto_columns": null,
      "grid_auto_flow": null,
      "grid_auto_rows": null,
      "grid_column": null,
      "grid_gap": null,
      "grid_row": null,
      "grid_template_areas": null,
      "grid_template_columns": null,
      "grid_template_rows": null,
      "height": null,
      "justify_content": null,
      "justify_items": null,
      "left": null,
      "margin": null,
      "max_height": null,
      "max_width": null,
      "min_height": null,
      "min_width": null,
      "object_fit": null,
      "object_position": null,
      "order": null,
      "overflow": null,
      "overflow_x": null,
      "overflow_y": null,
      "padding": null,
      "right": null,
      "top": null,
      "visibility": null,
      "width": null
     }
    },
    "a6eaad568b4d42ea85c42ebc3dff8332": {
     "model_module": "@jupyter-widgets/base",
     "model_module_version": "1.2.0",
     "model_name": "LayoutModel",
     "state": {
      "_model_module": "@jupyter-widgets/base",
      "_model_module_version": "1.2.0",
      "_model_name": "LayoutModel",
      "_view_count": null,
      "_view_module": "@jupyter-widgets/base",
      "_view_module_version": "1.2.0",
      "_view_name": "LayoutView",
      "align_content": null,
      "align_items": null,
      "align_self": null,
      "border": null,
      "bottom": null,
      "display": null,
      "flex": null,
      "flex_flow": null,
      "grid_area": null,
      "grid_auto_columns": null,
      "grid_auto_flow": null,
      "grid_auto_rows": null,
      "grid_column": null,
      "grid_gap": null,
      "grid_row": null,
      "grid_template_areas": null,
      "grid_template_columns": null,
      "grid_template_rows": null,
      "height": null,
      "justify_content": null,
      "justify_items": null,
      "left": null,
      "margin": null,
      "max_height": null,
      "max_width": null,
      "min_height": null,
      "min_width": null,
      "object_fit": null,
      "object_position": null,
      "order": null,
      "overflow": null,
      "overflow_x": null,
      "overflow_y": null,
      "padding": null,
      "right": null,
      "top": null,
      "visibility": null,
      "width": null
     }
    },
    "a7e1fd1fd39340f2a78288170a9655e4": {
     "model_module": "@jupyter-widgets/base",
     "model_module_version": "1.2.0",
     "model_name": "LayoutModel",
     "state": {
      "_model_module": "@jupyter-widgets/base",
      "_model_module_version": "1.2.0",
      "_model_name": "LayoutModel",
      "_view_count": null,
      "_view_module": "@jupyter-widgets/base",
      "_view_module_version": "1.2.0",
      "_view_name": "LayoutView",
      "align_content": null,
      "align_items": null,
      "align_self": null,
      "border": null,
      "bottom": null,
      "display": null,
      "flex": null,
      "flex_flow": null,
      "grid_area": null,
      "grid_auto_columns": null,
      "grid_auto_flow": null,
      "grid_auto_rows": null,
      "grid_column": null,
      "grid_gap": null,
      "grid_row": null,
      "grid_template_areas": null,
      "grid_template_columns": null,
      "grid_template_rows": null,
      "height": null,
      "justify_content": null,
      "justify_items": null,
      "left": null,
      "margin": null,
      "max_height": null,
      "max_width": null,
      "min_height": null,
      "min_width": null,
      "object_fit": null,
      "object_position": null,
      "order": null,
      "overflow": null,
      "overflow_x": null,
      "overflow_y": null,
      "padding": null,
      "right": null,
      "top": null,
      "visibility": null,
      "width": null
     }
    },
    "a97e525469b2470b85609436e9948c19": {
     "model_module": "@jupyter-widgets/controls",
     "model_module_version": "1.5.0",
     "model_name": "HTMLModel",
     "state": {
      "_dom_classes": [],
      "_model_module": "@jupyter-widgets/controls",
      "_model_module_version": "1.5.0",
      "_model_name": "HTMLModel",
      "_view_count": null,
      "_view_module": "@jupyter-widgets/controls",
      "_view_module_version": "1.5.0",
      "_view_name": "HTMLView",
      "description": "",
      "description_tooltip": null,
      "layout": "IPY_MODEL_ad939abd6ca14fa7971d09a44a3da0c4",
      "placeholder": "​",
      "style": "IPY_MODEL_272eb419d32449a4822d3898e62813c1",
      "value": " 248k/248k [00:00&lt;00:00, 5.38MB/s]"
     }
    },
    "ad59717830d94ae0bb69659cefd69482": {
     "model_module": "@jupyter-widgets/base",
     "model_module_version": "1.2.0",
     "model_name": "LayoutModel",
     "state": {
      "_model_module": "@jupyter-widgets/base",
      "_model_module_version": "1.2.0",
      "_model_name": "LayoutModel",
      "_view_count": null,
      "_view_module": "@jupyter-widgets/base",
      "_view_module_version": "1.2.0",
      "_view_name": "LayoutView",
      "align_content": null,
      "align_items": null,
      "align_self": null,
      "border": null,
      "bottom": null,
      "display": null,
      "flex": null,
      "flex_flow": null,
      "grid_area": null,
      "grid_auto_columns": null,
      "grid_auto_flow": null,
      "grid_auto_rows": null,
      "grid_column": null,
      "grid_gap": null,
      "grid_row": null,
      "grid_template_areas": null,
      "grid_template_columns": null,
      "grid_template_rows": null,
      "height": null,
      "justify_content": null,
      "justify_items": null,
      "left": null,
      "margin": null,
      "max_height": null,
      "max_width": null,
      "min_height": null,
      "min_width": null,
      "object_fit": null,
      "object_position": null,
      "order": null,
      "overflow": null,
      "overflow_x": null,
      "overflow_y": null,
      "padding": null,
      "right": null,
      "top": null,
      "visibility": null,
      "width": null
     }
    },
    "ad939abd6ca14fa7971d09a44a3da0c4": {
     "model_module": "@jupyter-widgets/base",
     "model_module_version": "1.2.0",
     "model_name": "LayoutModel",
     "state": {
      "_model_module": "@jupyter-widgets/base",
      "_model_module_version": "1.2.0",
      "_model_name": "LayoutModel",
      "_view_count": null,
      "_view_module": "@jupyter-widgets/base",
      "_view_module_version": "1.2.0",
      "_view_name": "LayoutView",
      "align_content": null,
      "align_items": null,
      "align_self": null,
      "border": null,
      "bottom": null,
      "display": null,
      "flex": null,
      "flex_flow": null,
      "grid_area": null,
      "grid_auto_columns": null,
      "grid_auto_flow": null,
      "grid_auto_rows": null,
      "grid_column": null,
      "grid_gap": null,
      "grid_row": null,
      "grid_template_areas": null,
      "grid_template_columns": null,
      "grid_template_rows": null,
      "height": null,
      "justify_content": null,
      "justify_items": null,
      "left": null,
      "margin": null,
      "max_height": null,
      "max_width": null,
      "min_height": null,
      "min_width": null,
      "object_fit": null,
      "object_position": null,
      "order": null,
      "overflow": null,
      "overflow_x": null,
      "overflow_y": null,
      "padding": null,
      "right": null,
      "top": null,
      "visibility": null,
      "width": null
     }
    },
    "aecc4d392f7e4aa4b78a6db468fcb3c2": {
     "model_module": "@jupyter-widgets/base",
     "model_module_version": "1.2.0",
     "model_name": "LayoutModel",
     "state": {
      "_model_module": "@jupyter-widgets/base",
      "_model_module_version": "1.2.0",
      "_model_name": "LayoutModel",
      "_view_count": null,
      "_view_module": "@jupyter-widgets/base",
      "_view_module_version": "1.2.0",
      "_view_name": "LayoutView",
      "align_content": null,
      "align_items": null,
      "align_self": null,
      "border": null,
      "bottom": null,
      "display": null,
      "flex": null,
      "flex_flow": null,
      "grid_area": null,
      "grid_auto_columns": null,
      "grid_auto_flow": null,
      "grid_auto_rows": null,
      "grid_column": null,
      "grid_gap": null,
      "grid_row": null,
      "grid_template_areas": null,
      "grid_template_columns": null,
      "grid_template_rows": null,
      "height": null,
      "justify_content": null,
      "justify_items": null,
      "left": null,
      "margin": null,
      "max_height": null,
      "max_width": null,
      "min_height": null,
      "min_width": null,
      "object_fit": null,
      "object_position": null,
      "order": null,
      "overflow": null,
      "overflow_x": null,
      "overflow_y": null,
      "padding": null,
      "right": null,
      "top": null,
      "visibility": null,
      "width": null
     }
    },
    "af1e4b6bf6334a5c98655ff48862991a": {
     "model_module": "@jupyter-widgets/controls",
     "model_module_version": "1.5.0",
     "model_name": "DescriptionStyleModel",
     "state": {
      "_model_module": "@jupyter-widgets/controls",
      "_model_module_version": "1.5.0",
      "_model_name": "DescriptionStyleModel",
      "_view_count": null,
      "_view_module": "@jupyter-widgets/base",
      "_view_module_version": "1.2.0",
      "_view_name": "StyleView",
      "description_width": ""
     }
    },
    "b07670e90675477d9f521474e38b4a89": {
     "model_module": "@jupyter-widgets/controls",
     "model_module_version": "1.5.0",
     "model_name": "ProgressStyleModel",
     "state": {
      "_model_module": "@jupyter-widgets/controls",
      "_model_module_version": "1.5.0",
      "_model_name": "ProgressStyleModel",
      "_view_count": null,
      "_view_module": "@jupyter-widgets/base",
      "_view_module_version": "1.2.0",
      "_view_name": "StyleView",
      "bar_color": null,
      "description_width": ""
     }
    },
    "b1abcccf93a04979870eae3638088b36": {
     "model_module": "@jupyter-widgets/controls",
     "model_module_version": "1.5.0",
     "model_name": "DescriptionStyleModel",
     "state": {
      "_model_module": "@jupyter-widgets/controls",
      "_model_module_version": "1.5.0",
      "_model_name": "DescriptionStyleModel",
      "_view_count": null,
      "_view_module": "@jupyter-widgets/base",
      "_view_module_version": "1.2.0",
      "_view_name": "StyleView",
      "description_width": ""
     }
    },
    "b3edbbfa4f4445b3b62c30f8c37fa39b": {
     "model_module": "@jupyter-widgets/controls",
     "model_module_version": "1.5.0",
     "model_name": "HBoxModel",
     "state": {
      "_dom_classes": [],
      "_model_module": "@jupyter-widgets/controls",
      "_model_module_version": "1.5.0",
      "_model_name": "HBoxModel",
      "_view_count": null,
      "_view_module": "@jupyter-widgets/controls",
      "_view_module_version": "1.5.0",
      "_view_name": "HBoxView",
      "box_style": "",
      "children": [
       "IPY_MODEL_3875e77d00d64f80aba5b3174cb7cf2b",
       "IPY_MODEL_e7e30b44c79c42bfa0c2744119a34ac5",
       "IPY_MODEL_8907adc22d374a5db064c1d58c4f0809"
      ],
      "layout": "IPY_MODEL_1eaeb6c10ea54bc98903e6bfe4587c0b"
     }
    },
    "b6b2ebe837b04a259d51e61ee621e888": {
     "model_module": "@jupyter-widgets/controls",
     "model_module_version": "1.5.0",
     "model_name": "FloatProgressModel",
     "state": {
      "_dom_classes": [],
      "_model_module": "@jupyter-widgets/controls",
      "_model_module_version": "1.5.0",
      "_model_name": "FloatProgressModel",
      "_view_count": null,
      "_view_module": "@jupyter-widgets/controls",
      "_view_module_version": "1.5.0",
      "_view_name": "ProgressView",
      "bar_style": "success",
      "description": "",
      "description_tooltip": null,
      "layout": "IPY_MODEL_80b97cca885e41938c02088f4d0f4191",
      "max": 451741507,
      "min": 0,
      "orientation": "horizontal",
      "style": "IPY_MODEL_b07670e90675477d9f521474e38b4a89",
      "value": 451741507
     }
    },
    "b71454466e9e48e7858ce0ffbffd1c6e": {
     "model_module": "@jupyter-widgets/controls",
     "model_module_version": "1.5.0",
     "model_name": "DescriptionStyleModel",
     "state": {
      "_model_module": "@jupyter-widgets/controls",
      "_model_module_version": "1.5.0",
      "_model_name": "DescriptionStyleModel",
      "_view_count": null,
      "_view_module": "@jupyter-widgets/base",
      "_view_module_version": "1.2.0",
      "_view_name": "StyleView",
      "description_width": ""
     }
    },
    "b876c83395f6408792a1bf8b1da04a12": {
     "model_module": "@jupyter-widgets/controls",
     "model_module_version": "1.5.0",
     "model_name": "HTMLModel",
     "state": {
      "_dom_classes": [],
      "_model_module": "@jupyter-widgets/controls",
      "_model_module_version": "1.5.0",
      "_model_name": "HTMLModel",
      "_view_count": null,
      "_view_module": "@jupyter-widgets/controls",
      "_view_module_version": "1.5.0",
      "_view_name": "HTMLView",
      "description": "",
      "description_tooltip": null,
      "layout": "IPY_MODEL_30b5fe751ea5441384ebbb7678affd51",
      "placeholder": "​",
      "style": "IPY_MODEL_a4a6ce05f2454b59bd6f2d306ec38d90",
      "value": "pytorch_model.bin: 100%"
     }
    },
    "b8dcc43fc0b34c5c831c13b8e43d5818": {
     "model_module": "@jupyter-widgets/base",
     "model_module_version": "1.2.0",
     "model_name": "LayoutModel",
     "state": {
      "_model_module": "@jupyter-widgets/base",
      "_model_module_version": "1.2.0",
      "_model_name": "LayoutModel",
      "_view_count": null,
      "_view_module": "@jupyter-widgets/base",
      "_view_module_version": "1.2.0",
      "_view_name": "LayoutView",
      "align_content": null,
      "align_items": null,
      "align_self": null,
      "border": null,
      "bottom": null,
      "display": null,
      "flex": null,
      "flex_flow": null,
      "grid_area": null,
      "grid_auto_columns": null,
      "grid_auto_flow": null,
      "grid_auto_rows": null,
      "grid_column": null,
      "grid_gap": null,
      "grid_row": null,
      "grid_template_areas": null,
      "grid_template_columns": null,
      "grid_template_rows": null,
      "height": null,
      "justify_content": null,
      "justify_items": null,
      "left": null,
      "margin": null,
      "max_height": null,
      "max_width": null,
      "min_height": null,
      "min_width": null,
      "object_fit": null,
      "object_position": null,
      "order": null,
      "overflow": null,
      "overflow_x": null,
      "overflow_y": null,
      "padding": null,
      "right": null,
      "top": null,
      "visibility": null,
      "width": null
     }
    },
    "b91cab37b1124e8592f8fcd7cf0443ae": {
     "model_module": "@jupyter-widgets/base",
     "model_module_version": "1.2.0",
     "model_name": "LayoutModel",
     "state": {
      "_model_module": "@jupyter-widgets/base",
      "_model_module_version": "1.2.0",
      "_model_name": "LayoutModel",
      "_view_count": null,
      "_view_module": "@jupyter-widgets/base",
      "_view_module_version": "1.2.0",
      "_view_name": "LayoutView",
      "align_content": null,
      "align_items": null,
      "align_self": null,
      "border": null,
      "bottom": null,
      "display": null,
      "flex": null,
      "flex_flow": null,
      "grid_area": null,
      "grid_auto_columns": null,
      "grid_auto_flow": null,
      "grid_auto_rows": null,
      "grid_column": null,
      "grid_gap": null,
      "grid_row": null,
      "grid_template_areas": null,
      "grid_template_columns": null,
      "grid_template_rows": null,
      "height": null,
      "justify_content": null,
      "justify_items": null,
      "left": null,
      "margin": null,
      "max_height": null,
      "max_width": null,
      "min_height": null,
      "min_width": null,
      "object_fit": null,
      "object_position": null,
      "order": null,
      "overflow": null,
      "overflow_x": null,
      "overflow_y": null,
      "padding": null,
      "right": null,
      "top": null,
      "visibility": null,
      "width": null
     }
    },
    "c0b06c5f0150442f937c9dffebe35029": {
     "model_module": "@jupyter-widgets/controls",
     "model_module_version": "1.5.0",
     "model_name": "DescriptionStyleModel",
     "state": {
      "_model_module": "@jupyter-widgets/controls",
      "_model_module_version": "1.5.0",
      "_model_name": "DescriptionStyleModel",
      "_view_count": null,
      "_view_module": "@jupyter-widgets/base",
      "_view_module_version": "1.2.0",
      "_view_name": "StyleView",
      "description_width": ""
     }
    },
    "c1ce4f8e2f7140c28ad9484c82657717": {
     "model_module": "@jupyter-widgets/controls",
     "model_module_version": "1.5.0",
     "model_name": "FloatProgressModel",
     "state": {
      "_dom_classes": [],
      "_model_module": "@jupyter-widgets/controls",
      "_model_module_version": "1.5.0",
      "_model_name": "FloatProgressModel",
      "_view_count": null,
      "_view_module": "@jupyter-widgets/controls",
      "_view_module_version": "1.5.0",
      "_view_name": "ProgressView",
      "bar_style": "success",
      "description": "",
      "description_tooltip": null,
      "layout": "IPY_MODEL_7f339d93753c4380b1c3de3678d4a6c0",
      "max": 248477,
      "min": 0,
      "orientation": "horizontal",
      "style": "IPY_MODEL_9aaf9ac28c904635899e61b09c1e03c8",
      "value": 248477
     }
    },
    "c46d0823f55747489c62671e46c38ec0": {
     "model_module": "@jupyter-widgets/base",
     "model_module_version": "1.2.0",
     "model_name": "LayoutModel",
     "state": {
      "_model_module": "@jupyter-widgets/base",
      "_model_module_version": "1.2.0",
      "_model_name": "LayoutModel",
      "_view_count": null,
      "_view_module": "@jupyter-widgets/base",
      "_view_module_version": "1.2.0",
      "_view_name": "LayoutView",
      "align_content": null,
      "align_items": null,
      "align_self": null,
      "border": null,
      "bottom": null,
      "display": null,
      "flex": null,
      "flex_flow": null,
      "grid_area": null,
      "grid_auto_columns": null,
      "grid_auto_flow": null,
      "grid_auto_rows": null,
      "grid_column": null,
      "grid_gap": null,
      "grid_row": null,
      "grid_template_areas": null,
      "grid_template_columns": null,
      "grid_template_rows": null,
      "height": null,
      "justify_content": null,
      "justify_items": null,
      "left": null,
      "margin": null,
      "max_height": null,
      "max_width": null,
      "min_height": null,
      "min_width": null,
      "object_fit": null,
      "object_position": null,
      "order": null,
      "overflow": null,
      "overflow_x": null,
      "overflow_y": null,
      "padding": null,
      "right": null,
      "top": null,
      "visibility": null,
      "width": null
     }
    },
    "c4d535bfa1c34741ac0e71fd47c2ecba": {
     "model_module": "@jupyter-widgets/controls",
     "model_module_version": "1.5.0",
     "model_name": "HTMLModel",
     "state": {
      "_dom_classes": [],
      "_model_module": "@jupyter-widgets/controls",
      "_model_module_version": "1.5.0",
      "_model_name": "HTMLModel",
      "_view_count": null,
      "_view_module": "@jupyter-widgets/controls",
      "_view_module_version": "1.5.0",
      "_view_name": "HTMLView",
      "description": "",
      "description_tooltip": null,
      "layout": "IPY_MODEL_95c76b2083e14497857a66e80aa89273",
      "placeholder": "​",
      "style": "IPY_MODEL_d466cddaa9f34d938708cd8bbcc345fd",
      "value": " 61.0/61.0 [00:00&lt;00:00, 6.61kB/s]"
     }
    },
    "c54e7a7856a4471994f208d8b220e9e0": {
     "model_module": "@jupyter-widgets/controls",
     "model_module_version": "1.5.0",
     "model_name": "FloatProgressModel",
     "state": {
      "_dom_classes": [],
      "_model_module": "@jupyter-widgets/controls",
      "_model_module_version": "1.5.0",
      "_model_name": "FloatProgressModel",
      "_view_count": null,
      "_view_module": "@jupyter-widgets/controls",
      "_view_module_version": "1.5.0",
      "_view_name": "ProgressView",
      "bar_style": "success",
      "description": "",
      "description_tooltip": null,
      "layout": "IPY_MODEL_772b5ea3c3e1440db02411fc8135258a",
      "max": 451741507,
      "min": 0,
      "orientation": "horizontal",
      "style": "IPY_MODEL_5cb640e1ae234112990b396d9af7c60d",
      "value": 451741507
     }
    },
    "c5a21207523a40d88254629ff4480231": {
     "model_module": "@jupyter-widgets/controls",
     "model_module_version": "1.5.0",
     "model_name": "HTMLModel",
     "state": {
      "_dom_classes": [],
      "_model_module": "@jupyter-widgets/controls",
      "_model_module_version": "1.5.0",
      "_model_name": "HTMLModel",
      "_view_count": null,
      "_view_module": "@jupyter-widgets/controls",
      "_view_module_version": "1.5.0",
      "_view_name": "HTMLView",
      "description": "",
      "description_tooltip": null,
      "layout": "IPY_MODEL_e15323949f8747128938f30c0eeb7020",
      "placeholder": "​",
      "style": "IPY_MODEL_af1e4b6bf6334a5c98655ff48862991a",
      "value": " 452M/452M [00:01&lt;00:00, 493MB/s]"
     }
    },
    "c753790719c34432bcefc3a08cfe088a": {
     "model_module": "@jupyter-widgets/controls",
     "model_module_version": "1.5.0",
     "model_name": "DescriptionStyleModel",
     "state": {
      "_model_module": "@jupyter-widgets/controls",
      "_model_module_version": "1.5.0",
      "_model_name": "DescriptionStyleModel",
      "_view_count": null,
      "_view_module": "@jupyter-widgets/base",
      "_view_module_version": "1.2.0",
      "_view_name": "StyleView",
      "description_width": ""
     }
    },
    "c823c0850ce449059ff61a418e8b33c7": {
     "model_module": "@jupyter-widgets/controls",
     "model_module_version": "1.5.0",
     "model_name": "HBoxModel",
     "state": {
      "_dom_classes": [],
      "_model_module": "@jupyter-widgets/controls",
      "_model_module_version": "1.5.0",
      "_model_name": "HBoxModel",
      "_view_count": null,
      "_view_module": "@jupyter-widgets/controls",
      "_view_module_version": "1.5.0",
      "_view_name": "HBoxView",
      "box_style": "",
      "children": [
       "IPY_MODEL_b876c83395f6408792a1bf8b1da04a12",
       "IPY_MODEL_c54e7a7856a4471994f208d8b220e9e0",
       "IPY_MODEL_c5a21207523a40d88254629ff4480231"
      ],
      "layout": "IPY_MODEL_ce161e1e296c489e8cce931588755212"
     }
    },
    "cbb2a6c6f1b24da79fe4edc620525f4e": {
     "model_module": "@jupyter-widgets/controls",
     "model_module_version": "1.5.0",
     "model_name": "HTMLModel",
     "state": {
      "_dom_classes": [],
      "_model_module": "@jupyter-widgets/controls",
      "_model_module_version": "1.5.0",
      "_model_name": "HTMLModel",
      "_view_count": null,
      "_view_module": "@jupyter-widgets/controls",
      "_view_module_version": "1.5.0",
      "_view_name": "HTMLView",
      "description": "",
      "description_tooltip": null,
      "layout": "IPY_MODEL_fdffedfb52b947c8b3a27491505f2698",
      "placeholder": "​",
      "style": "IPY_MODEL_859b580d06fd4295ab12898bea0a8a05",
      "value": "tokenizer_config.json: 100%"
     }
    },
    "cbbc9fd9bcee46638a4260a5a0b7982f": {
     "model_module": "@jupyter-widgets/controls",
     "model_module_version": "1.5.0",
     "model_name": "DescriptionStyleModel",
     "state": {
      "_model_module": "@jupyter-widgets/controls",
      "_model_module_version": "1.5.0",
      "_model_name": "DescriptionStyleModel",
      "_view_count": null,
      "_view_module": "@jupyter-widgets/base",
      "_view_module_version": "1.2.0",
      "_view_name": "StyleView",
      "description_width": ""
     }
    },
    "ccd03b479a01481bb4e169596711e2c8": {
     "model_module": "@jupyter-widgets/base",
     "model_module_version": "1.2.0",
     "model_name": "LayoutModel",
     "state": {
      "_model_module": "@jupyter-widgets/base",
      "_model_module_version": "1.2.0",
      "_model_name": "LayoutModel",
      "_view_count": null,
      "_view_module": "@jupyter-widgets/base",
      "_view_module_version": "1.2.0",
      "_view_name": "LayoutView",
      "align_content": null,
      "align_items": null,
      "align_self": null,
      "border": null,
      "bottom": null,
      "display": null,
      "flex": null,
      "flex_flow": null,
      "grid_area": null,
      "grid_auto_columns": null,
      "grid_auto_flow": null,
      "grid_auto_rows": null,
      "grid_column": null,
      "grid_gap": null,
      "grid_row": null,
      "grid_template_areas": null,
      "grid_template_columns": null,
      "grid_template_rows": null,
      "height": null,
      "justify_content": null,
      "justify_items": null,
      "left": null,
      "margin": null,
      "max_height": null,
      "max_width": null,
      "min_height": null,
      "min_width": null,
      "object_fit": null,
      "object_position": null,
      "order": null,
      "overflow": null,
      "overflow_x": null,
      "overflow_y": null,
      "padding": null,
      "right": null,
      "top": null,
      "visibility": null,
      "width": null
     }
    },
    "cce4ec65d08a4f989d6115bf1704d5a0": {
     "model_module": "@jupyter-widgets/controls",
     "model_module_version": "1.5.0",
     "model_name": "ProgressStyleModel",
     "state": {
      "_model_module": "@jupyter-widgets/controls",
      "_model_module_version": "1.5.0",
      "_model_name": "ProgressStyleModel",
      "_view_count": null,
      "_view_module": "@jupyter-widgets/base",
      "_view_module_version": "1.2.0",
      "_view_name": "StyleView",
      "bar_color": null,
      "description_width": ""
     }
    },
    "ce161e1e296c489e8cce931588755212": {
     "model_module": "@jupyter-widgets/base",
     "model_module_version": "1.2.0",
     "model_name": "LayoutModel",
     "state": {
      "_model_module": "@jupyter-widgets/base",
      "_model_module_version": "1.2.0",
      "_model_name": "LayoutModel",
      "_view_count": null,
      "_view_module": "@jupyter-widgets/base",
      "_view_module_version": "1.2.0",
      "_view_name": "LayoutView",
      "align_content": null,
      "align_items": null,
      "align_self": null,
      "border": null,
      "bottom": null,
      "display": null,
      "flex": null,
      "flex_flow": null,
      "grid_area": null,
      "grid_auto_columns": null,
      "grid_auto_flow": null,
      "grid_auto_rows": null,
      "grid_column": null,
      "grid_gap": null,
      "grid_row": null,
      "grid_template_areas": null,
      "grid_template_columns": null,
      "grid_template_rows": null,
      "height": null,
      "justify_content": null,
      "justify_items": null,
      "left": null,
      "margin": null,
      "max_height": null,
      "max_width": null,
      "min_height": null,
      "min_width": null,
      "object_fit": null,
      "object_position": null,
      "order": null,
      "overflow": null,
      "overflow_x": null,
      "overflow_y": null,
      "padding": null,
      "right": null,
      "top": null,
      "visibility": null,
      "width": null
     }
    },
    "d104a09aa2b54f7ba5396cc4eaae554c": {
     "model_module": "@jupyter-widgets/base",
     "model_module_version": "1.2.0",
     "model_name": "LayoutModel",
     "state": {
      "_model_module": "@jupyter-widgets/base",
      "_model_module_version": "1.2.0",
      "_model_name": "LayoutModel",
      "_view_count": null,
      "_view_module": "@jupyter-widgets/base",
      "_view_module_version": "1.2.0",
      "_view_name": "LayoutView",
      "align_content": null,
      "align_items": null,
      "align_self": null,
      "border": null,
      "bottom": null,
      "display": null,
      "flex": null,
      "flex_flow": null,
      "grid_area": null,
      "grid_auto_columns": null,
      "grid_auto_flow": null,
      "grid_auto_rows": null,
      "grid_column": null,
      "grid_gap": null,
      "grid_row": null,
      "grid_template_areas": null,
      "grid_template_columns": null,
      "grid_template_rows": null,
      "height": null,
      "justify_content": null,
      "justify_items": null,
      "left": null,
      "margin": null,
      "max_height": null,
      "max_width": null,
      "min_height": null,
      "min_width": null,
      "object_fit": null,
      "object_position": null,
      "order": null,
      "overflow": null,
      "overflow_x": null,
      "overflow_y": null,
      "padding": null,
      "right": null,
      "top": null,
      "visibility": null,
      "width": null
     }
    },
    "d466cddaa9f34d938708cd8bbcc345fd": {
     "model_module": "@jupyter-widgets/controls",
     "model_module_version": "1.5.0",
     "model_name": "DescriptionStyleModel",
     "state": {
      "_model_module": "@jupyter-widgets/controls",
      "_model_module_version": "1.5.0",
      "_model_name": "DescriptionStyleModel",
      "_view_count": null,
      "_view_module": "@jupyter-widgets/base",
      "_view_module_version": "1.2.0",
      "_view_name": "StyleView",
      "description_width": ""
     }
    },
    "d52c8a310b224c1d866f4e4301c55370": {
     "model_module": "@jupyter-widgets/controls",
     "model_module_version": "1.5.0",
     "model_name": "DescriptionStyleModel",
     "state": {
      "_model_module": "@jupyter-widgets/controls",
      "_model_module_version": "1.5.0",
      "_model_name": "DescriptionStyleModel",
      "_view_count": null,
      "_view_module": "@jupyter-widgets/base",
      "_view_module_version": "1.2.0",
      "_view_name": "StyleView",
      "description_width": ""
     }
    },
    "d6969e52b69043da90946e632cc42269": {
     "model_module": "@jupyter-widgets/base",
     "model_module_version": "1.2.0",
     "model_name": "LayoutModel",
     "state": {
      "_model_module": "@jupyter-widgets/base",
      "_model_module_version": "1.2.0",
      "_model_name": "LayoutModel",
      "_view_count": null,
      "_view_module": "@jupyter-widgets/base",
      "_view_module_version": "1.2.0",
      "_view_name": "LayoutView",
      "align_content": null,
      "align_items": null,
      "align_self": null,
      "border": null,
      "bottom": null,
      "display": null,
      "flex": null,
      "flex_flow": null,
      "grid_area": null,
      "grid_auto_columns": null,
      "grid_auto_flow": null,
      "grid_auto_rows": null,
      "grid_column": null,
      "grid_gap": null,
      "grid_row": null,
      "grid_template_areas": null,
      "grid_template_columns": null,
      "grid_template_rows": null,
      "height": null,
      "justify_content": null,
      "justify_items": null,
      "left": null,
      "margin": null,
      "max_height": null,
      "max_width": null,
      "min_height": null,
      "min_width": null,
      "object_fit": null,
      "object_position": null,
      "order": null,
      "overflow": null,
      "overflow_x": null,
      "overflow_y": null,
      "padding": null,
      "right": null,
      "top": null,
      "visibility": null,
      "width": null
     }
    },
    "d7214bc4658342519cc862e5c2d46f68": {
     "model_module": "@jupyter-widgets/controls",
     "model_module_version": "1.5.0",
     "model_name": "HTMLModel",
     "state": {
      "_dom_classes": [],
      "_model_module": "@jupyter-widgets/controls",
      "_model_module_version": "1.5.0",
      "_model_name": "HTMLModel",
      "_view_count": null,
      "_view_module": "@jupyter-widgets/controls",
      "_view_module_version": "1.5.0",
      "_view_name": "HTMLView",
      "description": "",
      "description_tooltip": null,
      "layout": "IPY_MODEL_942d72a5bdb547be949d23318a0b9082",
      "placeholder": "​",
      "style": "IPY_MODEL_b71454466e9e48e7858ce0ffbffd1c6e",
      "value": "pytorch_model.bin: 100%"
     }
    },
    "d7694c66ce4e4b168aaf379ee273520d": {
     "model_module": "@jupyter-widgets/controls",
     "model_module_version": "1.5.0",
     "model_name": "HTMLModel",
     "state": {
      "_dom_classes": [],
      "_model_module": "@jupyter-widgets/controls",
      "_model_module_version": "1.5.0",
      "_model_name": "HTMLModel",
      "_view_count": null,
      "_view_module": "@jupyter-widgets/controls",
      "_view_module_version": "1.5.0",
      "_view_name": "HTMLView",
      "description": "",
      "description_tooltip": null,
      "layout": "IPY_MODEL_93e7b91170e2437d96268996dcc3ca3f",
      "placeholder": "​",
      "style": "IPY_MODEL_d52c8a310b224c1d866f4e4301c55370",
      "value": "config.json: 100%"
     }
    },
    "da57079b6e7d4b3a86091058831fa56b": {
     "model_module": "@jupyter-widgets/controls",
     "model_module_version": "1.5.0",
     "model_name": "HTMLModel",
     "state": {
      "_dom_classes": [],
      "_model_module": "@jupyter-widgets/controls",
      "_model_module_version": "1.5.0",
      "_model_name": "HTMLModel",
      "_view_count": null,
      "_view_module": "@jupyter-widgets/controls",
      "_view_module_version": "1.5.0",
      "_view_name": "HTMLView",
      "description": "",
      "description_tooltip": null,
      "layout": "IPY_MODEL_a5f19c93bf244a73be2f80f263ba2df8",
      "placeholder": "​",
      "style": "IPY_MODEL_b1abcccf93a04979870eae3638088b36",
      "value": "vocab.txt: 100%"
     }
    },
    "e15323949f8747128938f30c0eeb7020": {
     "model_module": "@jupyter-widgets/base",
     "model_module_version": "1.2.0",
     "model_name": "LayoutModel",
     "state": {
      "_model_module": "@jupyter-widgets/base",
      "_model_module_version": "1.2.0",
      "_model_name": "LayoutModel",
      "_view_count": null,
      "_view_module": "@jupyter-widgets/base",
      "_view_module_version": "1.2.0",
      "_view_name": "LayoutView",
      "align_content": null,
      "align_items": null,
      "align_self": null,
      "border": null,
      "bottom": null,
      "display": null,
      "flex": null,
      "flex_flow": null,
      "grid_area": null,
      "grid_auto_columns": null,
      "grid_auto_flow": null,
      "grid_auto_rows": null,
      "grid_column": null,
      "grid_gap": null,
      "grid_row": null,
      "grid_template_areas": null,
      "grid_template_columns": null,
      "grid_template_rows": null,
      "height": null,
      "justify_content": null,
      "justify_items": null,
      "left": null,
      "margin": null,
      "max_height": null,
      "max_width": null,
      "min_height": null,
      "min_width": null,
      "object_fit": null,
      "object_position": null,
      "order": null,
      "overflow": null,
      "overflow_x": null,
      "overflow_y": null,
      "padding": null,
      "right": null,
      "top": null,
      "visibility": null,
      "width": null
     }
    },
    "e2ea6295ede1409298b120f9291f684f": {
     "model_module": "@jupyter-widgets/controls",
     "model_module_version": "1.5.0",
     "model_name": "ProgressStyleModel",
     "state": {
      "_model_module": "@jupyter-widgets/controls",
      "_model_module_version": "1.5.0",
      "_model_name": "ProgressStyleModel",
      "_view_count": null,
      "_view_module": "@jupyter-widgets/base",
      "_view_module_version": "1.2.0",
      "_view_name": "StyleView",
      "bar_color": null,
      "description_width": ""
     }
    },
    "e3212bcb5d2049ffa8a7208f88139bf5": {
     "model_module": "@jupyter-widgets/controls",
     "model_module_version": "1.5.0",
     "model_name": "DescriptionStyleModel",
     "state": {
      "_model_module": "@jupyter-widgets/controls",
      "_model_module_version": "1.5.0",
      "_model_name": "DescriptionStyleModel",
      "_view_count": null,
      "_view_module": "@jupyter-widgets/base",
      "_view_module_version": "1.2.0",
      "_view_name": "StyleView",
      "description_width": ""
     }
    },
    "e6cb833c8f1543caad7659debdecc65d": {
     "model_module": "@jupyter-widgets/controls",
     "model_module_version": "1.5.0",
     "model_name": "FloatProgressModel",
     "state": {
      "_dom_classes": [],
      "_model_module": "@jupyter-widgets/controls",
      "_model_module_version": "1.5.0",
      "_model_name": "FloatProgressModel",
      "_view_count": null,
      "_view_module": "@jupyter-widgets/controls",
      "_view_module_version": "1.5.0",
      "_view_name": "ProgressView",
      "bar_style": "success",
      "description": "",
      "description_tooltip": null,
      "layout": "IPY_MODEL_a7e1fd1fd39340f2a78288170a9655e4",
      "max": 61,
      "min": 0,
      "orientation": "horizontal",
      "style": "IPY_MODEL_ee72e8d437c64e2998eb8d6e8c0a1fe2",
      "value": 61
     }
    },
    "e76459797e834613a38ad6094b881663": {
     "model_module": "@jupyter-widgets/base",
     "model_module_version": "1.2.0",
     "model_name": "LayoutModel",
     "state": {
      "_model_module": "@jupyter-widgets/base",
      "_model_module_version": "1.2.0",
      "_model_name": "LayoutModel",
      "_view_count": null,
      "_view_module": "@jupyter-widgets/base",
      "_view_module_version": "1.2.0",
      "_view_name": "LayoutView",
      "align_content": null,
      "align_items": null,
      "align_self": null,
      "border": null,
      "bottom": null,
      "display": null,
      "flex": null,
      "flex_flow": null,
      "grid_area": null,
      "grid_auto_columns": null,
      "grid_auto_flow": null,
      "grid_auto_rows": null,
      "grid_column": null,
      "grid_gap": null,
      "grid_row": null,
      "grid_template_areas": null,
      "grid_template_columns": null,
      "grid_template_rows": null,
      "height": null,
      "justify_content": null,
      "justify_items": null,
      "left": null,
      "margin": null,
      "max_height": null,
      "max_width": null,
      "min_height": null,
      "min_width": null,
      "object_fit": null,
      "object_position": null,
      "order": null,
      "overflow": null,
      "overflow_x": null,
      "overflow_y": null,
      "padding": null,
      "right": null,
      "top": null,
      "visibility": null,
      "width": null
     }
    },
    "e7767dfc1a0b492ba7b772cf0f01c71d": {
     "model_module": "@jupyter-widgets/controls",
     "model_module_version": "1.5.0",
     "model_name": "FloatProgressModel",
     "state": {
      "_dom_classes": [],
      "_model_module": "@jupyter-widgets/controls",
      "_model_module_version": "1.5.0",
      "_model_name": "FloatProgressModel",
      "_view_count": null,
      "_view_module": "@jupyter-widgets/controls",
      "_view_module_version": "1.5.0",
      "_view_name": "ProgressView",
      "bar_style": "success",
      "description": "",
      "description_tooltip": null,
      "layout": "IPY_MODEL_36ae62d9e9f94334b2958ba3bbb8aa7f",
      "max": 451716860,
      "min": 0,
      "orientation": "horizontal",
      "style": "IPY_MODEL_2340c7cab83d4d3b852e72b61cdd050e",
      "value": 451716860
     }
    },
    "e7e30b44c79c42bfa0c2744119a34ac5": {
     "model_module": "@jupyter-widgets/controls",
     "model_module_version": "1.5.0",
     "model_name": "FloatProgressModel",
     "state": {
      "_dom_classes": [],
      "_model_module": "@jupyter-widgets/controls",
      "_model_module_version": "1.5.0",
      "_model_name": "FloatProgressModel",
      "_view_count": null,
      "_view_module": "@jupyter-widgets/controls",
      "_view_module_version": "1.5.0",
      "_view_name": "ProgressView",
      "bar_style": "success",
      "description": "",
      "description_tooltip": null,
      "layout": "IPY_MODEL_1b9068cc7e0e469ba8225f05a45997cb",
      "max": 61,
      "min": 0,
      "orientation": "horizontal",
      "style": "IPY_MODEL_ef90dc7cb1944a4b8570ce6282d2eefd",
      "value": 61
     }
    },
    "ee72e8d437c64e2998eb8d6e8c0a1fe2": {
     "model_module": "@jupyter-widgets/controls",
     "model_module_version": "1.5.0",
     "model_name": "ProgressStyleModel",
     "state": {
      "_model_module": "@jupyter-widgets/controls",
      "_model_module_version": "1.5.0",
      "_model_name": "ProgressStyleModel",
      "_view_count": null,
      "_view_module": "@jupyter-widgets/base",
      "_view_module_version": "1.2.0",
      "_view_name": "StyleView",
      "bar_color": null,
      "description_width": ""
     }
    },
    "ef1b79ceb2754828b145c73bc9066e75": {
     "model_module": "@jupyter-widgets/controls",
     "model_module_version": "1.5.0",
     "model_name": "DescriptionStyleModel",
     "state": {
      "_model_module": "@jupyter-widgets/controls",
      "_model_module_version": "1.5.0",
      "_model_name": "DescriptionStyleModel",
      "_view_count": null,
      "_view_module": "@jupyter-widgets/base",
      "_view_module_version": "1.2.0",
      "_view_name": "StyleView",
      "description_width": ""
     }
    },
    "ef90dc7cb1944a4b8570ce6282d2eefd": {
     "model_module": "@jupyter-widgets/controls",
     "model_module_version": "1.5.0",
     "model_name": "ProgressStyleModel",
     "state": {
      "_model_module": "@jupyter-widgets/controls",
      "_model_module_version": "1.5.0",
      "_model_name": "ProgressStyleModel",
      "_view_count": null,
      "_view_module": "@jupyter-widgets/base",
      "_view_module_version": "1.2.0",
      "_view_name": "StyleView",
      "bar_color": null,
      "description_width": ""
     }
    },
    "f591e76dd0e24a61a24217ccc8e39c31": {
     "model_module": "@jupyter-widgets/controls",
     "model_module_version": "1.5.0",
     "model_name": "DescriptionStyleModel",
     "state": {
      "_model_module": "@jupyter-widgets/controls",
      "_model_module_version": "1.5.0",
      "_model_name": "DescriptionStyleModel",
      "_view_count": null,
      "_view_module": "@jupyter-widgets/base",
      "_view_module_version": "1.2.0",
      "_view_name": "StyleView",
      "description_width": ""
     }
    },
    "fa87d6babffb45fbb05990e4e3bdec80": {
     "model_module": "@jupyter-widgets/controls",
     "model_module_version": "1.5.0",
     "model_name": "HTMLModel",
     "state": {
      "_dom_classes": [],
      "_model_module": "@jupyter-widgets/controls",
      "_model_module_version": "1.5.0",
      "_model_name": "HTMLModel",
      "_view_count": null,
      "_view_module": "@jupyter-widgets/controls",
      "_view_module_version": "1.5.0",
      "_view_name": "HTMLView",
      "description": "",
      "description_tooltip": null,
      "layout": "IPY_MODEL_65f56bf0ac5043df9979f59337b99bde",
      "placeholder": "​",
      "style": "IPY_MODEL_39a6236ab9384d6db72bad2bd5105d30",
      "value": "pytorch_model.bin: 100%"
     }
    },
    "fcc86fd7f4904725baf6a3b6a2f76fc9": {
     "model_module": "@jupyter-widgets/controls",
     "model_module_version": "1.5.0",
     "model_name": "HBoxModel",
     "state": {
      "_dom_classes": [],
      "_model_module": "@jupyter-widgets/controls",
      "_model_module_version": "1.5.0",
      "_model_name": "HBoxModel",
      "_view_count": null,
      "_view_module": "@jupyter-widgets/controls",
      "_view_module_version": "1.5.0",
      "_view_name": "HBoxView",
      "box_style": "",
      "children": [
       "IPY_MODEL_71d9305f5c9b4b5aa4b1b2ce6cd50115",
       "IPY_MODEL_2b7f1530a0ca49b88d8844349d1ad202",
       "IPY_MODEL_046615b0dd2e458d8f8c4bbfe320ea9c"
      ],
      "layout": "IPY_MODEL_b8dcc43fc0b34c5c831c13b8e43d5818"
     }
    },
    "fd726c29eb4a448887901a99a9a8ed20": {
     "model_module": "@jupyter-widgets/base",
     "model_module_version": "1.2.0",
     "model_name": "LayoutModel",
     "state": {
      "_model_module": "@jupyter-widgets/base",
      "_model_module_version": "1.2.0",
      "_model_name": "LayoutModel",
      "_view_count": null,
      "_view_module": "@jupyter-widgets/base",
      "_view_module_version": "1.2.0",
      "_view_name": "LayoutView",
      "align_content": null,
      "align_items": null,
      "align_self": null,
      "border": null,
      "bottom": null,
      "display": null,
      "flex": null,
      "flex_flow": null,
      "grid_area": null,
      "grid_auto_columns": null,
      "grid_auto_flow": null,
      "grid_auto_rows": null,
      "grid_column": null,
      "grid_gap": null,
      "grid_row": null,
      "grid_template_areas": null,
      "grid_template_columns": null,
      "grid_template_rows": null,
      "height": null,
      "justify_content": null,
      "justify_items": null,
      "left": null,
      "margin": null,
      "max_height": null,
      "max_width": null,
      "min_height": null,
      "min_width": null,
      "object_fit": null,
      "object_position": null,
      "order": null,
      "overflow": null,
      "overflow_x": null,
      "overflow_y": null,
      "padding": null,
      "right": null,
      "top": null,
      "visibility": null,
      "width": null
     }
    },
    "fdffedfb52b947c8b3a27491505f2698": {
     "model_module": "@jupyter-widgets/base",
     "model_module_version": "1.2.0",
     "model_name": "LayoutModel",
     "state": {
      "_model_module": "@jupyter-widgets/base",
      "_model_module_version": "1.2.0",
      "_model_name": "LayoutModel",
      "_view_count": null,
      "_view_module": "@jupyter-widgets/base",
      "_view_module_version": "1.2.0",
      "_view_name": "LayoutView",
      "align_content": null,
      "align_items": null,
      "align_self": null,
      "border": null,
      "bottom": null,
      "display": null,
      "flex": null,
      "flex_flow": null,
      "grid_area": null,
      "grid_auto_columns": null,
      "grid_auto_flow": null,
      "grid_auto_rows": null,
      "grid_column": null,
      "grid_gap": null,
      "grid_row": null,
      "grid_template_areas": null,
      "grid_template_columns": null,
      "grid_template_rows": null,
      "height": null,
      "justify_content": null,
      "justify_items": null,
      "left": null,
      "margin": null,
      "max_height": null,
      "max_width": null,
      "min_height": null,
      "min_width": null,
      "object_fit": null,
      "object_position": null,
      "order": null,
      "overflow": null,
      "overflow_x": null,
      "overflow_y": null,
      "padding": null,
      "right": null,
      "top": null,
      "visibility": null,
      "width": null
     }
    }
   }
  }
 },
 "nbformat": 4,
 "nbformat_minor": 0
}
